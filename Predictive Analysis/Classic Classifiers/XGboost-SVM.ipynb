{
  "nbformat": 4,
  "nbformat_minor": 0,
  "metadata": {
    "colab": {
      "provenance": [],
      "include_colab_link": true
    },
    "kernelspec": {
      "name": "python3",
      "display_name": "Python 3"
    },
    "language_info": {
      "name": "python"
    },
    "accelerator": "GPU",
    "gpuClass": "standard"
  },
  "cells": [
    {
      "cell_type": "markdown",
      "metadata": {
        "id": "view-in-github",
        "colab_type": "text"
      },
      "source": [
        "<a href=\"https://colab.research.google.com/github/meti-94/CodingQuestions/blob/main/Predictive%20Analysis/Transfer%20Learning/TransferLearning.ipynb\" target=\"_parent\"><img src=\"https://colab.research.google.com/assets/colab-badge.svg\" alt=\"Open In Colab\"/></a>"
      ]
    },
    {
      "cell_type": "code",
      "source": [
        "!pip install kaggle -q\n",
        "!pip install tensorflow-addons -q"
      ],
      "metadata": {
        "colab": {
          "base_uri": "https://localhost:8080/"
        },
        "id": "raYYNOzVb6K8",
        "outputId": "eed4e4e2-d2b6-4bb5-8b17-ce8a4faa543d"
      },
      "execution_count": 1,
      "outputs": [
        {
          "output_type": "stream",
          "name": "stdout",
          "text": [
            "\u001b[?25l     \u001b[90m━━━━━━━━━━━━━━━━━━━━━━━━━━━━━━━━━━━━━━━━\u001b[0m \u001b[32m0.0/1.1 MB\u001b[0m \u001b[31m?\u001b[0m eta \u001b[36m-:--:--\u001b[0m\r\u001b[2K     \u001b[91m━━━━━━━━━━━━━━━━━━━━━━━━━━━━━━━━━━━━━━━\u001b[0m\u001b[91m╸\u001b[0m \u001b[32m1.1/1.1 MB\u001b[0m \u001b[31m49.3 MB/s\u001b[0m eta \u001b[36m0:00:01\u001b[0m\r\u001b[2K     \u001b[90m━━━━━━━━━━━━━━━━━━━━━━━━━━━━━━━━━━━━━━━━\u001b[0m \u001b[32m1.1/1.1 MB\u001b[0m \u001b[31m17.1 MB/s\u001b[0m eta \u001b[36m0:00:00\u001b[0m\n",
            "\u001b[?25h"
          ]
        }
      ]
    },
    {
      "cell_type": "code",
      "source": [
        "from google.colab import drive\n",
        "drive.mount('/content/gdrive/')"
      ],
      "metadata": {
        "colab": {
          "base_uri": "https://localhost:8080/"
        },
        "id": "9cG62nhHpU3W",
        "outputId": "5720afe5-fdfe-4369-d137-3775d7e883a2"
      },
      "execution_count": 2,
      "outputs": [
        {
          "output_type": "stream",
          "name": "stdout",
          "text": [
            "Mounted at /content/gdrive/\n"
          ]
        }
      ]
    },
    {
      "cell_type": "code",
      "source": [
        "!mkdir ~/.kaggle\n",
        "!cp /content/gdrive/MyDrive/kaggle.json ~/.kaggle\n",
        "!chmod 600 ~/.kaggle/kaggle.json"
      ],
      "metadata": {
        "id": "Z9tDLgdpqHGk"
      },
      "execution_count": 3,
      "outputs": []
    },
    {
      "cell_type": "code",
      "source": [
        "!kaggle datasets download -d williamscott701/memotion-dataset-7k"
      ],
      "metadata": {
        "colab": {
          "base_uri": "https://localhost:8080/"
        },
        "id": "mnm5b08Sq_OB",
        "outputId": "dea87f7c-68be-4b2d-b956-1a8e0ce226d6"
      },
      "execution_count": 4,
      "outputs": [
        {
          "output_type": "stream",
          "name": "stdout",
          "text": [
            "Downloading memotion-dataset-7k.zip to /content\n",
            " 99% 692M/695M [00:21<00:00, 39.9MB/s]\n",
            "100% 695M/695M [00:21<00:00, 33.5MB/s]\n"
          ]
        }
      ]
    },
    {
      "cell_type": "code",
      "source": [
        "!unzip -qq /content/memotion-dataset-7k.zip"
      ],
      "metadata": {
        "id": "_Fk9PPiOuhKE"
      },
      "execution_count": 5,
      "outputs": []
    },
    {
      "cell_type": "code",
      "source": [
        "import re\n",
        "import string\n",
        "import numpy as np\n",
        "import pandas as pd\n",
        "from tqdm import tqdm\n",
        "import matplotlib.pyplot as plt\n",
        "from sklearn.model_selection import train_test_split\n",
        "\n",
        "import tensorflow as tf\n",
        "from tensorflow.keras import Sequential, Model\n",
        "from tensorflow.keras.layers import Conv2D, MaxPool2D, GlobalAveragePooling2D\n",
        "from tensorflow.keras.layers import Dense, Flatten, BatchNormalization, Activation, Dropout\n",
        "from tensorflow.keras.layers import Conv1D, Embedding, GlobalAveragePooling1D \n",
        "from tensorflow.keras.optimizers import Adam, RMSprop\n",
        "from tensorflow.keras.preprocessing import image\n",
        "from keras.callbacks import EarlyStopping, ModelCheckpoint, ReduceLROnPlateau"
      ],
      "metadata": {
        "id": "RNnUl19Muo4c"
      },
      "execution_count": 50,
      "outputs": []
    },
    {
      "cell_type": "code",
      "source": [
        "df = pd.read_csv('/content/memotion_dataset_7k/labels.csv')\n",
        "df.drop(df.columns[df.columns.str.contains('unnamed',case = False)],axis = 1, inplace = True)\n",
        "df = df.drop(columns = ['text_ocr'])\n",
        "df.head()"
      ],
      "metadata": {
        "colab": {
          "base_uri": "https://localhost:8080/",
          "height": 206
        },
        "id": "TGiHlTUIwlKn",
        "outputId": "5327ce4b-8ba1-4fc0-b937-70d1ca4a210e"
      },
      "execution_count": 7,
      "outputs": [
        {
          "output_type": "execute_result",
          "data": {
            "text/plain": [
              "     image_name                                     text_corrected  \\\n",
              "0   image_1.jpg  LOOK THERE MY FRIEND LIGHTYEAR NOW ALL SOHALIK...   \n",
              "1  image_2.jpeg  The best of #10 YearChallenge! Completed in le...   \n",
              "2   image_3.JPG  Sam Thorne @Strippin ( Follow Follow Saw every...   \n",
              "3   image_4.png              10 Year Challenge - Sweet Dee Edition   \n",
              "4   image_5.png  10 YEAR CHALLENGE WITH NO FILTER 47 Hilarious ...   \n",
              "\n",
              "       humour          sarcasm       offensive      motivational  \\\n",
              "0   hilarious          general   not_offensive  not_motivational   \n",
              "1   not_funny          general   not_offensive      motivational   \n",
              "2  very_funny    not_sarcastic   not_offensive  not_motivational   \n",
              "3  very_funny  twisted_meaning  very_offensive      motivational   \n",
              "4   hilarious     very_twisted  very_offensive  not_motivational   \n",
              "\n",
              "  overall_sentiment  \n",
              "0     very_positive  \n",
              "1     very_positive  \n",
              "2          positive  \n",
              "3          positive  \n",
              "4           neutral  "
            ],
            "text/html": [
              "\n",
              "  <div id=\"df-9afaf8ac-af3b-43af-a3de-f813f2c2084d\">\n",
              "    <div class=\"colab-df-container\">\n",
              "      <div>\n",
              "<style scoped>\n",
              "    .dataframe tbody tr th:only-of-type {\n",
              "        vertical-align: middle;\n",
              "    }\n",
              "\n",
              "    .dataframe tbody tr th {\n",
              "        vertical-align: top;\n",
              "    }\n",
              "\n",
              "    .dataframe thead th {\n",
              "        text-align: right;\n",
              "    }\n",
              "</style>\n",
              "<table border=\"1\" class=\"dataframe\">\n",
              "  <thead>\n",
              "    <tr style=\"text-align: right;\">\n",
              "      <th></th>\n",
              "      <th>image_name</th>\n",
              "      <th>text_corrected</th>\n",
              "      <th>humour</th>\n",
              "      <th>sarcasm</th>\n",
              "      <th>offensive</th>\n",
              "      <th>motivational</th>\n",
              "      <th>overall_sentiment</th>\n",
              "    </tr>\n",
              "  </thead>\n",
              "  <tbody>\n",
              "    <tr>\n",
              "      <th>0</th>\n",
              "      <td>image_1.jpg</td>\n",
              "      <td>LOOK THERE MY FRIEND LIGHTYEAR NOW ALL SOHALIK...</td>\n",
              "      <td>hilarious</td>\n",
              "      <td>general</td>\n",
              "      <td>not_offensive</td>\n",
              "      <td>not_motivational</td>\n",
              "      <td>very_positive</td>\n",
              "    </tr>\n",
              "    <tr>\n",
              "      <th>1</th>\n",
              "      <td>image_2.jpeg</td>\n",
              "      <td>The best of #10 YearChallenge! Completed in le...</td>\n",
              "      <td>not_funny</td>\n",
              "      <td>general</td>\n",
              "      <td>not_offensive</td>\n",
              "      <td>motivational</td>\n",
              "      <td>very_positive</td>\n",
              "    </tr>\n",
              "    <tr>\n",
              "      <th>2</th>\n",
              "      <td>image_3.JPG</td>\n",
              "      <td>Sam Thorne @Strippin ( Follow Follow Saw every...</td>\n",
              "      <td>very_funny</td>\n",
              "      <td>not_sarcastic</td>\n",
              "      <td>not_offensive</td>\n",
              "      <td>not_motivational</td>\n",
              "      <td>positive</td>\n",
              "    </tr>\n",
              "    <tr>\n",
              "      <th>3</th>\n",
              "      <td>image_4.png</td>\n",
              "      <td>10 Year Challenge - Sweet Dee Edition</td>\n",
              "      <td>very_funny</td>\n",
              "      <td>twisted_meaning</td>\n",
              "      <td>very_offensive</td>\n",
              "      <td>motivational</td>\n",
              "      <td>positive</td>\n",
              "    </tr>\n",
              "    <tr>\n",
              "      <th>4</th>\n",
              "      <td>image_5.png</td>\n",
              "      <td>10 YEAR CHALLENGE WITH NO FILTER 47 Hilarious ...</td>\n",
              "      <td>hilarious</td>\n",
              "      <td>very_twisted</td>\n",
              "      <td>very_offensive</td>\n",
              "      <td>not_motivational</td>\n",
              "      <td>neutral</td>\n",
              "    </tr>\n",
              "  </tbody>\n",
              "</table>\n",
              "</div>\n",
              "      <button class=\"colab-df-convert\" onclick=\"convertToInteractive('df-9afaf8ac-af3b-43af-a3de-f813f2c2084d')\"\n",
              "              title=\"Convert this dataframe to an interactive table.\"\n",
              "              style=\"display:none;\">\n",
              "        \n",
              "  <svg xmlns=\"http://www.w3.org/2000/svg\" height=\"24px\"viewBox=\"0 0 24 24\"\n",
              "       width=\"24px\">\n",
              "    <path d=\"M0 0h24v24H0V0z\" fill=\"none\"/>\n",
              "    <path d=\"M18.56 5.44l.94 2.06.94-2.06 2.06-.94-2.06-.94-.94-2.06-.94 2.06-2.06.94zm-11 1L8.5 8.5l.94-2.06 2.06-.94-2.06-.94L8.5 2.5l-.94 2.06-2.06.94zm10 10l.94 2.06.94-2.06 2.06-.94-2.06-.94-.94-2.06-.94 2.06-2.06.94z\"/><path d=\"M17.41 7.96l-1.37-1.37c-.4-.4-.92-.59-1.43-.59-.52 0-1.04.2-1.43.59L10.3 9.45l-7.72 7.72c-.78.78-.78 2.05 0 2.83L4 21.41c.39.39.9.59 1.41.59.51 0 1.02-.2 1.41-.59l7.78-7.78 2.81-2.81c.8-.78.8-2.07 0-2.86zM5.41 20L4 18.59l7.72-7.72 1.47 1.35L5.41 20z\"/>\n",
              "  </svg>\n",
              "      </button>\n",
              "      \n",
              "  <style>\n",
              "    .colab-df-container {\n",
              "      display:flex;\n",
              "      flex-wrap:wrap;\n",
              "      gap: 12px;\n",
              "    }\n",
              "\n",
              "    .colab-df-convert {\n",
              "      background-color: #E8F0FE;\n",
              "      border: none;\n",
              "      border-radius: 50%;\n",
              "      cursor: pointer;\n",
              "      display: none;\n",
              "      fill: #1967D2;\n",
              "      height: 32px;\n",
              "      padding: 0 0 0 0;\n",
              "      width: 32px;\n",
              "    }\n",
              "\n",
              "    .colab-df-convert:hover {\n",
              "      background-color: #E2EBFA;\n",
              "      box-shadow: 0px 1px 2px rgba(60, 64, 67, 0.3), 0px 1px 3px 1px rgba(60, 64, 67, 0.15);\n",
              "      fill: #174EA6;\n",
              "    }\n",
              "\n",
              "    [theme=dark] .colab-df-convert {\n",
              "      background-color: #3B4455;\n",
              "      fill: #D2E3FC;\n",
              "    }\n",
              "\n",
              "    [theme=dark] .colab-df-convert:hover {\n",
              "      background-color: #434B5C;\n",
              "      box-shadow: 0px 1px 3px 1px rgba(0, 0, 0, 0.15);\n",
              "      filter: drop-shadow(0px 1px 2px rgba(0, 0, 0, 0.3));\n",
              "      fill: #FFFFFF;\n",
              "    }\n",
              "  </style>\n",
              "\n",
              "      <script>\n",
              "        const buttonEl =\n",
              "          document.querySelector('#df-9afaf8ac-af3b-43af-a3de-f813f2c2084d button.colab-df-convert');\n",
              "        buttonEl.style.display =\n",
              "          google.colab.kernel.accessAllowed ? 'block' : 'none';\n",
              "\n",
              "        async function convertToInteractive(key) {\n",
              "          const element = document.querySelector('#df-9afaf8ac-af3b-43af-a3de-f813f2c2084d');\n",
              "          const dataTable =\n",
              "            await google.colab.kernel.invokeFunction('convertToInteractive',\n",
              "                                                     [key], {});\n",
              "          if (!dataTable) return;\n",
              "\n",
              "          const docLinkHtml = 'Like what you see? Visit the ' +\n",
              "            '<a target=\"_blank\" href=https://colab.research.google.com/notebooks/data_table.ipynb>data table notebook</a>'\n",
              "            + ' to learn more about interactive tables.';\n",
              "          element.innerHTML = '';\n",
              "          dataTable['output_type'] = 'display_data';\n",
              "          await google.colab.output.renderOutput(dataTable, element);\n",
              "          const docLink = document.createElement('div');\n",
              "          docLink.innerHTML = docLinkHtml;\n",
              "          element.appendChild(docLink);\n",
              "        }\n",
              "      </script>\n",
              "    </div>\n",
              "  </div>\n",
              "  "
            ]
          },
          "metadata": {},
          "execution_count": 7
        }
      ]
    },
    {
      "cell_type": "code",
      "source": [
        "full_df = df.copy()\n",
        "full_df.isnull().any()"
      ],
      "metadata": {
        "colab": {
          "base_uri": "https://localhost:8080/"
        },
        "id": "GKbHIH9FxC-c",
        "outputId": "aaaab7ee-2e2a-4bc4-d6eb-34191c3e9a3c"
      },
      "execution_count": 8,
      "outputs": [
        {
          "output_type": "execute_result",
          "data": {
            "text/plain": [
              "image_name           False\n",
              "text_corrected        True\n",
              "humour               False\n",
              "sarcasm              False\n",
              "offensive            False\n",
              "motivational         False\n",
              "overall_sentiment    False\n",
              "dtype: bool"
            ]
          },
          "metadata": {},
          "execution_count": 8
        }
      ]
    },
    {
      "cell_type": "code",
      "source": [
        "clean_df = df.copy()\n",
        "clean_df.dropna(inplace=True)\n",
        "clean_df.isnull().any()"
      ],
      "metadata": {
        "colab": {
          "base_uri": "https://localhost:8080/"
        },
        "id": "5W1XiWr7xJmf",
        "outputId": "3b254a13-261c-40d8-bd07-a7fc3a487e96"
      },
      "execution_count": 9,
      "outputs": [
        {
          "output_type": "execute_result",
          "data": {
            "text/plain": [
              "image_name           False\n",
              "text_corrected       False\n",
              "humour               False\n",
              "sarcasm              False\n",
              "offensive            False\n",
              "motivational         False\n",
              "overall_sentiment    False\n",
              "dtype: bool"
            ]
          },
          "metadata": {},
          "execution_count": 9
        }
      ]
    },
    {
      "cell_type": "code",
      "source": [
        "df = df.replace({'humour': {'not_funny': 0, 'funny': 1, 'very_funny': 2, 'hilarious':3},\n",
        "            'sarcasm': {'not_sarcastic': 0, 'general': 1, 'twisted_meaning': 2, 'very_twisted': 3},\n",
        "            'offensive': {'not_offensive': 0, 'slight': 1, 'very_offensive': 2, 'hateful_offensive': 3},\n",
        "            'motivational': {'not_motivational': 0, 'motivational': 1},\n",
        "            'overall_sentiment': {'very_negative': 0, 'negative': 1, 'neutral': 2, 'positive': 3, 'very_positive': 4}})"
      ],
      "metadata": {
        "id": "1WVYtKdHxNac"
      },
      "execution_count": 10,
      "outputs": []
    },
    {
      "cell_type": "code",
      "source": [
        "from PIL import ImageFile, ImageOps\n",
        "ImageFile.LOAD_TRUNCATED_IMAGES = True"
      ],
      "metadata": {
        "id": "pEYmZQ9dxPuA"
      },
      "execution_count": 11,
      "outputs": []
    },
    {
      "cell_type": "code",
      "source": [
        "width = 100\n",
        "height = 100\n",
        "X_full = []\n",
        "X_full_path = []\n",
        "for i in tqdm(range(full_df.shape[0])):\n",
        "    path = '/content/memotion_dataset_7k/images/'+full_df['image_name'][i]\n",
        "    img = image.load_img(path,target_size=(width,height,3))\n",
        "    img = image.img_to_array(img)\n",
        "    img = img/255.0\n",
        "    X_full.append(img)\n",
        "    X_full_path.append(path)"
      ],
      "metadata": {
        "colab": {
          "base_uri": "https://localhost:8080/"
        },
        "id": "CwtfftOAxWod",
        "outputId": "0b401ca3-679a-4618-cd8f-bed369af2fc1"
      },
      "execution_count": 12,
      "outputs": [
        {
          "output_type": "stream",
          "name": "stderr",
          "text": [
            " 93%|█████████▎| 6508/6992 [00:40<00:02, 183.62it/s]/usr/local/lib/python3.8/dist-packages/PIL/TiffImagePlugin.py:788: UserWarning: Corrupt EXIF data.  Expecting to read 2 bytes but only got 0. \n",
            "  warnings.warn(str(msg))\n",
            " 95%|█████████▌| 6676/6992 [00:41<00:01, 186.31it/s]/usr/local/lib/python3.8/dist-packages/PIL/Image.py:959: UserWarning: Palette images with Transparency expressed in bytes should be converted to RGBA images\n",
            "  warnings.warn(\n",
            "100%|██████████| 6992/6992 [00:43<00:00, 161.78it/s]\n"
          ]
        }
      ]
    },
    {
      "cell_type": "code",
      "source": [
        "width = 100\n",
        "height = 100\n",
        "X_cleaned = []\n",
        "X_cleaned_path = []\n",
        "for i in tqdm(range(clean_df.shape[0])):\n",
        "    if i in [119, 4799, 6781, 6784, 6786]:\n",
        "        pass\n",
        "    else:\n",
        "        path = '/content/memotion_dataset_7k/images/'+clean_df['image_name'][i]\n",
        "        img = image.load_img(path,target_size=(width,height,3))\n",
        "        img = image.img_to_array(img)\n",
        "        img = img/255.0\n",
        "        X_cleaned.append(img)\n",
        "        X_cleaned_path.append(path)"
      ],
      "metadata": {
        "colab": {
          "base_uri": "https://localhost:8080/"
        },
        "id": "mL_GTxTzxdOA",
        "outputId": "b4469ebb-9019-475f-e120-46f6bd168aab"
      },
      "execution_count": 13,
      "outputs": [
        {
          "output_type": "stream",
          "name": "stderr",
          "text": [
            "100%|██████████| 6987/6987 [00:47<00:00, 148.17it/s]\n"
          ]
        }
      ]
    },
    {
      "cell_type": "code",
      "source": [
        "deleted_paths = [paths for paths in X_full_path + X_cleaned_path if paths not in X_full_path or paths not in X_cleaned_path]\n",
        "deleted_paths"
      ],
      "metadata": {
        "colab": {
          "base_uri": "https://localhost:8080/"
        },
        "id": "4APwz6fZyEwY",
        "outputId": "f55eb296-aeac-491c-b3b7-638d176e4189"
      },
      "execution_count": 14,
      "outputs": [
        {
          "output_type": "execute_result",
          "data": {
            "text/plain": [
              "['/content/memotion_dataset_7k/images/image_120.jpg',\n",
              " '/content/memotion_dataset_7k/images/image_4800.jpg',\n",
              " '/content/memotion_dataset_7k/images/image_6782.jpg',\n",
              " '/content/memotion_dataset_7k/images/image_6785.jpg',\n",
              " '/content/memotion_dataset_7k/images/image_6787.jpg',\n",
              " '/content/memotion_dataset_7k/images/image_6988.jpg',\n",
              " '/content/memotion_dataset_7k/images/image_6989.jpg',\n",
              " '/content/memotion_dataset_7k/images/image_6990.png',\n",
              " '/content/memotion_dataset_7k/images/image_6991.jpg',\n",
              " '/content/memotion_dataset_7k/images/image_6992.jpg']"
            ]
          },
          "metadata": {},
          "execution_count": 14
        }
      ]
    },
    {
      "cell_type": "code",
      "source": [
        "delete_var = [full_df, clean_df, X_cleaned, X_full, X_cleaned_path, X_full_path]\n",
        "for i in delete_var:\n",
        "    del i"
      ],
      "metadata": {
        "id": "xba75I_IyL_e"
      },
      "execution_count": 15,
      "outputs": []
    },
    {
      "cell_type": "code",
      "source": [
        "len(clean_df)"
      ],
      "metadata": {
        "id": "NuNv2o8VeYZL",
        "outputId": "4f04ef04-1858-4445-a489-6e0d0ebccc27",
        "colab": {
          "base_uri": "https://localhost:8080/"
        }
      },
      "execution_count": 16,
      "outputs": [
        {
          "output_type": "execute_result",
          "data": {
            "text/plain": [
              "6987"
            ]
          },
          "metadata": {},
          "execution_count": 16
        }
      ]
    },
    {
      "cell_type": "code",
      "source": [
        "width = 100\n",
        "height = 100\n",
        "X = []\n",
        "for i in tqdm(range(clean_df.shape[0])):\n",
        "    if i in [119, 4799, 6781, 6784, 6786]:\n",
        "        pass\n",
        "    else:\n",
        "        path = '/content/memotion_dataset_7k/images/'+clean_df['image_name'][i]\n",
        "        img = image.load_img(path,target_size=(width,height,3))\n",
        "        img = image.img_to_array(img)\n",
        "        img = img/255.0\n",
        "        X.append(img)"
      ],
      "metadata": {
        "colab": {
          "base_uri": "https://localhost:8080/"
        },
        "id": "E0slxn-lyX3L",
        "outputId": "4c2648ca-91c1-4d92-a647-75b658140231"
      },
      "execution_count": 17,
      "outputs": [
        {
          "output_type": "stream",
          "name": "stderr",
          "text": [
            "100%|██████████| 6987/6987 [00:48<00:00, 144.33it/s]\n"
          ]
        }
      ]
    },
    {
      "cell_type": "code",
      "source": [
        "X = np.array(X)"
      ],
      "metadata": {
        "id": "K-l6zWvHybF4"
      },
      "execution_count": 18,
      "outputs": []
    },
    {
      "cell_type": "code",
      "source": [
        "X.shape"
      ],
      "metadata": {
        "colab": {
          "base_uri": "https://localhost:8080/"
        },
        "id": "jwfbi-UMy1WE",
        "outputId": "e612388c-feb9-4415-d68c-d8114a6d98f8"
      },
      "execution_count": 19,
      "outputs": [
        {
          "output_type": "execute_result",
          "data": {
            "text/plain": [
              "(6982, 100, 100, 3)"
            ]
          },
          "metadata": {},
          "execution_count": 19
        }
      ]
    },
    {
      "cell_type": "code",
      "source": [
        "rows_to_drop = ['image_120.jpg',\n",
        "              'image_4800.jpg',\n",
        "              'image_6782.jpg',\n",
        "              'image_6785.jpg',\n",
        "              'image_6787.jpg',\n",
        "              'image_6988.jpg',\n",
        "              'image_6989.jpg',\n",
        "              'image_6990.png',\n",
        "              'image_6991.jpg',\n",
        "              'image_6992.jpg']"
      ],
      "metadata": {
        "id": "YXijFzloy4eh"
      },
      "execution_count": 20,
      "outputs": []
    },
    {
      "cell_type": "code",
      "source": [
        "cleaner_df = df\n",
        "cleaner_df.head()"
      ],
      "metadata": {
        "colab": {
          "base_uri": "https://localhost:8080/",
          "height": 206
        },
        "id": "hDJJianFy6Vu",
        "outputId": "bd7904b9-7b9a-4361-ae13-b84fd6fafc8d"
      },
      "execution_count": 21,
      "outputs": [
        {
          "output_type": "execute_result",
          "data": {
            "text/plain": [
              "     image_name                                     text_corrected  humour  \\\n",
              "0   image_1.jpg  LOOK THERE MY FRIEND LIGHTYEAR NOW ALL SOHALIK...       3   \n",
              "1  image_2.jpeg  The best of #10 YearChallenge! Completed in le...       0   \n",
              "2   image_3.JPG  Sam Thorne @Strippin ( Follow Follow Saw every...       2   \n",
              "3   image_4.png              10 Year Challenge - Sweet Dee Edition       2   \n",
              "4   image_5.png  10 YEAR CHALLENGE WITH NO FILTER 47 Hilarious ...       3   \n",
              "\n",
              "   sarcasm  offensive  motivational  overall_sentiment  \n",
              "0        1          0             0                  4  \n",
              "1        1          0             1                  4  \n",
              "2        0          0             0                  3  \n",
              "3        2          2             1                  3  \n",
              "4        3          2             0                  2  "
            ],
            "text/html": [
              "\n",
              "  <div id=\"df-e3127f49-2951-4ce6-8e6a-39dfc9ae0c37\">\n",
              "    <div class=\"colab-df-container\">\n",
              "      <div>\n",
              "<style scoped>\n",
              "    .dataframe tbody tr th:only-of-type {\n",
              "        vertical-align: middle;\n",
              "    }\n",
              "\n",
              "    .dataframe tbody tr th {\n",
              "        vertical-align: top;\n",
              "    }\n",
              "\n",
              "    .dataframe thead th {\n",
              "        text-align: right;\n",
              "    }\n",
              "</style>\n",
              "<table border=\"1\" class=\"dataframe\">\n",
              "  <thead>\n",
              "    <tr style=\"text-align: right;\">\n",
              "      <th></th>\n",
              "      <th>image_name</th>\n",
              "      <th>text_corrected</th>\n",
              "      <th>humour</th>\n",
              "      <th>sarcasm</th>\n",
              "      <th>offensive</th>\n",
              "      <th>motivational</th>\n",
              "      <th>overall_sentiment</th>\n",
              "    </tr>\n",
              "  </thead>\n",
              "  <tbody>\n",
              "    <tr>\n",
              "      <th>0</th>\n",
              "      <td>image_1.jpg</td>\n",
              "      <td>LOOK THERE MY FRIEND LIGHTYEAR NOW ALL SOHALIK...</td>\n",
              "      <td>3</td>\n",
              "      <td>1</td>\n",
              "      <td>0</td>\n",
              "      <td>0</td>\n",
              "      <td>4</td>\n",
              "    </tr>\n",
              "    <tr>\n",
              "      <th>1</th>\n",
              "      <td>image_2.jpeg</td>\n",
              "      <td>The best of #10 YearChallenge! Completed in le...</td>\n",
              "      <td>0</td>\n",
              "      <td>1</td>\n",
              "      <td>0</td>\n",
              "      <td>1</td>\n",
              "      <td>4</td>\n",
              "    </tr>\n",
              "    <tr>\n",
              "      <th>2</th>\n",
              "      <td>image_3.JPG</td>\n",
              "      <td>Sam Thorne @Strippin ( Follow Follow Saw every...</td>\n",
              "      <td>2</td>\n",
              "      <td>0</td>\n",
              "      <td>0</td>\n",
              "      <td>0</td>\n",
              "      <td>3</td>\n",
              "    </tr>\n",
              "    <tr>\n",
              "      <th>3</th>\n",
              "      <td>image_4.png</td>\n",
              "      <td>10 Year Challenge - Sweet Dee Edition</td>\n",
              "      <td>2</td>\n",
              "      <td>2</td>\n",
              "      <td>2</td>\n",
              "      <td>1</td>\n",
              "      <td>3</td>\n",
              "    </tr>\n",
              "    <tr>\n",
              "      <th>4</th>\n",
              "      <td>image_5.png</td>\n",
              "      <td>10 YEAR CHALLENGE WITH NO FILTER 47 Hilarious ...</td>\n",
              "      <td>3</td>\n",
              "      <td>3</td>\n",
              "      <td>2</td>\n",
              "      <td>0</td>\n",
              "      <td>2</td>\n",
              "    </tr>\n",
              "  </tbody>\n",
              "</table>\n",
              "</div>\n",
              "      <button class=\"colab-df-convert\" onclick=\"convertToInteractive('df-e3127f49-2951-4ce6-8e6a-39dfc9ae0c37')\"\n",
              "              title=\"Convert this dataframe to an interactive table.\"\n",
              "              style=\"display:none;\">\n",
              "        \n",
              "  <svg xmlns=\"http://www.w3.org/2000/svg\" height=\"24px\"viewBox=\"0 0 24 24\"\n",
              "       width=\"24px\">\n",
              "    <path d=\"M0 0h24v24H0V0z\" fill=\"none\"/>\n",
              "    <path d=\"M18.56 5.44l.94 2.06.94-2.06 2.06-.94-2.06-.94-.94-2.06-.94 2.06-2.06.94zm-11 1L8.5 8.5l.94-2.06 2.06-.94-2.06-.94L8.5 2.5l-.94 2.06-2.06.94zm10 10l.94 2.06.94-2.06 2.06-.94-2.06-.94-.94-2.06-.94 2.06-2.06.94z\"/><path d=\"M17.41 7.96l-1.37-1.37c-.4-.4-.92-.59-1.43-.59-.52 0-1.04.2-1.43.59L10.3 9.45l-7.72 7.72c-.78.78-.78 2.05 0 2.83L4 21.41c.39.39.9.59 1.41.59.51 0 1.02-.2 1.41-.59l7.78-7.78 2.81-2.81c.8-.78.8-2.07 0-2.86zM5.41 20L4 18.59l7.72-7.72 1.47 1.35L5.41 20z\"/>\n",
              "  </svg>\n",
              "      </button>\n",
              "      \n",
              "  <style>\n",
              "    .colab-df-container {\n",
              "      display:flex;\n",
              "      flex-wrap:wrap;\n",
              "      gap: 12px;\n",
              "    }\n",
              "\n",
              "    .colab-df-convert {\n",
              "      background-color: #E8F0FE;\n",
              "      border: none;\n",
              "      border-radius: 50%;\n",
              "      cursor: pointer;\n",
              "      display: none;\n",
              "      fill: #1967D2;\n",
              "      height: 32px;\n",
              "      padding: 0 0 0 0;\n",
              "      width: 32px;\n",
              "    }\n",
              "\n",
              "    .colab-df-convert:hover {\n",
              "      background-color: #E2EBFA;\n",
              "      box-shadow: 0px 1px 2px rgba(60, 64, 67, 0.3), 0px 1px 3px 1px rgba(60, 64, 67, 0.15);\n",
              "      fill: #174EA6;\n",
              "    }\n",
              "\n",
              "    [theme=dark] .colab-df-convert {\n",
              "      background-color: #3B4455;\n",
              "      fill: #D2E3FC;\n",
              "    }\n",
              "\n",
              "    [theme=dark] .colab-df-convert:hover {\n",
              "      background-color: #434B5C;\n",
              "      box-shadow: 0px 1px 3px 1px rgba(0, 0, 0, 0.15);\n",
              "      filter: drop-shadow(0px 1px 2px rgba(0, 0, 0, 0.3));\n",
              "      fill: #FFFFFF;\n",
              "    }\n",
              "  </style>\n",
              "\n",
              "      <script>\n",
              "        const buttonEl =\n",
              "          document.querySelector('#df-e3127f49-2951-4ce6-8e6a-39dfc9ae0c37 button.colab-df-convert');\n",
              "        buttonEl.style.display =\n",
              "          google.colab.kernel.accessAllowed ? 'block' : 'none';\n",
              "\n",
              "        async function convertToInteractive(key) {\n",
              "          const element = document.querySelector('#df-e3127f49-2951-4ce6-8e6a-39dfc9ae0c37');\n",
              "          const dataTable =\n",
              "            await google.colab.kernel.invokeFunction('convertToInteractive',\n",
              "                                                     [key], {});\n",
              "          if (!dataTable) return;\n",
              "\n",
              "          const docLinkHtml = 'Like what you see? Visit the ' +\n",
              "            '<a target=\"_blank\" href=https://colab.research.google.com/notebooks/data_table.ipynb>data table notebook</a>'\n",
              "            + ' to learn more about interactive tables.';\n",
              "          element.innerHTML = '';\n",
              "          dataTable['output_type'] = 'display_data';\n",
              "          await google.colab.output.renderOutput(dataTable, element);\n",
              "          const docLink = document.createElement('div');\n",
              "          docLink.innerHTML = docLinkHtml;\n",
              "          element.appendChild(docLink);\n",
              "        }\n",
              "      </script>\n",
              "    </div>\n",
              "  </div>\n",
              "  "
            ]
          },
          "metadata": {},
          "execution_count": 21
        }
      ]
    },
    {
      "cell_type": "code",
      "source": [
        "for images in rows_to_drop:\n",
        "    cleaner_df.drop(cleaner_df[cleaner_df['image_name'] == images].index, inplace=True)"
      ],
      "metadata": {
        "id": "ry3qAbMCy8Oi"
      },
      "execution_count": 22,
      "outputs": []
    },
    {
      "cell_type": "code",
      "source": [
        "len(cleaner_df)"
      ],
      "metadata": {
        "id": "Q1zlrEqXepUg",
        "outputId": "c536d4b8-a4d1-47af-ef24-e3f35ce20cf0",
        "colab": {
          "base_uri": "https://localhost:8080/"
        }
      },
      "execution_count": 24,
      "outputs": [
        {
          "output_type": "execute_result",
          "data": {
            "text/plain": [
              "6982"
            ]
          },
          "metadata": {},
          "execution_count": 24
        }
      ]
    },
    {
      "cell_type": "code",
      "source": [
        "cleaner_df.shape"
      ],
      "metadata": {
        "colab": {
          "base_uri": "https://localhost:8080/"
        },
        "id": "9mpgoTcLy-CU",
        "outputId": "d38cfa2a-1931-4b54-f2f4-6501122bc15e"
      },
      "execution_count": 25,
      "outputs": [
        {
          "output_type": "execute_result",
          "data": {
            "text/plain": [
              "(6982, 7)"
            ]
          },
          "metadata": {},
          "execution_count": 25
        }
      ]
    },
    {
      "cell_type": "code",
      "source": [
        "np.save('image_array', X)"
      ],
      "metadata": {
        "id": "qojP8mnDzAJy"
      },
      "execution_count": 26,
      "outputs": []
    },
    {
      "cell_type": "code",
      "source": [
        "Y = cleaner_df.iloc[:,2:]\n",
        "Y.shape"
      ],
      "metadata": {
        "colab": {
          "base_uri": "https://localhost:8080/"
        },
        "id": "bUAjE6hmzCrx",
        "outputId": "d11793bc-68f5-44d3-a3ea-e1f36460e6f7"
      },
      "execution_count": 27,
      "outputs": [
        {
          "output_type": "execute_result",
          "data": {
            "text/plain": [
              "(6982, 5)"
            ]
          },
          "metadata": {},
          "execution_count": 27
        }
      ]
    },
    {
      "cell_type": "code",
      "source": [
        "X.shape, Y.shape"
      ],
      "metadata": {
        "id": "1wKOZgLbe38H",
        "outputId": "2855b8ce-2a2d-461f-fa53-ef1ba8bad567",
        "colab": {
          "base_uri": "https://localhost:8080/"
        }
      },
      "execution_count": 28,
      "outputs": [
        {
          "output_type": "execute_result",
          "data": {
            "text/plain": [
              "((6982, 100, 100, 3), (6982, 5))"
            ]
          },
          "metadata": {},
          "execution_count": 28
        }
      ]
    },
    {
      "cell_type": "code",
      "source": [
        "data_augmentation = tf.keras.Sequential([\n",
        "  tf.keras.layers.experimental.preprocessing.RandomFlip('horizontal'),\n",
        "  tf.keras.layers.experimental.preprocessing.RandomRotation(0.2),\n",
        "])\n",
        "\n",
        "preprocess_input = tf.keras.applications.resnet_v2.preprocess_input\n",
        "\n",
        "rescale = tf.keras.layers.experimental.preprocessing.Rescaling(1./127.5, offset= -1)"
      ],
      "metadata": {
        "id": "b1uaUTOXzGFc"
      },
      "execution_count": 29,
      "outputs": []
    },
    {
      "cell_type": "code",
      "source": [
        "base_model_1 = tf.keras.applications.ResNet50(input_shape=X[0].shape,\n",
        "                                               include_top=False,\n",
        "                                               weights='imagenet')\n",
        "base_model_2 = tf.keras.applications.VGG16(input_shape=X[0].shape,\n",
        "                                               include_top=False,\n",
        "                                               weights='imagenet')"
      ],
      "metadata": {
        "colab": {
          "base_uri": "https://localhost:8080/"
        },
        "id": "TNRplYElz5Lc",
        "outputId": "4e446113-ecf7-4ade-a25a-1840163376d0"
      },
      "execution_count": 30,
      "outputs": [
        {
          "output_type": "stream",
          "name": "stdout",
          "text": [
            "Downloading data from https://storage.googleapis.com/tensorflow/keras-applications/resnet/resnet50_weights_tf_dim_ordering_tf_kernels_notop.h5\n",
            "94765736/94765736 [==============================] - 3s 0us/step\n",
            "Downloading data from https://storage.googleapis.com/tensorflow/keras-applications/vgg16/vgg16_weights_tf_dim_ordering_tf_kernels_notop.h5\n",
            "58889256/58889256 [==============================] - 2s 0us/step\n"
          ]
        }
      ]
    },
    {
      "cell_type": "code",
      "source": [
        "base_model_1.trainable = False\n",
        "base_model_2.trainable = False"
      ],
      "metadata": {
        "id": "mtDuk0vpz7WZ"
      },
      "execution_count": 31,
      "outputs": []
    },
    {
      "cell_type": "code",
      "source": [
        "global_average_layer = GlobalAveragePooling2D()"
      ],
      "metadata": {
        "id": "mtx1fqoLz_YP"
      },
      "execution_count": 32,
      "outputs": []
    },
    {
      "cell_type": "code",
      "source": [
        "X_train, X_test, y_train, y_test = train_test_split(X, Y, test_size = 0.2)"
      ],
      "metadata": {
        "id": "lNKd_YaJ0A7_"
      },
      "execution_count": 33,
      "outputs": []
    },
    {
      "cell_type": "code",
      "source": [
        "del X"
      ],
      "metadata": {
        "id": "nYWHmXtX0CyD"
      },
      "execution_count": 34,
      "outputs": []
    },
    {
      "cell_type": "code",
      "source": [
        "image_input = tf.keras.Input(shape=(100, 100, 3), name = 'image_input')\n",
        "iamge_layers = data_augmentation(image_input)\n",
        "iamge_layers = preprocess_input(iamge_layers)\n",
        "layer_bm_1 = base_model_1(image_input, training=False)\n",
        "layer_bm_1 = Conv2D(2048, kernel_size=2,padding='valid')(layer_bm_1)\n",
        "layer_bm_1 = Dense(512)(layer_bm_1)\n",
        "layer_bm_2 = base_model_2(image_input, training=False)\n",
        "layer_bm_2 = Dense(512)(layer_bm_2)\n",
        "layers = tf.keras.layers.concatenate([layer_bm_1, layer_bm_2])\n",
        "iamge_layers = global_average_layer(layer_bm_1)\n",
        "image_layers = Dropout(0.2, name = 'dropout_layer')(iamge_layers)"
      ],
      "metadata": {
        "id": "DpIzL9FQ0Ej1"
      },
      "execution_count": 35,
      "outputs": []
    },
    {
      "cell_type": "code",
      "source": [
        "cleaner_df.shape"
      ],
      "metadata": {
        "id": "xeYHhzn_fGGK",
        "outputId": "d7a0c651-c06e-49fa-a3ab-8c30072366c7",
        "colab": {
          "base_uri": "https://localhost:8080/"
        }
      },
      "execution_count": 36,
      "outputs": [
        {
          "output_type": "execute_result",
          "data": {
            "text/plain": [
              "(6982, 7)"
            ]
          },
          "metadata": {},
          "execution_count": 36
        }
      ]
    },
    {
      "cell_type": "code",
      "source": [
        "def standardization(data):\n",
        "    data = data.apply(lambda x: x.lower())\n",
        "    data = data.apply(lambda x: re.sub(r'\\d+', '', x))\n",
        "    data = data.apply(lambda x: re.sub(r'.com', '', x, flags=re.MULTILINE))\n",
        "    data = data.apply(lambda x: x.translate(str.maketrans('', '', string.punctuation)))\n",
        "    return data\n",
        "\n",
        "df['text_corrected'] = standardization(cleaner_df.text_corrected)"
      ],
      "metadata": {
        "id": "cWCC69BM0GjT"
      },
      "execution_count": 37,
      "outputs": []
    },
    {
      "cell_type": "code",
      "source": [
        "X_text_train, X_text_test, y_text_train, y_text_test = train_test_split(cleaner_df.text_corrected, Y, test_size = 0.2, random_state=42)"
      ],
      "metadata": {
        "id": "nO5ujqxHfWIU"
      },
      "execution_count": 38,
      "outputs": []
    },
    {
      "cell_type": "code",
      "source": [
        "X_text_train"
      ],
      "metadata": {
        "id": "i6rIwoxXfZAt",
        "outputId": "edd474a5-29eb-4452-851d-e69ba16a9183",
        "colab": {
          "base_uri": "https://localhost:8080/"
        }
      },
      "execution_count": 39,
      "outputs": [
        {
          "output_type": "execute_result",
          "data": {
            "text/plain": [
              "6568      how much money mark zuckerberg gave out imgflip\n",
              "4004    crypto experts choose crypto investments based...\n",
              "1011    me throwing away all the leonardo dicaprio mem...\n",
              "4618    texan man searching for supplies and dry land ...\n",
              "932     keep calm and use duct tape if you cant fix it...\n",
              "                              ...                        \n",
              "3773           let me tell you why thats bullshit imgflip\n",
              "5193    and thats how mafia works the godfather mobile...\n",
              "5228                              huh so babies cant swim\n",
              "5392    leonard hofstadter a guy who actually made it ...\n",
              "861     if you dont like me because im country just re...\n",
              "Name: text_corrected, Length: 5585, dtype: object"
            ]
          },
          "metadata": {},
          "execution_count": 39
        }
      ]
    },
    {
      "cell_type": "code",
      "source": [
        "from tensorflow.keras.layers.experimental.preprocessing import TextVectorization\n",
        "vocab_size = 10000\n",
        "sequence_length = 100\n",
        "\n",
        "vectorize_layer = TextVectorization(\n",
        "    max_tokens=vocab_size,\n",
        "    output_mode='int',\n",
        "    output_sequence_length=sequence_length)\n",
        "\n",
        "text_ds = np.asarray(X_text_train)\n",
        "vectorize_layer.adapt(tf.convert_to_tensor(text_ds))"
      ],
      "metadata": {
        "id": "i_JY2EFy0ORX"
      },
      "execution_count": 40,
      "outputs": []
    },
    {
      "cell_type": "code",
      "source": [
        "embedding_dim=16\n",
        "\n",
        "text_input = tf.keras.Input(shape=(1,), dtype=tf.string, name='text')\n",
        "text_layers = vectorize_layer(text_input)\n",
        "text_layers = tf.keras.layers.Embedding(vocab_size, embedding_dim, name=\"embedding\")(text_layers)\n",
        "text_layers = tf.keras.layers.Dropout(0.5)(text_layers)\n",
        "\n",
        "text_layers = tf.keras.layers.Bidirectional(tf.keras.layers.LSTM(256, activation='relu', return_sequences=True))(text_layers)\n",
        "\n",
        "text_layers = tf.keras.layers.Conv1D(128, 7, padding=\"valid\", activation=\"relu\", strides=3)(text_layers)\n",
        "text_layers = tf.keras.layers.Conv1D(128, 7, padding=\"valid\", activation=\"relu\", strides=3)(text_layers)\n",
        "text_layers = tf.keras.layers.GlobalMaxPooling1D()(text_layers)\n",
        "\n",
        "# We add a vanilla hidden layer:\n",
        "text_layers = tf.keras.layers.Dense(2048, activation=\"relu\")(text_layers)\n",
        "text_layers = tf.keras.layers.Dropout(0.5)(text_layers)"
      ],
      "metadata": {
        "colab": {
          "base_uri": "https://localhost:8080/"
        },
        "id": "4B1_PP1C0Vwb",
        "outputId": "a0df0087-4e71-4232-9c46-7026bf0ac6c5"
      },
      "execution_count": 41,
      "outputs": [
        {
          "output_type": "stream",
          "name": "stderr",
          "text": [
            "WARNING:tensorflow:Layer lstm will not use cuDNN kernels since it doesn't meet the criteria. It will use a generic GPU kernel as fallback when running on GPU.\n",
            "WARNING:tensorflow:Layer lstm will not use cuDNN kernels since it doesn't meet the criteria. It will use a generic GPU kernel as fallback when running on GPU.\n",
            "WARNING:tensorflow:Layer lstm will not use cuDNN kernels since it doesn't meet the criteria. It will use a generic GPU kernel as fallback when running on GPU.\n"
          ]
        }
      ]
    },
    {
      "cell_type": "code",
      "source": [
        "concatenate = tf.keras.layers.concatenate([image_layers, text_layers], axis=1)"
      ],
      "metadata": {
        "id": "7X19Eojv0Yx8"
      },
      "execution_count": 42,
      "outputs": []
    },
    {
      "cell_type": "code",
      "source": [
        "overall_layer = tf.keras.layers.Dense(2048, activation='softmax')(concatenate)"
      ],
      "metadata": {
        "id": "VNEzQOBr5F2f"
      },
      "execution_count": 43,
      "outputs": []
    },
    {
      "cell_type": "code",
      "source": [
        "prediction_layer_1 = tf.keras.layers.Dense(4, activation='softmax', name = 'sarcasm')\n",
        "prediction_layer_2 = tf.keras.layers.Dense(4, activation='softmax', name = 'humuor')\n",
        "prediction_layer_3 = tf.keras.layers.Dense(4, activation='softmax', name = 'offensive')\n",
        "prediction_layer_4 = tf.keras.layers.Dense(1, activation='sigmoid', name = 'motivational')\n",
        "prediction_layer_5 = tf.keras.layers.Dense(5, activation='softmax', name = 'overall')"
      ],
      "metadata": {
        "id": "fP4QbPvU5I83"
      },
      "execution_count": 44,
      "outputs": []
    },
    {
      "cell_type": "code",
      "source": [
        "output_1 = prediction_layer_1(overall_layer)\n",
        "output_2 = prediction_layer_2(overall_layer)\n",
        "output_3 = prediction_layer_3(overall_layer)\n",
        "output_4 = prediction_layer_4(overall_layer)\n",
        "output_5 = prediction_layer_5(overall_layer)\n",
        "model = tf.keras.Model(inputs = [image_input, text_input] , outputs = [output_1, output_2, output_3, output_4, output_5])"
      ],
      "metadata": {
        "id": "pPHbRiUl5LGX"
      },
      "execution_count": 45,
      "outputs": []
    },
    {
      "cell_type": "code",
      "source": [
        "import tensorflow_addons as tfa"
      ],
      "metadata": {
        "id": "Dph15KHU5PuH"
      },
      "execution_count": 46,
      "outputs": []
    },
    {
      "cell_type": "code",
      "source": [
        "base_learning_rate = 0.01\n",
        "losses = {\n",
        "      \"humuor\": tf.keras.losses.SparseCategoricalCrossentropy(from_logits=True), \n",
        "      \"sarcasm\": tf.keras.losses.SparseCategoricalCrossentropy(from_logits=True), \n",
        "      \"offensive\": tf.keras.losses.SparseCategoricalCrossentropy(from_logits=True), \n",
        "      \"motivational\": tf.keras.losses.BinaryCrossentropy(from_logits=False),\n",
        "      \"overall\": tf.keras.losses.SparseCategoricalCrossentropy(from_logits=True)\n",
        "}\n",
        "lossWeights = {\n",
        "      \"humuor\": 1.0, \n",
        "      \"sarcasm\": 1.0, \n",
        "      \"offensive\": 1.0, \n",
        "      \"motivational\": 1.0,\n",
        "      \"overall\": 1.0\n",
        "}\n",
        "metric = {\n",
        "    \"humuor\": ['acc',tfa.metrics.F1Score(num_classes=4, average=\"micro\", threshold = 0.9)],\n",
        "    \"sarcasm\": ['acc',tfa.metrics.F1Score(num_classes=4, average=\"micro\", threshold = 0.9)],\n",
        "    \"offensive\": ['acc',tfa.metrics.F1Score(num_classes=4, average=\"micro\", threshold = 0.9)],\n",
        "    \"motivational\": ['acc',tfa.metrics.F1Score(num_classes=1, average=\"micro\", threshold = 0.9)],\n",
        "    \"overall\": ['acc',tfa.metrics.F1Score(num_classes=5, average=\"micro\", threshold = 0.9)]\n",
        "}\n"
      ],
      "metadata": {
        "id": "ajljaIRp5bJy"
      },
      "execution_count": 51,
      "outputs": []
    },
    {
      "cell_type": "code",
      "source": [
        "earlyStopping = EarlyStopping(monitor='val_loss', patience=2, verbose=0, mode='min')\n",
        "mcp_save = ModelCheckpoint('model-{epoch:03d}-{overall_accuracy:03f}-{val_overall_accuracy:03f}', save_format='tf', save_best_only=True, monitor='val_loss', mode='min')\n",
        "reduce_lr_loss = ReduceLROnPlateau(monitor='val_loss', factor=0.1, patience=27, verbose=1, epsilon=1e-4, mode='min')"
      ],
      "metadata": {
        "id": "rbzNr9ynfvdb",
        "outputId": "978f2f3e-d6d8-4704-d26b-0c772fee09e8",
        "colab": {
          "base_uri": "https://localhost:8080/"
        }
      },
      "execution_count": 52,
      "outputs": [
        {
          "output_type": "stream",
          "name": "stderr",
          "text": [
            "WARNING:tensorflow:`epsilon` argument is deprecated and will be removed, use `min_delta` instead.\n"
          ]
        }
      ]
    },
    {
      "cell_type": "code",
      "source": [
        "learning_rates = [0.001] # [0.1, 0.01, 0.001, 0.0001, 0.00001]\n",
        "for i in learning_rates:\n",
        "    model.compile(optimizer=tf.keras.optimizers.RMSprop(i),\n",
        "              loss = losses,\n",
        "              loss_weights= lossWeights,\n",
        "              metrics=['accuracy'])\n",
        "    \n",
        "    history = model.fit(x = {\"image_input\": X_train, \"text\": X_text_train},\n",
        "                    y = {\"sarcasm\": y_train.sarcasm, \n",
        "                         \"humuor\": y_train.humour, \n",
        "                         \"offensive\": y_train.offensive, \n",
        "                         \"motivational\": y_train.motivational, \n",
        "                         \"overall\": y_train.overall_sentiment},\n",
        "                    batch_size=64,\n",
        "                    epochs=50,\n",
        "                    verbose=2,\n",
        "                    validation_split=0.2,\n",
        "                    callbacks=[earlyStopping, mcp_save,reduce_lr_loss]\n",
        "                   )\n",
        "     "
      ],
      "metadata": {
        "colab": {
          "base_uri": "https://localhost:8080/"
        },
        "id": "_v1budbt5eQD",
        "outputId": "1b8df7d8-8baa-447d-a8a1-a2e078fd01c0"
      },
      "execution_count": 53,
      "outputs": [
        {
          "output_type": "stream",
          "name": "stdout",
          "text": [
            "Epoch 1/50\n"
          ]
        },
        {
          "output_type": "stream",
          "name": "stderr",
          "text": [
            "/usr/local/lib/python3.8/dist-packages/tensorflow/python/util/dispatch.py:1082: UserWarning: \"`sparse_categorical_crossentropy` received `from_logits=True`, but the `output` argument was produced by a sigmoid or softmax activation and thus does not represent logits. Was this intended?\"\n",
            "  return dispatch_target(*args, **kwargs)\n",
            "WARNING:absl:Found untraced functions such as _jit_compiled_convolution_op, _jit_compiled_convolution_op, _jit_compiled_convolution_op, _jit_compiled_convolution_op, _jit_compiled_convolution_op while saving (showing 5 of 56). These functions will not be directly callable after loading.\n"
          ]
        },
        {
          "output_type": "stream",
          "name": "stdout",
          "text": [
            "70/70 - 76s - loss: 6.2614 - sarcasm_loss: 1.3409 - humuor_loss: 1.3575 - offensive_loss: 1.3418 - motivational_loss: 0.6763 - overall_loss: 1.5449 - sarcasm_accuracy: 0.5002 - humuor_accuracy: 0.3534 - offensive_accuracy: 0.3899 - motivational_accuracy: 0.6437 - overall_accuracy: 0.3192 - val_loss: 6.1559 - val_sarcasm_loss: 1.3211 - val_humuor_loss: 1.3426 - val_offensive_loss: 1.3185 - val_motivational_loss: 0.6724 - val_overall_loss: 1.5013 - val_sarcasm_accuracy: 0.4736 - val_humuor_accuracy: 0.3420 - val_offensive_accuracy: 0.3688 - val_motivational_accuracy: 0.6329 - val_overall_accuracy: 0.3080 - lr: 0.0010 - 76s/epoch - 1s/step\n",
            "Epoch 2/50\n"
          ]
        },
        {
          "output_type": "stream",
          "name": "stderr",
          "text": [
            "WARNING:absl:Found untraced functions such as _jit_compiled_convolution_op, _jit_compiled_convolution_op, _jit_compiled_convolution_op, _jit_compiled_convolution_op, _jit_compiled_convolution_op while saving (showing 5 of 56). These functions will not be directly callable after loading.\n"
          ]
        },
        {
          "output_type": "stream",
          "name": "stdout",
          "text": [
            "70/70 - 58s - loss: 6.0563 - sarcasm_loss: 1.2916 - humuor_loss: 1.3312 - offensive_loss: 1.2959 - motivational_loss: 0.6638 - overall_loss: 1.4738 - sarcasm_accuracy: 0.5022 - humuor_accuracy: 0.3556 - offensive_accuracy: 0.3903 - motivational_accuracy: 0.6502 - overall_accuracy: 0.3373 - val_loss: 5.9859 - val_sarcasm_loss: 1.2833 - val_humuor_loss: 1.3222 - val_offensive_loss: 1.2804 - val_motivational_loss: 0.6644 - val_overall_loss: 1.4356 - val_sarcasm_accuracy: 0.4736 - val_humuor_accuracy: 0.3420 - val_offensive_accuracy: 0.3688 - val_motivational_accuracy: 0.6329 - val_overall_accuracy: 0.4655 - lr: 0.0010 - 58s/epoch - 825ms/step\n",
            "Epoch 3/50\n"
          ]
        },
        {
          "output_type": "stream",
          "name": "stderr",
          "text": [
            "WARNING:absl:Found untraced functions such as _jit_compiled_convolution_op, _jit_compiled_convolution_op, _jit_compiled_convolution_op, _jit_compiled_convolution_op, _jit_compiled_convolution_op while saving (showing 5 of 56). These functions will not be directly callable after loading.\n"
          ]
        },
        {
          "output_type": "stream",
          "name": "stdout",
          "text": [
            "70/70 - 57s - loss: 5.9051 - sarcasm_loss: 1.2543 - humuor_loss: 1.3140 - offensive_loss: 1.2624 - motivational_loss: 0.6559 - overall_loss: 1.4184 - sarcasm_accuracy: 0.5022 - humuor_accuracy: 0.3556 - offensive_accuracy: 0.3903 - motivational_accuracy: 0.6502 - overall_accuracy: 0.4373 - val_loss: 5.8593 - val_sarcasm_loss: 1.2551 - val_humuor_loss: 1.3083 - val_offensive_loss: 1.2523 - val_motivational_loss: 0.6601 - val_overall_loss: 1.3835 - val_sarcasm_accuracy: 0.4736 - val_humuor_accuracy: 0.3420 - val_offensive_accuracy: 0.3688 - val_motivational_accuracy: 0.6329 - val_overall_accuracy: 0.4655 - lr: 0.0010 - 57s/epoch - 814ms/step\n",
            "Epoch 4/50\n"
          ]
        },
        {
          "output_type": "stream",
          "name": "stderr",
          "text": [
            "WARNING:absl:Found untraced functions such as _jit_compiled_convolution_op, _jit_compiled_convolution_op, _jit_compiled_convolution_op, _jit_compiled_convolution_op, _jit_compiled_convolution_op while saving (showing 5 of 56). These functions will not be directly callable after loading.\n"
          ]
        },
        {
          "output_type": "stream",
          "name": "stdout",
          "text": [
            "70/70 - 56s - loss: 5.7955 - sarcasm_loss: 1.2269 - humuor_loss: 1.3032 - offensive_loss: 1.2376 - motivational_loss: 0.6513 - overall_loss: 1.3766 - sarcasm_accuracy: 0.5022 - humuor_accuracy: 0.3556 - offensive_accuracy: 0.3903 - motivational_accuracy: 0.6502 - overall_accuracy: 0.4373 - val_loss: 5.7681 - val_sarcasm_loss: 1.2351 - val_humuor_loss: 1.3001 - val_offensive_loss: 1.2313 - val_motivational_loss: 0.6579 - val_overall_loss: 1.3436 - val_sarcasm_accuracy: 0.4736 - val_humuor_accuracy: 0.3420 - val_offensive_accuracy: 0.3688 - val_motivational_accuracy: 0.6329 - val_overall_accuracy: 0.4655 - lr: 0.0010 - 56s/epoch - 804ms/step\n",
            "Epoch 5/50\n"
          ]
        },
        {
          "output_type": "stream",
          "name": "stderr",
          "text": [
            "WARNING:absl:Found untraced functions such as _jit_compiled_convolution_op, _jit_compiled_convolution_op, _jit_compiled_convolution_op, _jit_compiled_convolution_op, _jit_compiled_convolution_op while saving (showing 5 of 56). These functions will not be directly callable after loading.\n"
          ]
        },
        {
          "output_type": "stream",
          "name": "stdout",
          "text": [
            "70/70 - 56s - loss: 5.7198 - sarcasm_loss: 1.2082 - humuor_loss: 1.2972 - offensive_loss: 1.2196 - motivational_loss: 0.6489 - overall_loss: 1.3461 - sarcasm_accuracy: 0.5022 - humuor_accuracy: 0.3556 - offensive_accuracy: 0.3903 - motivational_accuracy: 0.6502 - overall_accuracy: 0.4373 - val_loss: 5.7059 - val_sarcasm_loss: 1.2223 - val_humuor_loss: 1.2956 - val_offensive_loss: 1.2160 - val_motivational_loss: 0.6574 - val_overall_loss: 1.3147 - val_sarcasm_accuracy: 0.4736 - val_humuor_accuracy: 0.3420 - val_offensive_accuracy: 0.3688 - val_motivational_accuracy: 0.6329 - val_overall_accuracy: 0.4655 - lr: 0.0010 - 56s/epoch - 799ms/step\n",
            "Epoch 6/50\n"
          ]
        },
        {
          "output_type": "stream",
          "name": "stderr",
          "text": [
            "WARNING:absl:Found untraced functions such as _jit_compiled_convolution_op, _jit_compiled_convolution_op, _jit_compiled_convolution_op, _jit_compiled_convolution_op, _jit_compiled_convolution_op while saving (showing 5 of 56). These functions will not be directly callable after loading.\n"
          ]
        },
        {
          "output_type": "stream",
          "name": "stdout",
          "text": [
            "70/70 - 58s - loss: 5.6681 - sarcasm_loss: 1.1957 - humuor_loss: 1.2939 - offensive_loss: 1.2061 - motivational_loss: 0.6479 - overall_loss: 1.3244 - sarcasm_accuracy: 0.5022 - humuor_accuracy: 0.3556 - offensive_accuracy: 0.3903 - motivational_accuracy: 0.6502 - overall_accuracy: 0.4373 - val_loss: 5.6624 - val_sarcasm_loss: 1.2138 - val_humuor_loss: 1.2933 - val_offensive_loss: 1.2044 - val_motivational_loss: 0.6574 - val_overall_loss: 1.2935 - val_sarcasm_accuracy: 0.4736 - val_humuor_accuracy: 0.3420 - val_offensive_accuracy: 0.3688 - val_motivational_accuracy: 0.6329 - val_overall_accuracy: 0.4655 - lr: 0.0010 - 58s/epoch - 826ms/step\n",
            "Epoch 7/50\n"
          ]
        },
        {
          "output_type": "stream",
          "name": "stderr",
          "text": [
            "WARNING:absl:Found untraced functions such as _jit_compiled_convolution_op, _jit_compiled_convolution_op, _jit_compiled_convolution_op, _jit_compiled_convolution_op, _jit_compiled_convolution_op while saving (showing 5 of 56). These functions will not be directly callable after loading.\n"
          ]
        },
        {
          "output_type": "stream",
          "name": "stdout",
          "text": [
            "70/70 - 57s - loss: 5.6343 - sarcasm_loss: 1.1879 - humuor_loss: 1.2920 - offensive_loss: 1.1965 - motivational_loss: 0.6476 - overall_loss: 1.3102 - sarcasm_accuracy: 0.5022 - humuor_accuracy: 0.3556 - offensive_accuracy: 0.3903 - motivational_accuracy: 0.6502 - overall_accuracy: 0.4373 - val_loss: 5.6345 - val_sarcasm_loss: 1.2087 - val_humuor_loss: 1.2921 - val_offensive_loss: 1.1964 - val_motivational_loss: 0.6575 - val_overall_loss: 1.2798 - val_sarcasm_accuracy: 0.4736 - val_humuor_accuracy: 0.3420 - val_offensive_accuracy: 0.3688 - val_motivational_accuracy: 0.6329 - val_overall_accuracy: 0.4655 - lr: 0.0010 - 57s/epoch - 813ms/step\n",
            "Epoch 8/50\n"
          ]
        },
        {
          "output_type": "stream",
          "name": "stderr",
          "text": [
            "WARNING:absl:Found untraced functions such as _jit_compiled_convolution_op, _jit_compiled_convolution_op, _jit_compiled_convolution_op, _jit_compiled_convolution_op, _jit_compiled_convolution_op while saving (showing 5 of 56). These functions will not be directly callable after loading.\n"
          ]
        },
        {
          "output_type": "stream",
          "name": "stdout",
          "text": [
            "70/70 - 56s - loss: 5.6133 - sarcasm_loss: 1.1833 - humuor_loss: 1.2912 - offensive_loss: 1.1900 - motivational_loss: 0.6475 - overall_loss: 1.3013 - sarcasm_accuracy: 0.5022 - humuor_accuracy: 0.3556 - offensive_accuracy: 0.3903 - motivational_accuracy: 0.6502 - overall_accuracy: 0.4373 - val_loss: 5.6159 - val_sarcasm_loss: 1.2052 - val_humuor_loss: 1.2915 - val_offensive_loss: 1.1907 - val_motivational_loss: 0.6577 - val_overall_loss: 1.2707 - val_sarcasm_accuracy: 0.4736 - val_humuor_accuracy: 0.3420 - val_offensive_accuracy: 0.3688 - val_motivational_accuracy: 0.6329 - val_overall_accuracy: 0.4655 - lr: 0.0010 - 56s/epoch - 806ms/step\n",
            "Epoch 9/50\n"
          ]
        },
        {
          "output_type": "stream",
          "name": "stderr",
          "text": [
            "WARNING:absl:Found untraced functions such as _jit_compiled_convolution_op, _jit_compiled_convolution_op, _jit_compiled_convolution_op, _jit_compiled_convolution_op, _jit_compiled_convolution_op while saving (showing 5 of 56). These functions will not be directly callable after loading.\n"
          ]
        },
        {
          "output_type": "stream",
          "name": "stdout",
          "text": [
            "70/70 - 64s - loss: 5.5990 - sarcasm_loss: 1.1803 - humuor_loss: 1.2909 - offensive_loss: 1.1851 - motivational_loss: 0.6474 - overall_loss: 1.2953 - sarcasm_accuracy: 0.5022 - humuor_accuracy: 0.3556 - offensive_accuracy: 0.3903 - motivational_accuracy: 0.6502 - overall_accuracy: 0.4373 - val_loss: 5.6021 - val_sarcasm_loss: 1.2029 - val_humuor_loss: 1.2912 - val_offensive_loss: 1.1862 - val_motivational_loss: 0.6578 - val_overall_loss: 1.2641 - val_sarcasm_accuracy: 0.4736 - val_humuor_accuracy: 0.3420 - val_offensive_accuracy: 0.3688 - val_motivational_accuracy: 0.6329 - val_overall_accuracy: 0.4655 - lr: 0.0010 - 64s/epoch - 911ms/step\n",
            "Epoch 10/50\n"
          ]
        },
        {
          "output_type": "stream",
          "name": "stderr",
          "text": [
            "WARNING:absl:Found untraced functions such as _jit_compiled_convolution_op, _jit_compiled_convolution_op, _jit_compiled_convolution_op, _jit_compiled_convolution_op, _jit_compiled_convolution_op while saving (showing 5 of 56). These functions will not be directly callable after loading.\n"
          ]
        },
        {
          "output_type": "stream",
          "name": "stdout",
          "text": [
            "70/70 - 63s - loss: 5.5900 - sarcasm_loss: 1.1786 - humuor_loss: 1.2907 - offensive_loss: 1.1819 - motivational_loss: 0.6474 - overall_loss: 1.2913 - sarcasm_accuracy: 0.5022 - humuor_accuracy: 0.3556 - offensive_accuracy: 0.3903 - motivational_accuracy: 0.6502 - overall_accuracy: 0.4373 - val_loss: 5.5938 - val_sarcasm_loss: 1.2018 - val_humuor_loss: 1.2910 - val_offensive_loss: 1.1833 - val_motivational_loss: 0.6578 - val_overall_loss: 1.2598 - val_sarcasm_accuracy: 0.4736 - val_humuor_accuracy: 0.3420 - val_offensive_accuracy: 0.3688 - val_motivational_accuracy: 0.6329 - val_overall_accuracy: 0.4655 - lr: 0.0010 - 63s/epoch - 898ms/step\n",
            "Epoch 11/50\n"
          ]
        },
        {
          "output_type": "stream",
          "name": "stderr",
          "text": [
            "WARNING:absl:Found untraced functions such as _jit_compiled_convolution_op, _jit_compiled_convolution_op, _jit_compiled_convolution_op, _jit_compiled_convolution_op, _jit_compiled_convolution_op while saving (showing 5 of 56). These functions will not be directly callable after loading.\n"
          ]
        },
        {
          "output_type": "stream",
          "name": "stdout",
          "text": [
            "70/70 - 57s - loss: 5.5838 - sarcasm_loss: 1.1777 - humuor_loss: 1.2906 - offensive_loss: 1.1797 - motivational_loss: 0.6474 - overall_loss: 1.2885 - sarcasm_accuracy: 0.5022 - humuor_accuracy: 0.3556 - offensive_accuracy: 0.3903 - motivational_accuracy: 0.6502 - overall_accuracy: 0.4373 - val_loss: 5.5885 - val_sarcasm_loss: 1.2012 - val_humuor_loss: 1.2910 - val_offensive_loss: 1.1817 - val_motivational_loss: 0.6580 - val_overall_loss: 1.2566 - val_sarcasm_accuracy: 0.4736 - val_humuor_accuracy: 0.3420 - val_offensive_accuracy: 0.3688 - val_motivational_accuracy: 0.6329 - val_overall_accuracy: 0.4655 - lr: 0.0010 - 57s/epoch - 811ms/step\n",
            "Epoch 12/50\n"
          ]
        },
        {
          "output_type": "stream",
          "name": "stderr",
          "text": [
            "WARNING:absl:Found untraced functions such as _jit_compiled_convolution_op, _jit_compiled_convolution_op, _jit_compiled_convolution_op, _jit_compiled_convolution_op, _jit_compiled_convolution_op while saving (showing 5 of 56). These functions will not be directly callable after loading.\n"
          ]
        },
        {
          "output_type": "stream",
          "name": "stdout",
          "text": [
            "70/70 - 57s - loss: 5.5802 - sarcasm_loss: 1.1772 - humuor_loss: 1.2906 - offensive_loss: 1.1784 - motivational_loss: 0.6474 - overall_loss: 1.2866 - sarcasm_accuracy: 0.5022 - humuor_accuracy: 0.3556 - offensive_accuracy: 0.3903 - motivational_accuracy: 0.6502 - overall_accuracy: 0.4373 - val_loss: 5.5849 - val_sarcasm_loss: 1.2008 - val_humuor_loss: 1.2909 - val_offensive_loss: 1.1805 - val_motivational_loss: 0.6581 - val_overall_loss: 1.2546 - val_sarcasm_accuracy: 0.4736 - val_humuor_accuracy: 0.3420 - val_offensive_accuracy: 0.3688 - val_motivational_accuracy: 0.6329 - val_overall_accuracy: 0.4655 - lr: 0.0010 - 57s/epoch - 821ms/step\n",
            "Epoch 13/50\n"
          ]
        },
        {
          "output_type": "stream",
          "name": "stderr",
          "text": [
            "WARNING:absl:Found untraced functions such as _jit_compiled_convolution_op, _jit_compiled_convolution_op, _jit_compiled_convolution_op, _jit_compiled_convolution_op, _jit_compiled_convolution_op while saving (showing 5 of 56). These functions will not be directly callable after loading.\n"
          ]
        },
        {
          "output_type": "stream",
          "name": "stdout",
          "text": [
            "70/70 - 57s - loss: 5.5779 - sarcasm_loss: 1.1769 - humuor_loss: 1.2906 - offensive_loss: 1.1774 - motivational_loss: 0.6474 - overall_loss: 1.2855 - sarcasm_accuracy: 0.5022 - humuor_accuracy: 0.3556 - offensive_accuracy: 0.3903 - motivational_accuracy: 0.6502 - overall_accuracy: 0.4373 - val_loss: 5.5824 - val_sarcasm_loss: 1.2005 - val_humuor_loss: 1.2909 - val_offensive_loss: 1.1796 - val_motivational_loss: 0.6580 - val_overall_loss: 1.2533 - val_sarcasm_accuracy: 0.4736 - val_humuor_accuracy: 0.3420 - val_offensive_accuracy: 0.3688 - val_motivational_accuracy: 0.6329 - val_overall_accuracy: 0.4655 - lr: 0.0010 - 57s/epoch - 809ms/step\n",
            "Epoch 14/50\n"
          ]
        },
        {
          "output_type": "stream",
          "name": "stderr",
          "text": [
            "WARNING:absl:Found untraced functions such as _jit_compiled_convolution_op, _jit_compiled_convolution_op, _jit_compiled_convolution_op, _jit_compiled_convolution_op, _jit_compiled_convolution_op while saving (showing 5 of 56). These functions will not be directly callable after loading.\n"
          ]
        },
        {
          "output_type": "stream",
          "name": "stdout",
          "text": [
            "70/70 - 56s - loss: 5.5764 - sarcasm_loss: 1.1768 - humuor_loss: 1.2906 - offensive_loss: 1.1769 - motivational_loss: 0.6474 - overall_loss: 1.2848 - sarcasm_accuracy: 0.5022 - humuor_accuracy: 0.3556 - offensive_accuracy: 0.3903 - motivational_accuracy: 0.6502 - overall_accuracy: 0.4373 - val_loss: 5.5806 - val_sarcasm_loss: 1.2002 - val_humuor_loss: 1.2909 - val_offensive_loss: 1.1791 - val_motivational_loss: 0.6580 - val_overall_loss: 1.2524 - val_sarcasm_accuracy: 0.4736 - val_humuor_accuracy: 0.3420 - val_offensive_accuracy: 0.3688 - val_motivational_accuracy: 0.6329 - val_overall_accuracy: 0.4655 - lr: 0.0010 - 56s/epoch - 801ms/step\n",
            "Epoch 15/50\n"
          ]
        },
        {
          "output_type": "stream",
          "name": "stderr",
          "text": [
            "WARNING:absl:Found untraced functions such as _jit_compiled_convolution_op, _jit_compiled_convolution_op, _jit_compiled_convolution_op, _jit_compiled_convolution_op, _jit_compiled_convolution_op while saving (showing 5 of 56). These functions will not be directly callable after loading.\n"
          ]
        },
        {
          "output_type": "stream",
          "name": "stdout",
          "text": [
            "70/70 - 56s - loss: 5.5753 - sarcasm_loss: 1.1767 - humuor_loss: 1.2906 - offensive_loss: 1.1765 - motivational_loss: 0.6474 - overall_loss: 1.2842 - sarcasm_accuracy: 0.5022 - humuor_accuracy: 0.3556 - offensive_accuracy: 0.3903 - motivational_accuracy: 0.6502 - overall_accuracy: 0.4373 - val_loss: 5.5797 - val_sarcasm_loss: 1.2000 - val_humuor_loss: 1.2910 - val_offensive_loss: 1.1788 - val_motivational_loss: 0.6580 - val_overall_loss: 1.2519 - val_sarcasm_accuracy: 0.4736 - val_humuor_accuracy: 0.3420 - val_offensive_accuracy: 0.3688 - val_motivational_accuracy: 0.6329 - val_overall_accuracy: 0.4655 - lr: 0.0010 - 56s/epoch - 796ms/step\n",
            "Epoch 16/50\n"
          ]
        },
        {
          "output_type": "stream",
          "name": "stderr",
          "text": [
            "WARNING:absl:Found untraced functions such as _jit_compiled_convolution_op, _jit_compiled_convolution_op, _jit_compiled_convolution_op, _jit_compiled_convolution_op, _jit_compiled_convolution_op while saving (showing 5 of 56). These functions will not be directly callable after loading.\n"
          ]
        },
        {
          "output_type": "stream",
          "name": "stdout",
          "text": [
            "70/70 - 56s - loss: 5.5747 - sarcasm_loss: 1.1767 - humuor_loss: 1.2906 - offensive_loss: 1.1763 - motivational_loss: 0.6474 - overall_loss: 1.2838 - sarcasm_accuracy: 0.5022 - humuor_accuracy: 0.3556 - offensive_accuracy: 0.3903 - motivational_accuracy: 0.6502 - overall_accuracy: 0.4373 - val_loss: 5.5789 - val_sarcasm_loss: 1.2002 - val_humuor_loss: 1.2911 - val_offensive_loss: 1.1784 - val_motivational_loss: 0.6580 - val_overall_loss: 1.2513 - val_sarcasm_accuracy: 0.4736 - val_humuor_accuracy: 0.3420 - val_offensive_accuracy: 0.3688 - val_motivational_accuracy: 0.6329 - val_overall_accuracy: 0.4655 - lr: 0.0010 - 56s/epoch - 800ms/step\n",
            "Epoch 17/50\n"
          ]
        },
        {
          "output_type": "stream",
          "name": "stderr",
          "text": [
            "WARNING:absl:Found untraced functions such as _jit_compiled_convolution_op, _jit_compiled_convolution_op, _jit_compiled_convolution_op, _jit_compiled_convolution_op, _jit_compiled_convolution_op while saving (showing 5 of 56). These functions will not be directly callable after loading.\n"
          ]
        },
        {
          "output_type": "stream",
          "name": "stdout",
          "text": [
            "70/70 - 57s - loss: 5.5743 - sarcasm_loss: 1.1767 - humuor_loss: 1.2906 - offensive_loss: 1.1761 - motivational_loss: 0.6474 - overall_loss: 1.2835 - sarcasm_accuracy: 0.5022 - humuor_accuracy: 0.3556 - offensive_accuracy: 0.3903 - motivational_accuracy: 0.6502 - overall_accuracy: 0.4373 - val_loss: 5.5782 - val_sarcasm_loss: 1.2001 - val_humuor_loss: 1.2911 - val_offensive_loss: 1.1784 - val_motivational_loss: 0.6580 - val_overall_loss: 1.2506 - val_sarcasm_accuracy: 0.4736 - val_humuor_accuracy: 0.3420 - val_offensive_accuracy: 0.3688 - val_motivational_accuracy: 0.6329 - val_overall_accuracy: 0.4655 - lr: 0.0010 - 57s/epoch - 817ms/step\n",
            "Epoch 18/50\n"
          ]
        },
        {
          "output_type": "stream",
          "name": "stderr",
          "text": [
            "WARNING:absl:Found untraced functions such as _jit_compiled_convolution_op, _jit_compiled_convolution_op, _jit_compiled_convolution_op, _jit_compiled_convolution_op, _jit_compiled_convolution_op while saving (showing 5 of 56). These functions will not be directly callable after loading.\n"
          ]
        },
        {
          "output_type": "stream",
          "name": "stdout",
          "text": [
            "70/70 - 56s - loss: 5.5741 - sarcasm_loss: 1.1766 - humuor_loss: 1.2906 - offensive_loss: 1.1761 - motivational_loss: 0.6474 - overall_loss: 1.2834 - sarcasm_accuracy: 0.5022 - humuor_accuracy: 0.3556 - offensive_accuracy: 0.3903 - motivational_accuracy: 0.6502 - overall_accuracy: 0.4373 - val_loss: 5.5776 - val_sarcasm_loss: 1.2002 - val_humuor_loss: 1.2911 - val_offensive_loss: 1.1780 - val_motivational_loss: 0.6580 - val_overall_loss: 1.2502 - val_sarcasm_accuracy: 0.4736 - val_humuor_accuracy: 0.3420 - val_offensive_accuracy: 0.3688 - val_motivational_accuracy: 0.6329 - val_overall_accuracy: 0.4655 - lr: 0.0010 - 56s/epoch - 799ms/step\n",
            "Epoch 19/50\n"
          ]
        },
        {
          "output_type": "stream",
          "name": "stderr",
          "text": [
            "WARNING:absl:Found untraced functions such as _jit_compiled_convolution_op, _jit_compiled_convolution_op, _jit_compiled_convolution_op, _jit_compiled_convolution_op, _jit_compiled_convolution_op while saving (showing 5 of 56). These functions will not be directly callable after loading.\n"
          ]
        },
        {
          "output_type": "stream",
          "name": "stdout",
          "text": [
            "70/70 - 55s - loss: 5.5740 - sarcasm_loss: 1.1766 - humuor_loss: 1.2906 - offensive_loss: 1.1761 - motivational_loss: 0.6474 - overall_loss: 1.2833 - sarcasm_accuracy: 0.5022 - humuor_accuracy: 0.3556 - offensive_accuracy: 0.3903 - motivational_accuracy: 0.6502 - overall_accuracy: 0.4373 - val_loss: 5.5772 - val_sarcasm_loss: 1.2000 - val_humuor_loss: 1.2910 - val_offensive_loss: 1.1781 - val_motivational_loss: 0.6581 - val_overall_loss: 1.2500 - val_sarcasm_accuracy: 0.4736 - val_humuor_accuracy: 0.3420 - val_offensive_accuracy: 0.3688 - val_motivational_accuracy: 0.6329 - val_overall_accuracy: 0.4655 - lr: 0.0010 - 55s/epoch - 792ms/step\n",
            "Epoch 20/50\n"
          ]
        },
        {
          "output_type": "stream",
          "name": "stderr",
          "text": [
            "WARNING:absl:Found untraced functions such as _jit_compiled_convolution_op, _jit_compiled_convolution_op, _jit_compiled_convolution_op, _jit_compiled_convolution_op, _jit_compiled_convolution_op while saving (showing 5 of 56). These functions will not be directly callable after loading.\n"
          ]
        },
        {
          "output_type": "stream",
          "name": "stdout",
          "text": [
            "70/70 - 56s - loss: 5.5739 - sarcasm_loss: 1.1767 - humuor_loss: 1.2906 - offensive_loss: 1.1760 - motivational_loss: 0.6474 - overall_loss: 1.2833 - sarcasm_accuracy: 0.5022 - humuor_accuracy: 0.3556 - offensive_accuracy: 0.3903 - motivational_accuracy: 0.6502 - overall_accuracy: 0.4373 - val_loss: 5.5770 - val_sarcasm_loss: 1.1999 - val_humuor_loss: 1.2909 - val_offensive_loss: 1.1781 - val_motivational_loss: 0.6581 - val_overall_loss: 1.2500 - val_sarcasm_accuracy: 0.4736 - val_humuor_accuracy: 0.3420 - val_offensive_accuracy: 0.3688 - val_motivational_accuracy: 0.6329 - val_overall_accuracy: 0.4655 - lr: 0.0010 - 56s/epoch - 794ms/step\n",
            "Epoch 21/50\n"
          ]
        },
        {
          "output_type": "stream",
          "name": "stderr",
          "text": [
            "WARNING:absl:Found untraced functions such as _jit_compiled_convolution_op, _jit_compiled_convolution_op, _jit_compiled_convolution_op, _jit_compiled_convolution_op, _jit_compiled_convolution_op while saving (showing 5 of 56). These functions will not be directly callable after loading.\n"
          ]
        },
        {
          "output_type": "stream",
          "name": "stdout",
          "text": [
            "70/70 - 57s - loss: 5.5738 - sarcasm_loss: 1.1766 - humuor_loss: 1.2906 - offensive_loss: 1.1760 - motivational_loss: 0.6474 - overall_loss: 1.2832 - sarcasm_accuracy: 0.5022 - humuor_accuracy: 0.3556 - offensive_accuracy: 0.3903 - motivational_accuracy: 0.6502 - overall_accuracy: 0.4373 - val_loss: 5.5769 - val_sarcasm_loss: 1.1999 - val_humuor_loss: 1.2909 - val_offensive_loss: 1.1781 - val_motivational_loss: 0.6581 - val_overall_loss: 1.2499 - val_sarcasm_accuracy: 0.4736 - val_humuor_accuracy: 0.3420 - val_offensive_accuracy: 0.3688 - val_motivational_accuracy: 0.6329 - val_overall_accuracy: 0.4655 - lr: 0.0010 - 57s/epoch - 815ms/step\n",
            "Epoch 22/50\n"
          ]
        },
        {
          "output_type": "stream",
          "name": "stderr",
          "text": [
            "WARNING:absl:Found untraced functions such as _jit_compiled_convolution_op, _jit_compiled_convolution_op, _jit_compiled_convolution_op, _jit_compiled_convolution_op, _jit_compiled_convolution_op while saving (showing 5 of 56). These functions will not be directly callable after loading.\n"
          ]
        },
        {
          "output_type": "stream",
          "name": "stdout",
          "text": [
            "70/70 - 57s - loss: 5.5738 - sarcasm_loss: 1.1767 - humuor_loss: 1.2906 - offensive_loss: 1.1759 - motivational_loss: 0.6474 - overall_loss: 1.2832 - sarcasm_accuracy: 0.5022 - humuor_accuracy: 0.3556 - offensive_accuracy: 0.3903 - motivational_accuracy: 0.6502 - overall_accuracy: 0.4373 - val_loss: 5.5767 - val_sarcasm_loss: 1.1999 - val_humuor_loss: 1.2909 - val_offensive_loss: 1.1779 - val_motivational_loss: 0.6581 - val_overall_loss: 1.2499 - val_sarcasm_accuracy: 0.4736 - val_humuor_accuracy: 0.3420 - val_offensive_accuracy: 0.3688 - val_motivational_accuracy: 0.6329 - val_overall_accuracy: 0.4655 - lr: 0.0010 - 57s/epoch - 821ms/step\n",
            "Epoch 23/50\n",
            "70/70 - 30s - loss: 5.5737 - sarcasm_loss: 1.1767 - humuor_loss: 1.2906 - offensive_loss: 1.1760 - motivational_loss: 0.6474 - overall_loss: 1.2832 - sarcasm_accuracy: 0.5022 - humuor_accuracy: 0.3556 - offensive_accuracy: 0.3903 - motivational_accuracy: 0.6502 - overall_accuracy: 0.4373 - val_loss: 5.5771 - val_sarcasm_loss: 1.2002 - val_humuor_loss: 1.2909 - val_offensive_loss: 1.1781 - val_motivational_loss: 0.6581 - val_overall_loss: 1.2499 - val_sarcasm_accuracy: 0.4736 - val_humuor_accuracy: 0.3420 - val_offensive_accuracy: 0.3688 - val_motivational_accuracy: 0.6329 - val_overall_accuracy: 0.4655 - lr: 0.0010 - 30s/epoch - 427ms/step\n",
            "Epoch 24/50\n",
            "70/70 - 30s - loss: 5.5737 - sarcasm_loss: 1.1767 - humuor_loss: 1.2905 - offensive_loss: 1.1760 - motivational_loss: 0.6474 - overall_loss: 1.2831 - sarcasm_accuracy: 0.5022 - humuor_accuracy: 0.3556 - offensive_accuracy: 0.3903 - motivational_accuracy: 0.6502 - overall_accuracy: 0.4373 - val_loss: 5.5773 - val_sarcasm_loss: 1.2002 - val_humuor_loss: 1.2908 - val_offensive_loss: 1.1781 - val_motivational_loss: 0.6581 - val_overall_loss: 1.2501 - val_sarcasm_accuracy: 0.4736 - val_humuor_accuracy: 0.3420 - val_offensive_accuracy: 0.3688 - val_motivational_accuracy: 0.6329 - val_overall_accuracy: 0.4655 - lr: 0.0010 - 30s/epoch - 429ms/step\n"
          ]
        }
      ]
    },
    {
      "cell_type": "code",
      "source": [
        "evaluate = model.evaluate(x = {\"image_input\": X_test, \"text\": X_text_test},\n",
        "                    y = {\"sarcasm\": y_test.sarcasm, \n",
        "                         \"humuor\": y_test.humour, \n",
        "                         \"offensive\": y_test.offensive, \n",
        "                         \"motivational\": y_test.motivational, \n",
        "                         \"overall\": y_test.overall_sentiment},\n",
        "                    batch_size=32,\n",
        "                    verbose=2\n",
        "                   )"
      ],
      "metadata": {
        "id": "aB25plrNliP5",
        "outputId": "9ed88e95-3865-4883-bbc2-78f43ef48fca",
        "colab": {
          "base_uri": "https://localhost:8080/"
        }
      },
      "execution_count": 58,
      "outputs": [
        {
          "output_type": "stream",
          "name": "stdout",
          "text": [
            "44/44 - 3s - loss: 5.5274 - sarcasm_loss: 1.1526 - humuor_loss: 1.3076 - offensive_loss: 1.1559 - motivational_loss: 0.6475 - overall_loss: 1.2638 - sarcasm_accuracy: 0.5225 - humuor_accuracy: 0.3429 - offensive_accuracy: 0.3944 - motivational_accuracy: 0.6500 - overall_accuracy: 0.4631 - 3s/epoch - 62ms/step\n"
          ]
        }
      ]
    },
    {
      "cell_type": "code",
      "source": [
        "best_model = tf.keras.Model(inputs = [image_input, text_input] , outputs = [output_1, output_2, output_3, output_4, output_5])\n",
        "best_model.load_weights('/content/model-022-0.437332-0.465533')\n",
        "print('Best Model Loaded!')"
      ],
      "metadata": {
        "id": "jYZwGnykmO8s",
        "outputId": "6aedcd20-3a41-49ba-c526-cd6b7e9e5178",
        "colab": {
          "base_uri": "https://localhost:8080/"
        }
      },
      "execution_count": 61,
      "outputs": [
        {
          "output_type": "stream",
          "name": "stdout",
          "text": [
            "Best Model Loaded!\n"
          ]
        }
      ]
    },
    {
      "cell_type": "code",
      "source": [
        "best_model.compile(optimizer=tf.keras.optimizers.RMSprop(i),\n",
        "              loss = losses,\n",
        "              loss_weights= lossWeights,\n",
        "              metrics=['accuracy'])"
      ],
      "metadata": {
        "id": "eCITVwnYmkd1"
      },
      "execution_count": 63,
      "outputs": []
    },
    {
      "cell_type": "code",
      "source": [
        "evaluate = best_model.evaluate(x = {\"image_input\": X_test, \"text\": X_text_test},\n",
        "                    y = {\"sarcasm\": y_test.sarcasm, \n",
        "                         \"humuor\": y_test.humour, \n",
        "                         \"offensive\": y_test.offensive, \n",
        "                         \"motivational\": y_test.motivational, \n",
        "                         \"overall\": y_test.overall_sentiment},\n",
        "                    batch_size=32,\n",
        "                    verbose=2\n",
        "                   )"
      ],
      "metadata": {
        "colab": {
          "base_uri": "https://localhost:8080/"
        },
        "id": "-HEI9s0z-V-1",
        "outputId": "c58ffeb5-ba8d-48ee-97ec-e147743c843b"
      },
      "execution_count": 64,
      "outputs": [
        {
          "output_type": "stream",
          "name": "stderr",
          "text": [
            "/usr/local/lib/python3.8/dist-packages/tensorflow/python/util/dispatch.py:1082: UserWarning: \"`sparse_categorical_crossentropy` received `from_logits=True`, but the `output` argument was produced by a sigmoid or softmax activation and thus does not represent logits. Was this intended?\"\n",
            "  return dispatch_target(*args, **kwargs)\n"
          ]
        },
        {
          "output_type": "stream",
          "name": "stdout",
          "text": [
            "44/44 - 5s - loss: 5.5274 - sarcasm_loss: 1.1526 - humuor_loss: 1.3076 - offensive_loss: 1.1559 - motivational_loss: 0.6475 - overall_loss: 1.2638 - sarcasm_accuracy: 0.5225 - humuor_accuracy: 0.3429 - offensive_accuracy: 0.3944 - motivational_accuracy: 0.6500 - overall_accuracy: 0.4631 - 5s/epoch - 115ms/step\n"
          ]
        }
      ]
    },
    {
      "cell_type": "code",
      "source": [
        "best_model.summary()"
      ],
      "metadata": {
        "colab": {
          "base_uri": "https://localhost:8080/"
        },
        "id": "i0RNKx6xIZ9E",
        "outputId": "04b2e2dc-1bff-4694-efde-9915c00c83ee"
      },
      "execution_count": 65,
      "outputs": [
        {
          "output_type": "stream",
          "name": "stdout",
          "text": [
            "Model: \"model_2\"\n",
            "__________________________________________________________________________________________________\n",
            " Layer (type)                   Output Shape         Param #     Connected to                     \n",
            "==================================================================================================\n",
            " text (InputLayer)              [(None, 1)]          0           []                               \n",
            "                                                                                                  \n",
            " text_vectorization (TextVector  (None, 100)         0           ['text[0][0]']                   \n",
            " ization)                                                                                         \n",
            "                                                                                                  \n",
            " embedding (Embedding)          (None, 100, 16)      160000      ['text_vectorization[0][0]']     \n",
            "                                                                                                  \n",
            " dropout (Dropout)              (None, 100, 16)      0           ['embedding[0][0]']              \n",
            "                                                                                                  \n",
            " image_input (InputLayer)       [(None, 100, 100, 3  0           []                               \n",
            "                                )]                                                                \n",
            "                                                                                                  \n",
            " bidirectional (Bidirectional)  (None, 100, 512)     559104      ['dropout[0][0]']                \n",
            "                                                                                                  \n",
            " resnet50 (Functional)          (None, 4, 4, 2048)   23587712    ['image_input[0][0]']            \n",
            "                                                                                                  \n",
            " conv1d (Conv1D)                (None, 32, 128)      458880      ['bidirectional[0][0]']          \n",
            "                                                                                                  \n",
            " conv2d (Conv2D)                (None, 3, 3, 2048)   16779264    ['resnet50[0][0]']               \n",
            "                                                                                                  \n",
            " conv1d_1 (Conv1D)              (None, 9, 128)       114816      ['conv1d[0][0]']                 \n",
            "                                                                                                  \n",
            " dense (Dense)                  (None, 3, 3, 512)    1049088     ['conv2d[0][0]']                 \n",
            "                                                                                                  \n",
            " global_max_pooling1d (GlobalMa  (None, 128)         0           ['conv1d_1[0][0]']               \n",
            " xPooling1D)                                                                                      \n",
            "                                                                                                  \n",
            " global_average_pooling2d (Glob  (None, 512)         0           ['dense[0][0]']                  \n",
            " alAveragePooling2D)                                                                              \n",
            "                                                                                                  \n",
            " dense_2 (Dense)                (None, 2048)         264192      ['global_max_pooling1d[0][0]']   \n",
            "                                                                                                  \n",
            " dropout_layer (Dropout)        (None, 512)          0           ['global_average_pooling2d[0][0]'\n",
            "                                                                 ]                                \n",
            "                                                                                                  \n",
            " dropout_1 (Dropout)            (None, 2048)         0           ['dense_2[0][0]']                \n",
            "                                                                                                  \n",
            " concatenate_1 (Concatenate)    (None, 2560)         0           ['dropout_layer[0][0]',          \n",
            "                                                                  'dropout_1[0][0]']              \n",
            "                                                                                                  \n",
            " dense_3 (Dense)                (None, 2048)         5244928     ['concatenate_1[0][0]']          \n",
            "                                                                                                  \n",
            " sarcasm (Dense)                (None, 4)            8196        ['dense_3[0][0]']                \n",
            "                                                                                                  \n",
            " humuor (Dense)                 (None, 4)            8196        ['dense_3[0][0]']                \n",
            "                                                                                                  \n",
            " offensive (Dense)              (None, 4)            8196        ['dense_3[0][0]']                \n",
            "                                                                                                  \n",
            " motivational (Dense)           (None, 1)            2049        ['dense_3[0][0]']                \n",
            "                                                                                                  \n",
            " overall (Dense)                (None, 5)            10245       ['dense_3[0][0]']                \n",
            "                                                                                                  \n",
            "==================================================================================================\n",
            "Total params: 48,254,866\n",
            "Trainable params: 24,667,154\n",
            "Non-trainable params: 23,587,712\n",
            "__________________________________________________________________________________________________\n"
          ]
        }
      ]
    },
    {
      "cell_type": "code",
      "source": [
        "from keras.models import Model\n",
        "embedder= Model(inputs=model.input, outputs=best_model.layers[-7].output)\n",
        "embedder.summary()"
      ],
      "metadata": {
        "id": "b_yu_ATv_R0t",
        "colab": {
          "base_uri": "https://localhost:8080/"
        },
        "outputId": "3f65c627-4926-4108-d319-04050a84b76e"
      },
      "execution_count": 66,
      "outputs": [
        {
          "output_type": "stream",
          "name": "stdout",
          "text": [
            "Model: \"model_3\"\n",
            "__________________________________________________________________________________________________\n",
            " Layer (type)                   Output Shape         Param #     Connected to                     \n",
            "==================================================================================================\n",
            " text (InputLayer)              [(None, 1)]          0           []                               \n",
            "                                                                                                  \n",
            " text_vectorization (TextVector  (None, 100)         0           ['text[0][0]']                   \n",
            " ization)                                                                                         \n",
            "                                                                                                  \n",
            " embedding (Embedding)          (None, 100, 16)      160000      ['text_vectorization[0][0]']     \n",
            "                                                                                                  \n",
            " dropout (Dropout)              (None, 100, 16)      0           ['embedding[0][0]']              \n",
            "                                                                                                  \n",
            " image_input (InputLayer)       [(None, 100, 100, 3  0           []                               \n",
            "                                )]                                                                \n",
            "                                                                                                  \n",
            " bidirectional (Bidirectional)  (None, 100, 512)     559104      ['dropout[0][0]']                \n",
            "                                                                                                  \n",
            " resnet50 (Functional)          (None, 4, 4, 2048)   23587712    ['image_input[0][0]']            \n",
            "                                                                                                  \n",
            " conv1d (Conv1D)                (None, 32, 128)      458880      ['bidirectional[0][0]']          \n",
            "                                                                                                  \n",
            " conv2d (Conv2D)                (None, 3, 3, 2048)   16779264    ['resnet50[0][0]']               \n",
            "                                                                                                  \n",
            " conv1d_1 (Conv1D)              (None, 9, 128)       114816      ['conv1d[0][0]']                 \n",
            "                                                                                                  \n",
            " dense (Dense)                  (None, 3, 3, 512)    1049088     ['conv2d[0][0]']                 \n",
            "                                                                                                  \n",
            " global_max_pooling1d (GlobalMa  (None, 128)         0           ['conv1d_1[0][0]']               \n",
            " xPooling1D)                                                                                      \n",
            "                                                                                                  \n",
            " global_average_pooling2d (Glob  (None, 512)         0           ['dense[0][0]']                  \n",
            " alAveragePooling2D)                                                                              \n",
            "                                                                                                  \n",
            " dense_2 (Dense)                (None, 2048)         264192      ['global_max_pooling1d[0][0]']   \n",
            "                                                                                                  \n",
            " dropout_layer (Dropout)        (None, 512)          0           ['global_average_pooling2d[0][0]'\n",
            "                                                                 ]                                \n",
            "                                                                                                  \n",
            " dropout_1 (Dropout)            (None, 2048)         0           ['dense_2[0][0]']                \n",
            "                                                                                                  \n",
            " concatenate_1 (Concatenate)    (None, 2560)         0           ['dropout_layer[0][0]',          \n",
            "                                                                  'dropout_1[0][0]']              \n",
            "                                                                                                  \n",
            "==================================================================================================\n",
            "Total params: 42,973,056\n",
            "Trainable params: 19,385,344\n",
            "Non-trainable params: 23,587,712\n",
            "__________________________________________________________________________________________________\n"
          ]
        }
      ]
    },
    {
      "cell_type": "code",
      "source": [
        "embedded_X_train = embedder.predict(x = {\"image_input\": X_train, \"text\": X_text_train},\n",
        "                              batch_size=32,\n",
        "                              verbose=2)\n",
        "embedded_X_test = embedder.predict(x = {\"image_input\": X_test, \"text\": X_text_test},\n",
        "                              batch_size=32,\n",
        "                              verbose=2)\n",
        "print(embedded_X_train.shape, embedded_X_test.shape)"
      ],
      "metadata": {
        "colab": {
          "base_uri": "https://localhost:8080/"
        },
        "id": "YYFkB22xEv_Y",
        "outputId": "353f5633-1dbb-4c5f-a33e-505a1457a2ce"
      },
      "execution_count": 67,
      "outputs": [
        {
          "output_type": "stream",
          "name": "stdout",
          "text": [
            "175/175 - 11s - 11s/epoch - 63ms/step\n",
            "44/44 - 2s - 2s/epoch - 53ms/step\n",
            "(5585, 2560) (1397, 2560)\n"
          ]
        }
      ]
    },
    {
      "cell_type": "code",
      "source": [
        "import numpy as np\n",
        "from sklearn.pipeline import make_pipeline\n",
        "from sklearn.preprocessing import StandardScaler\n",
        "from sklearn.metrics import classification_report\n",
        "from sklearn.svm import SVC\n",
        "clf = make_pipeline(StandardScaler(), SVC(gamma='auto'))\n",
        "clf.fit(embedded_X_train, y_train.iloc[:, 0].values)\n",
        "y_pred = clf.predict(embedded_X_test)\n",
        "print(classification_report(y_test.iloc[:, 0].values, y_pred))"
      ],
      "metadata": {
        "colab": {
          "base_uri": "https://localhost:8080/"
        },
        "id": "AhS1i5BKI6_d",
        "outputId": "b1a4becc-9a88-4520-a4e5-68fb8024615c"
      },
      "execution_count": 68,
      "outputs": [
        {
          "output_type": "stream",
          "name": "stdout",
          "text": [
            "              precision    recall  f1-score   support\n",
            "\n",
            "           0       0.00      0.00      0.00       335\n",
            "           1       0.34      0.75      0.47       479\n",
            "           2       0.33      0.26      0.29       440\n",
            "           3       0.00      0.00      0.00       143\n",
            "\n",
            "    accuracy                           0.34      1397\n",
            "   macro avg       0.17      0.25      0.19      1397\n",
            "weighted avg       0.22      0.34      0.25      1397\n",
            "\n"
          ]
        },
        {
          "output_type": "stream",
          "name": "stderr",
          "text": [
            "/usr/local/lib/python3.8/dist-packages/sklearn/metrics/_classification.py:1318: UndefinedMetricWarning: Precision and F-score are ill-defined and being set to 0.0 in labels with no predicted samples. Use `zero_division` parameter to control this behavior.\n",
            "  _warn_prf(average, modifier, msg_start, len(result))\n",
            "/usr/local/lib/python3.8/dist-packages/sklearn/metrics/_classification.py:1318: UndefinedMetricWarning: Precision and F-score are ill-defined and being set to 0.0 in labels with no predicted samples. Use `zero_division` parameter to control this behavior.\n",
            "  _warn_prf(average, modifier, msg_start, len(result))\n",
            "/usr/local/lib/python3.8/dist-packages/sklearn/metrics/_classification.py:1318: UndefinedMetricWarning: Precision and F-score are ill-defined and being set to 0.0 in labels with no predicted samples. Use `zero_division` parameter to control this behavior.\n",
            "  _warn_prf(average, modifier, msg_start, len(result))\n"
          ]
        }
      ]
    },
    {
      "cell_type": "code",
      "source": [
        "import numpy as np\n",
        "from sklearn.pipeline import make_pipeline\n",
        "from sklearn.preprocessing import StandardScaler\n",
        "from sklearn.metrics import classification_report\n",
        "from sklearn.ensemble import GradientBoostingClassifier\n",
        "clf = make_pipeline(StandardScaler(), GradientBoostingClassifier(n_estimators=100, learning_rate=1.0, max_depth=1, random_state=0))\n",
        "clf.fit(embedded_X_train, y_train.iloc[:, 0].values)\n",
        "y_pred = clf.predict(embedded_X_test)\n",
        "print(classification_report(y_test.iloc[:, 0].values, y_pred))"
      ],
      "metadata": {
        "colab": {
          "base_uri": "https://localhost:8080/"
        },
        "id": "fhiuoxoXI9Tb",
        "outputId": "af794ced-a886-4b9d-a3e7-6463e3e95462"
      },
      "execution_count": 69,
      "outputs": [
        {
          "output_type": "stream",
          "name": "stdout",
          "text": [
            "              precision    recall  f1-score   support\n",
            "\n",
            "           0       0.25      0.16      0.19       335\n",
            "           1       0.36      0.47      0.40       479\n",
            "           2       0.32      0.38      0.35       440\n",
            "           3       0.11      0.03      0.05       143\n",
            "\n",
            "    accuracy                           0.32      1397\n",
            "   macro avg       0.26      0.26      0.25      1397\n",
            "weighted avg       0.29      0.32      0.30      1397\n",
            "\n"
          ]
        }
      ]
    },
    {
      "cell_type": "code",
      "source": [],
      "metadata": {
        "id": "_mz35_kqMoer"
      },
      "execution_count": null,
      "outputs": []
    }
  ]
}