{
  "nbformat": 4,
  "nbformat_minor": 0,
  "metadata": {
    "colab": {
      "provenance": [],
      "include_colab_link": true
    },
    "kernelspec": {
      "name": "python3",
      "display_name": "Python 3"
    },
    "language_info": {
      "name": "python"
    },
    "accelerator": "GPU",
    "gpuClass": "standard"
  },
  "cells": [
    {
      "cell_type": "markdown",
      "metadata": {
        "id": "view-in-github",
        "colab_type": "text"
      },
      "source": [
        "<a href=\"https://colab.research.google.com/github/meti-94/CodingQuestions/blob/main/Predictive%20Analysis/Classic%20Classifiers/XGBoost-SVM.ipynb\" target=\"_parent\"><img src=\"https://colab.research.google.com/assets/colab-badge.svg\" alt=\"Open In Colab\"/></a>"
      ]
    },
    {
      "cell_type": "code",
      "source": [
        "!pip install kaggle -q\n",
        "!pip install tensorflow-addons -q"
      ],
      "metadata": {
        "id": "raYYNOzVb6K8"
      },
      "execution_count": null,
      "outputs": []
    },
    {
      "cell_type": "code",
      "source": [
        "from google.colab import drive\n",
        "drive.mount('/content/gdrive/')"
      ],
      "metadata": {
        "colab": {
          "base_uri": "https://localhost:8080/"
        },
        "id": "9cG62nhHpU3W",
        "outputId": "3b04903d-8703-4832-a5d3-ba8f5a19c5c3"
      },
      "execution_count": null,
      "outputs": [
        {
          "output_type": "stream",
          "name": "stdout",
          "text": [
            "Mounted at /content/gdrive/\n"
          ]
        }
      ]
    },
    {
      "cell_type": "code",
      "source": [
        "!mkdir ~/.kaggle\n",
        "!cp /content/gdrive/MyDrive/kaggle.json ~/.kaggle\n",
        "!chmod 600 ~/.kaggle/kaggle.json"
      ],
      "metadata": {
        "id": "Z9tDLgdpqHGk"
      },
      "execution_count": null,
      "outputs": []
    },
    {
      "cell_type": "code",
      "source": [
        "!kaggle datasets download -d williamscott701/memotion-dataset-7k"
      ],
      "metadata": {
        "colab": {
          "base_uri": "https://localhost:8080/"
        },
        "id": "mnm5b08Sq_OB",
        "outputId": "e46905a3-a80f-4775-8206-f6f6bf1bc394"
      },
      "execution_count": null,
      "outputs": [
        {
          "output_type": "stream",
          "name": "stdout",
          "text": [
            "Downloading memotion-dataset-7k.zip to /content\n",
            "100% 695M/695M [00:24<00:00, 34.1MB/s]\n",
            "100% 695M/695M [00:24<00:00, 30.2MB/s]\n"
          ]
        }
      ]
    },
    {
      "cell_type": "code",
      "source": [
        "!unzip -qq /content/memotion-dataset-7k.zip"
      ],
      "metadata": {
        "id": "_Fk9PPiOuhKE"
      },
      "execution_count": null,
      "outputs": []
    },
    {
      "cell_type": "code",
      "source": [
        "import re\n",
        "import string\n",
        "import numpy as np\n",
        "import pandas as pd\n",
        "from tqdm import tqdm\n",
        "import matplotlib.pyplot as plt\n",
        "from sklearn.model_selection import train_test_split\n",
        "\n",
        "import tensorflow as tf\n",
        "from tensorflow.keras import Sequential, Model\n",
        "from tensorflow.keras.layers import Conv2D, MaxPool2D, GlobalAveragePooling2D\n",
        "from tensorflow.keras.layers import Dense, Flatten, BatchNormalization, Activation, Dropout\n",
        "from tensorflow.keras.layers import Conv1D, Embedding, GlobalAveragePooling1D \n",
        "from tensorflow.keras.optimizers import Adam, RMSprop\n",
        "from tensorflow.keras.preprocessing import image\n",
        "from keras.callbacks import EarlyStopping, ModelCheckpoint, ReduceLROnPlateau\n",
        "from PIL import ImageFile, ImageOps\n",
        "ImageFile.LOAD_TRUNCATED_IMAGES = True"
      ],
      "metadata": {
        "id": "RNnUl19Muo4c"
      },
      "execution_count": null,
      "outputs": []
    },
    {
      "cell_type": "code",
      "source": [
        "df = pd.read_csv('/content/memotion_dataset_7k/labels.csv')\n",
        "df.drop(df.columns[df.columns.str.contains('unnamed',case = False)],axis = 1, inplace = True)\n",
        "df = df.drop(columns = ['text_ocr'])\n",
        "df.head()"
      ],
      "metadata": {
        "colab": {
          "base_uri": "https://localhost:8080/",
          "height": 206
        },
        "id": "TGiHlTUIwlKn",
        "outputId": "abad42a2-deae-4e08-b4d6-54d0b1ab281a"
      },
      "execution_count": null,
      "outputs": [
        {
          "output_type": "execute_result",
          "data": {
            "text/plain": [
              "     image_name                                     text_corrected  \\\n",
              "0   image_1.jpg  LOOK THERE MY FRIEND LIGHTYEAR NOW ALL SOHALIK...   \n",
              "1  image_2.jpeg  The best of #10 YearChallenge! Completed in le...   \n",
              "2   image_3.JPG  Sam Thorne @Strippin ( Follow Follow Saw every...   \n",
              "3   image_4.png              10 Year Challenge - Sweet Dee Edition   \n",
              "4   image_5.png  10 YEAR CHALLENGE WITH NO FILTER 47 Hilarious ...   \n",
              "\n",
              "       humour          sarcasm       offensive      motivational  \\\n",
              "0   hilarious          general   not_offensive  not_motivational   \n",
              "1   not_funny          general   not_offensive      motivational   \n",
              "2  very_funny    not_sarcastic   not_offensive  not_motivational   \n",
              "3  very_funny  twisted_meaning  very_offensive      motivational   \n",
              "4   hilarious     very_twisted  very_offensive  not_motivational   \n",
              "\n",
              "  overall_sentiment  \n",
              "0     very_positive  \n",
              "1     very_positive  \n",
              "2          positive  \n",
              "3          positive  \n",
              "4           neutral  "
            ],
            "text/html": [
              "\n",
              "  <div id=\"df-a162daf2-b449-4c2a-a64f-777e70fcbbe5\">\n",
              "    <div class=\"colab-df-container\">\n",
              "      <div>\n",
              "<style scoped>\n",
              "    .dataframe tbody tr th:only-of-type {\n",
              "        vertical-align: middle;\n",
              "    }\n",
              "\n",
              "    .dataframe tbody tr th {\n",
              "        vertical-align: top;\n",
              "    }\n",
              "\n",
              "    .dataframe thead th {\n",
              "        text-align: right;\n",
              "    }\n",
              "</style>\n",
              "<table border=\"1\" class=\"dataframe\">\n",
              "  <thead>\n",
              "    <tr style=\"text-align: right;\">\n",
              "      <th></th>\n",
              "      <th>image_name</th>\n",
              "      <th>text_corrected</th>\n",
              "      <th>humour</th>\n",
              "      <th>sarcasm</th>\n",
              "      <th>offensive</th>\n",
              "      <th>motivational</th>\n",
              "      <th>overall_sentiment</th>\n",
              "    </tr>\n",
              "  </thead>\n",
              "  <tbody>\n",
              "    <tr>\n",
              "      <th>0</th>\n",
              "      <td>image_1.jpg</td>\n",
              "      <td>LOOK THERE MY FRIEND LIGHTYEAR NOW ALL SOHALIK...</td>\n",
              "      <td>hilarious</td>\n",
              "      <td>general</td>\n",
              "      <td>not_offensive</td>\n",
              "      <td>not_motivational</td>\n",
              "      <td>very_positive</td>\n",
              "    </tr>\n",
              "    <tr>\n",
              "      <th>1</th>\n",
              "      <td>image_2.jpeg</td>\n",
              "      <td>The best of #10 YearChallenge! Completed in le...</td>\n",
              "      <td>not_funny</td>\n",
              "      <td>general</td>\n",
              "      <td>not_offensive</td>\n",
              "      <td>motivational</td>\n",
              "      <td>very_positive</td>\n",
              "    </tr>\n",
              "    <tr>\n",
              "      <th>2</th>\n",
              "      <td>image_3.JPG</td>\n",
              "      <td>Sam Thorne @Strippin ( Follow Follow Saw every...</td>\n",
              "      <td>very_funny</td>\n",
              "      <td>not_sarcastic</td>\n",
              "      <td>not_offensive</td>\n",
              "      <td>not_motivational</td>\n",
              "      <td>positive</td>\n",
              "    </tr>\n",
              "    <tr>\n",
              "      <th>3</th>\n",
              "      <td>image_4.png</td>\n",
              "      <td>10 Year Challenge - Sweet Dee Edition</td>\n",
              "      <td>very_funny</td>\n",
              "      <td>twisted_meaning</td>\n",
              "      <td>very_offensive</td>\n",
              "      <td>motivational</td>\n",
              "      <td>positive</td>\n",
              "    </tr>\n",
              "    <tr>\n",
              "      <th>4</th>\n",
              "      <td>image_5.png</td>\n",
              "      <td>10 YEAR CHALLENGE WITH NO FILTER 47 Hilarious ...</td>\n",
              "      <td>hilarious</td>\n",
              "      <td>very_twisted</td>\n",
              "      <td>very_offensive</td>\n",
              "      <td>not_motivational</td>\n",
              "      <td>neutral</td>\n",
              "    </tr>\n",
              "  </tbody>\n",
              "</table>\n",
              "</div>\n",
              "      <button class=\"colab-df-convert\" onclick=\"convertToInteractive('df-a162daf2-b449-4c2a-a64f-777e70fcbbe5')\"\n",
              "              title=\"Convert this dataframe to an interactive table.\"\n",
              "              style=\"display:none;\">\n",
              "        \n",
              "  <svg xmlns=\"http://www.w3.org/2000/svg\" height=\"24px\"viewBox=\"0 0 24 24\"\n",
              "       width=\"24px\">\n",
              "    <path d=\"M0 0h24v24H0V0z\" fill=\"none\"/>\n",
              "    <path d=\"M18.56 5.44l.94 2.06.94-2.06 2.06-.94-2.06-.94-.94-2.06-.94 2.06-2.06.94zm-11 1L8.5 8.5l.94-2.06 2.06-.94-2.06-.94L8.5 2.5l-.94 2.06-2.06.94zm10 10l.94 2.06.94-2.06 2.06-.94-2.06-.94-.94-2.06-.94 2.06-2.06.94z\"/><path d=\"M17.41 7.96l-1.37-1.37c-.4-.4-.92-.59-1.43-.59-.52 0-1.04.2-1.43.59L10.3 9.45l-7.72 7.72c-.78.78-.78 2.05 0 2.83L4 21.41c.39.39.9.59 1.41.59.51 0 1.02-.2 1.41-.59l7.78-7.78 2.81-2.81c.8-.78.8-2.07 0-2.86zM5.41 20L4 18.59l7.72-7.72 1.47 1.35L5.41 20z\"/>\n",
              "  </svg>\n",
              "      </button>\n",
              "      \n",
              "  <style>\n",
              "    .colab-df-container {\n",
              "      display:flex;\n",
              "      flex-wrap:wrap;\n",
              "      gap: 12px;\n",
              "    }\n",
              "\n",
              "    .colab-df-convert {\n",
              "      background-color: #E8F0FE;\n",
              "      border: none;\n",
              "      border-radius: 50%;\n",
              "      cursor: pointer;\n",
              "      display: none;\n",
              "      fill: #1967D2;\n",
              "      height: 32px;\n",
              "      padding: 0 0 0 0;\n",
              "      width: 32px;\n",
              "    }\n",
              "\n",
              "    .colab-df-convert:hover {\n",
              "      background-color: #E2EBFA;\n",
              "      box-shadow: 0px 1px 2px rgba(60, 64, 67, 0.3), 0px 1px 3px 1px rgba(60, 64, 67, 0.15);\n",
              "      fill: #174EA6;\n",
              "    }\n",
              "\n",
              "    [theme=dark] .colab-df-convert {\n",
              "      background-color: #3B4455;\n",
              "      fill: #D2E3FC;\n",
              "    }\n",
              "\n",
              "    [theme=dark] .colab-df-convert:hover {\n",
              "      background-color: #434B5C;\n",
              "      box-shadow: 0px 1px 3px 1px rgba(0, 0, 0, 0.15);\n",
              "      filter: drop-shadow(0px 1px 2px rgba(0, 0, 0, 0.3));\n",
              "      fill: #FFFFFF;\n",
              "    }\n",
              "  </style>\n",
              "\n",
              "      <script>\n",
              "        const buttonEl =\n",
              "          document.querySelector('#df-a162daf2-b449-4c2a-a64f-777e70fcbbe5 button.colab-df-convert');\n",
              "        buttonEl.style.display =\n",
              "          google.colab.kernel.accessAllowed ? 'block' : 'none';\n",
              "\n",
              "        async function convertToInteractive(key) {\n",
              "          const element = document.querySelector('#df-a162daf2-b449-4c2a-a64f-777e70fcbbe5');\n",
              "          const dataTable =\n",
              "            await google.colab.kernel.invokeFunction('convertToInteractive',\n",
              "                                                     [key], {});\n",
              "          if (!dataTable) return;\n",
              "\n",
              "          const docLinkHtml = 'Like what you see? Visit the ' +\n",
              "            '<a target=\"_blank\" href=https://colab.research.google.com/notebooks/data_table.ipynb>data table notebook</a>'\n",
              "            + ' to learn more about interactive tables.';\n",
              "          element.innerHTML = '';\n",
              "          dataTable['output_type'] = 'display_data';\n",
              "          await google.colab.output.renderOutput(dataTable, element);\n",
              "          const docLink = document.createElement('div');\n",
              "          docLink.innerHTML = docLinkHtml;\n",
              "          element.appendChild(docLink);\n",
              "        }\n",
              "      </script>\n",
              "    </div>\n",
              "  </div>\n",
              "  "
            ]
          },
          "metadata": {},
          "execution_count": 7
        }
      ]
    },
    {
      "cell_type": "code",
      "source": [
        "full_df = df.copy()\n",
        "full_df.isnull().any()"
      ],
      "metadata": {
        "colab": {
          "base_uri": "https://localhost:8080/"
        },
        "id": "GKbHIH9FxC-c",
        "outputId": "dc9c6527-6209-4b7c-d73a-9b84f8a97d53"
      },
      "execution_count": null,
      "outputs": [
        {
          "output_type": "execute_result",
          "data": {
            "text/plain": [
              "image_name           False\n",
              "text_corrected        True\n",
              "humour               False\n",
              "sarcasm              False\n",
              "offensive            False\n",
              "motivational         False\n",
              "overall_sentiment    False\n",
              "dtype: bool"
            ]
          },
          "metadata": {},
          "execution_count": 8
        }
      ]
    },
    {
      "cell_type": "code",
      "source": [
        "clean_df = df.copy()\n",
        "clean_df.dropna(inplace=True)\n",
        "clean_df.isnull().any()"
      ],
      "metadata": {
        "colab": {
          "base_uri": "https://localhost:8080/"
        },
        "id": "5W1XiWr7xJmf",
        "outputId": "5592a1ca-4f23-4ccb-8ab8-8dafdd24cd4f"
      },
      "execution_count": null,
      "outputs": [
        {
          "output_type": "execute_result",
          "data": {
            "text/plain": [
              "image_name           False\n",
              "text_corrected       False\n",
              "humour               False\n",
              "sarcasm              False\n",
              "offensive            False\n",
              "motivational         False\n",
              "overall_sentiment    False\n",
              "dtype: bool"
            ]
          },
          "metadata": {},
          "execution_count": 9
        }
      ]
    },
    {
      "cell_type": "code",
      "source": [
        "df = df.replace({'humour': {'not_funny': 0, 'funny': 1, 'very_funny': 2, 'hilarious':3},\n",
        "            'sarcasm': {'not_sarcastic': 0, 'general': 1, 'twisted_meaning': 2, 'very_twisted': 3},\n",
        "            'offensive': {'not_offensive': 0, 'slight': 1, 'very_offensive': 2, 'hateful_offensive': 3},\n",
        "            'motivational': {'not_motivational': 0, 'motivational': 1},\n",
        "            'overall_sentiment': {'very_negative': 0, 'negative': 1, 'neutral': 2, 'positive': 3, 'very_positive': 4}})"
      ],
      "metadata": {
        "id": "1WVYtKdHxNac"
      },
      "execution_count": null,
      "outputs": []
    },
    {
      "cell_type": "code",
      "source": [
        "width = 100\n",
        "height = 100\n",
        "X_full = []\n",
        "X_full_path = []\n",
        "for i in tqdm(range(full_df.shape[0])):\n",
        "    path = '/content/memotion_dataset_7k/images/'+full_df['image_name'][i]\n",
        "    img = image.load_img(path,target_size=(width,height,3))\n",
        "    img = image.img_to_array(img)\n",
        "    img = img/255.0\n",
        "    X_full.append(img)\n",
        "    X_full_path.append(path)"
      ],
      "metadata": {
        "colab": {
          "base_uri": "https://localhost:8080/"
        },
        "id": "CwtfftOAxWod",
        "outputId": "c91a21b4-c430-4328-d732-b1a885a004d1"
      },
      "execution_count": null,
      "outputs": [
        {
          "output_type": "stream",
          "name": "stderr",
          "text": [
            " 93%|█████████▎| 6499/6992 [00:46<00:04, 112.77it/s]/usr/local/lib/python3.8/dist-packages/PIL/TiffImagePlugin.py:788: UserWarning: Corrupt EXIF data.  Expecting to read 2 bytes but only got 0. \n",
            "  warnings.warn(str(msg))\n",
            " 95%|█████████▌| 6662/6992 [00:47<00:01, 169.90it/s]/usr/local/lib/python3.8/dist-packages/PIL/Image.py:959: UserWarning: Palette images with Transparency expressed in bytes should be converted to RGBA images\n",
            "  warnings.warn(\n",
            "100%|██████████| 6992/6992 [00:49<00:00, 139.96it/s]\n"
          ]
        }
      ]
    },
    {
      "cell_type": "code",
      "source": [
        "width = 100\n",
        "height = 100\n",
        "X_cleaned = []\n",
        "X_cleaned_path = []\n",
        "for i in tqdm(range(clean_df.shape[0])):\n",
        "    if i in [119, 4799, 6781, 6784, 6786]:\n",
        "        pass\n",
        "    else:\n",
        "        path = '/content/memotion_dataset_7k/images/'+clean_df['image_name'][i]\n",
        "        img = image.load_img(path,target_size=(width,height,3))\n",
        "        img = image.img_to_array(img)\n",
        "        img = img/255.0\n",
        "        X_cleaned.append(img)\n",
        "        X_cleaned_path.append(path)"
      ],
      "metadata": {
        "colab": {
          "base_uri": "https://localhost:8080/"
        },
        "id": "mL_GTxTzxdOA",
        "outputId": "d371df9d-237f-4d0d-c3c6-8a06fc6f615c"
      },
      "execution_count": null,
      "outputs": [
        {
          "output_type": "stream",
          "name": "stderr",
          "text": [
            "100%|██████████| 6987/6987 [00:45<00:00, 154.83it/s]\n"
          ]
        }
      ]
    },
    {
      "cell_type": "code",
      "source": [
        "deleted_paths = [paths for paths in X_full_path + X_cleaned_path if paths not in X_full_path or paths not in X_cleaned_path]\n",
        "deleted_paths"
      ],
      "metadata": {
        "colab": {
          "base_uri": "https://localhost:8080/"
        },
        "id": "4APwz6fZyEwY",
        "outputId": "c71e35b3-6903-43d4-b7f7-c8a862f82793"
      },
      "execution_count": null,
      "outputs": [
        {
          "output_type": "execute_result",
          "data": {
            "text/plain": [
              "['/content/memotion_dataset_7k/images/image_120.jpg',\n",
              " '/content/memotion_dataset_7k/images/image_4800.jpg',\n",
              " '/content/memotion_dataset_7k/images/image_6782.jpg',\n",
              " '/content/memotion_dataset_7k/images/image_6785.jpg',\n",
              " '/content/memotion_dataset_7k/images/image_6787.jpg',\n",
              " '/content/memotion_dataset_7k/images/image_6988.jpg',\n",
              " '/content/memotion_dataset_7k/images/image_6989.jpg',\n",
              " '/content/memotion_dataset_7k/images/image_6990.png',\n",
              " '/content/memotion_dataset_7k/images/image_6991.jpg',\n",
              " '/content/memotion_dataset_7k/images/image_6992.jpg']"
            ]
          },
          "metadata": {},
          "execution_count": 13
        }
      ]
    },
    {
      "cell_type": "code",
      "source": [
        "delete_var = [full_df, clean_df, X_cleaned, X_full, X_cleaned_path, X_full_path]\n",
        "for i in delete_var:\n",
        "    del i"
      ],
      "metadata": {
        "id": "xba75I_IyL_e"
      },
      "execution_count": null,
      "outputs": []
    },
    {
      "cell_type": "code",
      "source": [
        "width = 100\n",
        "height = 100\n",
        "X = []\n",
        "for i in tqdm(range(clean_df.shape[0])):\n",
        "    if i in [119, 4799, 6781, 6784, 6786]:\n",
        "        pass\n",
        "    else:\n",
        "        path = '/content/memotion_dataset_7k/images/'+clean_df['image_name'][i]\n",
        "        img = image.load_img(path,target_size=(width,height,3))\n",
        "        img = image.img_to_array(img)\n",
        "        img = img/255.0\n",
        "        X.append(img)"
      ],
      "metadata": {
        "colab": {
          "base_uri": "https://localhost:8080/"
        },
        "id": "E0slxn-lyX3L",
        "outputId": "8ecd5440-c14a-4dba-e3e7-7e8c49cb8255"
      },
      "execution_count": null,
      "outputs": [
        {
          "output_type": "stream",
          "name": "stderr",
          "text": [
            "100%|██████████| 6987/6987 [00:46<00:00, 149.71it/s]\n"
          ]
        }
      ]
    },
    {
      "cell_type": "code",
      "source": [
        "X = np.array(X)"
      ],
      "metadata": {
        "id": "K-l6zWvHybF4"
      },
      "execution_count": null,
      "outputs": []
    },
    {
      "cell_type": "code",
      "source": [
        "X.shape"
      ],
      "metadata": {
        "colab": {
          "base_uri": "https://localhost:8080/"
        },
        "id": "jwfbi-UMy1WE",
        "outputId": "39ede3b7-2db3-4dc5-93a3-2eddcbbfb7a5"
      },
      "execution_count": null,
      "outputs": [
        {
          "output_type": "execute_result",
          "data": {
            "text/plain": [
              "(6982, 100, 100, 3)"
            ]
          },
          "metadata": {},
          "execution_count": 17
        }
      ]
    },
    {
      "cell_type": "code",
      "source": [
        "rows_to_drop = ['image_120.jpg',\n",
        "              'image_4800.jpg',\n",
        "              'image_6782.jpg',\n",
        "              'image_6785.jpg',\n",
        "              'image_6787.jpg',\n",
        "              'image_6988.jpg',\n",
        "              'image_6989.jpg',\n",
        "              'image_6990.png',\n",
        "              'image_6991.jpg',\n",
        "              'image_6992.jpg']"
      ],
      "metadata": {
        "id": "YXijFzloy4eh"
      },
      "execution_count": null,
      "outputs": []
    },
    {
      "cell_type": "code",
      "source": [
        "cleaner_df = df\n",
        "cleaner_df.head()"
      ],
      "metadata": {
        "colab": {
          "base_uri": "https://localhost:8080/",
          "height": 206
        },
        "id": "hDJJianFy6Vu",
        "outputId": "925d32b3-b00c-4dfb-cc5d-c59cc92ee866"
      },
      "execution_count": null,
      "outputs": [
        {
          "output_type": "execute_result",
          "data": {
            "text/plain": [
              "     image_name                                     text_corrected  humour  \\\n",
              "0   image_1.jpg  LOOK THERE MY FRIEND LIGHTYEAR NOW ALL SOHALIK...       3   \n",
              "1  image_2.jpeg  The best of #10 YearChallenge! Completed in le...       0   \n",
              "2   image_3.JPG  Sam Thorne @Strippin ( Follow Follow Saw every...       2   \n",
              "3   image_4.png              10 Year Challenge - Sweet Dee Edition       2   \n",
              "4   image_5.png  10 YEAR CHALLENGE WITH NO FILTER 47 Hilarious ...       3   \n",
              "\n",
              "   sarcasm  offensive  motivational  overall_sentiment  \n",
              "0        1          0             0                  4  \n",
              "1        1          0             1                  4  \n",
              "2        0          0             0                  3  \n",
              "3        2          2             1                  3  \n",
              "4        3          2             0                  2  "
            ],
            "text/html": [
              "\n",
              "  <div id=\"df-0f60b233-e4f1-4a6c-8528-2305117bf2d9\">\n",
              "    <div class=\"colab-df-container\">\n",
              "      <div>\n",
              "<style scoped>\n",
              "    .dataframe tbody tr th:only-of-type {\n",
              "        vertical-align: middle;\n",
              "    }\n",
              "\n",
              "    .dataframe tbody tr th {\n",
              "        vertical-align: top;\n",
              "    }\n",
              "\n",
              "    .dataframe thead th {\n",
              "        text-align: right;\n",
              "    }\n",
              "</style>\n",
              "<table border=\"1\" class=\"dataframe\">\n",
              "  <thead>\n",
              "    <tr style=\"text-align: right;\">\n",
              "      <th></th>\n",
              "      <th>image_name</th>\n",
              "      <th>text_corrected</th>\n",
              "      <th>humour</th>\n",
              "      <th>sarcasm</th>\n",
              "      <th>offensive</th>\n",
              "      <th>motivational</th>\n",
              "      <th>overall_sentiment</th>\n",
              "    </tr>\n",
              "  </thead>\n",
              "  <tbody>\n",
              "    <tr>\n",
              "      <th>0</th>\n",
              "      <td>image_1.jpg</td>\n",
              "      <td>LOOK THERE MY FRIEND LIGHTYEAR NOW ALL SOHALIK...</td>\n",
              "      <td>3</td>\n",
              "      <td>1</td>\n",
              "      <td>0</td>\n",
              "      <td>0</td>\n",
              "      <td>4</td>\n",
              "    </tr>\n",
              "    <tr>\n",
              "      <th>1</th>\n",
              "      <td>image_2.jpeg</td>\n",
              "      <td>The best of #10 YearChallenge! Completed in le...</td>\n",
              "      <td>0</td>\n",
              "      <td>1</td>\n",
              "      <td>0</td>\n",
              "      <td>1</td>\n",
              "      <td>4</td>\n",
              "    </tr>\n",
              "    <tr>\n",
              "      <th>2</th>\n",
              "      <td>image_3.JPG</td>\n",
              "      <td>Sam Thorne @Strippin ( Follow Follow Saw every...</td>\n",
              "      <td>2</td>\n",
              "      <td>0</td>\n",
              "      <td>0</td>\n",
              "      <td>0</td>\n",
              "      <td>3</td>\n",
              "    </tr>\n",
              "    <tr>\n",
              "      <th>3</th>\n",
              "      <td>image_4.png</td>\n",
              "      <td>10 Year Challenge - Sweet Dee Edition</td>\n",
              "      <td>2</td>\n",
              "      <td>2</td>\n",
              "      <td>2</td>\n",
              "      <td>1</td>\n",
              "      <td>3</td>\n",
              "    </tr>\n",
              "    <tr>\n",
              "      <th>4</th>\n",
              "      <td>image_5.png</td>\n",
              "      <td>10 YEAR CHALLENGE WITH NO FILTER 47 Hilarious ...</td>\n",
              "      <td>3</td>\n",
              "      <td>3</td>\n",
              "      <td>2</td>\n",
              "      <td>0</td>\n",
              "      <td>2</td>\n",
              "    </tr>\n",
              "  </tbody>\n",
              "</table>\n",
              "</div>\n",
              "      <button class=\"colab-df-convert\" onclick=\"convertToInteractive('df-0f60b233-e4f1-4a6c-8528-2305117bf2d9')\"\n",
              "              title=\"Convert this dataframe to an interactive table.\"\n",
              "              style=\"display:none;\">\n",
              "        \n",
              "  <svg xmlns=\"http://www.w3.org/2000/svg\" height=\"24px\"viewBox=\"0 0 24 24\"\n",
              "       width=\"24px\">\n",
              "    <path d=\"M0 0h24v24H0V0z\" fill=\"none\"/>\n",
              "    <path d=\"M18.56 5.44l.94 2.06.94-2.06 2.06-.94-2.06-.94-.94-2.06-.94 2.06-2.06.94zm-11 1L8.5 8.5l.94-2.06 2.06-.94-2.06-.94L8.5 2.5l-.94 2.06-2.06.94zm10 10l.94 2.06.94-2.06 2.06-.94-2.06-.94-.94-2.06-.94 2.06-2.06.94z\"/><path d=\"M17.41 7.96l-1.37-1.37c-.4-.4-.92-.59-1.43-.59-.52 0-1.04.2-1.43.59L10.3 9.45l-7.72 7.72c-.78.78-.78 2.05 0 2.83L4 21.41c.39.39.9.59 1.41.59.51 0 1.02-.2 1.41-.59l7.78-7.78 2.81-2.81c.8-.78.8-2.07 0-2.86zM5.41 20L4 18.59l7.72-7.72 1.47 1.35L5.41 20z\"/>\n",
              "  </svg>\n",
              "      </button>\n",
              "      \n",
              "  <style>\n",
              "    .colab-df-container {\n",
              "      display:flex;\n",
              "      flex-wrap:wrap;\n",
              "      gap: 12px;\n",
              "    }\n",
              "\n",
              "    .colab-df-convert {\n",
              "      background-color: #E8F0FE;\n",
              "      border: none;\n",
              "      border-radius: 50%;\n",
              "      cursor: pointer;\n",
              "      display: none;\n",
              "      fill: #1967D2;\n",
              "      height: 32px;\n",
              "      padding: 0 0 0 0;\n",
              "      width: 32px;\n",
              "    }\n",
              "\n",
              "    .colab-df-convert:hover {\n",
              "      background-color: #E2EBFA;\n",
              "      box-shadow: 0px 1px 2px rgba(60, 64, 67, 0.3), 0px 1px 3px 1px rgba(60, 64, 67, 0.15);\n",
              "      fill: #174EA6;\n",
              "    }\n",
              "\n",
              "    [theme=dark] .colab-df-convert {\n",
              "      background-color: #3B4455;\n",
              "      fill: #D2E3FC;\n",
              "    }\n",
              "\n",
              "    [theme=dark] .colab-df-convert:hover {\n",
              "      background-color: #434B5C;\n",
              "      box-shadow: 0px 1px 3px 1px rgba(0, 0, 0, 0.15);\n",
              "      filter: drop-shadow(0px 1px 2px rgba(0, 0, 0, 0.3));\n",
              "      fill: #FFFFFF;\n",
              "    }\n",
              "  </style>\n",
              "\n",
              "      <script>\n",
              "        const buttonEl =\n",
              "          document.querySelector('#df-0f60b233-e4f1-4a6c-8528-2305117bf2d9 button.colab-df-convert');\n",
              "        buttonEl.style.display =\n",
              "          google.colab.kernel.accessAllowed ? 'block' : 'none';\n",
              "\n",
              "        async function convertToInteractive(key) {\n",
              "          const element = document.querySelector('#df-0f60b233-e4f1-4a6c-8528-2305117bf2d9');\n",
              "          const dataTable =\n",
              "            await google.colab.kernel.invokeFunction('convertToInteractive',\n",
              "                                                     [key], {});\n",
              "          if (!dataTable) return;\n",
              "\n",
              "          const docLinkHtml = 'Like what you see? Visit the ' +\n",
              "            '<a target=\"_blank\" href=https://colab.research.google.com/notebooks/data_table.ipynb>data table notebook</a>'\n",
              "            + ' to learn more about interactive tables.';\n",
              "          element.innerHTML = '';\n",
              "          dataTable['output_type'] = 'display_data';\n",
              "          await google.colab.output.renderOutput(dataTable, element);\n",
              "          const docLink = document.createElement('div');\n",
              "          docLink.innerHTML = docLinkHtml;\n",
              "          element.appendChild(docLink);\n",
              "        }\n",
              "      </script>\n",
              "    </div>\n",
              "  </div>\n",
              "  "
            ]
          },
          "metadata": {},
          "execution_count": 19
        }
      ]
    },
    {
      "cell_type": "code",
      "source": [
        "for images in rows_to_drop:\n",
        "    cleaner_df.drop(cleaner_df[cleaner_df['image_name'] == images].index, inplace=True)"
      ],
      "metadata": {
        "id": "ry3qAbMCy8Oi"
      },
      "execution_count": null,
      "outputs": []
    },
    {
      "cell_type": "code",
      "source": [
        "len(cleaner_df)"
      ],
      "metadata": {
        "id": "Q1zlrEqXepUg",
        "outputId": "f3981e6d-0e2f-416e-f6ba-7b00cbc46faa",
        "colab": {
          "base_uri": "https://localhost:8080/"
        }
      },
      "execution_count": null,
      "outputs": [
        {
          "output_type": "execute_result",
          "data": {
            "text/plain": [
              "6982"
            ]
          },
          "metadata": {},
          "execution_count": 21
        }
      ]
    },
    {
      "cell_type": "code",
      "source": [
        "cleaner_df.shape"
      ],
      "metadata": {
        "colab": {
          "base_uri": "https://localhost:8080/"
        },
        "id": "9mpgoTcLy-CU",
        "outputId": "bdc13c83-6561-422c-e2ef-ca84314ce91a"
      },
      "execution_count": null,
      "outputs": [
        {
          "output_type": "execute_result",
          "data": {
            "text/plain": [
              "(6982, 7)"
            ]
          },
          "metadata": {},
          "execution_count": 22
        }
      ]
    },
    {
      "cell_type": "code",
      "source": [
        "np.save('image_array', X)"
      ],
      "metadata": {
        "id": "qojP8mnDzAJy"
      },
      "execution_count": null,
      "outputs": []
    },
    {
      "cell_type": "code",
      "source": [
        "Y = cleaner_df.iloc[:,2:]\n",
        "Y.shape"
      ],
      "metadata": {
        "colab": {
          "base_uri": "https://localhost:8080/"
        },
        "id": "bUAjE6hmzCrx",
        "outputId": "c2bb11fa-d75f-4e24-90c8-424a4f923513"
      },
      "execution_count": null,
      "outputs": [
        {
          "output_type": "execute_result",
          "data": {
            "text/plain": [
              "(6982, 5)"
            ]
          },
          "metadata": {},
          "execution_count": 24
        }
      ]
    },
    {
      "cell_type": "code",
      "source": [
        "X.shape, Y.shape"
      ],
      "metadata": {
        "id": "1wKOZgLbe38H",
        "outputId": "f1bd9053-be83-409b-cc75-ae4fc6ea20ef",
        "colab": {
          "base_uri": "https://localhost:8080/"
        }
      },
      "execution_count": null,
      "outputs": [
        {
          "output_type": "execute_result",
          "data": {
            "text/plain": [
              "((6982, 100, 100, 3), (6982, 5))"
            ]
          },
          "metadata": {},
          "execution_count": 25
        }
      ]
    },
    {
      "cell_type": "code",
      "source": [
        "data_augmentation = tf.keras.Sequential([\n",
        "  tf.keras.layers.experimental.preprocessing.RandomFlip('horizontal'),\n",
        "  tf.keras.layers.experimental.preprocessing.RandomRotation(0.2),\n",
        "])\n",
        "\n",
        "preprocess_input = tf.keras.applications.resnet_v2.preprocess_input\n",
        "\n",
        "rescale = tf.keras.layers.experimental.preprocessing.Rescaling(1./127.5, offset= -1)"
      ],
      "metadata": {
        "id": "b1uaUTOXzGFc"
      },
      "execution_count": null,
      "outputs": []
    },
    {
      "cell_type": "code",
      "source": [
        "base_model_1 = tf.keras.applications.ResNet50(input_shape=X[0].shape,\n",
        "                                               include_top=False,\n",
        "                                               weights='imagenet')\n",
        "base_model_2 = tf.keras.applications.VGG16(input_shape=X[0].shape,\n",
        "                                               include_top=False,\n",
        "                                               weights='imagenet')"
      ],
      "metadata": {
        "colab": {
          "base_uri": "https://localhost:8080/"
        },
        "id": "TNRplYElz5Lc",
        "outputId": "8d8c590b-b420-4e54-d7e7-7386aec85ae3"
      },
      "execution_count": null,
      "outputs": [
        {
          "output_type": "stream",
          "name": "stdout",
          "text": [
            "Downloading data from https://storage.googleapis.com/tensorflow/keras-applications/resnet/resnet50_weights_tf_dim_ordering_tf_kernels_notop.h5\n",
            "94765736/94765736 [==============================] - 4s 0us/step\n",
            "Downloading data from https://storage.googleapis.com/tensorflow/keras-applications/vgg16/vgg16_weights_tf_dim_ordering_tf_kernels_notop.h5\n",
            "58889256/58889256 [==============================] - 2s 0us/step\n"
          ]
        }
      ]
    },
    {
      "cell_type": "code",
      "source": [
        "base_model_1.trainable = False\n",
        "base_model_2.trainable = False"
      ],
      "metadata": {
        "id": "mtDuk0vpz7WZ"
      },
      "execution_count": null,
      "outputs": []
    },
    {
      "cell_type": "code",
      "source": [
        "global_average_layer = GlobalAveragePooling2D()"
      ],
      "metadata": {
        "id": "mtx1fqoLz_YP"
      },
      "execution_count": null,
      "outputs": []
    },
    {
      "cell_type": "code",
      "source": [
        "X_train, X_test, y_train, y_test = train_test_split(X, Y, test_size = 0.2)"
      ],
      "metadata": {
        "id": "lNKd_YaJ0A7_"
      },
      "execution_count": null,
      "outputs": []
    },
    {
      "cell_type": "code",
      "source": [
        "del X"
      ],
      "metadata": {
        "id": "nYWHmXtX0CyD"
      },
      "execution_count": null,
      "outputs": []
    },
    {
      "cell_type": "code",
      "source": [
        "image_input = tf.keras.Input(shape=(100, 100, 3), name = 'image_input')\n",
        "iamge_layers = data_augmentation(image_input)\n",
        "iamge_layers = preprocess_input(iamge_layers)\n",
        "layer_bm_1 = base_model_1(image_input, training=False)\n",
        "layer_bm_1 = Conv2D(2048, kernel_size=2,padding='valid')(layer_bm_1)\n",
        "layer_bm_1 = Dense(512)(layer_bm_1)\n",
        "layer_bm_2 = base_model_2(image_input, training=False)\n",
        "layer_bm_2 = Dense(512)(layer_bm_2)\n",
        "layers = tf.keras.layers.concatenate([layer_bm_1, layer_bm_2])\n",
        "iamge_layers = global_average_layer(layer_bm_1)\n",
        "image_layers = Dropout(0.2, name = 'dropout_layer')(iamge_layers)"
      ],
      "metadata": {
        "id": "DpIzL9FQ0Ej1"
      },
      "execution_count": null,
      "outputs": []
    },
    {
      "cell_type": "code",
      "source": [
        "cleaner_df.shape"
      ],
      "metadata": {
        "id": "xeYHhzn_fGGK",
        "outputId": "83424ed0-843c-4ee7-92e0-7687f3621c8b",
        "colab": {
          "base_uri": "https://localhost:8080/"
        }
      },
      "execution_count": null,
      "outputs": [
        {
          "output_type": "execute_result",
          "data": {
            "text/plain": [
              "(6982, 7)"
            ]
          },
          "metadata": {},
          "execution_count": 33
        }
      ]
    },
    {
      "cell_type": "code",
      "source": [
        "def standardization(data):\n",
        "    data = data.apply(lambda x: x.lower())\n",
        "    data = data.apply(lambda x: re.sub(r'\\d+', '', x))\n",
        "    data = data.apply(lambda x: re.sub(r'.com', '', x, flags=re.MULTILINE))\n",
        "    data = data.apply(lambda x: x.translate(str.maketrans('', '', string.punctuation)))\n",
        "    return data\n",
        "\n",
        "df['text_corrected'] = standardization(cleaner_df.text_corrected)"
      ],
      "metadata": {
        "id": "cWCC69BM0GjT"
      },
      "execution_count": null,
      "outputs": []
    },
    {
      "cell_type": "code",
      "source": [
        "X_text_train, X_text_test, y_text_train, y_text_test = train_test_split(cleaner_df.text_corrected, Y, test_size = 0.2, random_state=42)"
      ],
      "metadata": {
        "id": "nO5ujqxHfWIU"
      },
      "execution_count": null,
      "outputs": []
    },
    {
      "cell_type": "code",
      "source": [
        "X_text_train"
      ],
      "metadata": {
        "id": "i6rIwoxXfZAt",
        "outputId": "c197cabd-21af-4912-f7f7-585e3c01acce",
        "colab": {
          "base_uri": "https://localhost:8080/"
        }
      },
      "execution_count": null,
      "outputs": [
        {
          "output_type": "execute_result",
          "data": {
            "text/plain": [
              "6568      how much money mark zuckerberg gave out imgflip\n",
              "4004    crypto experts choose crypto investments based...\n",
              "1011    me throwing away all the leonardo dicaprio mem...\n",
              "4618    texan man searching for supplies and dry land ...\n",
              "932     keep calm and use duct tape if you cant fix it...\n",
              "                              ...                        \n",
              "3773           let me tell you why thats bullshit imgflip\n",
              "5193    and thats how mafia works the godfather mobile...\n",
              "5228                              huh so babies cant swim\n",
              "5392    leonard hofstadter a guy who actually made it ...\n",
              "861     if you dont like me because im country just re...\n",
              "Name: text_corrected, Length: 5585, dtype: object"
            ]
          },
          "metadata": {},
          "execution_count": 36
        }
      ]
    },
    {
      "cell_type": "code",
      "source": [
        "from tensorflow.keras.layers.experimental.preprocessing import TextVectorization\n",
        "vocab_size = 10000\n",
        "sequence_length = 100\n",
        "\n",
        "vectorize_layer = TextVectorization(\n",
        "    max_tokens=vocab_size,\n",
        "    output_mode='int',\n",
        "    output_sequence_length=sequence_length)\n",
        "\n",
        "text_ds = np.asarray(X_text_train)\n",
        "vectorize_layer.adapt(tf.convert_to_tensor(text_ds))"
      ],
      "metadata": {
        "id": "i_JY2EFy0ORX"
      },
      "execution_count": null,
      "outputs": []
    },
    {
      "cell_type": "code",
      "source": [
        "embedding_dim=16\n",
        "\n",
        "text_input = tf.keras.Input(shape=(1,), dtype=tf.string, name='text')\n",
        "text_layers = vectorize_layer(text_input)\n",
        "text_layers = tf.keras.layers.Embedding(vocab_size, embedding_dim, name=\"embedding\")(text_layers)\n",
        "text_layers = tf.keras.layers.Dropout(0.5)(text_layers)\n",
        "\n",
        "text_layers = tf.keras.layers.Bidirectional(tf.keras.layers.LSTM(256, activation='relu', return_sequences=True))(text_layers)\n",
        "\n",
        "text_layers = tf.keras.layers.Conv1D(128, 7, padding=\"valid\", activation=\"relu\", strides=3)(text_layers)\n",
        "text_layers = tf.keras.layers.Conv1D(128, 7, padding=\"valid\", activation=\"relu\", strides=3)(text_layers)\n",
        "text_layers = tf.keras.layers.GlobalMaxPooling1D()(text_layers)\n",
        "\n",
        "# We add a vanilla hidden layer:\n",
        "text_layers = tf.keras.layers.Dense(2048, activation=\"relu\")(text_layers)\n",
        "text_layers = tf.keras.layers.Dropout(0.5)(text_layers)"
      ],
      "metadata": {
        "colab": {
          "base_uri": "https://localhost:8080/"
        },
        "id": "4B1_PP1C0Vwb",
        "outputId": "72a6dc45-9758-4b59-a78f-e6c7f8e2009d"
      },
      "execution_count": null,
      "outputs": [
        {
          "output_type": "stream",
          "name": "stderr",
          "text": [
            "WARNING:tensorflow:Layer lstm will not use cuDNN kernels since it doesn't meet the criteria. It will use a generic GPU kernel as fallback when running on GPU.\n",
            "WARNING:tensorflow:Layer lstm will not use cuDNN kernels since it doesn't meet the criteria. It will use a generic GPU kernel as fallback when running on GPU.\n",
            "WARNING:tensorflow:Layer lstm will not use cuDNN kernels since it doesn't meet the criteria. It will use a generic GPU kernel as fallback when running on GPU.\n"
          ]
        }
      ]
    },
    {
      "cell_type": "code",
      "source": [
        "concatenate = tf.keras.layers.concatenate([image_layers, text_layers], axis=1)"
      ],
      "metadata": {
        "id": "7X19Eojv0Yx8"
      },
      "execution_count": null,
      "outputs": []
    },
    {
      "cell_type": "code",
      "source": [
        "overall_layer = tf.keras.layers.Dense(2048, activation='softmax')(concatenate)"
      ],
      "metadata": {
        "id": "VNEzQOBr5F2f"
      },
      "execution_count": null,
      "outputs": []
    },
    {
      "cell_type": "code",
      "source": [
        "prediction_layer_1 = tf.keras.layers.Dense(4, activation='softmax', name = 'sarcasm')\n",
        "prediction_layer_2 = tf.keras.layers.Dense(4, activation='softmax', name = 'humuor')\n",
        "prediction_layer_3 = tf.keras.layers.Dense(4, activation='softmax', name = 'offensive')\n",
        "prediction_layer_4 = tf.keras.layers.Dense(1, activation='sigmoid', name = 'motivational')\n",
        "prediction_layer_5 = tf.keras.layers.Dense(5, activation='softmax', name = 'overall')"
      ],
      "metadata": {
        "id": "fP4QbPvU5I83"
      },
      "execution_count": null,
      "outputs": []
    },
    {
      "cell_type": "code",
      "source": [
        "output_1 = prediction_layer_1(overall_layer)\n",
        "output_2 = prediction_layer_2(overall_layer)\n",
        "output_3 = prediction_layer_3(overall_layer)\n",
        "output_4 = prediction_layer_4(overall_layer)\n",
        "output_5 = prediction_layer_5(overall_layer)\n",
        "model = tf.keras.Model(inputs = [image_input, text_input] , outputs = [output_1, output_2, output_3, output_4, output_5])"
      ],
      "metadata": {
        "id": "pPHbRiUl5LGX"
      },
      "execution_count": null,
      "outputs": []
    },
    {
      "cell_type": "code",
      "source": [
        "import tensorflow_addons as tfa"
      ],
      "metadata": {
        "id": "Dph15KHU5PuH"
      },
      "execution_count": null,
      "outputs": []
    },
    {
      "cell_type": "code",
      "source": [
        "base_learning_rate = 0.01\n",
        "losses = {\n",
        "      \"humuor\": tf.keras.losses.SparseCategoricalCrossentropy(from_logits=True), \n",
        "      \"sarcasm\": tf.keras.losses.SparseCategoricalCrossentropy(from_logits=True), \n",
        "      \"offensive\": tf.keras.losses.SparseCategoricalCrossentropy(from_logits=True), \n",
        "      \"motivational\": tf.keras.losses.BinaryCrossentropy(from_logits=False),\n",
        "      \"overall\": tf.keras.losses.SparseCategoricalCrossentropy(from_logits=True)\n",
        "}\n",
        "lossWeights = {\n",
        "      \"humuor\": 1.0, \n",
        "      \"sarcasm\": 1.0, \n",
        "      \"offensive\": 1.0, \n",
        "      \"motivational\": 1.0,\n",
        "      \"overall\": 1.0\n",
        "}\n",
        "metric = {\n",
        "    \"humuor\": ['acc',tfa.metrics.F1Score(num_classes=4, average=\"micro\", threshold = 0.9)],\n",
        "    \"sarcasm\": ['acc',tfa.metrics.F1Score(num_classes=4, average=\"micro\", threshold = 0.9)],\n",
        "    \"offensive\": ['acc',tfa.metrics.F1Score(num_classes=4, average=\"micro\", threshold = 0.9)],\n",
        "    \"motivational\": ['acc',tfa.metrics.F1Score(num_classes=1, average=\"micro\", threshold = 0.9)],\n",
        "    \"overall\": ['acc',tfa.metrics.F1Score(num_classes=5, average=\"micro\", threshold = 0.9)]\n",
        "}\n"
      ],
      "metadata": {
        "id": "ajljaIRp5bJy"
      },
      "execution_count": null,
      "outputs": []
    },
    {
      "cell_type": "code",
      "source": [
        "earlyStopping = EarlyStopping(monitor='val_loss', patience=2, verbose=0, mode='min')\n",
        "mcp_save = ModelCheckpoint('model-{epoch:03d}-{overall_accuracy:03f}-{val_overall_accuracy:03f}', save_format='tf', save_best_only=True, monitor='val_loss', mode='min')\n",
        "reduce_lr_loss = ReduceLROnPlateau(monitor='val_loss', factor=0.1, patience=27, verbose=1, epsilon=1e-4, mode='min')"
      ],
      "metadata": {
        "id": "rbzNr9ynfvdb",
        "outputId": "c3860452-efbe-450f-8e4a-4b2ad399848a",
        "colab": {
          "base_uri": "https://localhost:8080/"
        }
      },
      "execution_count": null,
      "outputs": [
        {
          "output_type": "stream",
          "name": "stderr",
          "text": [
            "WARNING:tensorflow:`epsilon` argument is deprecated and will be removed, use `min_delta` instead.\n"
          ]
        }
      ]
    },
    {
      "cell_type": "code",
      "source": [
        "learning_rates = [0.001] # [0.1, 0.01, 0.001, 0.0001, 0.00001]\n",
        "for i in learning_rates:\n",
        "    model.compile(optimizer=tf.keras.optimizers.RMSprop(i),\n",
        "              loss = losses,\n",
        "              loss_weights= lossWeights,\n",
        "              metrics=['accuracy'])\n",
        "    \n",
        "    history = model.fit(x = {\"image_input\": X_train, \"text\": X_text_train},\n",
        "                    y = {\"sarcasm\": y_train.sarcasm, \n",
        "                         \"humuor\": y_train.humour, \n",
        "                         \"offensive\": y_train.offensive, \n",
        "                         \"motivational\": y_train.motivational, \n",
        "                         \"overall\": y_train.overall_sentiment},\n",
        "                    batch_size=64,\n",
        "                    epochs=50,\n",
        "                    verbose=2,\n",
        "                    validation_split=0.2,\n",
        "                    callbacks=[earlyStopping, mcp_save,reduce_lr_loss]\n",
        "                   )\n",
        "     "
      ],
      "metadata": {
        "colab": {
          "base_uri": "https://localhost:8080/"
        },
        "id": "_v1budbt5eQD",
        "outputId": "b25a0004-8c69-4ce9-fa8b-df475906e0c2"
      },
      "execution_count": null,
      "outputs": [
        {
          "output_type": "stream",
          "name": "stdout",
          "text": [
            "Epoch 1/50\n"
          ]
        },
        {
          "output_type": "stream",
          "name": "stderr",
          "text": [
            "/usr/local/lib/python3.8/dist-packages/tensorflow/python/util/dispatch.py:1082: UserWarning: \"`sparse_categorical_crossentropy` received `from_logits=True`, but the `output` argument was produced by a sigmoid or softmax activation and thus does not represent logits. Was this intended?\"\n",
            "  return dispatch_target(*args, **kwargs)\n",
            "WARNING:absl:Found untraced functions such as _jit_compiled_convolution_op, _jit_compiled_convolution_op, _jit_compiled_convolution_op, _jit_compiled_convolution_op, _jit_compiled_convolution_op while saving (showing 5 of 56). These functions will not be directly callable after loading.\n"
          ]
        },
        {
          "output_type": "stream",
          "name": "stdout",
          "text": [
            "70/70 - 75s - loss: 6.2614 - sarcasm_loss: 1.3313 - humuor_loss: 1.3515 - offensive_loss: 1.3482 - motivational_loss: 0.6875 - overall_loss: 1.5429 - sarcasm_accuracy: 0.5000 - humuor_accuracy: 0.3498 - offensive_accuracy: 0.3915 - motivational_accuracy: 0.5962 - overall_accuracy: 0.4402 - val_loss: 6.1557 - val_sarcasm_loss: 1.3028 - val_humuor_loss: 1.3429 - val_offensive_loss: 1.3279 - val_motivational_loss: 0.6788 - val_overall_loss: 1.5034 - val_sarcasm_accuracy: 0.5067 - val_humuor_accuracy: 0.3366 - val_offensive_accuracy: 0.3474 - val_motivational_accuracy: 0.6491 - val_overall_accuracy: 0.4396 - lr: 0.0010 - 75s/epoch - 1s/step\n",
            "Epoch 2/50\n"
          ]
        },
        {
          "output_type": "stream",
          "name": "stderr",
          "text": [
            "WARNING:absl:Found untraced functions such as _jit_compiled_convolution_op, _jit_compiled_convolution_op, _jit_compiled_convolution_op, _jit_compiled_convolution_op, _jit_compiled_convolution_op while saving (showing 5 of 56). These functions will not be directly callable after loading.\n"
          ]
        },
        {
          "output_type": "stream",
          "name": "stdout",
          "text": [
            "70/70 - 59s - loss: 6.0494 - sarcasm_loss: 1.2821 - humuor_loss: 1.3272 - offensive_loss: 1.2990 - motivational_loss: 0.6733 - overall_loss: 1.4677 - sarcasm_accuracy: 0.5031 - humuor_accuracy: 0.3516 - offensive_accuracy: 0.3926 - motivational_accuracy: 0.6435 - overall_accuracy: 0.4481 - val_loss: 5.9851 - val_sarcasm_loss: 1.2609 - val_humuor_loss: 1.3278 - val_offensive_loss: 1.2908 - val_motivational_loss: 0.6664 - val_overall_loss: 1.4392 - val_sarcasm_accuracy: 0.5067 - val_humuor_accuracy: 0.3366 - val_offensive_accuracy: 0.3474 - val_motivational_accuracy: 0.6491 - val_overall_accuracy: 0.4396 - lr: 0.0010 - 59s/epoch - 848ms/step\n",
            "Epoch 3/50\n"
          ]
        },
        {
          "output_type": "stream",
          "name": "stderr",
          "text": [
            "WARNING:absl:Found untraced functions such as _jit_compiled_convolution_op, _jit_compiled_convolution_op, _jit_compiled_convolution_op, _jit_compiled_convolution_op, _jit_compiled_convolution_op while saving (showing 5 of 56). These functions will not be directly callable after loading.\n"
          ]
        },
        {
          "output_type": "stream",
          "name": "stdout",
          "text": [
            "70/70 - 58s - loss: 5.8954 - sarcasm_loss: 1.2462 - humuor_loss: 1.3119 - offensive_loss: 1.2622 - motivational_loss: 0.6636 - overall_loss: 1.4114 - sarcasm_accuracy: 0.5031 - humuor_accuracy: 0.3516 - offensive_accuracy: 0.3926 - motivational_accuracy: 0.6435 - overall_accuracy: 0.4481 - val_loss: 5.8614 - val_sarcasm_loss: 1.2305 - val_humuor_loss: 1.3192 - val_offensive_loss: 1.2640 - val_motivational_loss: 0.6579 - val_overall_loss: 1.3899 - val_sarcasm_accuracy: 0.5067 - val_humuor_accuracy: 0.3366 - val_offensive_accuracy: 0.3474 - val_motivational_accuracy: 0.6491 - val_overall_accuracy: 0.4396 - lr: 0.0010 - 58s/epoch - 833ms/step\n",
            "Epoch 4/50\n"
          ]
        },
        {
          "output_type": "stream",
          "name": "stderr",
          "text": [
            "WARNING:absl:Found untraced functions such as _jit_compiled_convolution_op, _jit_compiled_convolution_op, _jit_compiled_convolution_op, _jit_compiled_convolution_op, _jit_compiled_convolution_op while saving (showing 5 of 56). These functions will not be directly callable after loading.\n"
          ]
        },
        {
          "output_type": "stream",
          "name": "stdout",
          "text": [
            "70/70 - 57s - loss: 5.7830 - sarcasm_loss: 1.2200 - humuor_loss: 1.3023 - offensive_loss: 1.2350 - motivational_loss: 0.6574 - overall_loss: 1.3684 - sarcasm_accuracy: 0.5031 - humuor_accuracy: 0.3516 - offensive_accuracy: 0.3926 - motivational_accuracy: 0.6435 - overall_accuracy: 0.4481 - val_loss: 5.7745 - val_sarcasm_loss: 1.2091 - val_humuor_loss: 1.3149 - val_offensive_loss: 1.2446 - val_motivational_loss: 0.6530 - val_overall_loss: 1.3529 - val_sarcasm_accuracy: 0.5067 - val_humuor_accuracy: 0.3366 - val_offensive_accuracy: 0.3474 - val_motivational_accuracy: 0.6491 - val_overall_accuracy: 0.4396 - lr: 0.0010 - 57s/epoch - 817ms/step\n",
            "Epoch 5/50\n"
          ]
        },
        {
          "output_type": "stream",
          "name": "stderr",
          "text": [
            "WARNING:absl:Found untraced functions such as _jit_compiled_convolution_op, _jit_compiled_convolution_op, _jit_compiled_convolution_op, _jit_compiled_convolution_op, _jit_compiled_convolution_op while saving (showing 5 of 56). These functions will not be directly callable after loading.\n"
          ]
        },
        {
          "output_type": "stream",
          "name": "stdout",
          "text": [
            "70/70 - 59s - loss: 5.7058 - sarcasm_loss: 1.2020 - humuor_loss: 1.2966 - offensive_loss: 1.2156 - motivational_loss: 0.6540 - overall_loss: 1.3376 - sarcasm_accuracy: 0.5031 - humuor_accuracy: 0.3516 - offensive_accuracy: 0.3926 - motivational_accuracy: 0.6435 - overall_accuracy: 0.4481 - val_loss: 5.7164 - val_sarcasm_loss: 1.1945 - val_humuor_loss: 1.3134 - val_offensive_loss: 1.2310 - val_motivational_loss: 0.6503 - val_overall_loss: 1.3273 - val_sarcasm_accuracy: 0.5067 - val_humuor_accuracy: 0.3366 - val_offensive_accuracy: 0.3474 - val_motivational_accuracy: 0.6491 - val_overall_accuracy: 0.4396 - lr: 0.0010 - 59s/epoch - 842ms/step\n",
            "Epoch 6/50\n"
          ]
        },
        {
          "output_type": "stream",
          "name": "stderr",
          "text": [
            "WARNING:absl:Found untraced functions such as _jit_compiled_convolution_op, _jit_compiled_convolution_op, _jit_compiled_convolution_op, _jit_compiled_convolution_op, _jit_compiled_convolution_op while saving (showing 5 of 56). These functions will not be directly callable after loading.\n"
          ]
        },
        {
          "output_type": "stream",
          "name": "stdout",
          "text": [
            "70/70 - 57s - loss: 5.6542 - sarcasm_loss: 1.1905 - humuor_loss: 1.2938 - offensive_loss: 1.2012 - motivational_loss: 0.6525 - overall_loss: 1.3162 - sarcasm_accuracy: 0.5031 - humuor_accuracy: 0.3516 - offensive_accuracy: 0.3926 - motivational_accuracy: 0.6435 - overall_accuracy: 0.4481 - val_loss: 5.6793 - val_sarcasm_loss: 1.1858 - val_humuor_loss: 1.3134 - val_offensive_loss: 1.2216 - val_motivational_loss: 0.6491 - val_overall_loss: 1.3094 - val_sarcasm_accuracy: 0.5067 - val_humuor_accuracy: 0.3366 - val_offensive_accuracy: 0.3474 - val_motivational_accuracy: 0.6491 - val_overall_accuracy: 0.4396 - lr: 0.0010 - 57s/epoch - 814ms/step\n",
            "Epoch 7/50\n"
          ]
        },
        {
          "output_type": "stream",
          "name": "stderr",
          "text": [
            "WARNING:absl:Found untraced functions such as _jit_compiled_convolution_op, _jit_compiled_convolution_op, _jit_compiled_convolution_op, _jit_compiled_convolution_op, _jit_compiled_convolution_op while saving (showing 5 of 56). These functions will not be directly callable after loading.\n"
          ]
        },
        {
          "output_type": "stream",
          "name": "stdout",
          "text": [
            "70/70 - 59s - loss: 5.6194 - sarcasm_loss: 1.1830 - humuor_loss: 1.2924 - offensive_loss: 1.1906 - motivational_loss: 0.6518 - overall_loss: 1.3016 - sarcasm_accuracy: 0.5031 - humuor_accuracy: 0.3516 - offensive_accuracy: 0.3926 - motivational_accuracy: 0.6435 - overall_accuracy: 0.4481 - val_loss: 5.6555 - val_sarcasm_loss: 1.1806 - val_humuor_loss: 1.3139 - val_offensive_loss: 1.2151 - val_motivational_loss: 0.6485 - val_overall_loss: 1.2975 - val_sarcasm_accuracy: 0.5067 - val_humuor_accuracy: 0.3366 - val_offensive_accuracy: 0.3474 - val_motivational_accuracy: 0.6491 - val_overall_accuracy: 0.4396 - lr: 0.0010 - 59s/epoch - 837ms/step\n",
            "Epoch 8/50\n"
          ]
        },
        {
          "output_type": "stream",
          "name": "stderr",
          "text": [
            "WARNING:absl:Found untraced functions such as _jit_compiled_convolution_op, _jit_compiled_convolution_op, _jit_compiled_convolution_op, _jit_compiled_convolution_op, _jit_compiled_convolution_op while saving (showing 5 of 56). These functions will not be directly callable after loading.\n"
          ]
        },
        {
          "output_type": "stream",
          "name": "stdout",
          "text": [
            "70/70 - 56s - loss: 5.5973 - sarcasm_loss: 1.1788 - humuor_loss: 1.2917 - offensive_loss: 1.1830 - motivational_loss: 0.6516 - overall_loss: 1.2922 - sarcasm_accuracy: 0.5031 - humuor_accuracy: 0.3516 - offensive_accuracy: 0.3926 - motivational_accuracy: 0.6435 - overall_accuracy: 0.4481 - val_loss: 5.6414 - val_sarcasm_loss: 1.1780 - val_humuor_loss: 1.3143 - val_offensive_loss: 1.2107 - val_motivational_loss: 0.6483 - val_overall_loss: 1.2902 - val_sarcasm_accuracy: 0.5067 - val_humuor_accuracy: 0.3366 - val_offensive_accuracy: 0.3474 - val_motivational_accuracy: 0.6491 - val_overall_accuracy: 0.4396 - lr: 0.0010 - 56s/epoch - 807ms/step\n",
            "Epoch 9/50\n"
          ]
        },
        {
          "output_type": "stream",
          "name": "stderr",
          "text": [
            "WARNING:absl:Found untraced functions such as _jit_compiled_convolution_op, _jit_compiled_convolution_op, _jit_compiled_convolution_op, _jit_compiled_convolution_op, _jit_compiled_convolution_op while saving (showing 5 of 56). These functions will not be directly callable after loading.\n"
          ]
        },
        {
          "output_type": "stream",
          "name": "stdout",
          "text": [
            "70/70 - 57s - loss: 5.5829 - sarcasm_loss: 1.1764 - humuor_loss: 1.2914 - offensive_loss: 1.1775 - motivational_loss: 0.6515 - overall_loss: 1.2860 - sarcasm_accuracy: 0.5031 - humuor_accuracy: 0.3516 - offensive_accuracy: 0.3926 - motivational_accuracy: 0.6435 - overall_accuracy: 0.4481 - val_loss: 5.6320 - val_sarcasm_loss: 1.1764 - val_humuor_loss: 1.3148 - val_offensive_loss: 1.2073 - val_motivational_loss: 0.6482 - val_overall_loss: 1.2852 - val_sarcasm_accuracy: 0.5067 - val_humuor_accuracy: 0.3366 - val_offensive_accuracy: 0.3474 - val_motivational_accuracy: 0.6491 - val_overall_accuracy: 0.4396 - lr: 0.0010 - 57s/epoch - 819ms/step\n",
            "Epoch 10/50\n"
          ]
        },
        {
          "output_type": "stream",
          "name": "stderr",
          "text": [
            "WARNING:absl:Found untraced functions such as _jit_compiled_convolution_op, _jit_compiled_convolution_op, _jit_compiled_convolution_op, _jit_compiled_convolution_op, _jit_compiled_convolution_op while saving (showing 5 of 56). These functions will not be directly callable after loading.\n"
          ]
        },
        {
          "output_type": "stream",
          "name": "stdout",
          "text": [
            "70/70 - 59s - loss: 5.5728 - sarcasm_loss: 1.1750 - humuor_loss: 1.2913 - offensive_loss: 1.1735 - motivational_loss: 0.6515 - overall_loss: 1.2816 - sarcasm_accuracy: 0.5031 - humuor_accuracy: 0.3516 - offensive_accuracy: 0.3926 - motivational_accuracy: 0.6435 - overall_accuracy: 0.4481 - val_loss: 5.6263 - val_sarcasm_loss: 1.1756 - val_humuor_loss: 1.3151 - val_offensive_loss: 1.2057 - val_motivational_loss: 0.6482 - val_overall_loss: 1.2817 - val_sarcasm_accuracy: 0.5067 - val_humuor_accuracy: 0.3366 - val_offensive_accuracy: 0.3474 - val_motivational_accuracy: 0.6491 - val_overall_accuracy: 0.4396 - lr: 0.0010 - 59s/epoch - 841ms/step\n",
            "Epoch 11/50\n"
          ]
        },
        {
          "output_type": "stream",
          "name": "stderr",
          "text": [
            "WARNING:absl:Found untraced functions such as _jit_compiled_convolution_op, _jit_compiled_convolution_op, _jit_compiled_convolution_op, _jit_compiled_convolution_op, _jit_compiled_convolution_op while saving (showing 5 of 56). These functions will not be directly callable after loading.\n"
          ]
        },
        {
          "output_type": "stream",
          "name": "stdout",
          "text": [
            "70/70 - 57s - loss: 5.5661 - sarcasm_loss: 1.1742 - humuor_loss: 1.2912 - offensive_loss: 1.1709 - motivational_loss: 0.6514 - overall_loss: 1.2784 - sarcasm_accuracy: 0.5031 - humuor_accuracy: 0.3516 - offensive_accuracy: 0.3926 - motivational_accuracy: 0.6435 - overall_accuracy: 0.4481 - val_loss: 5.6228 - val_sarcasm_loss: 1.1752 - val_humuor_loss: 1.3154 - val_offensive_loss: 1.2048 - val_motivational_loss: 0.6482 - val_overall_loss: 1.2792 - val_sarcasm_accuracy: 0.5067 - val_humuor_accuracy: 0.3366 - val_offensive_accuracy: 0.3474 - val_motivational_accuracy: 0.6491 - val_overall_accuracy: 0.4396 - lr: 0.0010 - 57s/epoch - 815ms/step\n",
            "Epoch 12/50\n"
          ]
        },
        {
          "output_type": "stream",
          "name": "stderr",
          "text": [
            "WARNING:absl:Found untraced functions such as _jit_compiled_convolution_op, _jit_compiled_convolution_op, _jit_compiled_convolution_op, _jit_compiled_convolution_op, _jit_compiled_convolution_op while saving (showing 5 of 56). These functions will not be directly callable after loading.\n"
          ]
        },
        {
          "output_type": "stream",
          "name": "stdout",
          "text": [
            "70/70 - 58s - loss: 5.5615 - sarcasm_loss: 1.1737 - humuor_loss: 1.2911 - offensive_loss: 1.1692 - motivational_loss: 0.6515 - overall_loss: 1.2760 - sarcasm_accuracy: 0.5031 - humuor_accuracy: 0.3516 - offensive_accuracy: 0.3926 - motivational_accuracy: 0.6435 - overall_accuracy: 0.4481 - val_loss: 5.6209 - val_sarcasm_loss: 1.1750 - val_humuor_loss: 1.3156 - val_offensive_loss: 1.2044 - val_motivational_loss: 0.6481 - val_overall_loss: 1.2776 - val_sarcasm_accuracy: 0.5067 - val_humuor_accuracy: 0.3366 - val_offensive_accuracy: 0.3474 - val_motivational_accuracy: 0.6491 - val_overall_accuracy: 0.4396 - lr: 0.0010 - 58s/epoch - 823ms/step\n",
            "Epoch 13/50\n"
          ]
        },
        {
          "output_type": "stream",
          "name": "stderr",
          "text": [
            "WARNING:absl:Found untraced functions such as _jit_compiled_convolution_op, _jit_compiled_convolution_op, _jit_compiled_convolution_op, _jit_compiled_convolution_op, _jit_compiled_convolution_op while saving (showing 5 of 56). These functions will not be directly callable after loading.\n"
          ]
        },
        {
          "output_type": "stream",
          "name": "stdout",
          "text": [
            "70/70 - 58s - loss: 5.5587 - sarcasm_loss: 1.1735 - humuor_loss: 1.2912 - offensive_loss: 1.1681 - motivational_loss: 0.6514 - overall_loss: 1.2745 - sarcasm_accuracy: 0.5031 - humuor_accuracy: 0.3516 - offensive_accuracy: 0.3926 - motivational_accuracy: 0.6435 - overall_accuracy: 0.4481 - val_loss: 5.6198 - val_sarcasm_loss: 1.1750 - val_humuor_loss: 1.3157 - val_offensive_loss: 1.2043 - val_motivational_loss: 0.6481 - val_overall_loss: 1.2767 - val_sarcasm_accuracy: 0.5067 - val_humuor_accuracy: 0.3366 - val_offensive_accuracy: 0.3474 - val_motivational_accuracy: 0.6491 - val_overall_accuracy: 0.4396 - lr: 0.0010 - 58s/epoch - 835ms/step\n",
            "Epoch 14/50\n"
          ]
        },
        {
          "output_type": "stream",
          "name": "stderr",
          "text": [
            "WARNING:absl:Found untraced functions such as _jit_compiled_convolution_op, _jit_compiled_convolution_op, _jit_compiled_convolution_op, _jit_compiled_convolution_op, _jit_compiled_convolution_op while saving (showing 5 of 56). These functions will not be directly callable after loading.\n"
          ]
        },
        {
          "output_type": "stream",
          "name": "stdout",
          "text": [
            "70/70 - 56s - loss: 5.5568 - sarcasm_loss: 1.1733 - humuor_loss: 1.2911 - offensive_loss: 1.1673 - motivational_loss: 0.6515 - overall_loss: 1.2735 - sarcasm_accuracy: 0.5031 - humuor_accuracy: 0.3516 - offensive_accuracy: 0.3926 - motivational_accuracy: 0.6435 - overall_accuracy: 0.4481 - val_loss: 5.6195 - val_sarcasm_loss: 1.1750 - val_humuor_loss: 1.3160 - val_offensive_loss: 1.2042 - val_motivational_loss: 0.6481 - val_overall_loss: 1.2762 - val_sarcasm_accuracy: 0.5067 - val_humuor_accuracy: 0.3366 - val_offensive_accuracy: 0.3474 - val_motivational_accuracy: 0.6491 - val_overall_accuracy: 0.4396 - lr: 0.0010 - 56s/epoch - 805ms/step\n",
            "Epoch 15/50\n",
            "70/70 - 30s - loss: 5.5555 - sarcasm_loss: 1.1732 - humuor_loss: 1.2912 - offensive_loss: 1.1669 - motivational_loss: 0.6514 - overall_loss: 1.2728 - sarcasm_accuracy: 0.5031 - humuor_accuracy: 0.3516 - offensive_accuracy: 0.3926 - motivational_accuracy: 0.6435 - overall_accuracy: 0.4481 - val_loss: 5.6196 - val_sarcasm_loss: 1.1750 - val_humuor_loss: 1.3160 - val_offensive_loss: 1.2046 - val_motivational_loss: 0.6481 - val_overall_loss: 1.2759 - val_sarcasm_accuracy: 0.5067 - val_humuor_accuracy: 0.3366 - val_offensive_accuracy: 0.3474 - val_motivational_accuracy: 0.6491 - val_overall_accuracy: 0.4396 - lr: 0.0010 - 30s/epoch - 434ms/step\n",
            "Epoch 16/50\n",
            "70/70 - 33s - loss: 5.5546 - sarcasm_loss: 1.1732 - humuor_loss: 1.2911 - offensive_loss: 1.1666 - motivational_loss: 0.6514 - overall_loss: 1.2723 - sarcasm_accuracy: 0.5031 - humuor_accuracy: 0.3516 - offensive_accuracy: 0.3926 - motivational_accuracy: 0.6435 - overall_accuracy: 0.4481 - val_loss: 5.6198 - val_sarcasm_loss: 1.1750 - val_humuor_loss: 1.3158 - val_offensive_loss: 1.2051 - val_motivational_loss: 0.6481 - val_overall_loss: 1.2758 - val_sarcasm_accuracy: 0.5067 - val_humuor_accuracy: 0.3366 - val_offensive_accuracy: 0.3474 - val_motivational_accuracy: 0.6491 - val_overall_accuracy: 0.4396 - lr: 0.0010 - 33s/epoch - 465ms/step\n"
          ]
        }
      ]
    },
    {
      "cell_type": "code",
      "source": [
        "best_model = tf.keras.Model(inputs = [image_input, text_input] , outputs = [output_1, output_2, output_3, output_4, output_5])\n",
        "best_model.load_weights('/content/model-014-0.448075-0.439570')\n",
        "print('Best Model Loaded!')"
      ],
      "metadata": {
        "id": "jYZwGnykmO8s",
        "outputId": "b6f2b17e-e45c-417b-d1ba-9d768cafc6d9",
        "colab": {
          "base_uri": "https://localhost:8080/"
        }
      },
      "execution_count": null,
      "outputs": [
        {
          "output_type": "stream",
          "name": "stdout",
          "text": [
            "Best Model Loaded!\n"
          ]
        }
      ]
    },
    {
      "cell_type": "code",
      "source": [
        "best_model.compile(optimizer=tf.keras.optimizers.RMSprop(i),\n",
        "              loss = losses,\n",
        "              loss_weights= lossWeights,\n",
        "              metrics=['accuracy'])"
      ],
      "metadata": {
        "id": "eCITVwnYmkd1"
      },
      "execution_count": null,
      "outputs": []
    },
    {
      "cell_type": "code",
      "source": [
        "evaluate = best_model.evaluate(x = {\"image_input\": X_test, \"text\": X_text_test},\n",
        "                    y = {\"sarcasm\": y_test.sarcasm, \n",
        "                         \"humuor\": y_test.humour, \n",
        "                         \"offensive\": y_test.offensive, \n",
        "                         \"motivational\": y_test.motivational, \n",
        "                         \"overall\": y_test.overall_sentiment},\n",
        "                    batch_size=32,\n",
        "                    verbose=2\n",
        "                   )"
      ],
      "metadata": {
        "colab": {
          "base_uri": "https://localhost:8080/"
        },
        "id": "-HEI9s0z-V-1",
        "outputId": "bd731044-2ac3-4c80-f8d5-55b74ae60867"
      },
      "execution_count": null,
      "outputs": [
        {
          "output_type": "stream",
          "name": "stderr",
          "text": [
            "/usr/local/lib/python3.8/dist-packages/tensorflow/python/util/dispatch.py:1082: UserWarning: \"`sparse_categorical_crossentropy` received `from_logits=True`, but the `output` argument was produced by a sigmoid or softmax activation and thus does not represent logits. Was this intended?\"\n",
            "  return dispatch_target(*args, **kwargs)\n"
          ]
        },
        {
          "output_type": "stream",
          "name": "stdout",
          "text": [
            "44/44 - 5s - loss: 5.5555 - sarcasm_loss: 1.1835 - humuor_loss: 1.2856 - offensive_loss: 1.1656 - motivational_loss: 0.6425 - overall_loss: 1.2782 - sarcasm_accuracy: 0.4932 - humuor_accuracy: 0.3601 - offensive_accuracy: 0.4044 - motivational_accuracy: 0.6586 - overall_accuracy: 0.4495 - 5s/epoch - 114ms/step\n"
          ]
        }
      ]
    },
    {
      "cell_type": "code",
      "source": [
        "best_model.summary()"
      ],
      "metadata": {
        "colab": {
          "base_uri": "https://localhost:8080/"
        },
        "id": "i0RNKx6xIZ9E",
        "outputId": "9a969de7-fbb4-42e3-b51c-da8d03514e26"
      },
      "execution_count": null,
      "outputs": [
        {
          "output_type": "stream",
          "name": "stdout",
          "text": [
            "Model: \"model_1\"\n",
            "__________________________________________________________________________________________________\n",
            " Layer (type)                   Output Shape         Param #     Connected to                     \n",
            "==================================================================================================\n",
            " text (InputLayer)              [(None, 1)]          0           []                               \n",
            "                                                                                                  \n",
            " text_vectorization (TextVector  (None, 100)         0           ['text[0][0]']                   \n",
            " ization)                                                                                         \n",
            "                                                                                                  \n",
            " embedding (Embedding)          (None, 100, 16)      160000      ['text_vectorization[0][0]']     \n",
            "                                                                                                  \n",
            " dropout (Dropout)              (None, 100, 16)      0           ['embedding[0][0]']              \n",
            "                                                                                                  \n",
            " image_input (InputLayer)       [(None, 100, 100, 3  0           []                               \n",
            "                                )]                                                                \n",
            "                                                                                                  \n",
            " bidirectional (Bidirectional)  (None, 100, 512)     559104      ['dropout[0][0]']                \n",
            "                                                                                                  \n",
            " resnet50 (Functional)          (None, 4, 4, 2048)   23587712    ['image_input[0][0]']            \n",
            "                                                                                                  \n",
            " conv1d (Conv1D)                (None, 32, 128)      458880      ['bidirectional[0][0]']          \n",
            "                                                                                                  \n",
            " conv2d (Conv2D)                (None, 3, 3, 2048)   16779264    ['resnet50[0][0]']               \n",
            "                                                                                                  \n",
            " conv1d_1 (Conv1D)              (None, 9, 128)       114816      ['conv1d[0][0]']                 \n",
            "                                                                                                  \n",
            " dense (Dense)                  (None, 3, 3, 512)    1049088     ['conv2d[0][0]']                 \n",
            "                                                                                                  \n",
            " global_max_pooling1d (GlobalMa  (None, 128)         0           ['conv1d_1[0][0]']               \n",
            " xPooling1D)                                                                                      \n",
            "                                                                                                  \n",
            " global_average_pooling2d (Glob  (None, 512)         0           ['dense[0][0]']                  \n",
            " alAveragePooling2D)                                                                              \n",
            "                                                                                                  \n",
            " dense_2 (Dense)                (None, 2048)         264192      ['global_max_pooling1d[0][0]']   \n",
            "                                                                                                  \n",
            " dropout_layer (Dropout)        (None, 512)          0           ['global_average_pooling2d[0][0]'\n",
            "                                                                 ]                                \n",
            "                                                                                                  \n",
            " dropout_1 (Dropout)            (None, 2048)         0           ['dense_2[0][0]']                \n",
            "                                                                                                  \n",
            " concatenate_1 (Concatenate)    (None, 2560)         0           ['dropout_layer[0][0]',          \n",
            "                                                                  'dropout_1[0][0]']              \n",
            "                                                                                                  \n",
            " dense_3 (Dense)                (None, 2048)         5244928     ['concatenate_1[0][0]']          \n",
            "                                                                                                  \n",
            " sarcasm (Dense)                (None, 4)            8196        ['dense_3[0][0]']                \n",
            "                                                                                                  \n",
            " humuor (Dense)                 (None, 4)            8196        ['dense_3[0][0]']                \n",
            "                                                                                                  \n",
            " offensive (Dense)              (None, 4)            8196        ['dense_3[0][0]']                \n",
            "                                                                                                  \n",
            " motivational (Dense)           (None, 1)            2049        ['dense_3[0][0]']                \n",
            "                                                                                                  \n",
            " overall (Dense)                (None, 5)            10245       ['dense_3[0][0]']                \n",
            "                                                                                                  \n",
            "==================================================================================================\n",
            "Total params: 48,254,866\n",
            "Trainable params: 24,667,154\n",
            "Non-trainable params: 23,587,712\n",
            "__________________________________________________________________________________________________\n"
          ]
        }
      ]
    },
    {
      "cell_type": "code",
      "source": [
        "from keras.models import Model\n",
        "embedder= Model(inputs=model.input, outputs=best_model.layers[-7].output)\n",
        "embedder.summary()"
      ],
      "metadata": {
        "id": "b_yu_ATv_R0t",
        "colab": {
          "base_uri": "https://localhost:8080/"
        },
        "outputId": "9aa3bef6-d6d6-4a68-ec3b-15f119a75ca9"
      },
      "execution_count": null,
      "outputs": [
        {
          "output_type": "stream",
          "name": "stdout",
          "text": [
            "Model: \"model_2\"\n",
            "__________________________________________________________________________________________________\n",
            " Layer (type)                   Output Shape         Param #     Connected to                     \n",
            "==================================================================================================\n",
            " text (InputLayer)              [(None, 1)]          0           []                               \n",
            "                                                                                                  \n",
            " text_vectorization (TextVector  (None, 100)         0           ['text[0][0]']                   \n",
            " ization)                                                                                         \n",
            "                                                                                                  \n",
            " embedding (Embedding)          (None, 100, 16)      160000      ['text_vectorization[0][0]']     \n",
            "                                                                                                  \n",
            " dropout (Dropout)              (None, 100, 16)      0           ['embedding[0][0]']              \n",
            "                                                                                                  \n",
            " image_input (InputLayer)       [(None, 100, 100, 3  0           []                               \n",
            "                                )]                                                                \n",
            "                                                                                                  \n",
            " bidirectional (Bidirectional)  (None, 100, 512)     559104      ['dropout[0][0]']                \n",
            "                                                                                                  \n",
            " resnet50 (Functional)          (None, 4, 4, 2048)   23587712    ['image_input[0][0]']            \n",
            "                                                                                                  \n",
            " conv1d (Conv1D)                (None, 32, 128)      458880      ['bidirectional[0][0]']          \n",
            "                                                                                                  \n",
            " conv2d (Conv2D)                (None, 3, 3, 2048)   16779264    ['resnet50[0][0]']               \n",
            "                                                                                                  \n",
            " conv1d_1 (Conv1D)              (None, 9, 128)       114816      ['conv1d[0][0]']                 \n",
            "                                                                                                  \n",
            " dense (Dense)                  (None, 3, 3, 512)    1049088     ['conv2d[0][0]']                 \n",
            "                                                                                                  \n",
            " global_max_pooling1d (GlobalMa  (None, 128)         0           ['conv1d_1[0][0]']               \n",
            " xPooling1D)                                                                                      \n",
            "                                                                                                  \n",
            " global_average_pooling2d (Glob  (None, 512)         0           ['dense[0][0]']                  \n",
            " alAveragePooling2D)                                                                              \n",
            "                                                                                                  \n",
            " dense_2 (Dense)                (None, 2048)         264192      ['global_max_pooling1d[0][0]']   \n",
            "                                                                                                  \n",
            " dropout_layer (Dropout)        (None, 512)          0           ['global_average_pooling2d[0][0]'\n",
            "                                                                 ]                                \n",
            "                                                                                                  \n",
            " dropout_1 (Dropout)            (None, 2048)         0           ['dense_2[0][0]']                \n",
            "                                                                                                  \n",
            " concatenate_1 (Concatenate)    (None, 2560)         0           ['dropout_layer[0][0]',          \n",
            "                                                                  'dropout_1[0][0]']              \n",
            "                                                                                                  \n",
            "==================================================================================================\n",
            "Total params: 42,973,056\n",
            "Trainable params: 19,385,344\n",
            "Non-trainable params: 23,587,712\n",
            "__________________________________________________________________________________________________\n"
          ]
        }
      ]
    },
    {
      "cell_type": "code",
      "source": [
        "embedded_X_train = embedder.predict(x = {\"image_input\": X_train, \"text\": X_text_train},\n",
        "                              batch_size=32,\n",
        "                              verbose=2)\n",
        "embedded_X_test = embedder.predict(x = {\"image_input\": X_test, \"text\": X_text_test},\n",
        "                              batch_size=32,\n",
        "                              verbose=2)\n",
        "print(embedded_X_train.shape, embedded_X_test.shape)"
      ],
      "metadata": {
        "colab": {
          "base_uri": "https://localhost:8080/"
        },
        "id": "YYFkB22xEv_Y",
        "outputId": "dafb0884-1e81-4cb1-f762-429bd742a73a"
      },
      "execution_count": null,
      "outputs": [
        {
          "output_type": "stream",
          "name": "stdout",
          "text": [
            "175/175 - 13s - 13s/epoch - 75ms/step\n",
            "44/44 - 2s - 2s/epoch - 55ms/step\n",
            "(5585, 2560) (1397, 2560)\n"
          ]
        }
      ]
    },
    {
      "cell_type": "code",
      "source": [
        "import numpy as np\n",
        "from sklearn.pipeline import make_pipeline\n",
        "from sklearn.preprocessing import StandardScaler\n",
        "from sklearn.metrics import classification_report\n",
        "from sklearn.svm import SVC\n",
        "clf = make_pipeline(StandardScaler(), SVC(gamma='auto'))\n",
        "clf.fit(embedded_X_train, y_train.iloc[:, 0].values)\n",
        "y_pred = clf.predict(embedded_X_test)\n",
        "print(classification_report(y_test.iloc[:, 0].values, y_pred))"
      ],
      "metadata": {
        "colab": {
          "base_uri": "https://localhost:8080/"
        },
        "id": "AhS1i5BKI6_d",
        "outputId": "a2ed28d0-d593-4b3c-c094-500af4ded895"
      },
      "execution_count": null,
      "outputs": [
        {
          "output_type": "stream",
          "name": "stdout",
          "text": [
            "              precision    recall  f1-score   support\n",
            "\n",
            "           0       0.00      0.00      0.00       329\n",
            "           1       0.38      0.77      0.51       503\n",
            "           2       0.32      0.26      0.28       443\n",
            "           3       0.00      0.00      0.00       122\n",
            "\n",
            "    accuracy                           0.36      1397\n",
            "   macro avg       0.17      0.26      0.20      1397\n",
            "weighted avg       0.24      0.36      0.27      1397\n",
            "\n"
          ]
        },
        {
          "output_type": "stream",
          "name": "stderr",
          "text": [
            "/usr/local/lib/python3.8/dist-packages/sklearn/metrics/_classification.py:1318: UndefinedMetricWarning: Precision and F-score are ill-defined and being set to 0.0 in labels with no predicted samples. Use `zero_division` parameter to control this behavior.\n",
            "  _warn_prf(average, modifier, msg_start, len(result))\n",
            "/usr/local/lib/python3.8/dist-packages/sklearn/metrics/_classification.py:1318: UndefinedMetricWarning: Precision and F-score are ill-defined and being set to 0.0 in labels with no predicted samples. Use `zero_division` parameter to control this behavior.\n",
            "  _warn_prf(average, modifier, msg_start, len(result))\n",
            "/usr/local/lib/python3.8/dist-packages/sklearn/metrics/_classification.py:1318: UndefinedMetricWarning: Precision and F-score are ill-defined and being set to 0.0 in labels with no predicted samples. Use `zero_division` parameter to control this behavior.\n",
            "  _warn_prf(average, modifier, msg_start, len(result))\n"
          ]
        }
      ]
    },
    {
      "cell_type": "code",
      "source": [
        "import numpy as np\n",
        "from sklearn.pipeline import make_pipeline\n",
        "from sklearn.preprocessing import StandardScaler\n",
        "from sklearn.metrics import classification_report\n",
        "from sklearn.ensemble import GradientBoostingClassifier\n",
        "clf = make_pipeline(StandardScaler(), GradientBoostingClassifier(n_estimators=100, learning_rate=1.0, max_depth=1, random_state=0))\n",
        "clf.fit(embedded_X_train, y_train.iloc[:, 0].values)\n",
        "y_pred = clf.predict(embedded_X_test)\n",
        "print(classification_report(y_test.iloc[:, 0].values, y_pred))"
      ],
      "metadata": {
        "colab": {
          "base_uri": "https://localhost:8080/"
        },
        "id": "fhiuoxoXI9Tb",
        "outputId": "af794ced-a886-4b9d-a3e7-6463e3e95462"
      },
      "execution_count": null,
      "outputs": [
        {
          "output_type": "stream",
          "name": "stdout",
          "text": [
            "              precision    recall  f1-score   support\n",
            "\n",
            "           0       0.25      0.16      0.19       335\n",
            "           1       0.36      0.47      0.40       479\n",
            "           2       0.32      0.38      0.35       440\n",
            "           3       0.11      0.03      0.05       143\n",
            "\n",
            "    accuracy                           0.32      1397\n",
            "   macro avg       0.26      0.26      0.25      1397\n",
            "weighted avg       0.29      0.32      0.30      1397\n",
            "\n"
          ]
        }
      ]
    }
  ]
}