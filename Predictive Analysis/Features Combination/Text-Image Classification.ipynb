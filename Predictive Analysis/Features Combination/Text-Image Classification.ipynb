{
  "nbformat": 4,
  "nbformat_minor": 0,
  "metadata": {
    "colab": {
      "provenance": [],
      "include_colab_link": true
    },
    "kernelspec": {
      "name": "python3",
      "display_name": "Python 3"
    },
    "language_info": {
      "name": "python"
    },
    "accelerator": "GPU",
    "gpuClass": "standard"
  },
  "cells": [
    {
      "cell_type": "markdown",
      "metadata": {
        "id": "view-in-github",
        "colab_type": "text"
      },
      "source": [
        "<a href=\"https://colab.research.google.com/github/meti-94/CodingQuestions/blob/main/Predictive%20Analysis/Features%20Combination/Text-Image%20Classification.ipynb\" target=\"_parent\"><img src=\"https://colab.research.google.com/assets/colab-badge.svg\" alt=\"Open In Colab\"/></a>"
      ]
    },
    {
      "cell_type": "code",
      "source": [
        "!pip install kaggle -q\n",
        "!pip install -q -U \"tensorflow-text==2.8.*\"\n",
        "!pip install -q tf-models-official==2.7.0\n",
        "!pip install tensorflow-addons -q"
      ],
      "metadata": {
        "colab": {
          "base_uri": "https://localhost:8080/"
        },
        "id": "raYYNOzVb6K8",
        "outputId": "04141243-bfdc-4c55-cfe8-9cfd616ddd12"
      },
      "execution_count": 1,
      "outputs": [
        {
          "output_type": "stream",
          "name": "stdout",
          "text": [
            "\u001b[2K     \u001b[90m━━━━━━━━━━━━━━━━━━━━━━━━━━━━━━━━━━━━━━━\u001b[0m \u001b[32m498.0/498.0 MB\u001b[0m \u001b[31m2.2 MB/s\u001b[0m eta \u001b[36m0:00:00\u001b[0m\n",
            "\u001b[2K     \u001b[90m━━━━━━━━━━━━━━━━━━━━━━━━━━━━━━━━━━━━━━━━\u001b[0m \u001b[32m5.8/5.8 MB\u001b[0m \u001b[31m35.8 MB/s\u001b[0m eta \u001b[36m0:00:00\u001b[0m\n",
            "\u001b[2K     \u001b[90m━━━━━━━━━━━━━━━━━━━━━━━━━━━━━━━━━━━━━━\u001b[0m \u001b[32m462.3/462.3 KB\u001b[0m \u001b[31m40.0 MB/s\u001b[0m eta \u001b[36m0:00:00\u001b[0m\n",
            "\u001b[2K     \u001b[90m━━━━━━━━━━━━━━━━━━━━━━━━━━━━━━━━━━━━━━━━\u001b[0m \u001b[32m1.4/1.4 MB\u001b[0m \u001b[31m69.3 MB/s\u001b[0m eta \u001b[36m0:00:00\u001b[0m\n",
            "\u001b[?25h  Preparing metadata (setup.py) ... \u001b[?25l\u001b[?25hdone\n",
            "  Building wheel for seqeval (setup.py) ... \u001b[?25l\u001b[?25hdone\n"
          ]
        }
      ]
    },
    {
      "cell_type": "code",
      "source": [
        "from google.colab import drive\n",
        "drive.mount('/content/gdrive/')"
      ],
      "metadata": {
        "colab": {
          "base_uri": "https://localhost:8080/"
        },
        "id": "9cG62nhHpU3W",
        "outputId": "785c2dc2-23dd-4cdd-9dd3-a8c7ac45677a"
      },
      "execution_count": 2,
      "outputs": [
        {
          "output_type": "stream",
          "name": "stdout",
          "text": [
            "Mounted at /content/gdrive/\n"
          ]
        }
      ]
    },
    {
      "cell_type": "code",
      "source": [
        "!mkdir ~/.kaggle\n",
        "!cp /content/gdrive/MyDrive/kaggle.json ~/.kaggle\n",
        "!chmod 600 ~/.kaggle/kaggle.json"
      ],
      "metadata": {
        "id": "Z9tDLgdpqHGk"
      },
      "execution_count": 3,
      "outputs": []
    },
    {
      "cell_type": "code",
      "source": [
        "!kaggle datasets download -d williamscott701/memotion-dataset-7k"
      ],
      "metadata": {
        "colab": {
          "base_uri": "https://localhost:8080/"
        },
        "id": "mnm5b08Sq_OB",
        "outputId": "e6dfef94-1db2-4e8a-8ba7-e68b15e77cef"
      },
      "execution_count": 4,
      "outputs": [
        {
          "output_type": "stream",
          "name": "stdout",
          "text": [
            "Downloading memotion-dataset-7k.zip to /content\n",
            " 99% 689M/695M [00:04<00:00, 175MB/s]\n",
            "100% 695M/695M [00:04<00:00, 162MB/s]\n"
          ]
        }
      ]
    },
    {
      "cell_type": "code",
      "source": [
        "!unzip -qq /content/memotion-dataset-7k.zip"
      ],
      "metadata": {
        "id": "_Fk9PPiOuhKE"
      },
      "execution_count": 5,
      "outputs": []
    },
    {
      "cell_type": "code",
      "source": [
        "import re\n",
        "import string\n",
        "import numpy as np\n",
        "import pandas as pd\n",
        "from tqdm import tqdm\n",
        "import matplotlib.pyplot as plt\n",
        "from sklearn.model_selection import train_test_split\n",
        "\n",
        "import tensorflow as tf\n",
        "from tensorflow.keras import Sequential, Model\n",
        "from tensorflow.keras.layers import Conv2D, MaxPool2D, GlobalAveragePooling2D\n",
        "from tensorflow.keras.layers import Dense, Flatten, BatchNormalization, Activation, Dropout\n",
        "from tensorflow.keras.layers import Conv1D, Embedding, GlobalAveragePooling1D \n",
        "from tensorflow.keras.optimizers import Adam, RMSprop\n",
        "from tensorflow.keras.preprocessing import image\n",
        "from keras.callbacks import EarlyStopping, ModelCheckpoint, ReduceLROnPlateau\n",
        "\n",
        "import tensorflow_addons as tfa\n",
        "\n",
        "import tensorflow_hub as hub\n",
        "import tensorflow_text as text\n",
        "\n",
        "from PIL import ImageFile, ImageOps\n",
        "ImageFile.LOAD_TRUNCATED_IMAGES = True"
      ],
      "metadata": {
        "id": "RNnUl19Muo4c",
        "outputId": "d671bded-bfcb-4e3b-8d8b-dae1f32f5a01",
        "colab": {
          "base_uri": "https://localhost:8080/"
        }
      },
      "execution_count": 2,
      "outputs": [
        {
          "output_type": "stream",
          "name": "stderr",
          "text": [
            "/usr/local/lib/python3.8/dist-packages/tensorflow_addons/utils/ensure_tf_install.py:53: UserWarning: Tensorflow Addons supports using Python ops for all Tensorflow versions above or equal to 2.9.0 and strictly below 2.12.0 (nightly versions are not supported). \n",
            " The versions of TensorFlow you are currently using is 2.8.4 and is not supported. \n",
            "Some things might work, some things might not.\n",
            "If you were to encounter a bug, do not file an issue.\n",
            "If you want to make sure you're using a tested and supported configuration, either change the TensorFlow version or the TensorFlow Addons's version. \n",
            "You can find the compatibility matrix in TensorFlow Addon's readme:\n",
            "https://github.com/tensorflow/addons\n",
            "  warnings.warn(\n"
          ]
        }
      ]
    },
    {
      "cell_type": "code",
      "source": [
        "df = pd.read_csv('/content/memotion_dataset_7k/labels.csv')\n",
        "df.drop(df.columns[df.columns.str.contains('unnamed',case = False)],axis = 1, inplace = True)\n",
        "df = df.drop(columns = ['text_ocr'])\n",
        "df.head()"
      ],
      "metadata": {
        "colab": {
          "base_uri": "https://localhost:8080/",
          "height": 206
        },
        "id": "TGiHlTUIwlKn",
        "outputId": "3f97ba34-2e02-4555-c25f-0abc4df0bddf"
      },
      "execution_count": 3,
      "outputs": [
        {
          "output_type": "execute_result",
          "data": {
            "text/plain": [
              "     image_name                                     text_corrected  \\\n",
              "0   image_1.jpg  LOOK THERE MY FRIEND LIGHTYEAR NOW ALL SOHALIK...   \n",
              "1  image_2.jpeg  The best of #10 YearChallenge! Completed in le...   \n",
              "2   image_3.JPG  Sam Thorne @Strippin ( Follow Follow Saw every...   \n",
              "3   image_4.png              10 Year Challenge - Sweet Dee Edition   \n",
              "4   image_5.png  10 YEAR CHALLENGE WITH NO FILTER 47 Hilarious ...   \n",
              "\n",
              "       humour          sarcasm       offensive      motivational  \\\n",
              "0   hilarious          general   not_offensive  not_motivational   \n",
              "1   not_funny          general   not_offensive      motivational   \n",
              "2  very_funny    not_sarcastic   not_offensive  not_motivational   \n",
              "3  very_funny  twisted_meaning  very_offensive      motivational   \n",
              "4   hilarious     very_twisted  very_offensive  not_motivational   \n",
              "\n",
              "  overall_sentiment  \n",
              "0     very_positive  \n",
              "1     very_positive  \n",
              "2          positive  \n",
              "3          positive  \n",
              "4           neutral  "
            ],
            "text/html": [
              "\n",
              "  <div id=\"df-a2282f1a-8dbb-4737-a2eb-59e36f753583\">\n",
              "    <div class=\"colab-df-container\">\n",
              "      <div>\n",
              "<style scoped>\n",
              "    .dataframe tbody tr th:only-of-type {\n",
              "        vertical-align: middle;\n",
              "    }\n",
              "\n",
              "    .dataframe tbody tr th {\n",
              "        vertical-align: top;\n",
              "    }\n",
              "\n",
              "    .dataframe thead th {\n",
              "        text-align: right;\n",
              "    }\n",
              "</style>\n",
              "<table border=\"1\" class=\"dataframe\">\n",
              "  <thead>\n",
              "    <tr style=\"text-align: right;\">\n",
              "      <th></th>\n",
              "      <th>image_name</th>\n",
              "      <th>text_corrected</th>\n",
              "      <th>humour</th>\n",
              "      <th>sarcasm</th>\n",
              "      <th>offensive</th>\n",
              "      <th>motivational</th>\n",
              "      <th>overall_sentiment</th>\n",
              "    </tr>\n",
              "  </thead>\n",
              "  <tbody>\n",
              "    <tr>\n",
              "      <th>0</th>\n",
              "      <td>image_1.jpg</td>\n",
              "      <td>LOOK THERE MY FRIEND LIGHTYEAR NOW ALL SOHALIK...</td>\n",
              "      <td>hilarious</td>\n",
              "      <td>general</td>\n",
              "      <td>not_offensive</td>\n",
              "      <td>not_motivational</td>\n",
              "      <td>very_positive</td>\n",
              "    </tr>\n",
              "    <tr>\n",
              "      <th>1</th>\n",
              "      <td>image_2.jpeg</td>\n",
              "      <td>The best of #10 YearChallenge! Completed in le...</td>\n",
              "      <td>not_funny</td>\n",
              "      <td>general</td>\n",
              "      <td>not_offensive</td>\n",
              "      <td>motivational</td>\n",
              "      <td>very_positive</td>\n",
              "    </tr>\n",
              "    <tr>\n",
              "      <th>2</th>\n",
              "      <td>image_3.JPG</td>\n",
              "      <td>Sam Thorne @Strippin ( Follow Follow Saw every...</td>\n",
              "      <td>very_funny</td>\n",
              "      <td>not_sarcastic</td>\n",
              "      <td>not_offensive</td>\n",
              "      <td>not_motivational</td>\n",
              "      <td>positive</td>\n",
              "    </tr>\n",
              "    <tr>\n",
              "      <th>3</th>\n",
              "      <td>image_4.png</td>\n",
              "      <td>10 Year Challenge - Sweet Dee Edition</td>\n",
              "      <td>very_funny</td>\n",
              "      <td>twisted_meaning</td>\n",
              "      <td>very_offensive</td>\n",
              "      <td>motivational</td>\n",
              "      <td>positive</td>\n",
              "    </tr>\n",
              "    <tr>\n",
              "      <th>4</th>\n",
              "      <td>image_5.png</td>\n",
              "      <td>10 YEAR CHALLENGE WITH NO FILTER 47 Hilarious ...</td>\n",
              "      <td>hilarious</td>\n",
              "      <td>very_twisted</td>\n",
              "      <td>very_offensive</td>\n",
              "      <td>not_motivational</td>\n",
              "      <td>neutral</td>\n",
              "    </tr>\n",
              "  </tbody>\n",
              "</table>\n",
              "</div>\n",
              "      <button class=\"colab-df-convert\" onclick=\"convertToInteractive('df-a2282f1a-8dbb-4737-a2eb-59e36f753583')\"\n",
              "              title=\"Convert this dataframe to an interactive table.\"\n",
              "              style=\"display:none;\">\n",
              "        \n",
              "  <svg xmlns=\"http://www.w3.org/2000/svg\" height=\"24px\"viewBox=\"0 0 24 24\"\n",
              "       width=\"24px\">\n",
              "    <path d=\"M0 0h24v24H0V0z\" fill=\"none\"/>\n",
              "    <path d=\"M18.56 5.44l.94 2.06.94-2.06 2.06-.94-2.06-.94-.94-2.06-.94 2.06-2.06.94zm-11 1L8.5 8.5l.94-2.06 2.06-.94-2.06-.94L8.5 2.5l-.94 2.06-2.06.94zm10 10l.94 2.06.94-2.06 2.06-.94-2.06-.94-.94-2.06-.94 2.06-2.06.94z\"/><path d=\"M17.41 7.96l-1.37-1.37c-.4-.4-.92-.59-1.43-.59-.52 0-1.04.2-1.43.59L10.3 9.45l-7.72 7.72c-.78.78-.78 2.05 0 2.83L4 21.41c.39.39.9.59 1.41.59.51 0 1.02-.2 1.41-.59l7.78-7.78 2.81-2.81c.8-.78.8-2.07 0-2.86zM5.41 20L4 18.59l7.72-7.72 1.47 1.35L5.41 20z\"/>\n",
              "  </svg>\n",
              "      </button>\n",
              "      \n",
              "  <style>\n",
              "    .colab-df-container {\n",
              "      display:flex;\n",
              "      flex-wrap:wrap;\n",
              "      gap: 12px;\n",
              "    }\n",
              "\n",
              "    .colab-df-convert {\n",
              "      background-color: #E8F0FE;\n",
              "      border: none;\n",
              "      border-radius: 50%;\n",
              "      cursor: pointer;\n",
              "      display: none;\n",
              "      fill: #1967D2;\n",
              "      height: 32px;\n",
              "      padding: 0 0 0 0;\n",
              "      width: 32px;\n",
              "    }\n",
              "\n",
              "    .colab-df-convert:hover {\n",
              "      background-color: #E2EBFA;\n",
              "      box-shadow: 0px 1px 2px rgba(60, 64, 67, 0.3), 0px 1px 3px 1px rgba(60, 64, 67, 0.15);\n",
              "      fill: #174EA6;\n",
              "    }\n",
              "\n",
              "    [theme=dark] .colab-df-convert {\n",
              "      background-color: #3B4455;\n",
              "      fill: #D2E3FC;\n",
              "    }\n",
              "\n",
              "    [theme=dark] .colab-df-convert:hover {\n",
              "      background-color: #434B5C;\n",
              "      box-shadow: 0px 1px 3px 1px rgba(0, 0, 0, 0.15);\n",
              "      filter: drop-shadow(0px 1px 2px rgba(0, 0, 0, 0.3));\n",
              "      fill: #FFFFFF;\n",
              "    }\n",
              "  </style>\n",
              "\n",
              "      <script>\n",
              "        const buttonEl =\n",
              "          document.querySelector('#df-a2282f1a-8dbb-4737-a2eb-59e36f753583 button.colab-df-convert');\n",
              "        buttonEl.style.display =\n",
              "          google.colab.kernel.accessAllowed ? 'block' : 'none';\n",
              "\n",
              "        async function convertToInteractive(key) {\n",
              "          const element = document.querySelector('#df-a2282f1a-8dbb-4737-a2eb-59e36f753583');\n",
              "          const dataTable =\n",
              "            await google.colab.kernel.invokeFunction('convertToInteractive',\n",
              "                                                     [key], {});\n",
              "          if (!dataTable) return;\n",
              "\n",
              "          const docLinkHtml = 'Like what you see? Visit the ' +\n",
              "            '<a target=\"_blank\" href=https://colab.research.google.com/notebooks/data_table.ipynb>data table notebook</a>'\n",
              "            + ' to learn more about interactive tables.';\n",
              "          element.innerHTML = '';\n",
              "          dataTable['output_type'] = 'display_data';\n",
              "          await google.colab.output.renderOutput(dataTable, element);\n",
              "          const docLink = document.createElement('div');\n",
              "          docLink.innerHTML = docLinkHtml;\n",
              "          element.appendChild(docLink);\n",
              "        }\n",
              "      </script>\n",
              "    </div>\n",
              "  </div>\n",
              "  "
            ]
          },
          "metadata": {},
          "execution_count": 3
        }
      ]
    },
    {
      "cell_type": "code",
      "source": [
        "df[df.isnull().any(axis=1)]"
      ],
      "metadata": {
        "colab": {
          "base_uri": "https://localhost:8080/",
          "height": 206
        },
        "id": "9z0R7dV3w18X",
        "outputId": "8239cd4c-e82d-46c7-c87a-d0da4913e16f"
      },
      "execution_count": 4,
      "outputs": [
        {
          "output_type": "execute_result",
          "data": {
            "text/plain": [
              "          image_name text_corrected      humour          sarcasm  \\\n",
              "119    image_120.jpg            NaN   not_funny          general   \n",
              "4799  image_4800.jpg            NaN  very_funny          general   \n",
              "6781  image_6782.jpg            NaN  very_funny  twisted_meaning   \n",
              "6784  image_6785.jpg            NaN   hilarious          general   \n",
              "6786  image_6787.jpg            NaN   not_funny    not_sarcastic   \n",
              "\n",
              "           offensive      motivational overall_sentiment  \n",
              "119    not_offensive  not_motivational          positive  \n",
              "4799          slight      motivational           neutral  \n",
              "6781   not_offensive  not_motivational          positive  \n",
              "6784   not_offensive  not_motivational          positive  \n",
              "6786  very_offensive      motivational          positive  "
            ],
            "text/html": [
              "\n",
              "  <div id=\"df-70da4766-b987-40b6-9ecc-929704c34706\">\n",
              "    <div class=\"colab-df-container\">\n",
              "      <div>\n",
              "<style scoped>\n",
              "    .dataframe tbody tr th:only-of-type {\n",
              "        vertical-align: middle;\n",
              "    }\n",
              "\n",
              "    .dataframe tbody tr th {\n",
              "        vertical-align: top;\n",
              "    }\n",
              "\n",
              "    .dataframe thead th {\n",
              "        text-align: right;\n",
              "    }\n",
              "</style>\n",
              "<table border=\"1\" class=\"dataframe\">\n",
              "  <thead>\n",
              "    <tr style=\"text-align: right;\">\n",
              "      <th></th>\n",
              "      <th>image_name</th>\n",
              "      <th>text_corrected</th>\n",
              "      <th>humour</th>\n",
              "      <th>sarcasm</th>\n",
              "      <th>offensive</th>\n",
              "      <th>motivational</th>\n",
              "      <th>overall_sentiment</th>\n",
              "    </tr>\n",
              "  </thead>\n",
              "  <tbody>\n",
              "    <tr>\n",
              "      <th>119</th>\n",
              "      <td>image_120.jpg</td>\n",
              "      <td>NaN</td>\n",
              "      <td>not_funny</td>\n",
              "      <td>general</td>\n",
              "      <td>not_offensive</td>\n",
              "      <td>not_motivational</td>\n",
              "      <td>positive</td>\n",
              "    </tr>\n",
              "    <tr>\n",
              "      <th>4799</th>\n",
              "      <td>image_4800.jpg</td>\n",
              "      <td>NaN</td>\n",
              "      <td>very_funny</td>\n",
              "      <td>general</td>\n",
              "      <td>slight</td>\n",
              "      <td>motivational</td>\n",
              "      <td>neutral</td>\n",
              "    </tr>\n",
              "    <tr>\n",
              "      <th>6781</th>\n",
              "      <td>image_6782.jpg</td>\n",
              "      <td>NaN</td>\n",
              "      <td>very_funny</td>\n",
              "      <td>twisted_meaning</td>\n",
              "      <td>not_offensive</td>\n",
              "      <td>not_motivational</td>\n",
              "      <td>positive</td>\n",
              "    </tr>\n",
              "    <tr>\n",
              "      <th>6784</th>\n",
              "      <td>image_6785.jpg</td>\n",
              "      <td>NaN</td>\n",
              "      <td>hilarious</td>\n",
              "      <td>general</td>\n",
              "      <td>not_offensive</td>\n",
              "      <td>not_motivational</td>\n",
              "      <td>positive</td>\n",
              "    </tr>\n",
              "    <tr>\n",
              "      <th>6786</th>\n",
              "      <td>image_6787.jpg</td>\n",
              "      <td>NaN</td>\n",
              "      <td>not_funny</td>\n",
              "      <td>not_sarcastic</td>\n",
              "      <td>very_offensive</td>\n",
              "      <td>motivational</td>\n",
              "      <td>positive</td>\n",
              "    </tr>\n",
              "  </tbody>\n",
              "</table>\n",
              "</div>\n",
              "      <button class=\"colab-df-convert\" onclick=\"convertToInteractive('df-70da4766-b987-40b6-9ecc-929704c34706')\"\n",
              "              title=\"Convert this dataframe to an interactive table.\"\n",
              "              style=\"display:none;\">\n",
              "        \n",
              "  <svg xmlns=\"http://www.w3.org/2000/svg\" height=\"24px\"viewBox=\"0 0 24 24\"\n",
              "       width=\"24px\">\n",
              "    <path d=\"M0 0h24v24H0V0z\" fill=\"none\"/>\n",
              "    <path d=\"M18.56 5.44l.94 2.06.94-2.06 2.06-.94-2.06-.94-.94-2.06-.94 2.06-2.06.94zm-11 1L8.5 8.5l.94-2.06 2.06-.94-2.06-.94L8.5 2.5l-.94 2.06-2.06.94zm10 10l.94 2.06.94-2.06 2.06-.94-2.06-.94-.94-2.06-.94 2.06-2.06.94z\"/><path d=\"M17.41 7.96l-1.37-1.37c-.4-.4-.92-.59-1.43-.59-.52 0-1.04.2-1.43.59L10.3 9.45l-7.72 7.72c-.78.78-.78 2.05 0 2.83L4 21.41c.39.39.9.59 1.41.59.51 0 1.02-.2 1.41-.59l7.78-7.78 2.81-2.81c.8-.78.8-2.07 0-2.86zM5.41 20L4 18.59l7.72-7.72 1.47 1.35L5.41 20z\"/>\n",
              "  </svg>\n",
              "      </button>\n",
              "      \n",
              "  <style>\n",
              "    .colab-df-container {\n",
              "      display:flex;\n",
              "      flex-wrap:wrap;\n",
              "      gap: 12px;\n",
              "    }\n",
              "\n",
              "    .colab-df-convert {\n",
              "      background-color: #E8F0FE;\n",
              "      border: none;\n",
              "      border-radius: 50%;\n",
              "      cursor: pointer;\n",
              "      display: none;\n",
              "      fill: #1967D2;\n",
              "      height: 32px;\n",
              "      padding: 0 0 0 0;\n",
              "      width: 32px;\n",
              "    }\n",
              "\n",
              "    .colab-df-convert:hover {\n",
              "      background-color: #E2EBFA;\n",
              "      box-shadow: 0px 1px 2px rgba(60, 64, 67, 0.3), 0px 1px 3px 1px rgba(60, 64, 67, 0.15);\n",
              "      fill: #174EA6;\n",
              "    }\n",
              "\n",
              "    [theme=dark] .colab-df-convert {\n",
              "      background-color: #3B4455;\n",
              "      fill: #D2E3FC;\n",
              "    }\n",
              "\n",
              "    [theme=dark] .colab-df-convert:hover {\n",
              "      background-color: #434B5C;\n",
              "      box-shadow: 0px 1px 3px 1px rgba(0, 0, 0, 0.15);\n",
              "      filter: drop-shadow(0px 1px 2px rgba(0, 0, 0, 0.3));\n",
              "      fill: #FFFFFF;\n",
              "    }\n",
              "  </style>\n",
              "\n",
              "      <script>\n",
              "        const buttonEl =\n",
              "          document.querySelector('#df-70da4766-b987-40b6-9ecc-929704c34706 button.colab-df-convert');\n",
              "        buttonEl.style.display =\n",
              "          google.colab.kernel.accessAllowed ? 'block' : 'none';\n",
              "\n",
              "        async function convertToInteractive(key) {\n",
              "          const element = document.querySelector('#df-70da4766-b987-40b6-9ecc-929704c34706');\n",
              "          const dataTable =\n",
              "            await google.colab.kernel.invokeFunction('convertToInteractive',\n",
              "                                                     [key], {});\n",
              "          if (!dataTable) return;\n",
              "\n",
              "          const docLinkHtml = 'Like what you see? Visit the ' +\n",
              "            '<a target=\"_blank\" href=https://colab.research.google.com/notebooks/data_table.ipynb>data table notebook</a>'\n",
              "            + ' to learn more about interactive tables.';\n",
              "          element.innerHTML = '';\n",
              "          dataTable['output_type'] = 'display_data';\n",
              "          await google.colab.output.renderOutput(dataTable, element);\n",
              "          const docLink = document.createElement('div');\n",
              "          docLink.innerHTML = docLinkHtml;\n",
              "          element.appendChild(docLink);\n",
              "        }\n",
              "      </script>\n",
              "    </div>\n",
              "  </div>\n",
              "  "
            ]
          },
          "metadata": {},
          "execution_count": 4
        }
      ]
    },
    {
      "cell_type": "code",
      "source": [
        "full_df = df.copy()\n",
        "full_df.isnull().any()"
      ],
      "metadata": {
        "colab": {
          "base_uri": "https://localhost:8080/"
        },
        "id": "GKbHIH9FxC-c",
        "outputId": "67f89332-a329-461b-e795-7df1205fa0e3"
      },
      "execution_count": 5,
      "outputs": [
        {
          "output_type": "execute_result",
          "data": {
            "text/plain": [
              "image_name           False\n",
              "text_corrected        True\n",
              "humour               False\n",
              "sarcasm              False\n",
              "offensive            False\n",
              "motivational         False\n",
              "overall_sentiment    False\n",
              "dtype: bool"
            ]
          },
          "metadata": {},
          "execution_count": 5
        }
      ]
    },
    {
      "cell_type": "code",
      "source": [
        "clean_df = df.copy()\n",
        "clean_df.dropna(inplace=True)\n",
        "clean_df.isnull().any()"
      ],
      "metadata": {
        "colab": {
          "base_uri": "https://localhost:8080/"
        },
        "id": "5W1XiWr7xJmf",
        "outputId": "3a89b9d8-4168-473a-f9d3-c7ded1d93c90"
      },
      "execution_count": 6,
      "outputs": [
        {
          "output_type": "execute_result",
          "data": {
            "text/plain": [
              "image_name           False\n",
              "text_corrected       False\n",
              "humour               False\n",
              "sarcasm              False\n",
              "offensive            False\n",
              "motivational         False\n",
              "overall_sentiment    False\n",
              "dtype: bool"
            ]
          },
          "metadata": {},
          "execution_count": 6
        }
      ]
    },
    {
      "cell_type": "code",
      "source": [
        "df = df.replace({'humour': {'not_funny': 0, 'funny': 1, 'very_funny': 2, 'hilarious':3},\n",
        "            'sarcasm': {'not_sarcastic': 0, 'general': 1, 'twisted_meaning': 2, 'very_twisted': 3},\n",
        "            'offensive': {'not_offensive': 0, 'slight': 1, 'very_offensive': 2, 'hateful_offensive': 3},\n",
        "            'motivational': {'not_motivational': 0, 'motivational': 1},\n",
        "            'overall_sentiment': {'very_negative': 0, 'negative': 1, 'neutral': 2, 'positive': 3, 'very_positive': 4}})"
      ],
      "metadata": {
        "id": "1WVYtKdHxNac"
      },
      "execution_count": 7,
      "outputs": []
    },
    {
      "cell_type": "code",
      "source": [
        "width = 100\n",
        "height = 100\n",
        "X_full = []\n",
        "X_full_path = []\n",
        "for i in tqdm(range(full_df.shape[0])):\n",
        "    path = '/content/memotion_dataset_7k/images/'+full_df['image_name'][i]\n",
        "    img = image.load_img(path,target_size=(width,height,3))\n",
        "    img = image.img_to_array(img)\n",
        "    img = img/255.0\n",
        "    X_full.append(img)\n",
        "    X_full_path.append(path)"
      ],
      "metadata": {
        "colab": {
          "base_uri": "https://localhost:8080/"
        },
        "id": "CwtfftOAxWod",
        "outputId": "c889a165-118d-4466-b6dc-2c8fe7d5d848"
      },
      "execution_count": 8,
      "outputs": [
        {
          "output_type": "stream",
          "name": "stderr",
          "text": [
            " 93%|█████████▎| 6501/6992 [00:51<00:03, 156.80it/s]/usr/local/lib/python3.8/dist-packages/PIL/TiffImagePlugin.py:788: UserWarning: Corrupt EXIF data.  Expecting to read 2 bytes but only got 0. \n",
            "  warnings.warn(str(msg))\n",
            " 95%|█████████▌| 6670/6992 [00:52<00:02, 122.21it/s]/usr/local/lib/python3.8/dist-packages/PIL/Image.py:959: UserWarning: Palette images with Transparency expressed in bytes should be converted to RGBA images\n",
            "  warnings.warn(\n",
            "100%|██████████| 6992/6992 [00:54<00:00, 127.51it/s]\n"
          ]
        }
      ]
    },
    {
      "cell_type": "code",
      "source": [
        "width = 100\n",
        "height = 100\n",
        "X_cleaned = []\n",
        "X_cleaned_path = []\n",
        "for i in tqdm(range(clean_df.shape[0])):\n",
        "    if i in [119, 4799, 6781, 6784, 6786]:\n",
        "        pass\n",
        "    else:\n",
        "        path = '/content/memotion_dataset_7k/images/'+clean_df['image_name'][i]\n",
        "        img = image.load_img(path,target_size=(width,height,3))\n",
        "        img = image.img_to_array(img)\n",
        "        img = img/255.0\n",
        "        X_cleaned.append(img)\n",
        "        X_cleaned_path.append(path)"
      ],
      "metadata": {
        "colab": {
          "base_uri": "https://localhost:8080/"
        },
        "id": "mL_GTxTzxdOA",
        "outputId": "cedde184-c973-47b9-ed0a-7a95f71d4f47"
      },
      "execution_count": 9,
      "outputs": [
        {
          "output_type": "stream",
          "name": "stderr",
          "text": [
            "100%|██████████| 6987/6987 [00:47<00:00, 146.33it/s]\n"
          ]
        }
      ]
    },
    {
      "cell_type": "code",
      "source": [
        "deleted_paths = [paths for paths in X_full_path + X_cleaned_path if paths not in X_full_path or paths not in X_cleaned_path]\n",
        "deleted_paths"
      ],
      "metadata": {
        "colab": {
          "base_uri": "https://localhost:8080/"
        },
        "id": "4APwz6fZyEwY",
        "outputId": "f01ae30a-e8a4-4f0f-a12b-4f2bf0486e0d"
      },
      "execution_count": 10,
      "outputs": [
        {
          "output_type": "execute_result",
          "data": {
            "text/plain": [
              "['/content/memotion_dataset_7k/images/image_120.jpg',\n",
              " '/content/memotion_dataset_7k/images/image_4800.jpg',\n",
              " '/content/memotion_dataset_7k/images/image_6782.jpg',\n",
              " '/content/memotion_dataset_7k/images/image_6785.jpg',\n",
              " '/content/memotion_dataset_7k/images/image_6787.jpg',\n",
              " '/content/memotion_dataset_7k/images/image_6988.jpg',\n",
              " '/content/memotion_dataset_7k/images/image_6989.jpg',\n",
              " '/content/memotion_dataset_7k/images/image_6990.png',\n",
              " '/content/memotion_dataset_7k/images/image_6991.jpg',\n",
              " '/content/memotion_dataset_7k/images/image_6992.jpg']"
            ]
          },
          "metadata": {},
          "execution_count": 10
        }
      ]
    },
    {
      "cell_type": "code",
      "source": [
        "delete_var = [full_df, clean_df, X_cleaned, X_full, X_cleaned_path, X_full_path]\n",
        "for i in delete_var:\n",
        "    del i"
      ],
      "metadata": {
        "id": "xba75I_IyL_e"
      },
      "execution_count": 11,
      "outputs": []
    },
    {
      "cell_type": "code",
      "source": [
        "len(clean_df)"
      ],
      "metadata": {
        "id": "gbiDq23iHJ2t",
        "outputId": "ba629dda-b4a5-4e6d-eea2-f0187b929d2f",
        "colab": {
          "base_uri": "https://localhost:8080/"
        }
      },
      "execution_count": 12,
      "outputs": [
        {
          "output_type": "execute_result",
          "data": {
            "text/plain": [
              "6987"
            ]
          },
          "metadata": {},
          "execution_count": 12
        }
      ]
    },
    {
      "cell_type": "code",
      "source": [
        "width = 100\n",
        "height = 100\n",
        "X = []\n",
        "for i in tqdm(range(clean_df.shape[0])):\n",
        "    if i in [119, 4799, 6781, 6784, 6786]:\n",
        "        pass\n",
        "    else:\n",
        "        path = '/content/memotion_dataset_7k/images/'+clean_df['image_name'][i]\n",
        "        img = image.load_img(path,target_size=(width,height,3))\n",
        "        img = image.img_to_array(img)\n",
        "        img = img/255.0\n",
        "        X.append(img)"
      ],
      "metadata": {
        "colab": {
          "base_uri": "https://localhost:8080/"
        },
        "id": "E0slxn-lyX3L",
        "outputId": "d49e9ab9-f256-4b45-e7b1-ed987923d197"
      },
      "execution_count": 13,
      "outputs": [
        {
          "output_type": "stream",
          "name": "stderr",
          "text": [
            "100%|██████████| 6987/6987 [00:47<00:00, 146.62it/s]\n"
          ]
        }
      ]
    },
    {
      "cell_type": "code",
      "source": [
        "X = np.array(X)"
      ],
      "metadata": {
        "id": "K-l6zWvHybF4"
      },
      "execution_count": 14,
      "outputs": []
    },
    {
      "cell_type": "code",
      "source": [
        "X.shape"
      ],
      "metadata": {
        "colab": {
          "base_uri": "https://localhost:8080/"
        },
        "id": "jwfbi-UMy1WE",
        "outputId": "da533321-4319-455a-f19e-93de56bc298a"
      },
      "execution_count": 15,
      "outputs": [
        {
          "output_type": "execute_result",
          "data": {
            "text/plain": [
              "(6982, 100, 100, 3)"
            ]
          },
          "metadata": {},
          "execution_count": 15
        }
      ]
    },
    {
      "cell_type": "code",
      "source": [
        "rows_to_drop = ['image_120.jpg',\n",
        "              'image_4800.jpg',\n",
        "              'image_6782.jpg',\n",
        "              'image_6785.jpg',\n",
        "              'image_6787.jpg',\n",
        "              'image_6988.jpg',\n",
        "              'image_6989.jpg',\n",
        "              'image_6990.png',\n",
        "              'image_6991.jpg',\n",
        "              'image_6992.jpg']"
      ],
      "metadata": {
        "id": "YXijFzloy4eh"
      },
      "execution_count": 16,
      "outputs": []
    },
    {
      "cell_type": "code",
      "source": [
        "cleaner_df = df\n",
        "cleaner_df.head()"
      ],
      "metadata": {
        "colab": {
          "base_uri": "https://localhost:8080/",
          "height": 206
        },
        "id": "hDJJianFy6Vu",
        "outputId": "27983ba3-d8bb-4d33-c9cf-ffeacac09a4a"
      },
      "execution_count": 17,
      "outputs": [
        {
          "output_type": "execute_result",
          "data": {
            "text/plain": [
              "     image_name                                     text_corrected  humour  \\\n",
              "0   image_1.jpg  LOOK THERE MY FRIEND LIGHTYEAR NOW ALL SOHALIK...       3   \n",
              "1  image_2.jpeg  The best of #10 YearChallenge! Completed in le...       0   \n",
              "2   image_3.JPG  Sam Thorne @Strippin ( Follow Follow Saw every...       2   \n",
              "3   image_4.png              10 Year Challenge - Sweet Dee Edition       2   \n",
              "4   image_5.png  10 YEAR CHALLENGE WITH NO FILTER 47 Hilarious ...       3   \n",
              "\n",
              "   sarcasm  offensive  motivational  overall_sentiment  \n",
              "0        1          0             0                  4  \n",
              "1        1          0             1                  4  \n",
              "2        0          0             0                  3  \n",
              "3        2          2             1                  3  \n",
              "4        3          2             0                  2  "
            ],
            "text/html": [
              "\n",
              "  <div id=\"df-7e4e40d1-078c-4dba-8cf3-9b637079d291\">\n",
              "    <div class=\"colab-df-container\">\n",
              "      <div>\n",
              "<style scoped>\n",
              "    .dataframe tbody tr th:only-of-type {\n",
              "        vertical-align: middle;\n",
              "    }\n",
              "\n",
              "    .dataframe tbody tr th {\n",
              "        vertical-align: top;\n",
              "    }\n",
              "\n",
              "    .dataframe thead th {\n",
              "        text-align: right;\n",
              "    }\n",
              "</style>\n",
              "<table border=\"1\" class=\"dataframe\">\n",
              "  <thead>\n",
              "    <tr style=\"text-align: right;\">\n",
              "      <th></th>\n",
              "      <th>image_name</th>\n",
              "      <th>text_corrected</th>\n",
              "      <th>humour</th>\n",
              "      <th>sarcasm</th>\n",
              "      <th>offensive</th>\n",
              "      <th>motivational</th>\n",
              "      <th>overall_sentiment</th>\n",
              "    </tr>\n",
              "  </thead>\n",
              "  <tbody>\n",
              "    <tr>\n",
              "      <th>0</th>\n",
              "      <td>image_1.jpg</td>\n",
              "      <td>LOOK THERE MY FRIEND LIGHTYEAR NOW ALL SOHALIK...</td>\n",
              "      <td>3</td>\n",
              "      <td>1</td>\n",
              "      <td>0</td>\n",
              "      <td>0</td>\n",
              "      <td>4</td>\n",
              "    </tr>\n",
              "    <tr>\n",
              "      <th>1</th>\n",
              "      <td>image_2.jpeg</td>\n",
              "      <td>The best of #10 YearChallenge! Completed in le...</td>\n",
              "      <td>0</td>\n",
              "      <td>1</td>\n",
              "      <td>0</td>\n",
              "      <td>1</td>\n",
              "      <td>4</td>\n",
              "    </tr>\n",
              "    <tr>\n",
              "      <th>2</th>\n",
              "      <td>image_3.JPG</td>\n",
              "      <td>Sam Thorne @Strippin ( Follow Follow Saw every...</td>\n",
              "      <td>2</td>\n",
              "      <td>0</td>\n",
              "      <td>0</td>\n",
              "      <td>0</td>\n",
              "      <td>3</td>\n",
              "    </tr>\n",
              "    <tr>\n",
              "      <th>3</th>\n",
              "      <td>image_4.png</td>\n",
              "      <td>10 Year Challenge - Sweet Dee Edition</td>\n",
              "      <td>2</td>\n",
              "      <td>2</td>\n",
              "      <td>2</td>\n",
              "      <td>1</td>\n",
              "      <td>3</td>\n",
              "    </tr>\n",
              "    <tr>\n",
              "      <th>4</th>\n",
              "      <td>image_5.png</td>\n",
              "      <td>10 YEAR CHALLENGE WITH NO FILTER 47 Hilarious ...</td>\n",
              "      <td>3</td>\n",
              "      <td>3</td>\n",
              "      <td>2</td>\n",
              "      <td>0</td>\n",
              "      <td>2</td>\n",
              "    </tr>\n",
              "  </tbody>\n",
              "</table>\n",
              "</div>\n",
              "      <button class=\"colab-df-convert\" onclick=\"convertToInteractive('df-7e4e40d1-078c-4dba-8cf3-9b637079d291')\"\n",
              "              title=\"Convert this dataframe to an interactive table.\"\n",
              "              style=\"display:none;\">\n",
              "        \n",
              "  <svg xmlns=\"http://www.w3.org/2000/svg\" height=\"24px\"viewBox=\"0 0 24 24\"\n",
              "       width=\"24px\">\n",
              "    <path d=\"M0 0h24v24H0V0z\" fill=\"none\"/>\n",
              "    <path d=\"M18.56 5.44l.94 2.06.94-2.06 2.06-.94-2.06-.94-.94-2.06-.94 2.06-2.06.94zm-11 1L8.5 8.5l.94-2.06 2.06-.94-2.06-.94L8.5 2.5l-.94 2.06-2.06.94zm10 10l.94 2.06.94-2.06 2.06-.94-2.06-.94-.94-2.06-.94 2.06-2.06.94z\"/><path d=\"M17.41 7.96l-1.37-1.37c-.4-.4-.92-.59-1.43-.59-.52 0-1.04.2-1.43.59L10.3 9.45l-7.72 7.72c-.78.78-.78 2.05 0 2.83L4 21.41c.39.39.9.59 1.41.59.51 0 1.02-.2 1.41-.59l7.78-7.78 2.81-2.81c.8-.78.8-2.07 0-2.86zM5.41 20L4 18.59l7.72-7.72 1.47 1.35L5.41 20z\"/>\n",
              "  </svg>\n",
              "      </button>\n",
              "      \n",
              "  <style>\n",
              "    .colab-df-container {\n",
              "      display:flex;\n",
              "      flex-wrap:wrap;\n",
              "      gap: 12px;\n",
              "    }\n",
              "\n",
              "    .colab-df-convert {\n",
              "      background-color: #E8F0FE;\n",
              "      border: none;\n",
              "      border-radius: 50%;\n",
              "      cursor: pointer;\n",
              "      display: none;\n",
              "      fill: #1967D2;\n",
              "      height: 32px;\n",
              "      padding: 0 0 0 0;\n",
              "      width: 32px;\n",
              "    }\n",
              "\n",
              "    .colab-df-convert:hover {\n",
              "      background-color: #E2EBFA;\n",
              "      box-shadow: 0px 1px 2px rgba(60, 64, 67, 0.3), 0px 1px 3px 1px rgba(60, 64, 67, 0.15);\n",
              "      fill: #174EA6;\n",
              "    }\n",
              "\n",
              "    [theme=dark] .colab-df-convert {\n",
              "      background-color: #3B4455;\n",
              "      fill: #D2E3FC;\n",
              "    }\n",
              "\n",
              "    [theme=dark] .colab-df-convert:hover {\n",
              "      background-color: #434B5C;\n",
              "      box-shadow: 0px 1px 3px 1px rgba(0, 0, 0, 0.15);\n",
              "      filter: drop-shadow(0px 1px 2px rgba(0, 0, 0, 0.3));\n",
              "      fill: #FFFFFF;\n",
              "    }\n",
              "  </style>\n",
              "\n",
              "      <script>\n",
              "        const buttonEl =\n",
              "          document.querySelector('#df-7e4e40d1-078c-4dba-8cf3-9b637079d291 button.colab-df-convert');\n",
              "        buttonEl.style.display =\n",
              "          google.colab.kernel.accessAllowed ? 'block' : 'none';\n",
              "\n",
              "        async function convertToInteractive(key) {\n",
              "          const element = document.querySelector('#df-7e4e40d1-078c-4dba-8cf3-9b637079d291');\n",
              "          const dataTable =\n",
              "            await google.colab.kernel.invokeFunction('convertToInteractive',\n",
              "                                                     [key], {});\n",
              "          if (!dataTable) return;\n",
              "\n",
              "          const docLinkHtml = 'Like what you see? Visit the ' +\n",
              "            '<a target=\"_blank\" href=https://colab.research.google.com/notebooks/data_table.ipynb>data table notebook</a>'\n",
              "            + ' to learn more about interactive tables.';\n",
              "          element.innerHTML = '';\n",
              "          dataTable['output_type'] = 'display_data';\n",
              "          await google.colab.output.renderOutput(dataTable, element);\n",
              "          const docLink = document.createElement('div');\n",
              "          docLink.innerHTML = docLinkHtml;\n",
              "          element.appendChild(docLink);\n",
              "        }\n",
              "      </script>\n",
              "    </div>\n",
              "  </div>\n",
              "  "
            ]
          },
          "metadata": {},
          "execution_count": 17
        }
      ]
    },
    {
      "cell_type": "code",
      "source": [
        "len(cleaner_df)"
      ],
      "metadata": {
        "id": "18D21gq3HDjQ",
        "outputId": "cc6f273c-3c54-46ee-8cd5-fa6f4b587780",
        "colab": {
          "base_uri": "https://localhost:8080/"
        }
      },
      "execution_count": 18,
      "outputs": [
        {
          "output_type": "execute_result",
          "data": {
            "text/plain": [
              "6992"
            ]
          },
          "metadata": {},
          "execution_count": 18
        }
      ]
    },
    {
      "cell_type": "code",
      "source": [
        "for images in rows_to_drop:\n",
        "    cleaner_df.drop(cleaner_df[cleaner_df['image_name'] == images].index, inplace=True)"
      ],
      "metadata": {
        "id": "ry3qAbMCy8Oi"
      },
      "execution_count": 19,
      "outputs": []
    },
    {
      "cell_type": "code",
      "source": [
        "cleaner_df.shape"
      ],
      "metadata": {
        "colab": {
          "base_uri": "https://localhost:8080/"
        },
        "id": "9mpgoTcLy-CU",
        "outputId": "ba8da377-2580-46c9-de13-3b8d0af2ea1c"
      },
      "execution_count": 20,
      "outputs": [
        {
          "output_type": "execute_result",
          "data": {
            "text/plain": [
              "(6982, 7)"
            ]
          },
          "metadata": {},
          "execution_count": 20
        }
      ]
    },
    {
      "cell_type": "code",
      "source": [
        "np.save('image_array', X)"
      ],
      "metadata": {
        "id": "qojP8mnDzAJy"
      },
      "execution_count": 21,
      "outputs": []
    },
    {
      "cell_type": "code",
      "source": [
        "Y = cleaner_df.iloc[:,2:]\n",
        "Y.shape"
      ],
      "metadata": {
        "colab": {
          "base_uri": "https://localhost:8080/"
        },
        "id": "bUAjE6hmzCrx",
        "outputId": "3af1d710-6c9e-4f1a-80a0-6a0fa62da3f4"
      },
      "execution_count": 22,
      "outputs": [
        {
          "output_type": "execute_result",
          "data": {
            "text/plain": [
              "(6982, 5)"
            ]
          },
          "metadata": {},
          "execution_count": 22
        }
      ]
    },
    {
      "cell_type": "code",
      "source": [
        "X.shape, Y.shape"
      ],
      "metadata": {
        "id": "5ROLvCU3H_Cl",
        "outputId": "bf7bee7b-0c22-46fa-8abe-e8b8462d38e3",
        "colab": {
          "base_uri": "https://localhost:8080/"
        }
      },
      "execution_count": 23,
      "outputs": [
        {
          "output_type": "execute_result",
          "data": {
            "text/plain": [
              "((6982, 100, 100, 3), (6982, 5))"
            ]
          },
          "metadata": {},
          "execution_count": 23
        }
      ]
    },
    {
      "cell_type": "code",
      "source": [
        "data_augmentation = tf.keras.Sequential([\n",
        "  tf.keras.layers.experimental.preprocessing.RandomFlip('horizontal'),\n",
        "  tf.keras.layers.experimental.preprocessing.RandomRotation(0.2),\n",
        "])\n",
        "\n",
        "preprocess_input = tf.keras.applications.resnet_v2.preprocess_input\n",
        "\n",
        "rescale = tf.keras.layers.experimental.preprocessing.Rescaling(1./127.5, offset= -1)"
      ],
      "metadata": {
        "id": "b1uaUTOXzGFc"
      },
      "execution_count": 24,
      "outputs": []
    },
    {
      "cell_type": "code",
      "source": [
        "base_model_1 = tf.keras.applications.ResNet50(input_shape=X[0].shape,\n",
        "                                               include_top=False,\n",
        "                                               weights='imagenet')\n",
        "base_model_2 = tf.keras.applications.VGG16(input_shape=X[0].shape,\n",
        "                                               include_top=False,\n",
        "                                               weights='imagenet')"
      ],
      "metadata": {
        "id": "TNRplYElz5Lc"
      },
      "execution_count": 25,
      "outputs": []
    },
    {
      "cell_type": "code",
      "source": [
        "base_model_1.trainable = False\n",
        "base_model_2.trainable = False"
      ],
      "metadata": {
        "id": "mtDuk0vpz7WZ"
      },
      "execution_count": 26,
      "outputs": []
    },
    {
      "cell_type": "code",
      "source": [
        "global_average_layer = GlobalAveragePooling2D()"
      ],
      "metadata": {
        "id": "mtx1fqoLz_YP"
      },
      "execution_count": 27,
      "outputs": []
    },
    {
      "cell_type": "code",
      "source": [
        "X_train, X_test, y_train, y_test = train_test_split(X, Y, test_size = 0.2, random_state=42)"
      ],
      "metadata": {
        "id": "lNKd_YaJ0A7_"
      },
      "execution_count": 28,
      "outputs": []
    },
    {
      "cell_type": "code",
      "source": [
        "del X"
      ],
      "metadata": {
        "id": "nYWHmXtX0CyD"
      },
      "execution_count": 29,
      "outputs": []
    },
    {
      "cell_type": "code",
      "source": [
        "image_input = tf.keras.Input(shape=(100, 100, 3), name = 'image_input')\n",
        "iamge_layers = data_augmentation(image_input)\n",
        "iamge_layers = preprocess_input(iamge_layers)\n",
        "layer_bm_1 = base_model_1(image_input, training=False)\n",
        "layer_bm_1 = Conv2D(2048, kernel_size=2,padding='valid')(layer_bm_1)\n",
        "layer_bm_1 = Dense(512)(layer_bm_1)\n",
        "layer_bm_2 = base_model_2(image_input, training=False)\n",
        "layer_bm_2 = Dense(512)(layer_bm_2)\n",
        "layers = tf.keras.layers.concatenate([layer_bm_1, layer_bm_2])\n",
        "iamge_layers = global_average_layer(layer_bm_1)\n",
        "image_layers = Dropout(0.2, name = 'dropout_layer')(iamge_layers)"
      ],
      "metadata": {
        "id": "DpIzL9FQ0Ej1"
      },
      "execution_count": 30,
      "outputs": []
    },
    {
      "cell_type": "code",
      "source": [
        "cleaner_df.shape"
      ],
      "metadata": {
        "id": "FQQKNEz7IMB4",
        "outputId": "2fe35cf9-2282-4c32-ef9c-31eaf6151044",
        "colab": {
          "base_uri": "https://localhost:8080/"
        }
      },
      "execution_count": 31,
      "outputs": [
        {
          "output_type": "execute_result",
          "data": {
            "text/plain": [
              "(6982, 7)"
            ]
          },
          "metadata": {},
          "execution_count": 31
        }
      ]
    },
    {
      "cell_type": "code",
      "source": [
        "def standardization(data):\n",
        "    data = data.apply(lambda x: x.lower())\n",
        "    data = data.apply(lambda x: re.sub(r'\\d+', '', x))\n",
        "    data = data.apply(lambda x: re.sub(r'.com', '', x, flags=re.MULTILINE))\n",
        "    data = data.apply(lambda x: x.translate(str.maketrans('', '', string.punctuation)))\n",
        "    return data\n",
        "\n",
        "df['text_corrected'] = standardization(cleaner_df.text_corrected)"
      ],
      "metadata": {
        "id": "cWCC69BM0GjT"
      },
      "execution_count": 32,
      "outputs": []
    },
    {
      "cell_type": "code",
      "source": [
        "X_text_train, X_text_test, y_text_train, y_text_test = train_test_split(cleaner_df.text_corrected, Y, test_size = 0.2, random_state=42)"
      ],
      "metadata": {
        "id": "camibfNWGvQA"
      },
      "execution_count": 33,
      "outputs": []
    },
    {
      "cell_type": "code",
      "source": [
        "#@title Choose a BERT model to fine-tune\n",
        "\n",
        "bert_model_name = 'small_bert/bert_en_uncased_L-4_H-512_A-8'  #@param [\"bert_en_uncased_L-12_H-768_A-12\", \"bert_en_cased_L-12_H-768_A-12\", \"bert_multi_cased_L-12_H-768_A-12\", \"small_bert/bert_en_uncased_L-2_H-128_A-2\", \"small_bert/bert_en_uncased_L-2_H-256_A-4\", \"small_bert/bert_en_uncased_L-2_H-512_A-8\", \"small_bert/bert_en_uncased_L-2_H-768_A-12\", \"small_bert/bert_en_uncased_L-4_H-128_A-2\", \"small_bert/bert_en_uncased_L-4_H-256_A-4\", \"small_bert/bert_en_uncased_L-4_H-512_A-8\", \"small_bert/bert_en_uncased_L-4_H-768_A-12\", \"small_bert/bert_en_uncased_L-6_H-128_A-2\", \"small_bert/bert_en_uncased_L-6_H-256_A-4\", \"small_bert/bert_en_uncased_L-6_H-512_A-8\", \"small_bert/bert_en_uncased_L-6_H-768_A-12\", \"small_bert/bert_en_uncased_L-8_H-128_A-2\", \"small_bert/bert_en_uncased_L-8_H-256_A-4\", \"small_bert/bert_en_uncased_L-8_H-512_A-8\", \"small_bert/bert_en_uncased_L-8_H-768_A-12\", \"small_bert/bert_en_uncased_L-10_H-128_A-2\", \"small_bert/bert_en_uncased_L-10_H-256_A-4\", \"small_bert/bert_en_uncased_L-10_H-512_A-8\", \"small_bert/bert_en_uncased_L-10_H-768_A-12\", \"small_bert/bert_en_uncased_L-12_H-128_A-2\", \"small_bert/bert_en_uncased_L-12_H-256_A-4\", \"small_bert/bert_en_uncased_L-12_H-512_A-8\", \"small_bert/bert_en_uncased_L-12_H-768_A-12\", \"albert_en_base\", \"electra_small\", \"electra_base\", \"experts_pubmed\", \"experts_wiki_books\", \"talking-heads_base\"]\n",
        "\n",
        "map_name_to_handle = {\n",
        "    'bert_en_uncased_L-12_H-768_A-12':\n",
        "        'https://tfhub.dev/tensorflow/bert_en_uncased_L-12_H-768_A-12/3',\n",
        "    'bert_en_cased_L-12_H-768_A-12':\n",
        "        'https://tfhub.dev/tensorflow/bert_en_cased_L-12_H-768_A-12/3',\n",
        "    'bert_multi_cased_L-12_H-768_A-12':\n",
        "        'https://tfhub.dev/tensorflow/bert_multi_cased_L-12_H-768_A-12/3',\n",
        "    'small_bert/bert_en_uncased_L-2_H-128_A-2':\n",
        "        'https://tfhub.dev/tensorflow/small_bert/bert_en_uncased_L-2_H-128_A-2/1',\n",
        "    'small_bert/bert_en_uncased_L-2_H-256_A-4':\n",
        "        'https://tfhub.dev/tensorflow/small_bert/bert_en_uncased_L-2_H-256_A-4/1',\n",
        "    'small_bert/bert_en_uncased_L-2_H-512_A-8':\n",
        "        'https://tfhub.dev/tensorflow/small_bert/bert_en_uncased_L-2_H-512_A-8/1',\n",
        "    'small_bert/bert_en_uncased_L-2_H-768_A-12':\n",
        "        'https://tfhub.dev/tensorflow/small_bert/bert_en_uncased_L-2_H-768_A-12/1',\n",
        "    'small_bert/bert_en_uncased_L-4_H-128_A-2':\n",
        "        'https://tfhub.dev/tensorflow/small_bert/bert_en_uncased_L-4_H-128_A-2/1',\n",
        "    'small_bert/bert_en_uncased_L-4_H-256_A-4':\n",
        "        'https://tfhub.dev/tensorflow/small_bert/bert_en_uncased_L-4_H-256_A-4/1',\n",
        "    'small_bert/bert_en_uncased_L-4_H-512_A-8':\n",
        "        'https://tfhub.dev/tensorflow/small_bert/bert_en_uncased_L-4_H-512_A-8/1',\n",
        "    'small_bert/bert_en_uncased_L-4_H-768_A-12':\n",
        "        'https://tfhub.dev/tensorflow/small_bert/bert_en_uncased_L-4_H-768_A-12/1',\n",
        "    'small_bert/bert_en_uncased_L-6_H-128_A-2':\n",
        "        'https://tfhub.dev/tensorflow/small_bert/bert_en_uncased_L-6_H-128_A-2/1',\n",
        "    'small_bert/bert_en_uncased_L-6_H-256_A-4':\n",
        "        'https://tfhub.dev/tensorflow/small_bert/bert_en_uncased_L-6_H-256_A-4/1',\n",
        "    'small_bert/bert_en_uncased_L-6_H-512_A-8':\n",
        "        'https://tfhub.dev/tensorflow/small_bert/bert_en_uncased_L-6_H-512_A-8/1',\n",
        "    'small_bert/bert_en_uncased_L-6_H-768_A-12':\n",
        "        'https://tfhub.dev/tensorflow/small_bert/bert_en_uncased_L-6_H-768_A-12/1',\n",
        "    'small_bert/bert_en_uncased_L-8_H-128_A-2':\n",
        "        'https://tfhub.dev/tensorflow/small_bert/bert_en_uncased_L-8_H-128_A-2/1',\n",
        "    'small_bert/bert_en_uncased_L-8_H-256_A-4':\n",
        "        'https://tfhub.dev/tensorflow/small_bert/bert_en_uncased_L-8_H-256_A-4/1',\n",
        "    'small_bert/bert_en_uncased_L-8_H-512_A-8':\n",
        "        'https://tfhub.dev/tensorflow/small_bert/bert_en_uncased_L-8_H-512_A-8/1',\n",
        "    'small_bert/bert_en_uncased_L-8_H-768_A-12':\n",
        "        'https://tfhub.dev/tensorflow/small_bert/bert_en_uncased_L-8_H-768_A-12/1',\n",
        "    'small_bert/bert_en_uncased_L-10_H-128_A-2':\n",
        "        'https://tfhub.dev/tensorflow/small_bert/bert_en_uncased_L-10_H-128_A-2/1',\n",
        "    'small_bert/bert_en_uncased_L-10_H-256_A-4':\n",
        "        'https://tfhub.dev/tensorflow/small_bert/bert_en_uncased_L-10_H-256_A-4/1',\n",
        "    'small_bert/bert_en_uncased_L-10_H-512_A-8':\n",
        "        'https://tfhub.dev/tensorflow/small_bert/bert_en_uncased_L-10_H-512_A-8/1',\n",
        "    'small_bert/bert_en_uncased_L-10_H-768_A-12':\n",
        "        'https://tfhub.dev/tensorflow/small_bert/bert_en_uncased_L-10_H-768_A-12/1',\n",
        "    'small_bert/bert_en_uncased_L-12_H-128_A-2':\n",
        "        'https://tfhub.dev/tensorflow/small_bert/bert_en_uncased_L-12_H-128_A-2/1',\n",
        "    'small_bert/bert_en_uncased_L-12_H-256_A-4':\n",
        "        'https://tfhub.dev/tensorflow/small_bert/bert_en_uncased_L-12_H-256_A-4/1',\n",
        "    'small_bert/bert_en_uncased_L-12_H-512_A-8':\n",
        "        'https://tfhub.dev/tensorflow/small_bert/bert_en_uncased_L-12_H-512_A-8/1',\n",
        "    'small_bert/bert_en_uncased_L-12_H-768_A-12':\n",
        "        'https://tfhub.dev/tensorflow/small_bert/bert_en_uncased_L-12_H-768_A-12/1',\n",
        "    'albert_en_base':\n",
        "        'https://tfhub.dev/tensorflow/albert_en_base/2',\n",
        "    'electra_small':\n",
        "        'https://tfhub.dev/google/electra_small/2',\n",
        "    'electra_base':\n",
        "        'https://tfhub.dev/google/electra_base/2',\n",
        "    'experts_pubmed':\n",
        "        'https://tfhub.dev/google/experts/bert/pubmed/2',\n",
        "    'experts_wiki_books':\n",
        "        'https://tfhub.dev/google/experts/bert/wiki_books/2',\n",
        "    'talking-heads_base':\n",
        "        'https://tfhub.dev/tensorflow/talkheads_ggelu_bert_en_base/1',\n",
        "}\n",
        "\n",
        "map_model_to_preprocess = {\n",
        "    'bert_en_uncased_L-12_H-768_A-12':\n",
        "        'https://tfhub.dev/tensorflow/bert_en_uncased_preprocess/3',\n",
        "    'bert_en_cased_L-12_H-768_A-12':\n",
        "        'https://tfhub.dev/tensorflow/bert_en_cased_preprocess/3',\n",
        "    'small_bert/bert_en_uncased_L-2_H-128_A-2':\n",
        "        'https://tfhub.dev/tensorflow/bert_en_uncased_preprocess/3',\n",
        "    'small_bert/bert_en_uncased_L-2_H-256_A-4':\n",
        "        'https://tfhub.dev/tensorflow/bert_en_uncased_preprocess/3',\n",
        "    'small_bert/bert_en_uncased_L-2_H-512_A-8':\n",
        "        'https://tfhub.dev/tensorflow/bert_en_uncased_preprocess/3',\n",
        "    'small_bert/bert_en_uncased_L-2_H-768_A-12':\n",
        "        'https://tfhub.dev/tensorflow/bert_en_uncased_preprocess/3',\n",
        "    'small_bert/bert_en_uncased_L-4_H-128_A-2':\n",
        "        'https://tfhub.dev/tensorflow/bert_en_uncased_preprocess/3',\n",
        "    'small_bert/bert_en_uncased_L-4_H-256_A-4':\n",
        "        'https://tfhub.dev/tensorflow/bert_en_uncased_preprocess/3',\n",
        "    'small_bert/bert_en_uncased_L-4_H-512_A-8':\n",
        "        'https://tfhub.dev/tensorflow/bert_en_uncased_preprocess/3',\n",
        "    'small_bert/bert_en_uncased_L-4_H-768_A-12':\n",
        "        'https://tfhub.dev/tensorflow/bert_en_uncased_preprocess/3',\n",
        "    'small_bert/bert_en_uncased_L-6_H-128_A-2':\n",
        "        'https://tfhub.dev/tensorflow/bert_en_uncased_preprocess/3',\n",
        "    'small_bert/bert_en_uncased_L-6_H-256_A-4':\n",
        "        'https://tfhub.dev/tensorflow/bert_en_uncased_preprocess/3',\n",
        "    'small_bert/bert_en_uncased_L-6_H-512_A-8':\n",
        "        'https://tfhub.dev/tensorflow/bert_en_uncased_preprocess/3',\n",
        "    'small_bert/bert_en_uncased_L-6_H-768_A-12':\n",
        "        'https://tfhub.dev/tensorflow/bert_en_uncased_preprocess/3',\n",
        "    'small_bert/bert_en_uncased_L-8_H-128_A-2':\n",
        "        'https://tfhub.dev/tensorflow/bert_en_uncased_preprocess/3',\n",
        "    'small_bert/bert_en_uncased_L-8_H-256_A-4':\n",
        "        'https://tfhub.dev/tensorflow/bert_en_uncased_preprocess/3',\n",
        "    'small_bert/bert_en_uncased_L-8_H-512_A-8':\n",
        "        'https://tfhub.dev/tensorflow/bert_en_uncased_preprocess/3',\n",
        "    'small_bert/bert_en_uncased_L-8_H-768_A-12':\n",
        "        'https://tfhub.dev/tensorflow/bert_en_uncased_preprocess/3',\n",
        "    'small_bert/bert_en_uncased_L-10_H-128_A-2':\n",
        "        'https://tfhub.dev/tensorflow/bert_en_uncased_preprocess/3',\n",
        "    'small_bert/bert_en_uncased_L-10_H-256_A-4':\n",
        "        'https://tfhub.dev/tensorflow/bert_en_uncased_preprocess/3',\n",
        "    'small_bert/bert_en_uncased_L-10_H-512_A-8':\n",
        "        'https://tfhub.dev/tensorflow/bert_en_uncased_preprocess/3',\n",
        "    'small_bert/bert_en_uncased_L-10_H-768_A-12':\n",
        "        'https://tfhub.dev/tensorflow/bert_en_uncased_preprocess/3',\n",
        "    'small_bert/bert_en_uncased_L-12_H-128_A-2':\n",
        "        'https://tfhub.dev/tensorflow/bert_en_uncased_preprocess/3',\n",
        "    'small_bert/bert_en_uncased_L-12_H-256_A-4':\n",
        "        'https://tfhub.dev/tensorflow/bert_en_uncased_preprocess/3',\n",
        "    'small_bert/bert_en_uncased_L-12_H-512_A-8':\n",
        "        'https://tfhub.dev/tensorflow/bert_en_uncased_preprocess/3',\n",
        "    'small_bert/bert_en_uncased_L-12_H-768_A-12':\n",
        "        'https://tfhub.dev/tensorflow/bert_en_uncased_preprocess/3',\n",
        "    'bert_multi_cased_L-12_H-768_A-12':\n",
        "        'https://tfhub.dev/tensorflow/bert_multi_cased_preprocess/3',\n",
        "    'albert_en_base':\n",
        "        'https://tfhub.dev/tensorflow/albert_en_preprocess/3',\n",
        "    'electra_small':\n",
        "        'https://tfhub.dev/tensorflow/bert_en_uncased_preprocess/3',\n",
        "    'electra_base':\n",
        "        'https://tfhub.dev/tensorflow/bert_en_uncased_preprocess/3',\n",
        "    'experts_pubmed':\n",
        "        'https://tfhub.dev/tensorflow/bert_en_uncased_preprocess/3',\n",
        "    'experts_wiki_books':\n",
        "        'https://tfhub.dev/tensorflow/bert_en_uncased_preprocess/3',\n",
        "    'talking-heads_base':\n",
        "        'https://tfhub.dev/tensorflow/bert_en_uncased_preprocess/3',\n",
        "}\n",
        "\n",
        "tfhub_handle_encoder = map_name_to_handle[bert_model_name]\n",
        "tfhub_handle_preprocess = map_model_to_preprocess[bert_model_name]\n",
        "\n",
        "print(f'BERT model selected           : {tfhub_handle_encoder}')\n",
        "print(f'Preprocess model auto-selected: {tfhub_handle_preprocess}')"
      ],
      "metadata": {
        "id": "Y3ez_y1sIgcR",
        "outputId": "b3316b0b-22ee-4a21-d931-26721599ad76",
        "colab": {
          "base_uri": "https://localhost:8080/"
        },
        "cellView": "form"
      },
      "execution_count": 34,
      "outputs": [
        {
          "output_type": "stream",
          "name": "stdout",
          "text": [
            "BERT model selected           : https://tfhub.dev/tensorflow/small_bert/bert_en_uncased_L-4_H-512_A-8/1\n",
            "Preprocess model auto-selected: https://tfhub.dev/tensorflow/bert_en_uncased_preprocess/3\n"
          ]
        }
      ]
    },
    {
      "cell_type": "code",
      "source": [
        "bert_preprocess_model = hub.KerasLayer(tfhub_handle_preprocess)\n",
        "bert_model = hub.KerasLayer(tfhub_handle_encoder)"
      ],
      "metadata": {
        "id": "Ltfg_21GXLgN"
      },
      "execution_count": 35,
      "outputs": []
    },
    {
      "cell_type": "code",
      "source": [
        "text_input = tf.keras.layers.Input(shape=(), dtype=tf.string, name='text')\n",
        "preprocessing_layer = hub.KerasLayer(tfhub_handle_preprocess, name='preprocessing')\n",
        "encoder_inputs = preprocessing_layer(text_input)\n",
        "encoder = hub.KerasLayer(tfhub_handle_encoder, trainable=True, name='BERT_encoder')\n",
        "outputs = encoder(encoder_inputs)\n",
        "text_layers = outputs['pooled_output']\n",
        "\n",
        "text_layers = tf.keras.layers.Dense(2048, activation=\"relu\")(text_layers)"
      ],
      "metadata": {
        "id": "wXJf2ARJZG-K"
      },
      "execution_count": 36,
      "outputs": []
    },
    {
      "cell_type": "code",
      "source": [
        "concatenate = tf.keras.layers.concatenate([image_layers, text_layers], axis=1)"
      ],
      "metadata": {
        "id": "7X19Eojv0Yx8"
      },
      "execution_count": 37,
      "outputs": []
    },
    {
      "cell_type": "code",
      "source": [
        "overall_layer = tf.keras.layers.Dense(2048, activation='softmax')(concatenate)"
      ],
      "metadata": {
        "id": "VNEzQOBr5F2f"
      },
      "execution_count": 38,
      "outputs": []
    },
    {
      "cell_type": "code",
      "source": [
        "prediction_layer_1 = tf.keras.layers.Dense(4, activation='softmax', name = 'sarcasm')\n",
        "prediction_layer_2 = tf.keras.layers.Dense(4, activation='softmax', name = 'humuor')\n",
        "prediction_layer_3 = tf.keras.layers.Dense(4, activation='softmax', name = 'offensive')\n",
        "prediction_layer_4 = tf.keras.layers.Dense(1, activation='sigmoid', name = 'motivational')\n",
        "prediction_layer_5 = tf.keras.layers.Dense(5, activation='softmax', name = 'overall')"
      ],
      "metadata": {
        "id": "fP4QbPvU5I83"
      },
      "execution_count": 39,
      "outputs": []
    },
    {
      "cell_type": "code",
      "source": [
        "output_1 = prediction_layer_1(overall_layer)\n",
        "output_2 = prediction_layer_2(overall_layer)\n",
        "output_3 = prediction_layer_3(overall_layer)\n",
        "output_4 = prediction_layer_4(overall_layer)\n",
        "output_5 = prediction_layer_5(overall_layer)\n",
        "model = tf.keras.Model(inputs = [image_input, text_input] , outputs = [output_1, output_2, output_3, output_4, output_5])"
      ],
      "metadata": {
        "id": "pPHbRiUl5LGX"
      },
      "execution_count": 40,
      "outputs": []
    },
    {
      "cell_type": "code",
      "source": [
        "\n",
        "losses = {\n",
        "      \"humuor\": tf.keras.losses.SparseCategoricalCrossentropy(from_logits=True), \n",
        "      \"sarcasm\": tf.keras.losses.SparseCategoricalCrossentropy(from_logits=True), \n",
        "      \"offensive\": tf.keras.losses.SparseCategoricalCrossentropy(from_logits=True), \n",
        "      \"motivational\": tf.keras.losses.BinaryCrossentropy(from_logits=False),\n",
        "      \"overall\": tf.keras.losses.SparseCategoricalCrossentropy(from_logits=True)\n",
        "}\n",
        "lossWeights = {\n",
        "      \"humuor\": 1.0, \n",
        "      \"sarcasm\": 1.0, \n",
        "      \"offensive\": 1.0, \n",
        "      \"motivational\": 1.0,\n",
        "      \"overall\": 1.0\n",
        "}\n",
        "metric = {\n",
        "    \"humuor\": ['acc',tfa.metrics.F1Score(num_classes=4, average=\"micro\", threshold = 0.9)],\n",
        "    \"sarcasm\": ['acc',tfa.metrics.F1Score(num_classes=4, average=\"micro\", threshold = 0.9)],\n",
        "    \"offensive\": ['acc',tfa.metrics.F1Score(num_classes=4, average=\"micro\", threshold = 0.9)],\n",
        "    \"motivational\": ['acc',tfa.metrics.F1Score(num_classes=1, average=\"micro\", threshold = 0.9)],\n",
        "    \"overall\": ['acc',tfa.metrics.F1Score(num_classes=5, average=\"micro\", threshold = 0.9)]\n",
        "}\n"
      ],
      "metadata": {
        "id": "ajljaIRp5bJy"
      },
      "execution_count": 41,
      "outputs": []
    },
    {
      "cell_type": "code",
      "source": [
        "earlyStopping = EarlyStopping(monitor='val_loss', patience=5, verbose=0, mode='min')\n",
        "mcp_save = ModelCheckpoint('model-{epoch:03d}-{overall_accuracy:03f}-{val_overall_accuracy:03f}', save_format='tf', save_best_only=True, monitor='val_loss', mode='min')\n",
        "reduce_lr_loss = ReduceLROnPlateau(monitor='val_loss', factor=0.1, patience=27, verbose=1, epsilon=1e-4, mode='min')"
      ],
      "metadata": {
        "id": "x-seHyTHMK9I",
        "outputId": "0f9f5c21-163d-45ba-f7b1-c43f5db8a9d2",
        "colab": {
          "base_uri": "https://localhost:8080/"
        }
      },
      "execution_count": 42,
      "outputs": [
        {
          "output_type": "stream",
          "name": "stderr",
          "text": [
            "WARNING:tensorflow:`epsilon` argument is deprecated and will be removed, use `min_delta` instead.\n"
          ]
        }
      ]
    },
    {
      "cell_type": "code",
      "source": [
        "\n",
        "\n",
        "learning_rates = [0.001] # [0.1, 0.01, 0.001, 0.0001, 0.00001]\n",
        "for i in learning_rates:\n",
        "    model.compile(optimizer=tf.keras.optimizers.RMSprop(i),\n",
        "              loss = losses,\n",
        "              loss_weights= lossWeights,\n",
        "              metrics=['accuracy'])\n",
        "    \n",
        "    history = model.fit(x = {\"image_input\": X_train, \"text\": X_text_train},\n",
        "                    y = {\"sarcasm\": y_train.sarcasm, \n",
        "                         \"humuor\": y_train.humour, \n",
        "                         \"offensive\": y_train.offensive, \n",
        "                         \"motivational\": y_train.motivational, \n",
        "                         \"overall\": y_train.overall_sentiment},\n",
        "                    batch_size=64,\n",
        "                    epochs=50,\n",
        "                    verbose=1,\n",
        "                    validation_split=0.2,\n",
        "                    callbacks=[earlyStopping, mcp_save,reduce_lr_loss]\n",
        "                   )\n",
        "     \n",
        "     \n"
      ],
      "metadata": {
        "colab": {
          "base_uri": "https://localhost:8080/"
        },
        "id": "_v1budbt5eQD",
        "outputId": "8ac401b6-46d5-4fa6-8a2d-a3d9d0e9626e"
      },
      "execution_count": 44,
      "outputs": [
        {
          "output_type": "stream",
          "name": "stdout",
          "text": [
            "Epoch 1/50\n"
          ]
        },
        {
          "output_type": "stream",
          "name": "stderr",
          "text": [
            "/usr/local/lib/python3.8/dist-packages/tensorflow/python/util/dispatch.py:1082: UserWarning: \"`sparse_categorical_crossentropy` received `from_logits=True`, but the `output` argument was produced by a sigmoid or softmax activation and thus does not represent logits. Was this intended?\"\n",
            "  return dispatch_target(*args, **kwargs)\n"
          ]
        },
        {
          "output_type": "stream",
          "name": "stdout",
          "text": [
            "70/70 [==============================] - ETA: 0s - loss: 6.2660 - sarcasm_loss: 1.3359 - humuor_loss: 1.3564 - offensive_loss: 1.3353 - motivational_loss: 0.6885 - overall_loss: 1.5499 - sarcasm_accuracy: 0.4944 - humuor_accuracy: 0.3581 - offensive_accuracy: 0.3693 - motivational_accuracy: 0.5748 - overall_accuracy: 0.4425"
          ]
        },
        {
          "output_type": "stream",
          "name": "stderr",
          "text": [
            "WARNING:absl:Found untraced functions such as restored_function_body, restored_function_body, restored_function_body, restored_function_body, restored_function_body while saving (showing 5 of 124). These functions will not be directly callable after loading.\n"
          ]
        },
        {
          "output_type": "stream",
          "name": "stdout",
          "text": [
            "\b\b\b\b\b\b\b\b\b\b\b\b\b\b\b\b\b\b\b\b\b\b\b\b\b\b\b\b\b\b\b\b\b\b\b\b\b\b\b\b\b\b\b\b\b\b\b\b\b\b\b\b\b\b\b\b\b\b\b\b\b\b\b\b\b\b\b\b\b\b\b\b\b\b\b\b\b\b\b\b\b\b\b\b\b\b\b\b\b\b\b\b\b\b\b\b\b\b\b\b\b\b\b\b\b\b\b\b\b\b\b\b\b\b\b\b\b\b\b\b\b\b\b\b\b\b\b\b\b\b\b\b\b\b\b\b\b\b\b\b\b\b\b\b\b\b\b\b\b\b\b\b\b\b\b\b\b\b\b\b\b\b\b\b\b\b\b\b\b\b\b\b\b\b\b\b\b\b\b\b\b\b\b\b\b\b\b\b\b\b\b\b\b\b\b\b\b\b\b\b\b\b\b\b\b\b\b\b\b\b\b\b\b\b\b\b\b\b\b\b\b\b\b\b\b\b\b\b\b\b\b\b\b\b\b\b\b\b\b\b\b\b\b\b\b\b\b\b\b\b\b\b\b\b\b\b\b\b\b\b\b\b\b\b\b\b\b\b\b\b\b\b\b\b\b\b\b\b\b\b\b\b\b\b\b\b\b\b\b\b\b\b\b\b\b\b\b\b\b\b\b\b\b\b\b\b\b\b\b\b\b\b\b\b\b\b\b\b\b\b\b\b\b\b\b\r70/70 [==============================] - 84s 1s/step - loss: 6.2660 - sarcasm_loss: 1.3359 - humuor_loss: 1.3564 - offensive_loss: 1.3353 - motivational_loss: 0.6885 - overall_loss: 1.5499 - sarcasm_accuracy: 0.4944 - humuor_accuracy: 0.3581 - offensive_accuracy: 0.3693 - motivational_accuracy: 0.5748 - overall_accuracy: 0.4425 - val_loss: 6.1428 - val_sarcasm_loss: 1.3034 - val_humuor_loss: 1.3431 - val_offensive_loss: 1.3120 - val_motivational_loss: 0.6812 - val_overall_loss: 1.5031 - val_sarcasm_accuracy: 0.5157 - val_humuor_accuracy: 0.3509 - val_offensive_accuracy: 0.3787 - val_motivational_accuracy: 0.6321 - val_overall_accuracy: 0.4628 - lr: 0.0010\n",
            "Epoch 2/50\n",
            "70/70 [==============================] - ETA: 0s - loss: 6.0563 - sarcasm_loss: 1.2887 - humuor_loss: 1.3293 - offensive_loss: 1.2901 - motivational_loss: 0.6730 - overall_loss: 1.4752 - sarcasm_accuracy: 0.4944 - humuor_accuracy: 0.3581 - offensive_accuracy: 0.3693 - motivational_accuracy: 0.6486 - overall_accuracy: 0.4465"
          ]
        },
        {
          "output_type": "stream",
          "name": "stderr",
          "text": [
            "WARNING:absl:Found untraced functions such as restored_function_body, restored_function_body, restored_function_body, restored_function_body, restored_function_body while saving (showing 5 of 124). These functions will not be directly callable after loading.\n"
          ]
        },
        {
          "output_type": "stream",
          "name": "stdout",
          "text": [
            "\b\b\b\b\b\b\b\b\b\b\b\b\b\b\b\b\b\b\b\b\b\b\b\b\b\b\b\b\b\b\b\b\b\b\b\b\b\b\b\b\b\b\b\b\b\b\b\b\b\b\b\b\b\b\b\b\b\b\b\b\b\b\b\b\b\b\b\b\b\b\b\b\b\b\b\b\b\b\b\b\b\b\b\b\b\b\b\b\b\b\b\b\b\b\b\b\b\b\b\b\b\b\b\b\b\b\b\b\b\b\b\b\b\b\b\b\b\b\b\b\b\b\b\b\b\b\b\b\b\b\b\b\b\b\b\b\b\b\b\b\b\b\b\b\b\b\b\b\b\b\b\b\b\b\b\b\b\b\b\b\b\b\b\b\b\b\b\b\b\b\b\b\b\b\b\b\b\b\b\b\b\b\b\b\b\b\b\b\b\b\b\b\b\b\b\b\b\b\b\b\b\b\b\b\b\b\b\b\b\b\b\b\b\b\b\b\b\b\b\b\b\b\b\b\b\b\b\b\b\b\b\b\b\b\b\b\b\b\b\b\b\b\b\b\b\b\b\b\b\b\b\b\b\b\b\b\b\b\b\b\b\b\b\b\b\b\b\b\b\b\b\b\b\b\b\b\b\b\b\b\b\b\b\b\b\b\b\b\b\b\b\b\b\b\b\b\b\b\b\b\b\b\b\b\b\b\b\b\b\b\b\b\b\b\b\b\b\b\b\b\b\b\b\b\b\r70/70 [==============================] - 71s 1s/step - loss: 6.0563 - sarcasm_loss: 1.2887 - humuor_loss: 1.3293 - offensive_loss: 1.2901 - motivational_loss: 0.6730 - overall_loss: 1.4752 - sarcasm_accuracy: 0.4944 - humuor_accuracy: 0.3581 - offensive_accuracy: 0.3693 - motivational_accuracy: 0.6486 - overall_accuracy: 0.4465 - val_loss: 5.9604 - val_sarcasm_loss: 1.2583 - val_humuor_loss: 1.3231 - val_offensive_loss: 1.2753 - val_motivational_loss: 0.6706 - val_overall_loss: 1.4332 - val_sarcasm_accuracy: 0.5157 - val_humuor_accuracy: 0.3509 - val_offensive_accuracy: 0.3787 - val_motivational_accuracy: 0.6321 - val_overall_accuracy: 0.4628 - lr: 0.0010\n",
            "Epoch 3/50\n",
            "70/70 [==============================] - ETA: 0s - loss: 5.9023 - sarcasm_loss: 1.2527 - humuor_loss: 1.3120 - offensive_loss: 1.2566 - motivational_loss: 0.6624 - overall_loss: 1.4187 - sarcasm_accuracy: 0.4944 - humuor_accuracy: 0.3581 - offensive_accuracy: 0.3738 - motivational_accuracy: 0.6486 - overall_accuracy: 0.4465"
          ]
        },
        {
          "output_type": "stream",
          "name": "stderr",
          "text": [
            "WARNING:absl:Found untraced functions such as restored_function_body, restored_function_body, restored_function_body, restored_function_body, restored_function_body while saving (showing 5 of 124). These functions will not be directly callable after loading.\n"
          ]
        },
        {
          "output_type": "stream",
          "name": "stdout",
          "text": [
            "\b\b\b\b\b\b\b\b\b\b\b\b\b\b\b\b\b\b\b\b\b\b\b\b\b\b\b\b\b\b\b\b\b\b\b\b\b\b\b\b\b\b\b\b\b\b\b\b\b\b\b\b\b\b\b\b\b\b\b\b\b\b\b\b\b\b\b\b\b\b\b\b\b\b\b\b\b\b\b\b\b\b\b\b\b\b\b\b\b\b\b\b\b\b\b\b\b\b\b\b\b\b\b\b\b\b\b\b\b\b\b\b\b\b\b\b\b\b\b\b\b\b\b\b\b\b\b\b\b\b\b\b\b\b\b\b\b\b\b\b\b\b\b\b\b\b\b\b\b\b\b\b\b\b\b\b\b\b\b\b\b\b\b\b\b\b\b\b\b\b\b\b\b\b\b\b\b\b\b\b\b\b\b\b\b\b\b\b\b\b\b\b\b\b\b\b\b\b\b\b\b\b\b\b\b\b\b\b\b\b\b\b\b\b\b\b\b\b\b\b\b\b\b\b\b\b\b\b\b\b\b\b\b\b\b\b\b\b\b\b\b\b\b\b\b\b\b\b\b\b\b\b\b\b\b\b\b\b\b\b\b\b\b\b\b\b\b\b\b\b\b\b\b\b\b\b\b\b\b\b\b\b\b\b\b\b\b\b\b\b\b\b\b\b\b\b\b\b\b\b\b\b\b\b\b\b\b\b\b\b\b\b\b\b\b\b\b\b\b\b\b\b\b\b\b\r70/70 [==============================] - 72s 1s/step - loss: 5.9023 - sarcasm_loss: 1.2527 - humuor_loss: 1.3120 - offensive_loss: 1.2566 - motivational_loss: 0.6624 - overall_loss: 1.4187 - sarcasm_accuracy: 0.4944 - humuor_accuracy: 0.3581 - offensive_accuracy: 0.3738 - motivational_accuracy: 0.6486 - overall_accuracy: 0.4465 - val_loss: 5.8260 - val_sarcasm_loss: 1.2231 - val_humuor_loss: 1.3107 - val_offensive_loss: 1.2476 - val_motivational_loss: 0.6636 - val_overall_loss: 1.3810 - val_sarcasm_accuracy: 0.5157 - val_humuor_accuracy: 0.3509 - val_offensive_accuracy: 0.3724 - val_motivational_accuracy: 0.6321 - val_overall_accuracy: 0.4628 - lr: 0.0010\n",
            "Epoch 4/50\n",
            "70/70 [==============================] - ETA: 0s - loss: 5.7930 - sarcasm_loss: 1.2269 - humuor_loss: 1.3014 - offensive_loss: 1.2323 - motivational_loss: 0.6556 - overall_loss: 1.3768 - sarcasm_accuracy: 0.4944 - humuor_accuracy: 0.3581 - offensive_accuracy: 0.3926 - motivational_accuracy: 0.6486 - overall_accuracy: 0.4465"
          ]
        },
        {
          "output_type": "stream",
          "name": "stderr",
          "text": [
            "WARNING:absl:Found untraced functions such as restored_function_body, restored_function_body, restored_function_body, restored_function_body, restored_function_body while saving (showing 5 of 124). These functions will not be directly callable after loading.\n"
          ]
        },
        {
          "output_type": "stream",
          "name": "stdout",
          "text": [
            "\b\b\b\b\b\b\b\b\b\b\b\b\b\b\b\b\b\b\b\b\b\b\b\b\b\b\b\b\b\b\b\b\b\b\b\b\b\b\b\b\b\b\b\b\b\b\b\b\b\b\b\b\b\b\b\b\b\b\b\b\b\b\b\b\b\b\b\b\b\b\b\b\b\b\b\b\b\b\b\b\b\b\b\b\b\b\b\b\b\b\b\b\b\b\b\b\b\b\b\b\b\b\b\b\b\b\b\b\b\b\b\b\b\b\b\b\b\b\b\b\b\b\b\b\b\b\b\b\b\b\b\b\b\b\b\b\b\b\b\b\b\b\b\b\b\b\b\b\b\b\b\b\b\b\b\b\b\b\b\b\b\b\b\b\b\b\b\b\b\b\b\b\b\b\b\b\b\b\b\b\b\b\b\b\b\b\b\b\b\b\b\b\b\b\b\b\b\b\b\b\b\b\b\b\b\b\b\b\b\b\b\b\b\b\b\b\b\b\b\b\b\b\b\b\b\b\b\b\b\b\b\b\b\b\b\b\b\b\b\b\b\b\b\b\b\b\b\b\b\b\b\b\b\b\b\b\b\b\b\b\b\b\b\b\b\b\b\b\b\b\b\b\b\b\b\b\b\b\b\b\b\b\b\b\b\b\b\b\b\b\b\b\b\b\b\b\b\b\b\b\b\b\b\b\b\b\b\b\b\b\b\b\b\b\b\b\b\b\b\b\b\b\b\b\b\r70/70 [==============================] - 72s 1s/step - loss: 5.7930 - sarcasm_loss: 1.2269 - humuor_loss: 1.3014 - offensive_loss: 1.2323 - motivational_loss: 0.6556 - overall_loss: 1.3768 - sarcasm_accuracy: 0.4944 - humuor_accuracy: 0.3581 - offensive_accuracy: 0.3926 - motivational_accuracy: 0.6486 - overall_accuracy: 0.4465 - val_loss: 5.7313 - val_sarcasm_loss: 1.1987 - val_humuor_loss: 1.3034 - val_offensive_loss: 1.2280 - val_motivational_loss: 0.6599 - val_overall_loss: 1.3414 - val_sarcasm_accuracy: 0.5157 - val_humuor_accuracy: 0.3509 - val_offensive_accuracy: 0.3724 - val_motivational_accuracy: 0.6321 - val_overall_accuracy: 0.4628 - lr: 0.0010\n",
            "Epoch 5/50\n",
            "70/70 [==============================] - ETA: 0s - loss: 5.7161 - sarcasm_loss: 1.2099 - humuor_loss: 1.2951 - offensive_loss: 1.2142 - motivational_loss: 0.6517 - overall_loss: 1.3451 - sarcasm_accuracy: 0.4944 - humuor_accuracy: 0.3581 - offensive_accuracy: 0.3926 - motivational_accuracy: 0.6486 - overall_accuracy: 0.4465"
          ]
        },
        {
          "output_type": "stream",
          "name": "stderr",
          "text": [
            "WARNING:absl:Found untraced functions such as restored_function_body, restored_function_body, restored_function_body, restored_function_body, restored_function_body while saving (showing 5 of 124). These functions will not be directly callable after loading.\n"
          ]
        },
        {
          "output_type": "stream",
          "name": "stdout",
          "text": [
            "\b\b\b\b\b\b\b\b\b\b\b\b\b\b\b\b\b\b\b\b\b\b\b\b\b\b\b\b\b\b\b\b\b\b\b\b\b\b\b\b\b\b\b\b\b\b\b\b\b\b\b\b\b\b\b\b\b\b\b\b\b\b\b\b\b\b\b\b\b\b\b\b\b\b\b\b\b\b\b\b\b\b\b\b\b\b\b\b\b\b\b\b\b\b\b\b\b\b\b\b\b\b\b\b\b\b\b\b\b\b\b\b\b\b\b\b\b\b\b\b\b\b\b\b\b\b\b\b\b\b\b\b\b\b\b\b\b\b\b\b\b\b\b\b\b\b\b\b\b\b\b\b\b\b\b\b\b\b\b\b\b\b\b\b\b\b\b\b\b\b\b\b\b\b\b\b\b\b\b\b\b\b\b\b\b\b\b\b\b\b\b\b\b\b\b\b\b\b\b\b\b\b\b\b\b\b\b\b\b\b\b\b\b\b\b\b\b\b\b\b\b\b\b\b\b\b\b\b\b\b\b\b\b\b\b\b\b\b\b\b\b\b\b\b\b\b\b\b\b\b\b\b\b\b\b\b\b\b\b\b\b\b\b\b\b\b\b\b\b\b\b\b\b\b\b\b\b\b\b\b\b\b\b\b\b\b\b\b\b\b\b\b\b\b\b\b\b\b\b\b\b\b\b\b\b\b\b\b\b\b\b\b\b\b\b\b\b\b\b\b\b\b\b\b\b\r70/70 [==============================] - 72s 1s/step - loss: 5.7161 - sarcasm_loss: 1.2099 - humuor_loss: 1.2951 - offensive_loss: 1.2142 - motivational_loss: 0.6517 - overall_loss: 1.3451 - sarcasm_accuracy: 0.4944 - humuor_accuracy: 0.3581 - offensive_accuracy: 0.3926 - motivational_accuracy: 0.6486 - overall_accuracy: 0.4465 - val_loss: 5.6652 - val_sarcasm_loss: 1.1820 - val_humuor_loss: 1.2995 - val_offensive_loss: 1.2130 - val_motivational_loss: 0.6584 - val_overall_loss: 1.3124 - val_sarcasm_accuracy: 0.5157 - val_humuor_accuracy: 0.3509 - val_offensive_accuracy: 0.3724 - val_motivational_accuracy: 0.6321 - val_overall_accuracy: 0.4628 - lr: 0.0010\n",
            "Epoch 6/50\n",
            "70/70 [==============================] - ETA: 0s - loss: 5.6650 - sarcasm_loss: 1.1988 - humuor_loss: 1.2918 - offensive_loss: 1.2010 - motivational_loss: 0.6499 - overall_loss: 1.3236 - sarcasm_accuracy: 0.4944 - humuor_accuracy: 0.3581 - offensive_accuracy: 0.3926 - motivational_accuracy: 0.6486 - overall_accuracy: 0.4465"
          ]
        },
        {
          "output_type": "stream",
          "name": "stderr",
          "text": [
            "WARNING:absl:Found untraced functions such as restored_function_body, restored_function_body, restored_function_body, restored_function_body, restored_function_body while saving (showing 5 of 124). These functions will not be directly callable after loading.\n"
          ]
        },
        {
          "output_type": "stream",
          "name": "stdout",
          "text": [
            "\b\b\b\b\b\b\b\b\b\b\b\b\b\b\b\b\b\b\b\b\b\b\b\b\b\b\b\b\b\b\b\b\b\b\b\b\b\b\b\b\b\b\b\b\b\b\b\b\b\b\b\b\b\b\b\b\b\b\b\b\b\b\b\b\b\b\b\b\b\b\b\b\b\b\b\b\b\b\b\b\b\b\b\b\b\b\b\b\b\b\b\b\b\b\b\b\b\b\b\b\b\b\b\b\b\b\b\b\b\b\b\b\b\b\b\b\b\b\b\b\b\b\b\b\b\b\b\b\b\b\b\b\b\b\b\b\b\b\b\b\b\b\b\b\b\b\b\b\b\b\b\b\b\b\b\b\b\b\b\b\b\b\b\b\b\b\b\b\b\b\b\b\b\b\b\b\b\b\b\b\b\b\b\b\b\b\b\b\b\b\b\b\b\b\b\b\b\b\b\b\b\b\b\b\b\b\b\b\b\b\b\b\b\b\b\b\b\b\b\b\b\b\b\b\b\b\b\b\b\b\b\b\b\b\b\b\b\b\b\b\b\b\b\b\b\b\b\b\b\b\b\b\b\b\b\b\b\b\b\b\b\b\b\b\b\b\b\b\b\b\b\b\b\b\b\b\b\b\b\b\b\b\b\b\b\b\b\b\b\b\b\b\b\b\b\b\b\b\b\b\b\b\b\b\b\b\b\b\b\b\b\b\b\b\b\b\b\b\b\b\b\b\b\b\b\r70/70 [==============================] - 73s 1s/step - loss: 5.6650 - sarcasm_loss: 1.1988 - humuor_loss: 1.2918 - offensive_loss: 1.2010 - motivational_loss: 0.6499 - overall_loss: 1.3236 - sarcasm_accuracy: 0.4944 - humuor_accuracy: 0.3581 - offensive_accuracy: 0.3926 - motivational_accuracy: 0.6486 - overall_accuracy: 0.4465 - val_loss: 5.6212 - val_sarcasm_loss: 1.1712 - val_humuor_loss: 1.2975 - val_offensive_loss: 1.2021 - val_motivational_loss: 0.6579 - val_overall_loss: 1.2926 - val_sarcasm_accuracy: 0.5157 - val_humuor_accuracy: 0.3509 - val_offensive_accuracy: 0.3724 - val_motivational_accuracy: 0.6321 - val_overall_accuracy: 0.4628 - lr: 0.0010\n",
            "Epoch 7/50\n",
            "70/70 [==============================] - ETA: 0s - loss: 5.6322 - sarcasm_loss: 1.1924 - humuor_loss: 1.2900 - offensive_loss: 1.1916 - motivational_loss: 0.6489 - overall_loss: 1.3093 - sarcasm_accuracy: 0.4944 - humuor_accuracy: 0.3581 - offensive_accuracy: 0.3926 - motivational_accuracy: 0.6486 - overall_accuracy: 0.4465"
          ]
        },
        {
          "output_type": "stream",
          "name": "stderr",
          "text": [
            "WARNING:absl:Found untraced functions such as restored_function_body, restored_function_body, restored_function_body, restored_function_body, restored_function_body while saving (showing 5 of 124). These functions will not be directly callable after loading.\n"
          ]
        },
        {
          "output_type": "stream",
          "name": "stdout",
          "text": [
            "\b\b\b\b\b\b\b\b\b\b\b\b\b\b\b\b\b\b\b\b\b\b\b\b\b\b\b\b\b\b\b\b\b\b\b\b\b\b\b\b\b\b\b\b\b\b\b\b\b\b\b\b\b\b\b\b\b\b\b\b\b\b\b\b\b\b\b\b\b\b\b\b\b\b\b\b\b\b\b\b\b\b\b\b\b\b\b\b\b\b\b\b\b\b\b\b\b\b\b\b\b\b\b\b\b\b\b\b\b\b\b\b\b\b\b\b\b\b\b\b\b\b\b\b\b\b\b\b\b\b\b\b\b\b\b\b\b\b\b\b\b\b\b\b\b\b\b\b\b\b\b\b\b\b\b\b\b\b\b\b\b\b\b\b\b\b\b\b\b\b\b\b\b\b\b\b\b\b\b\b\b\b\b\b\b\b\b\b\b\b\b\b\b\b\b\b\b\b\b\b\b\b\b\b\b\b\b\b\b\b\b\b\b\b\b\b\b\b\b\b\b\b\b\b\b\b\b\b\b\b\b\b\b\b\b\b\b\b\b\b\b\b\b\b\b\b\b\b\b\b\b\b\b\b\b\b\b\b\b\b\b\b\b\b\b\b\b\b\b\b\b\b\b\b\b\b\b\b\b\b\b\b\b\b\b\b\b\b\b\b\b\b\b\b\b\b\b\b\b\b\b\b\b\b\b\b\b\b\b\b\b\b\b\b\b\b\b\b\b\b\b\b\b\b\b\r70/70 [==============================] - 71s 1s/step - loss: 5.6322 - sarcasm_loss: 1.1924 - humuor_loss: 1.2900 - offensive_loss: 1.1916 - motivational_loss: 0.6489 - overall_loss: 1.3093 - sarcasm_accuracy: 0.4944 - humuor_accuracy: 0.3581 - offensive_accuracy: 0.3926 - motivational_accuracy: 0.6486 - overall_accuracy: 0.4465 - val_loss: 5.5930 - val_sarcasm_loss: 1.1647 - val_humuor_loss: 1.2966 - val_offensive_loss: 1.1944 - val_motivational_loss: 0.6579 - val_overall_loss: 1.2794 - val_sarcasm_accuracy: 0.5157 - val_humuor_accuracy: 0.3509 - val_offensive_accuracy: 0.3724 - val_motivational_accuracy: 0.6321 - val_overall_accuracy: 0.4628 - lr: 0.0010\n",
            "Epoch 8/50\n",
            "70/70 [==============================] - ETA: 0s - loss: 5.6113 - sarcasm_loss: 1.1884 - humuor_loss: 1.2893 - offensive_loss: 1.1849 - motivational_loss: 0.6486 - overall_loss: 1.3001 - sarcasm_accuracy: 0.4944 - humuor_accuracy: 0.3581 - offensive_accuracy: 0.3926 - motivational_accuracy: 0.6486 - overall_accuracy: 0.4465"
          ]
        },
        {
          "output_type": "stream",
          "name": "stderr",
          "text": [
            "WARNING:absl:Found untraced functions such as restored_function_body, restored_function_body, restored_function_body, restored_function_body, restored_function_body while saving (showing 5 of 124). These functions will not be directly callable after loading.\n"
          ]
        },
        {
          "output_type": "stream",
          "name": "stdout",
          "text": [
            "\b\b\b\b\b\b\b\b\b\b\b\b\b\b\b\b\b\b\b\b\b\b\b\b\b\b\b\b\b\b\b\b\b\b\b\b\b\b\b\b\b\b\b\b\b\b\b\b\b\b\b\b\b\b\b\b\b\b\b\b\b\b\b\b\b\b\b\b\b\b\b\b\b\b\b\b\b\b\b\b\b\b\b\b\b\b\b\b\b\b\b\b\b\b\b\b\b\b\b\b\b\b\b\b\b\b\b\b\b\b\b\b\b\b\b\b\b\b\b\b\b\b\b\b\b\b\b\b\b\b\b\b\b\b\b\b\b\b\b\b\b\b\b\b\b\b\b\b\b\b\b\b\b\b\b\b\b\b\b\b\b\b\b\b\b\b\b\b\b\b\b\b\b\b\b\b\b\b\b\b\b\b\b\b\b\b\b\b\b\b\b\b\b\b\b\b\b\b\b\b\b\b\b\b\b\b\b\b\b\b\b\b\b\b\b\b\b\b\b\b\b\b\b\b\b\b\b\b\b\b\b\b\b\b\b\b\b\b\b\b\b\b\b\b\b\b\b\b\b\b\b\b\b\b\b\b\b\b\b\b\b\b\b\b\b\b\b\b\b\b\b\b\b\b\b\b\b\b\b\b\b\b\b\b\b\b\b\b\b\b\b\b\b\b\b\b\b\b\b\b\b\b\b\b\b\b\b\b\b\b\b\b\b\b\b\b\b\b\b\b\b\b\b\b\b\r70/70 [==============================] - 74s 1s/step - loss: 5.6113 - sarcasm_loss: 1.1884 - humuor_loss: 1.2893 - offensive_loss: 1.1849 - motivational_loss: 0.6486 - overall_loss: 1.3001 - sarcasm_accuracy: 0.4944 - humuor_accuracy: 0.3581 - offensive_accuracy: 0.3926 - motivational_accuracy: 0.6486 - overall_accuracy: 0.4465 - val_loss: 5.5746 - val_sarcasm_loss: 1.1604 - val_humuor_loss: 1.2962 - val_offensive_loss: 1.1889 - val_motivational_loss: 0.6581 - val_overall_loss: 1.2711 - val_sarcasm_accuracy: 0.5157 - val_humuor_accuracy: 0.3509 - val_offensive_accuracy: 0.3724 - val_motivational_accuracy: 0.6321 - val_overall_accuracy: 0.4628 - lr: 0.0010\n",
            "Epoch 9/50\n",
            "70/70 [==============================] - ETA: 0s - loss: 5.5979 - sarcasm_loss: 1.1861 - humuor_loss: 1.2889 - offensive_loss: 1.1802 - motivational_loss: 0.6484 - overall_loss: 1.2942 - sarcasm_accuracy: 0.4944 - humuor_accuracy: 0.3581 - offensive_accuracy: 0.3926 - motivational_accuracy: 0.6486 - overall_accuracy: 0.4465"
          ]
        },
        {
          "output_type": "stream",
          "name": "stderr",
          "text": [
            "WARNING:absl:Found untraced functions such as restored_function_body, restored_function_body, restored_function_body, restored_function_body, restored_function_body while saving (showing 5 of 124). These functions will not be directly callable after loading.\n"
          ]
        },
        {
          "output_type": "stream",
          "name": "stdout",
          "text": [
            "\b\b\b\b\b\b\b\b\b\b\b\b\b\b\b\b\b\b\b\b\b\b\b\b\b\b\b\b\b\b\b\b\b\b\b\b\b\b\b\b\b\b\b\b\b\b\b\b\b\b\b\b\b\b\b\b\b\b\b\b\b\b\b\b\b\b\b\b\b\b\b\b\b\b\b\b\b\b\b\b\b\b\b\b\b\b\b\b\b\b\b\b\b\b\b\b\b\b\b\b\b\b\b\b\b\b\b\b\b\b\b\b\b\b\b\b\b\b\b\b\b\b\b\b\b\b\b\b\b\b\b\b\b\b\b\b\b\b\b\b\b\b\b\b\b\b\b\b\b\b\b\b\b\b\b\b\b\b\b\b\b\b\b\b\b\b\b\b\b\b\b\b\b\b\b\b\b\b\b\b\b\b\b\b\b\b\b\b\b\b\b\b\b\b\b\b\b\b\b\b\b\b\b\b\b\b\b\b\b\b\b\b\b\b\b\b\b\b\b\b\b\b\b\b\b\b\b\b\b\b\b\b\b\b\b\b\b\b\b\b\b\b\b\b\b\b\b\b\b\b\b\b\b\b\b\b\b\b\b\b\b\b\b\b\b\b\b\b\b\b\b\b\b\b\b\b\b\b\b\b\b\b\b\b\b\b\b\b\b\b\b\b\b\b\b\b\b\b\b\b\b\b\b\b\b\b\b\b\b\b\b\b\b\b\b\b\b\b\b\b\b\b\b\b\b\r70/70 [==============================] - 71s 1s/step - loss: 5.5979 - sarcasm_loss: 1.1861 - humuor_loss: 1.2889 - offensive_loss: 1.1802 - motivational_loss: 0.6484 - overall_loss: 1.2942 - sarcasm_accuracy: 0.4944 - humuor_accuracy: 0.3581 - offensive_accuracy: 0.3926 - motivational_accuracy: 0.6486 - overall_accuracy: 0.4465 - val_loss: 5.5625 - val_sarcasm_loss: 1.1577 - val_humuor_loss: 1.2961 - val_offensive_loss: 1.1850 - val_motivational_loss: 0.6582 - val_overall_loss: 1.2656 - val_sarcasm_accuracy: 0.5157 - val_humuor_accuracy: 0.3509 - val_offensive_accuracy: 0.3724 - val_motivational_accuracy: 0.6321 - val_overall_accuracy: 0.4628 - lr: 0.0010\n",
            "Epoch 10/50\n",
            "70/70 [==============================] - ETA: 0s - loss: 5.5889 - sarcasm_loss: 1.1848 - humuor_loss: 1.2887 - offensive_loss: 1.1768 - motivational_loss: 0.6484 - overall_loss: 1.2903 - sarcasm_accuracy: 0.4944 - humuor_accuracy: 0.3581 - offensive_accuracy: 0.3926 - motivational_accuracy: 0.6486 - overall_accuracy: 0.4465"
          ]
        },
        {
          "output_type": "stream",
          "name": "stderr",
          "text": [
            "WARNING:absl:Found untraced functions such as restored_function_body, restored_function_body, restored_function_body, restored_function_body, restored_function_body while saving (showing 5 of 124). These functions will not be directly callable after loading.\n"
          ]
        },
        {
          "output_type": "stream",
          "name": "stdout",
          "text": [
            "\b\b\b\b\b\b\b\b\b\b\b\b\b\b\b\b\b\b\b\b\b\b\b\b\b\b\b\b\b\b\b\b\b\b\b\b\b\b\b\b\b\b\b\b\b\b\b\b\b\b\b\b\b\b\b\b\b\b\b\b\b\b\b\b\b\b\b\b\b\b\b\b\b\b\b\b\b\b\b\b\b\b\b\b\b\b\b\b\b\b\b\b\b\b\b\b\b\b\b\b\b\b\b\b\b\b\b\b\b\b\b\b\b\b\b\b\b\b\b\b\b\b\b\b\b\b\b\b\b\b\b\b\b\b\b\b\b\b\b\b\b\b\b\b\b\b\b\b\b\b\b\b\b\b\b\b\b\b\b\b\b\b\b\b\b\b\b\b\b\b\b\b\b\b\b\b\b\b\b\b\b\b\b\b\b\b\b\b\b\b\b\b\b\b\b\b\b\b\b\b\b\b\b\b\b\b\b\b\b\b\b\b\b\b\b\b\b\b\b\b\b\b\b\b\b\b\b\b\b\b\b\b\b\b\b\b\b\b\b\b\b\b\b\b\b\b\b\b\b\b\b\b\b\b\b\b\b\b\b\b\b\b\b\b\b\b\b\b\b\b\b\b\b\b\b\b\b\b\b\b\b\b\b\b\b\b\b\b\b\b\b\b\b\b\b\b\b\b\b\b\b\b\b\b\b\b\b\b\b\b\b\b\b\b\b\b\b\b\b\b\b\b\b\b\b\r70/70 [==============================] - 73s 1s/step - loss: 5.5889 - sarcasm_loss: 1.1848 - humuor_loss: 1.2887 - offensive_loss: 1.1768 - motivational_loss: 0.6484 - overall_loss: 1.2903 - sarcasm_accuracy: 0.4944 - humuor_accuracy: 0.3581 - offensive_accuracy: 0.3926 - motivational_accuracy: 0.6486 - overall_accuracy: 0.4465 - val_loss: 5.5549 - val_sarcasm_loss: 1.1562 - val_humuor_loss: 1.2960 - val_offensive_loss: 1.1823 - val_motivational_loss: 0.6584 - val_overall_loss: 1.2619 - val_sarcasm_accuracy: 0.5157 - val_humuor_accuracy: 0.3509 - val_offensive_accuracy: 0.3724 - val_motivational_accuracy: 0.6321 - val_overall_accuracy: 0.4628 - lr: 0.0010\n",
            "Epoch 11/50\n",
            "70/70 [==============================] - ETA: 0s - loss: 5.5835 - sarcasm_loss: 1.1842 - humuor_loss: 1.2887 - offensive_loss: 1.1746 - motivational_loss: 0.6484 - overall_loss: 1.2876 - sarcasm_accuracy: 0.4944 - humuor_accuracy: 0.3581 - offensive_accuracy: 0.3926 - motivational_accuracy: 0.6486 - overall_accuracy: 0.4465"
          ]
        },
        {
          "output_type": "stream",
          "name": "stderr",
          "text": [
            "WARNING:absl:Found untraced functions such as restored_function_body, restored_function_body, restored_function_body, restored_function_body, restored_function_body while saving (showing 5 of 124). These functions will not be directly callable after loading.\n"
          ]
        },
        {
          "output_type": "stream",
          "name": "stdout",
          "text": [
            "\b\b\b\b\b\b\b\b\b\b\b\b\b\b\b\b\b\b\b\b\b\b\b\b\b\b\b\b\b\b\b\b\b\b\b\b\b\b\b\b\b\b\b\b\b\b\b\b\b\b\b\b\b\b\b\b\b\b\b\b\b\b\b\b\b\b\b\b\b\b\b\b\b\b\b\b\b\b\b\b\b\b\b\b\b\b\b\b\b\b\b\b\b\b\b\b\b\b\b\b\b\b\b\b\b\b\b\b\b\b\b\b\b\b\b\b\b\b\b\b\b\b\b\b\b\b\b\b\b\b\b\b\b\b\b\b\b\b\b\b\b\b\b\b\b\b\b\b\b\b\b\b\b\b\b\b\b\b\b\b\b\b\b\b\b\b\b\b\b\b\b\b\b\b\b\b\b\b\b\b\b\b\b\b\b\b\b\b\b\b\b\b\b\b\b\b\b\b\b\b\b\b\b\b\b\b\b\b\b\b\b\b\b\b\b\b\b\b\b\b\b\b\b\b\b\b\b\b\b\b\b\b\b\b\b\b\b\b\b\b\b\b\b\b\b\b\b\b\b\b\b\b\b\b\b\b\b\b\b\b\b\b\b\b\b\b\b\b\b\b\b\b\b\b\b\b\b\b\b\b\b\b\b\b\b\b\b\b\b\b\b\b\b\b\b\b\b\b\b\b\b\b\b\b\b\b\b\b\b\b\b\b\b\b\b\b\b\b\b\b\b\b\b\b\b\r70/70 [==============================] - 70s 1s/step - loss: 5.5835 - sarcasm_loss: 1.1842 - humuor_loss: 1.2887 - offensive_loss: 1.1746 - motivational_loss: 0.6484 - overall_loss: 1.2876 - sarcasm_accuracy: 0.4944 - humuor_accuracy: 0.3581 - offensive_accuracy: 0.3926 - motivational_accuracy: 0.6486 - overall_accuracy: 0.4465 - val_loss: 5.5494 - val_sarcasm_loss: 1.1552 - val_humuor_loss: 1.2960 - val_offensive_loss: 1.1805 - val_motivational_loss: 0.6584 - val_overall_loss: 1.2593 - val_sarcasm_accuracy: 0.5157 - val_humuor_accuracy: 0.3509 - val_offensive_accuracy: 0.3724 - val_motivational_accuracy: 0.6321 - val_overall_accuracy: 0.4628 - lr: 0.0010\n",
            "Epoch 12/50\n",
            "70/70 [==============================] - ETA: 0s - loss: 5.5798 - sarcasm_loss: 1.1838 - humuor_loss: 1.2886 - offensive_loss: 1.1732 - motivational_loss: 0.6484 - overall_loss: 1.2857 - sarcasm_accuracy: 0.4944 - humuor_accuracy: 0.3581 - offensive_accuracy: 0.3926 - motivational_accuracy: 0.6486 - overall_accuracy: 0.4465"
          ]
        },
        {
          "output_type": "stream",
          "name": "stderr",
          "text": [
            "WARNING:absl:Found untraced functions such as restored_function_body, restored_function_body, restored_function_body, restored_function_body, restored_function_body while saving (showing 5 of 124). These functions will not be directly callable after loading.\n"
          ]
        },
        {
          "output_type": "stream",
          "name": "stdout",
          "text": [
            "\b\b\b\b\b\b\b\b\b\b\b\b\b\b\b\b\b\b\b\b\b\b\b\b\b\b\b\b\b\b\b\b\b\b\b\b\b\b\b\b\b\b\b\b\b\b\b\b\b\b\b\b\b\b\b\b\b\b\b\b\b\b\b\b\b\b\b\b\b\b\b\b\b\b\b\b\b\b\b\b\b\b\b\b\b\b\b\b\b\b\b\b\b\b\b\b\b\b\b\b\b\b\b\b\b\b\b\b\b\b\b\b\b\b\b\b\b\b\b\b\b\b\b\b\b\b\b\b\b\b\b\b\b\b\b\b\b\b\b\b\b\b\b\b\b\b\b\b\b\b\b\b\b\b\b\b\b\b\b\b\b\b\b\b\b\b\b\b\b\b\b\b\b\b\b\b\b\b\b\b\b\b\b\b\b\b\b\b\b\b\b\b\b\b\b\b\b\b\b\b\b\b\b\b\b\b\b\b\b\b\b\b\b\b\b\b\b\b\b\b\b\b\b\b\b\b\b\b\b\b\b\b\b\b\b\b\b\b\b\b\b\b\b\b\b\b\b\b\b\b\b\b\b\b\b\b\b\b\b\b\b\b\b\b\b\b\b\b\b\b\b\b\b\b\b\b\b\b\b\b\b\b\b\b\b\b\b\b\b\b\b\b\b\b\b\b\b\b\b\b\b\b\b\b\b\b\b\b\b\b\b\b\b\b\b\b\b\b\b\b\b\b\b\b\b\r70/70 [==============================] - 73s 1s/step - loss: 5.5798 - sarcasm_loss: 1.1838 - humuor_loss: 1.2886 - offensive_loss: 1.1732 - motivational_loss: 0.6484 - overall_loss: 1.2857 - sarcasm_accuracy: 0.4944 - humuor_accuracy: 0.3581 - offensive_accuracy: 0.3926 - motivational_accuracy: 0.6486 - overall_accuracy: 0.4465 - val_loss: 5.5457 - val_sarcasm_loss: 1.1546 - val_humuor_loss: 1.2961 - val_offensive_loss: 1.1791 - val_motivational_loss: 0.6584 - val_overall_loss: 1.2574 - val_sarcasm_accuracy: 0.5157 - val_humuor_accuracy: 0.3509 - val_offensive_accuracy: 0.3724 - val_motivational_accuracy: 0.6321 - val_overall_accuracy: 0.4628 - lr: 0.0010\n",
            "Epoch 13/50\n",
            "70/70 [==============================] - ETA: 0s - loss: 5.5774 - sarcasm_loss: 1.1837 - humuor_loss: 1.2886 - offensive_loss: 1.1723 - motivational_loss: 0.6483 - overall_loss: 1.2845 - sarcasm_accuracy: 0.4944 - humuor_accuracy: 0.3581 - offensive_accuracy: 0.3926 - motivational_accuracy: 0.6486 - overall_accuracy: 0.4465"
          ]
        },
        {
          "output_type": "stream",
          "name": "stderr",
          "text": [
            "WARNING:absl:Found untraced functions such as restored_function_body, restored_function_body, restored_function_body, restored_function_body, restored_function_body while saving (showing 5 of 124). These functions will not be directly callable after loading.\n"
          ]
        },
        {
          "output_type": "stream",
          "name": "stdout",
          "text": [
            "\b\b\b\b\b\b\b\b\b\b\b\b\b\b\b\b\b\b\b\b\b\b\b\b\b\b\b\b\b\b\b\b\b\b\b\b\b\b\b\b\b\b\b\b\b\b\b\b\b\b\b\b\b\b\b\b\b\b\b\b\b\b\b\b\b\b\b\b\b\b\b\b\b\b\b\b\b\b\b\b\b\b\b\b\b\b\b\b\b\b\b\b\b\b\b\b\b\b\b\b\b\b\b\b\b\b\b\b\b\b\b\b\b\b\b\b\b\b\b\b\b\b\b\b\b\b\b\b\b\b\b\b\b\b\b\b\b\b\b\b\b\b\b\b\b\b\b\b\b\b\b\b\b\b\b\b\b\b\b\b\b\b\b\b\b\b\b\b\b\b\b\b\b\b\b\b\b\b\b\b\b\b\b\b\b\b\b\b\b\b\b\b\b\b\b\b\b\b\b\b\b\b\b\b\b\b\b\b\b\b\b\b\b\b\b\b\b\b\b\b\b\b\b\b\b\b\b\b\b\b\b\b\b\b\b\b\b\b\b\b\b\b\b\b\b\b\b\b\b\b\b\b\b\b\b\b\b\b\b\b\b\b\b\b\b\b\b\b\b\b\b\b\b\b\b\b\b\b\b\b\b\b\b\b\b\b\b\b\b\b\b\b\b\b\b\b\b\b\b\b\b\b\b\b\b\b\b\b\b\b\b\b\b\b\b\b\b\b\b\b\b\b\b\b\b\r70/70 [==============================] - 70s 1s/step - loss: 5.5774 - sarcasm_loss: 1.1837 - humuor_loss: 1.2886 - offensive_loss: 1.1723 - motivational_loss: 0.6483 - overall_loss: 1.2845 - sarcasm_accuracy: 0.4944 - humuor_accuracy: 0.3581 - offensive_accuracy: 0.3926 - motivational_accuracy: 0.6486 - overall_accuracy: 0.4465 - val_loss: 5.5436 - val_sarcasm_loss: 1.1542 - val_humuor_loss: 1.2960 - val_offensive_loss: 1.1784 - val_motivational_loss: 0.6585 - val_overall_loss: 1.2564 - val_sarcasm_accuracy: 0.5157 - val_humuor_accuracy: 0.3509 - val_offensive_accuracy: 0.3724 - val_motivational_accuracy: 0.6321 - val_overall_accuracy: 0.4628 - lr: 0.0010\n",
            "Epoch 14/50\n",
            "70/70 [==============================] - ETA: 0s - loss: 5.5759 - sarcasm_loss: 1.1836 - humuor_loss: 1.2885 - offensive_loss: 1.1718 - motivational_loss: 0.6483 - overall_loss: 1.2837 - sarcasm_accuracy: 0.4944 - humuor_accuracy: 0.3581 - offensive_accuracy: 0.3926 - motivational_accuracy: 0.6486 - overall_accuracy: 0.4465"
          ]
        },
        {
          "output_type": "stream",
          "name": "stderr",
          "text": [
            "WARNING:absl:Found untraced functions such as restored_function_body, restored_function_body, restored_function_body, restored_function_body, restored_function_body while saving (showing 5 of 124). These functions will not be directly callable after loading.\n"
          ]
        },
        {
          "output_type": "stream",
          "name": "stdout",
          "text": [
            "\b\b\b\b\b\b\b\b\b\b\b\b\b\b\b\b\b\b\b\b\b\b\b\b\b\b\b\b\b\b\b\b\b\b\b\b\b\b\b\b\b\b\b\b\b\b\b\b\b\b\b\b\b\b\b\b\b\b\b\b\b\b\b\b\b\b\b\b\b\b\b\b\b\b\b\b\b\b\b\b\b\b\b\b\b\b\b\b\b\b\b\b\b\b\b\b\b\b\b\b\b\b\b\b\b\b\b\b\b\b\b\b\b\b\b\b\b\b\b\b\b\b\b\b\b\b\b\b\b\b\b\b\b\b\b\b\b\b\b\b\b\b\b\b\b\b\b\b\b\b\b\b\b\b\b\b\b\b\b\b\b\b\b\b\b\b\b\b\b\b\b\b\b\b\b\b\b\b\b\b\b\b\b\b\b\b\b\b\b\b\b\b\b\b\b\b\b\b\b\b\b\b\b\b\b\b\b\b\b\b\b\b\b\b\b\b\b\b\b\b\b\b\b\b\b\b\b\b\b\b\b\b\b\b\b\b\b\b\b\b\b\b\b\b\b\b\b\b\b\b\b\b\b\b\b\b\b\b\b\b\b\b\b\b\b\b\b\b\b\b\b\b\b\b\b\b\b\b\b\b\b\b\b\b\b\b\b\b\b\b\b\b\b\b\b\b\b\b\b\b\b\b\b\b\b\b\b\b\b\b\b\b\b\b\b\b\b\b\b\b\b\b\b\b\b\r70/70 [==============================] - 73s 1s/step - loss: 5.5759 - sarcasm_loss: 1.1836 - humuor_loss: 1.2885 - offensive_loss: 1.1718 - motivational_loss: 0.6483 - overall_loss: 1.2837 - sarcasm_accuracy: 0.4944 - humuor_accuracy: 0.3581 - offensive_accuracy: 0.3926 - motivational_accuracy: 0.6486 - overall_accuracy: 0.4465 - val_loss: 5.5419 - val_sarcasm_loss: 1.1540 - val_humuor_loss: 1.2960 - val_offensive_loss: 1.1780 - val_motivational_loss: 0.6584 - val_overall_loss: 1.2555 - val_sarcasm_accuracy: 0.5157 - val_humuor_accuracy: 0.3509 - val_offensive_accuracy: 0.3724 - val_motivational_accuracy: 0.6321 - val_overall_accuracy: 0.4628 - lr: 0.0010\n",
            "Epoch 15/50\n",
            "70/70 [==============================] - ETA: 0s - loss: 5.5750 - sarcasm_loss: 1.1835 - humuor_loss: 1.2886 - offensive_loss: 1.1714 - motivational_loss: 0.6484 - overall_loss: 1.2832 - sarcasm_accuracy: 0.4944 - humuor_accuracy: 0.3581 - offensive_accuracy: 0.3926 - motivational_accuracy: 0.6486 - overall_accuracy: 0.4465"
          ]
        },
        {
          "output_type": "stream",
          "name": "stderr",
          "text": [
            "WARNING:absl:Found untraced functions such as restored_function_body, restored_function_body, restored_function_body, restored_function_body, restored_function_body while saving (showing 5 of 124). These functions will not be directly callable after loading.\n"
          ]
        },
        {
          "output_type": "stream",
          "name": "stdout",
          "text": [
            "\b\b\b\b\b\b\b\b\b\b\b\b\b\b\b\b\b\b\b\b\b\b\b\b\b\b\b\b\b\b\b\b\b\b\b\b\b\b\b\b\b\b\b\b\b\b\b\b\b\b\b\b\b\b\b\b\b\b\b\b\b\b\b\b\b\b\b\b\b\b\b\b\b\b\b\b\b\b\b\b\b\b\b\b\b\b\b\b\b\b\b\b\b\b\b\b\b\b\b\b\b\b\b\b\b\b\b\b\b\b\b\b\b\b\b\b\b\b\b\b\b\b\b\b\b\b\b\b\b\b\b\b\b\b\b\b\b\b\b\b\b\b\b\b\b\b\b\b\b\b\b\b\b\b\b\b\b\b\b\b\b\b\b\b\b\b\b\b\b\b\b\b\b\b\b\b\b\b\b\b\b\b\b\b\b\b\b\b\b\b\b\b\b\b\b\b\b\b\b\b\b\b\b\b\b\b\b\b\b\b\b\b\b\b\b\b\b\b\b\b\b\b\b\b\b\b\b\b\b\b\b\b\b\b\b\b\b\b\b\b\b\b\b\b\b\b\b\b\b\b\b\b\b\b\b\b\b\b\b\b\b\b\b\b\b\b\b\b\b\b\b\b\b\b\b\b\b\b\b\b\b\b\b\b\b\b\b\b\b\b\b\b\b\b\b\b\b\b\b\b\b\b\b\b\b\b\b\b\b\b\b\b\b\b\b\b\b\b\b\b\b\b\b\b\b\r70/70 [==============================] - 70s 1s/step - loss: 5.5750 - sarcasm_loss: 1.1835 - humuor_loss: 1.2886 - offensive_loss: 1.1714 - motivational_loss: 0.6484 - overall_loss: 1.2832 - sarcasm_accuracy: 0.4944 - humuor_accuracy: 0.3581 - offensive_accuracy: 0.3926 - motivational_accuracy: 0.6486 - overall_accuracy: 0.4465 - val_loss: 5.5410 - val_sarcasm_loss: 1.1538 - val_humuor_loss: 1.2961 - val_offensive_loss: 1.1778 - val_motivational_loss: 0.6585 - val_overall_loss: 1.2548 - val_sarcasm_accuracy: 0.5157 - val_humuor_accuracy: 0.3509 - val_offensive_accuracy: 0.3724 - val_motivational_accuracy: 0.6321 - val_overall_accuracy: 0.4628 - lr: 0.0010\n",
            "Epoch 16/50\n",
            "70/70 [==============================] - ETA: 0s - loss: 5.5744 - sarcasm_loss: 1.1835 - humuor_loss: 1.2886 - offensive_loss: 1.1711 - motivational_loss: 0.6484 - overall_loss: 1.2828 - sarcasm_accuracy: 0.4944 - humuor_accuracy: 0.3581 - offensive_accuracy: 0.3926 - motivational_accuracy: 0.6486 - overall_accuracy: 0.4465"
          ]
        },
        {
          "output_type": "stream",
          "name": "stderr",
          "text": [
            "WARNING:absl:Found untraced functions such as restored_function_body, restored_function_body, restored_function_body, restored_function_body, restored_function_body while saving (showing 5 of 124). These functions will not be directly callable after loading.\n"
          ]
        },
        {
          "output_type": "stream",
          "name": "stdout",
          "text": [
            "\b\b\b\b\b\b\b\b\b\b\b\b\b\b\b\b\b\b\b\b\b\b\b\b\b\b\b\b\b\b\b\b\b\b\b\b\b\b\b\b\b\b\b\b\b\b\b\b\b\b\b\b\b\b\b\b\b\b\b\b\b\b\b\b\b\b\b\b\b\b\b\b\b\b\b\b\b\b\b\b\b\b\b\b\b\b\b\b\b\b\b\b\b\b\b\b\b\b\b\b\b\b\b\b\b\b\b\b\b\b\b\b\b\b\b\b\b\b\b\b\b\b\b\b\b\b\b\b\b\b\b\b\b\b\b\b\b\b\b\b\b\b\b\b\b\b\b\b\b\b\b\b\b\b\b\b\b\b\b\b\b\b\b\b\b\b\b\b\b\b\b\b\b\b\b\b\b\b\b\b\b\b\b\b\b\b\b\b\b\b\b\b\b\b\b\b\b\b\b\b\b\b\b\b\b\b\b\b\b\b\b\b\b\b\b\b\b\b\b\b\b\b\b\b\b\b\b\b\b\b\b\b\b\b\b\b\b\b\b\b\b\b\b\b\b\b\b\b\b\b\b\b\b\b\b\b\b\b\b\b\b\b\b\b\b\b\b\b\b\b\b\b\b\b\b\b\b\b\b\b\b\b\b\b\b\b\b\b\b\b\b\b\b\b\b\b\b\b\b\b\b\b\b\b\b\b\b\b\b\b\b\b\b\b\b\b\b\b\b\b\b\b\b\b\b\r70/70 [==============================] - 72s 1s/step - loss: 5.5744 - sarcasm_loss: 1.1835 - humuor_loss: 1.2886 - offensive_loss: 1.1711 - motivational_loss: 0.6484 - overall_loss: 1.2828 - sarcasm_accuracy: 0.4944 - humuor_accuracy: 0.3581 - offensive_accuracy: 0.3926 - motivational_accuracy: 0.6486 - overall_accuracy: 0.4465 - val_loss: 5.5397 - val_sarcasm_loss: 1.1537 - val_humuor_loss: 1.2961 - val_offensive_loss: 1.1772 - val_motivational_loss: 0.6585 - val_overall_loss: 1.2543 - val_sarcasm_accuracy: 0.5157 - val_humuor_accuracy: 0.3509 - val_offensive_accuracy: 0.3724 - val_motivational_accuracy: 0.6321 - val_overall_accuracy: 0.4628 - lr: 0.0010\n",
            "Epoch 17/50\n",
            "70/70 [==============================] - ETA: 0s - loss: 5.5740 - sarcasm_loss: 1.1835 - humuor_loss: 1.2885 - offensive_loss: 1.1710 - motivational_loss: 0.6484 - overall_loss: 1.2826 - sarcasm_accuracy: 0.4944 - humuor_accuracy: 0.3581 - offensive_accuracy: 0.3926 - motivational_accuracy: 0.6486 - overall_accuracy: 0.4465"
          ]
        },
        {
          "output_type": "stream",
          "name": "stderr",
          "text": [
            "WARNING:absl:Found untraced functions such as restored_function_body, restored_function_body, restored_function_body, restored_function_body, restored_function_body while saving (showing 5 of 124). These functions will not be directly callable after loading.\n"
          ]
        },
        {
          "output_type": "stream",
          "name": "stdout",
          "text": [
            "\b\b\b\b\b\b\b\b\b\b\b\b\b\b\b\b\b\b\b\b\b\b\b\b\b\b\b\b\b\b\b\b\b\b\b\b\b\b\b\b\b\b\b\b\b\b\b\b\b\b\b\b\b\b\b\b\b\b\b\b\b\b\b\b\b\b\b\b\b\b\b\b\b\b\b\b\b\b\b\b\b\b\b\b\b\b\b\b\b\b\b\b\b\b\b\b\b\b\b\b\b\b\b\b\b\b\b\b\b\b\b\b\b\b\b\b\b\b\b\b\b\b\b\b\b\b\b\b\b\b\b\b\b\b\b\b\b\b\b\b\b\b\b\b\b\b\b\b\b\b\b\b\b\b\b\b\b\b\b\b\b\b\b\b\b\b\b\b\b\b\b\b\b\b\b\b\b\b\b\b\b\b\b\b\b\b\b\b\b\b\b\b\b\b\b\b\b\b\b\b\b\b\b\b\b\b\b\b\b\b\b\b\b\b\b\b\b\b\b\b\b\b\b\b\b\b\b\b\b\b\b\b\b\b\b\b\b\b\b\b\b\b\b\b\b\b\b\b\b\b\b\b\b\b\b\b\b\b\b\b\b\b\b\b\b\b\b\b\b\b\b\b\b\b\b\b\b\b\b\b\b\b\b\b\b\b\b\b\b\b\b\b\b\b\b\b\b\b\b\b\b\b\b\b\b\b\b\b\b\b\b\b\b\b\b\b\b\b\b\b\b\b\b\b\b\r70/70 [==============================] - 71s 1s/step - loss: 5.5740 - sarcasm_loss: 1.1835 - humuor_loss: 1.2885 - offensive_loss: 1.1710 - motivational_loss: 0.6484 - overall_loss: 1.2826 - sarcasm_accuracy: 0.4944 - humuor_accuracy: 0.3581 - offensive_accuracy: 0.3926 - motivational_accuracy: 0.6486 - overall_accuracy: 0.4465 - val_loss: 5.5391 - val_sarcasm_loss: 1.1534 - val_humuor_loss: 1.2961 - val_offensive_loss: 1.1771 - val_motivational_loss: 0.6585 - val_overall_loss: 1.2541 - val_sarcasm_accuracy: 0.5157 - val_humuor_accuracy: 0.3509 - val_offensive_accuracy: 0.3724 - val_motivational_accuracy: 0.6321 - val_overall_accuracy: 0.4628 - lr: 0.0010\n",
            "Epoch 18/50\n",
            "70/70 [==============================] - ETA: 0s - loss: 5.5738 - sarcasm_loss: 1.1834 - humuor_loss: 1.2886 - offensive_loss: 1.1709 - motivational_loss: 0.6483 - overall_loss: 1.2825 - sarcasm_accuracy: 0.4944 - humuor_accuracy: 0.3581 - offensive_accuracy: 0.3926 - motivational_accuracy: 0.6486 - overall_accuracy: 0.4465"
          ]
        },
        {
          "output_type": "stream",
          "name": "stderr",
          "text": [
            "WARNING:absl:Found untraced functions such as restored_function_body, restored_function_body, restored_function_body, restored_function_body, restored_function_body while saving (showing 5 of 124). These functions will not be directly callable after loading.\n"
          ]
        },
        {
          "output_type": "stream",
          "name": "stdout",
          "text": [
            "\b\b\b\b\b\b\b\b\b\b\b\b\b\b\b\b\b\b\b\b\b\b\b\b\b\b\b\b\b\b\b\b\b\b\b\b\b\b\b\b\b\b\b\b\b\b\b\b\b\b\b\b\b\b\b\b\b\b\b\b\b\b\b\b\b\b\b\b\b\b\b\b\b\b\b\b\b\b\b\b\b\b\b\b\b\b\b\b\b\b\b\b\b\b\b\b\b\b\b\b\b\b\b\b\b\b\b\b\b\b\b\b\b\b\b\b\b\b\b\b\b\b\b\b\b\b\b\b\b\b\b\b\b\b\b\b\b\b\b\b\b\b\b\b\b\b\b\b\b\b\b\b\b\b\b\b\b\b\b\b\b\b\b\b\b\b\b\b\b\b\b\b\b\b\b\b\b\b\b\b\b\b\b\b\b\b\b\b\b\b\b\b\b\b\b\b\b\b\b\b\b\b\b\b\b\b\b\b\b\b\b\b\b\b\b\b\b\b\b\b\b\b\b\b\b\b\b\b\b\b\b\b\b\b\b\b\b\b\b\b\b\b\b\b\b\b\b\b\b\b\b\b\b\b\b\b\b\b\b\b\b\b\b\b\b\b\b\b\b\b\b\b\b\b\b\b\b\b\b\b\b\b\b\b\b\b\b\b\b\b\b\b\b\b\b\b\b\b\b\b\b\b\b\b\b\b\b\b\b\b\b\b\b\b\b\b\b\b\b\b\b\b\b\b\b\r70/70 [==============================] - 72s 1s/step - loss: 5.5738 - sarcasm_loss: 1.1834 - humuor_loss: 1.2886 - offensive_loss: 1.1709 - motivational_loss: 0.6483 - overall_loss: 1.2825 - sarcasm_accuracy: 0.4944 - humuor_accuracy: 0.3581 - offensive_accuracy: 0.3926 - motivational_accuracy: 0.6486 - overall_accuracy: 0.4465 - val_loss: 5.5389 - val_sarcasm_loss: 1.1533 - val_humuor_loss: 1.2962 - val_offensive_loss: 1.1771 - val_motivational_loss: 0.6585 - val_overall_loss: 1.2539 - val_sarcasm_accuracy: 0.5157 - val_humuor_accuracy: 0.3509 - val_offensive_accuracy: 0.3724 - val_motivational_accuracy: 0.6321 - val_overall_accuracy: 0.4628 - lr: 0.0010\n",
            "Epoch 19/50\n",
            "70/70 [==============================] - ETA: 0s - loss: 5.5736 - sarcasm_loss: 1.1835 - humuor_loss: 1.2886 - offensive_loss: 1.1709 - motivational_loss: 0.6484 - overall_loss: 1.2824 - sarcasm_accuracy: 0.4944 - humuor_accuracy: 0.3581 - offensive_accuracy: 0.3926 - motivational_accuracy: 0.6486 - overall_accuracy: 0.4465"
          ]
        },
        {
          "output_type": "stream",
          "name": "stderr",
          "text": [
            "WARNING:absl:Found untraced functions such as restored_function_body, restored_function_body, restored_function_body, restored_function_body, restored_function_body while saving (showing 5 of 124). These functions will not be directly callable after loading.\n"
          ]
        },
        {
          "output_type": "stream",
          "name": "stdout",
          "text": [
            "\b\b\b\b\b\b\b\b\b\b\b\b\b\b\b\b\b\b\b\b\b\b\b\b\b\b\b\b\b\b\b\b\b\b\b\b\b\b\b\b\b\b\b\b\b\b\b\b\b\b\b\b\b\b\b\b\b\b\b\b\b\b\b\b\b\b\b\b\b\b\b\b\b\b\b\b\b\b\b\b\b\b\b\b\b\b\b\b\b\b\b\b\b\b\b\b\b\b\b\b\b\b\b\b\b\b\b\b\b\b\b\b\b\b\b\b\b\b\b\b\b\b\b\b\b\b\b\b\b\b\b\b\b\b\b\b\b\b\b\b\b\b\b\b\b\b\b\b\b\b\b\b\b\b\b\b\b\b\b\b\b\b\b\b\b\b\b\b\b\b\b\b\b\b\b\b\b\b\b\b\b\b\b\b\b\b\b\b\b\b\b\b\b\b\b\b\b\b\b\b\b\b\b\b\b\b\b\b\b\b\b\b\b\b\b\b\b\b\b\b\b\b\b\b\b\b\b\b\b\b\b\b\b\b\b\b\b\b\b\b\b\b\b\b\b\b\b\b\b\b\b\b\b\b\b\b\b\b\b\b\b\b\b\b\b\b\b\b\b\b\b\b\b\b\b\b\b\b\b\b\b\b\b\b\b\b\b\b\b\b\b\b\b\b\b\b\b\b\b\b\b\b\b\b\b\b\b\b\b\b\b\b\b\b\b\b\b\b\b\b\b\b\b\b\b\r70/70 [==============================] - 71s 1s/step - loss: 5.5736 - sarcasm_loss: 1.1835 - humuor_loss: 1.2886 - offensive_loss: 1.1709 - motivational_loss: 0.6484 - overall_loss: 1.2824 - sarcasm_accuracy: 0.4944 - humuor_accuracy: 0.3581 - offensive_accuracy: 0.3926 - motivational_accuracy: 0.6486 - overall_accuracy: 0.4465 - val_loss: 5.5387 - val_sarcasm_loss: 1.1534 - val_humuor_loss: 1.2961 - val_offensive_loss: 1.1770 - val_motivational_loss: 0.6585 - val_overall_loss: 1.2538 - val_sarcasm_accuracy: 0.5157 - val_humuor_accuracy: 0.3509 - val_offensive_accuracy: 0.3724 - val_motivational_accuracy: 0.6321 - val_overall_accuracy: 0.4628 - lr: 0.0010\n",
            "Epoch 20/50\n",
            "70/70 [==============================] - ETA: 0s - loss: 5.5735 - sarcasm_loss: 1.1835 - humuor_loss: 1.2886 - offensive_loss: 1.1708 - motivational_loss: 0.6484 - overall_loss: 1.2823 - sarcasm_accuracy: 0.4944 - humuor_accuracy: 0.3581 - offensive_accuracy: 0.3926 - motivational_accuracy: 0.6486 - overall_accuracy: 0.4465"
          ]
        },
        {
          "output_type": "stream",
          "name": "stderr",
          "text": [
            "WARNING:absl:Found untraced functions such as restored_function_body, restored_function_body, restored_function_body, restored_function_body, restored_function_body while saving (showing 5 of 124). These functions will not be directly callable after loading.\n"
          ]
        },
        {
          "output_type": "stream",
          "name": "stdout",
          "text": [
            "\b\b\b\b\b\b\b\b\b\b\b\b\b\b\b\b\b\b\b\b\b\b\b\b\b\b\b\b\b\b\b\b\b\b\b\b\b\b\b\b\b\b\b\b\b\b\b\b\b\b\b\b\b\b\b\b\b\b\b\b\b\b\b\b\b\b\b\b\b\b\b\b\b\b\b\b\b\b\b\b\b\b\b\b\b\b\b\b\b\b\b\b\b\b\b\b\b\b\b\b\b\b\b\b\b\b\b\b\b\b\b\b\b\b\b\b\b\b\b\b\b\b\b\b\b\b\b\b\b\b\b\b\b\b\b\b\b\b\b\b\b\b\b\b\b\b\b\b\b\b\b\b\b\b\b\b\b\b\b\b\b\b\b\b\b\b\b\b\b\b\b\b\b\b\b\b\b\b\b\b\b\b\b\b\b\b\b\b\b\b\b\b\b\b\b\b\b\b\b\b\b\b\b\b\b\b\b\b\b\b\b\b\b\b\b\b\b\b\b\b\b\b\b\b\b\b\b\b\b\b\b\b\b\b\b\b\b\b\b\b\b\b\b\b\b\b\b\b\b\b\b\b\b\b\b\b\b\b\b\b\b\b\b\b\b\b\b\b\b\b\b\b\b\b\b\b\b\b\b\b\b\b\b\b\b\b\b\b\b\b\b\b\b\b\b\b\b\b\b\b\b\b\b\b\b\b\b\b\b\b\b\b\b\b\b\b\b\b\b\b\b\b\b\b\b\r70/70 [==============================] - 72s 1s/step - loss: 5.5735 - sarcasm_loss: 1.1835 - humuor_loss: 1.2886 - offensive_loss: 1.1708 - motivational_loss: 0.6484 - overall_loss: 1.2823 - sarcasm_accuracy: 0.4944 - humuor_accuracy: 0.3581 - offensive_accuracy: 0.3926 - motivational_accuracy: 0.6486 - overall_accuracy: 0.4465 - val_loss: 5.5383 - val_sarcasm_loss: 1.1533 - val_humuor_loss: 1.2961 - val_offensive_loss: 1.1768 - val_motivational_loss: 0.6585 - val_overall_loss: 1.2537 - val_sarcasm_accuracy: 0.5157 - val_humuor_accuracy: 0.3509 - val_offensive_accuracy: 0.3724 - val_motivational_accuracy: 0.6321 - val_overall_accuracy: 0.4628 - lr: 0.0010\n",
            "Epoch 21/50\n",
            "70/70 [==============================] - ETA: 0s - loss: 5.5734 - sarcasm_loss: 1.1834 - humuor_loss: 1.2886 - offensive_loss: 1.1708 - motivational_loss: 0.6484 - overall_loss: 1.2822 - sarcasm_accuracy: 0.4944 - humuor_accuracy: 0.3581 - offensive_accuracy: 0.3926 - motivational_accuracy: 0.6486 - overall_accuracy: 0.4465"
          ]
        },
        {
          "output_type": "stream",
          "name": "stderr",
          "text": [
            "WARNING:absl:Found untraced functions such as restored_function_body, restored_function_body, restored_function_body, restored_function_body, restored_function_body while saving (showing 5 of 124). These functions will not be directly callable after loading.\n"
          ]
        },
        {
          "output_type": "stream",
          "name": "stdout",
          "text": [
            "\b\b\b\b\b\b\b\b\b\b\b\b\b\b\b\b\b\b\b\b\b\b\b\b\b\b\b\b\b\b\b\b\b\b\b\b\b\b\b\b\b\b\b\b\b\b\b\b\b\b\b\b\b\b\b\b\b\b\b\b\b\b\b\b\b\b\b\b\b\b\b\b\b\b\b\b\b\b\b\b\b\b\b\b\b\b\b\b\b\b\b\b\b\b\b\b\b\b\b\b\b\b\b\b\b\b\b\b\b\b\b\b\b\b\b\b\b\b\b\b\b\b\b\b\b\b\b\b\b\b\b\b\b\b\b\b\b\b\b\b\b\b\b\b\b\b\b\b\b\b\b\b\b\b\b\b\b\b\b\b\b\b\b\b\b\b\b\b\b\b\b\b\b\b\b\b\b\b\b\b\b\b\b\b\b\b\b\b\b\b\b\b\b\b\b\b\b\b\b\b\b\b\b\b\b\b\b\b\b\b\b\b\b\b\b\b\b\b\b\b\b\b\b\b\b\b\b\b\b\b\b\b\b\b\b\b\b\b\b\b\b\b\b\b\b\b\b\b\b\b\b\b\b\b\b\b\b\b\b\b\b\b\b\b\b\b\b\b\b\b\b\b\b\b\b\b\b\b\b\b\b\b\b\b\b\b\b\b\b\b\b\b\b\b\b\b\b\b\b\b\b\b\b\b\b\b\b\b\b\b\b\b\b\b\b\b\b\b\b\b\b\b\b\b\b\r70/70 [==============================] - 71s 1s/step - loss: 5.5734 - sarcasm_loss: 1.1834 - humuor_loss: 1.2886 - offensive_loss: 1.1708 - motivational_loss: 0.6484 - overall_loss: 1.2822 - sarcasm_accuracy: 0.4944 - humuor_accuracy: 0.3581 - offensive_accuracy: 0.3926 - motivational_accuracy: 0.6486 - overall_accuracy: 0.4465 - val_loss: 5.5383 - val_sarcasm_loss: 1.1533 - val_humuor_loss: 1.2961 - val_offensive_loss: 1.1768 - val_motivational_loss: 0.6585 - val_overall_loss: 1.2537 - val_sarcasm_accuracy: 0.5157 - val_humuor_accuracy: 0.3509 - val_offensive_accuracy: 0.3724 - val_motivational_accuracy: 0.6321 - val_overall_accuracy: 0.4628 - lr: 0.0010\n",
            "Epoch 22/50\n",
            "70/70 [==============================] - 42s 598ms/step - loss: 5.5733 - sarcasm_loss: 1.1834 - humuor_loss: 1.2885 - offensive_loss: 1.1708 - motivational_loss: 0.6484 - overall_loss: 1.2822 - sarcasm_accuracy: 0.4944 - humuor_accuracy: 0.3581 - offensive_accuracy: 0.3926 - motivational_accuracy: 0.6486 - overall_accuracy: 0.4465 - val_loss: 5.5385 - val_sarcasm_loss: 1.1535 - val_humuor_loss: 1.2960 - val_offensive_loss: 1.1769 - val_motivational_loss: 0.6585 - val_overall_loss: 1.2536 - val_sarcasm_accuracy: 0.5157 - val_humuor_accuracy: 0.3509 - val_offensive_accuracy: 0.3724 - val_motivational_accuracy: 0.6321 - val_overall_accuracy: 0.4628 - lr: 0.0010\n",
            "Epoch 23/50\n",
            "70/70 [==============================] - ETA: 0s - loss: 5.5734 - sarcasm_loss: 1.1834 - humuor_loss: 1.2886 - offensive_loss: 1.1708 - motivational_loss: 0.6484 - overall_loss: 1.2822 - sarcasm_accuracy: 0.4944 - humuor_accuracy: 0.3581 - offensive_accuracy: 0.3926 - motivational_accuracy: 0.6486 - overall_accuracy: 0.4465"
          ]
        },
        {
          "output_type": "stream",
          "name": "stderr",
          "text": [
            "WARNING:absl:Found untraced functions such as restored_function_body, restored_function_body, restored_function_body, restored_function_body, restored_function_body while saving (showing 5 of 124). These functions will not be directly callable after loading.\n"
          ]
        },
        {
          "output_type": "stream",
          "name": "stdout",
          "text": [
            "\b\b\b\b\b\b\b\b\b\b\b\b\b\b\b\b\b\b\b\b\b\b\b\b\b\b\b\b\b\b\b\b\b\b\b\b\b\b\b\b\b\b\b\b\b\b\b\b\b\b\b\b\b\b\b\b\b\b\b\b\b\b\b\b\b\b\b\b\b\b\b\b\b\b\b\b\b\b\b\b\b\b\b\b\b\b\b\b\b\b\b\b\b\b\b\b\b\b\b\b\b\b\b\b\b\b\b\b\b\b\b\b\b\b\b\b\b\b\b\b\b\b\b\b\b\b\b\b\b\b\b\b\b\b\b\b\b\b\b\b\b\b\b\b\b\b\b\b\b\b\b\b\b\b\b\b\b\b\b\b\b\b\b\b\b\b\b\b\b\b\b\b\b\b\b\b\b\b\b\b\b\b\b\b\b\b\b\b\b\b\b\b\b\b\b\b\b\b\b\b\b\b\b\b\b\b\b\b\b\b\b\b\b\b\b\b\b\b\b\b\b\b\b\b\b\b\b\b\b\b\b\b\b\b\b\b\b\b\b\b\b\b\b\b\b\b\b\b\b\b\b\b\b\b\b\b\b\b\b\b\b\b\b\b\b\b\b\b\b\b\b\b\b\b\b\b\b\b\b\b\b\b\b\b\b\b\b\b\b\b\b\b\b\b\b\b\b\b\b\b\b\b\b\b\b\b\b\b\b\b\b\b\b\b\b\b\b\b\b\b\b\b\b\b\b\r70/70 [==============================] - 71s 1s/step - loss: 5.5734 - sarcasm_loss: 1.1834 - humuor_loss: 1.2886 - offensive_loss: 1.1708 - motivational_loss: 0.6484 - overall_loss: 1.2822 - sarcasm_accuracy: 0.4944 - humuor_accuracy: 0.3581 - offensive_accuracy: 0.3926 - motivational_accuracy: 0.6486 - overall_accuracy: 0.4465 - val_loss: 5.5379 - val_sarcasm_loss: 1.1532 - val_humuor_loss: 1.2961 - val_offensive_loss: 1.1767 - val_motivational_loss: 0.6585 - val_overall_loss: 1.2535 - val_sarcasm_accuracy: 0.5157 - val_humuor_accuracy: 0.3509 - val_offensive_accuracy: 0.3724 - val_motivational_accuracy: 0.6321 - val_overall_accuracy: 0.4628 - lr: 0.0010\n",
            "Epoch 24/50\n",
            "70/70 [==============================] - 46s 656ms/step - loss: 5.5733 - sarcasm_loss: 1.1834 - humuor_loss: 1.2885 - offensive_loss: 1.1708 - motivational_loss: 0.6484 - overall_loss: 1.2822 - sarcasm_accuracy: 0.4944 - humuor_accuracy: 0.3581 - offensive_accuracy: 0.3926 - motivational_accuracy: 0.6486 - overall_accuracy: 0.4465 - val_loss: 5.5381 - val_sarcasm_loss: 1.1531 - val_humuor_loss: 1.2961 - val_offensive_loss: 1.1769 - val_motivational_loss: 0.6584 - val_overall_loss: 1.2535 - val_sarcasm_accuracy: 0.5157 - val_humuor_accuracy: 0.3509 - val_offensive_accuracy: 0.3724 - val_motivational_accuracy: 0.6321 - val_overall_accuracy: 0.4628 - lr: 0.0010\n",
            "Epoch 25/50\n",
            "70/70 [==============================] - 41s 585ms/step - loss: 5.5733 - sarcasm_loss: 1.1834 - humuor_loss: 1.2886 - offensive_loss: 1.1708 - motivational_loss: 0.6484 - overall_loss: 1.2822 - sarcasm_accuracy: 0.4944 - humuor_accuracy: 0.3581 - offensive_accuracy: 0.3926 - motivational_accuracy: 0.6486 - overall_accuracy: 0.4465 - val_loss: 5.5382 - val_sarcasm_loss: 1.1534 - val_humuor_loss: 1.2960 - val_offensive_loss: 1.1769 - val_motivational_loss: 0.6585 - val_overall_loss: 1.2534 - val_sarcasm_accuracy: 0.5157 - val_humuor_accuracy: 0.3509 - val_offensive_accuracy: 0.3724 - val_motivational_accuracy: 0.6321 - val_overall_accuracy: 0.4628 - lr: 0.0010\n",
            "Epoch 26/50\n",
            "70/70 [==============================] - 41s 590ms/step - loss: 5.5733 - sarcasm_loss: 1.1834 - humuor_loss: 1.2886 - offensive_loss: 1.1708 - motivational_loss: 0.6484 - overall_loss: 1.2822 - sarcasm_accuracy: 0.4944 - humuor_accuracy: 0.3581 - offensive_accuracy: 0.3926 - motivational_accuracy: 0.6486 - overall_accuracy: 0.4465 - val_loss: 5.5382 - val_sarcasm_loss: 1.1534 - val_humuor_loss: 1.2961 - val_offensive_loss: 1.1769 - val_motivational_loss: 0.6585 - val_overall_loss: 1.2534 - val_sarcasm_accuracy: 0.5157 - val_humuor_accuracy: 0.3509 - val_offensive_accuracy: 0.3724 - val_motivational_accuracy: 0.6321 - val_overall_accuracy: 0.4628 - lr: 0.0010\n",
            "Epoch 27/50\n",
            "70/70 [==============================] - 41s 590ms/step - loss: 5.5733 - sarcasm_loss: 1.1834 - humuor_loss: 1.2885 - offensive_loss: 1.1708 - motivational_loss: 0.6484 - overall_loss: 1.2822 - sarcasm_accuracy: 0.4944 - humuor_accuracy: 0.3581 - offensive_accuracy: 0.3926 - motivational_accuracy: 0.6486 - overall_accuracy: 0.4465 - val_loss: 5.5380 - val_sarcasm_loss: 1.1533 - val_humuor_loss: 1.2962 - val_offensive_loss: 1.1768 - val_motivational_loss: 0.6585 - val_overall_loss: 1.2533 - val_sarcasm_accuracy: 0.5157 - val_humuor_accuracy: 0.3509 - val_offensive_accuracy: 0.3724 - val_motivational_accuracy: 0.6321 - val_overall_accuracy: 0.4628 - lr: 0.0010\n",
            "Epoch 28/50\n",
            "70/70 [==============================] - 42s 607ms/step - loss: 5.5734 - sarcasm_loss: 1.1834 - humuor_loss: 1.2886 - offensive_loss: 1.1708 - motivational_loss: 0.6484 - overall_loss: 1.2822 - sarcasm_accuracy: 0.4944 - humuor_accuracy: 0.3581 - offensive_accuracy: 0.3926 - motivational_accuracy: 0.6486 - overall_accuracy: 0.4465 - val_loss: 5.5383 - val_sarcasm_loss: 1.1534 - val_humuor_loss: 1.2961 - val_offensive_loss: 1.1769 - val_motivational_loss: 0.6585 - val_overall_loss: 1.2534 - val_sarcasm_accuracy: 0.5157 - val_humuor_accuracy: 0.3509 - val_offensive_accuracy: 0.3724 - val_motivational_accuracy: 0.6321 - val_overall_accuracy: 0.4628 - lr: 0.0010\n"
          ]
        }
      ]
    },
    {
      "cell_type": "code",
      "source": [
        "!rm -rf ./model-0*"
      ],
      "metadata": {
        "id": "0yaQumekTT5C"
      },
      "execution_count": 91,
      "outputs": []
    },
    {
      "cell_type": "code",
      "source": [
        "evaluate = model.evaluate(x = {\"image_input\": X_test, \"text\": X_text_test},\n",
        "                    y = {\"sarcasm\": y_test.sarcasm, \n",
        "                         \"humuor\": y_test.humour, \n",
        "                         \"offensive\": y_test.offensive, \n",
        "                         \"motivational\": y_test.motivational, \n",
        "                         \"overall\": y_test.overall_sentiment},\n",
        "                    batch_size=32,\n",
        "                    verbose=2\n",
        "                   )"
      ],
      "metadata": {
        "colab": {
          "base_uri": "https://localhost:8080/"
        },
        "id": "-HEI9s0z-V-1",
        "outputId": "65fc4aa2-2ccc-407f-aeff-4b8b1dc26c12"
      },
      "execution_count": 45,
      "outputs": [
        {
          "output_type": "stream",
          "name": "stdout",
          "text": [
            "44/44 - 6s - loss: 5.5593 - sarcasm_loss: 1.1695 - humuor_loss: 1.3104 - offensive_loss: 1.1731 - motivational_loss: 0.6440 - overall_loss: 1.2623 - sarcasm_accuracy: 0.5140 - humuor_accuracy: 0.3278 - offensive_accuracy: 0.3844 - motivational_accuracy: 0.6557 - overall_accuracy: 0.4359 - 6s/epoch - 142ms/step\n"
          ]
        }
      ]
    },
    {
      "cell_type": "code",
      "source": [],
      "metadata": {
        "id": "86y9geXDiZ1U"
      },
      "execution_count": null,
      "outputs": []
    }
  ]
}