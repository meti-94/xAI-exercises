{
  "nbformat": 4,
  "nbformat_minor": 0,
  "metadata": {
    "colab": {
      "provenance": []
    },
    "kernelspec": {
      "name": "python3",
      "display_name": "Python 3"
    },
    "language_info": {
      "name": "python"
    },
    "accelerator": "GPU",
    "gpuClass": "standard"
  },
  "cells": [
    {
      "cell_type": "code",
      "source": [
        "!pip install kaggle -q\n",
        "!pip install tensorflow-addons -q"
      ],
      "metadata": {
        "colab": {
          "base_uri": "https://localhost:8080/"
        },
        "id": "raYYNOzVb6K8",
        "outputId": "a05eda3c-710e-4ba9-d7bc-b14b946d4700"
      },
      "execution_count": 93,
      "outputs": [
        {
          "output_type": "stream",
          "name": "stdout",
          "text": [
            "\u001b[?25l     \u001b[90m━━━━━━━━━━━━━━━━━━━━━━━━━━━━━━━━━━━━━━━━\u001b[0m \u001b[32m0.0/1.1 MB\u001b[0m \u001b[31m?\u001b[0m eta \u001b[36m-:--:--\u001b[0m\r\u001b[2K     \u001b[90m━━━━━━━━━━━━━━━━━━━━━━━━━━━━━━━━━━━━━━━━\u001b[0m \u001b[32m1.1/1.1 MB\u001b[0m \u001b[31m53.0 MB/s\u001b[0m eta \u001b[36m0:00:00\u001b[0m\n",
            "\u001b[?25h"
          ]
        }
      ]
    },
    {
      "cell_type": "code",
      "source": [
        "from google.colab import drive\n",
        "drive.mount('/content/gdrive/')"
      ],
      "metadata": {
        "colab": {
          "base_uri": "https://localhost:8080/"
        },
        "id": "9cG62nhHpU3W",
        "outputId": "7c0c62fd-beaf-4be6-cca8-010c375ddd07"
      },
      "execution_count": 2,
      "outputs": [
        {
          "output_type": "stream",
          "name": "stdout",
          "text": [
            "Mounted at /content/gdrive/\n"
          ]
        }
      ]
    },
    {
      "cell_type": "code",
      "source": [
        "!mkdir ~/.kaggle\n",
        "!cp /content/gdrive/MyDrive/kaggle.json ~/.kaggle\n",
        "!chmod 600 ~/.kaggle/kaggle.json"
      ],
      "metadata": {
        "id": "Z9tDLgdpqHGk"
      },
      "execution_count": 3,
      "outputs": []
    },
    {
      "cell_type": "code",
      "source": [
        "!kaggle datasets download -d williamscott701/memotion-dataset-7k"
      ],
      "metadata": {
        "colab": {
          "base_uri": "https://localhost:8080/"
        },
        "id": "mnm5b08Sq_OB",
        "outputId": "8234e465-222e-4607-a1aa-13ccaa2342a3"
      },
      "execution_count": 5,
      "outputs": [
        {
          "output_type": "stream",
          "name": "stdout",
          "text": [
            "Downloading memotion-dataset-7k.zip to /content\n",
            "100% 695M/695M [00:05<00:00, 242MB/s]\n",
            "100% 695M/695M [00:05<00:00, 137MB/s]\n"
          ]
        }
      ]
    },
    {
      "cell_type": "code",
      "source": [
        "!unzip -qq /content/memotion-dataset-7k.zip"
      ],
      "metadata": {
        "id": "_Fk9PPiOuhKE"
      },
      "execution_count": 6,
      "outputs": []
    },
    {
      "cell_type": "code",
      "source": [
        "import re\n",
        "import string\n",
        "import numpy as np\n",
        "import pandas as pd\n",
        "from tqdm import tqdm\n",
        "import matplotlib.pyplot as plt\n",
        "from sklearn.model_selection import train_test_split\n",
        "\n",
        "import tensorflow as tf\n",
        "from tensorflow.keras import Sequential, Model\n",
        "from tensorflow.keras.layers import Conv2D, MaxPool2D, GlobalAveragePooling2D\n",
        "from tensorflow.keras.layers import Dense, Flatten, BatchNormalization, Activation, Dropout\n",
        "from tensorflow.keras.layers import Conv1D, Embedding, GlobalAveragePooling1D \n",
        "from tensorflow.keras.optimizers import Adam, RMSprop\n",
        "from tensorflow.keras.preprocessing import image\n",
        "from keras.callbacks import EarlyStopping, ModelCheckpoint, ReduceLROnPlateau\n"
      ],
      "metadata": {
        "id": "RNnUl19Muo4c"
      },
      "execution_count": 99,
      "outputs": []
    },
    {
      "cell_type": "code",
      "source": [
        "df = pd.read_csv('/content/memotion_dataset_7k/labels.csv')\n",
        "df.drop(df.columns[df.columns.str.contains('unnamed',case = False)],axis = 1, inplace = True)\n",
        "df = df.drop(columns = ['text_ocr'])\n",
        "df.head()"
      ],
      "metadata": {
        "colab": {
          "base_uri": "https://localhost:8080/",
          "height": 206
        },
        "id": "TGiHlTUIwlKn",
        "outputId": "ab7b8f58-09d0-45dd-e4af-0f6823dd4696"
      },
      "execution_count": 47,
      "outputs": [
        {
          "output_type": "execute_result",
          "data": {
            "text/plain": [
              "     image_name                                     text_corrected  \\\n",
              "0   image_1.jpg  LOOK THERE MY FRIEND LIGHTYEAR NOW ALL SOHALIK...   \n",
              "1  image_2.jpeg  The best of #10 YearChallenge! Completed in le...   \n",
              "2   image_3.JPG  Sam Thorne @Strippin ( Follow Follow Saw every...   \n",
              "3   image_4.png              10 Year Challenge - Sweet Dee Edition   \n",
              "4   image_5.png  10 YEAR CHALLENGE WITH NO FILTER 47 Hilarious ...   \n",
              "\n",
              "       humour          sarcasm       offensive      motivational  \\\n",
              "0   hilarious          general   not_offensive  not_motivational   \n",
              "1   not_funny          general   not_offensive      motivational   \n",
              "2  very_funny    not_sarcastic   not_offensive  not_motivational   \n",
              "3  very_funny  twisted_meaning  very_offensive      motivational   \n",
              "4   hilarious     very_twisted  very_offensive  not_motivational   \n",
              "\n",
              "  overall_sentiment  \n",
              "0     very_positive  \n",
              "1     very_positive  \n",
              "2          positive  \n",
              "3          positive  \n",
              "4           neutral  "
            ],
            "text/html": [
              "\n",
              "  <div id=\"df-2ba0be8a-304e-4685-a9a3-778b5eed3631\">\n",
              "    <div class=\"colab-df-container\">\n",
              "      <div>\n",
              "<style scoped>\n",
              "    .dataframe tbody tr th:only-of-type {\n",
              "        vertical-align: middle;\n",
              "    }\n",
              "\n",
              "    .dataframe tbody tr th {\n",
              "        vertical-align: top;\n",
              "    }\n",
              "\n",
              "    .dataframe thead th {\n",
              "        text-align: right;\n",
              "    }\n",
              "</style>\n",
              "<table border=\"1\" class=\"dataframe\">\n",
              "  <thead>\n",
              "    <tr style=\"text-align: right;\">\n",
              "      <th></th>\n",
              "      <th>image_name</th>\n",
              "      <th>text_corrected</th>\n",
              "      <th>humour</th>\n",
              "      <th>sarcasm</th>\n",
              "      <th>offensive</th>\n",
              "      <th>motivational</th>\n",
              "      <th>overall_sentiment</th>\n",
              "    </tr>\n",
              "  </thead>\n",
              "  <tbody>\n",
              "    <tr>\n",
              "      <th>0</th>\n",
              "      <td>image_1.jpg</td>\n",
              "      <td>LOOK THERE MY FRIEND LIGHTYEAR NOW ALL SOHALIK...</td>\n",
              "      <td>hilarious</td>\n",
              "      <td>general</td>\n",
              "      <td>not_offensive</td>\n",
              "      <td>not_motivational</td>\n",
              "      <td>very_positive</td>\n",
              "    </tr>\n",
              "    <tr>\n",
              "      <th>1</th>\n",
              "      <td>image_2.jpeg</td>\n",
              "      <td>The best of #10 YearChallenge! Completed in le...</td>\n",
              "      <td>not_funny</td>\n",
              "      <td>general</td>\n",
              "      <td>not_offensive</td>\n",
              "      <td>motivational</td>\n",
              "      <td>very_positive</td>\n",
              "    </tr>\n",
              "    <tr>\n",
              "      <th>2</th>\n",
              "      <td>image_3.JPG</td>\n",
              "      <td>Sam Thorne @Strippin ( Follow Follow Saw every...</td>\n",
              "      <td>very_funny</td>\n",
              "      <td>not_sarcastic</td>\n",
              "      <td>not_offensive</td>\n",
              "      <td>not_motivational</td>\n",
              "      <td>positive</td>\n",
              "    </tr>\n",
              "    <tr>\n",
              "      <th>3</th>\n",
              "      <td>image_4.png</td>\n",
              "      <td>10 Year Challenge - Sweet Dee Edition</td>\n",
              "      <td>very_funny</td>\n",
              "      <td>twisted_meaning</td>\n",
              "      <td>very_offensive</td>\n",
              "      <td>motivational</td>\n",
              "      <td>positive</td>\n",
              "    </tr>\n",
              "    <tr>\n",
              "      <th>4</th>\n",
              "      <td>image_5.png</td>\n",
              "      <td>10 YEAR CHALLENGE WITH NO FILTER 47 Hilarious ...</td>\n",
              "      <td>hilarious</td>\n",
              "      <td>very_twisted</td>\n",
              "      <td>very_offensive</td>\n",
              "      <td>not_motivational</td>\n",
              "      <td>neutral</td>\n",
              "    </tr>\n",
              "  </tbody>\n",
              "</table>\n",
              "</div>\n",
              "      <button class=\"colab-df-convert\" onclick=\"convertToInteractive('df-2ba0be8a-304e-4685-a9a3-778b5eed3631')\"\n",
              "              title=\"Convert this dataframe to an interactive table.\"\n",
              "              style=\"display:none;\">\n",
              "        \n",
              "  <svg xmlns=\"http://www.w3.org/2000/svg\" height=\"24px\"viewBox=\"0 0 24 24\"\n",
              "       width=\"24px\">\n",
              "    <path d=\"M0 0h24v24H0V0z\" fill=\"none\"/>\n",
              "    <path d=\"M18.56 5.44l.94 2.06.94-2.06 2.06-.94-2.06-.94-.94-2.06-.94 2.06-2.06.94zm-11 1L8.5 8.5l.94-2.06 2.06-.94-2.06-.94L8.5 2.5l-.94 2.06-2.06.94zm10 10l.94 2.06.94-2.06 2.06-.94-2.06-.94-.94-2.06-.94 2.06-2.06.94z\"/><path d=\"M17.41 7.96l-1.37-1.37c-.4-.4-.92-.59-1.43-.59-.52 0-1.04.2-1.43.59L10.3 9.45l-7.72 7.72c-.78.78-.78 2.05 0 2.83L4 21.41c.39.39.9.59 1.41.59.51 0 1.02-.2 1.41-.59l7.78-7.78 2.81-2.81c.8-.78.8-2.07 0-2.86zM5.41 20L4 18.59l7.72-7.72 1.47 1.35L5.41 20z\"/>\n",
              "  </svg>\n",
              "      </button>\n",
              "      \n",
              "  <style>\n",
              "    .colab-df-container {\n",
              "      display:flex;\n",
              "      flex-wrap:wrap;\n",
              "      gap: 12px;\n",
              "    }\n",
              "\n",
              "    .colab-df-convert {\n",
              "      background-color: #E8F0FE;\n",
              "      border: none;\n",
              "      border-radius: 50%;\n",
              "      cursor: pointer;\n",
              "      display: none;\n",
              "      fill: #1967D2;\n",
              "      height: 32px;\n",
              "      padding: 0 0 0 0;\n",
              "      width: 32px;\n",
              "    }\n",
              "\n",
              "    .colab-df-convert:hover {\n",
              "      background-color: #E2EBFA;\n",
              "      box-shadow: 0px 1px 2px rgba(60, 64, 67, 0.3), 0px 1px 3px 1px rgba(60, 64, 67, 0.15);\n",
              "      fill: #174EA6;\n",
              "    }\n",
              "\n",
              "    [theme=dark] .colab-df-convert {\n",
              "      background-color: #3B4455;\n",
              "      fill: #D2E3FC;\n",
              "    }\n",
              "\n",
              "    [theme=dark] .colab-df-convert:hover {\n",
              "      background-color: #434B5C;\n",
              "      box-shadow: 0px 1px 3px 1px rgba(0, 0, 0, 0.15);\n",
              "      filter: drop-shadow(0px 1px 2px rgba(0, 0, 0, 0.3));\n",
              "      fill: #FFFFFF;\n",
              "    }\n",
              "  </style>\n",
              "\n",
              "      <script>\n",
              "        const buttonEl =\n",
              "          document.querySelector('#df-2ba0be8a-304e-4685-a9a3-778b5eed3631 button.colab-df-convert');\n",
              "        buttonEl.style.display =\n",
              "          google.colab.kernel.accessAllowed ? 'block' : 'none';\n",
              "\n",
              "        async function convertToInteractive(key) {\n",
              "          const element = document.querySelector('#df-2ba0be8a-304e-4685-a9a3-778b5eed3631');\n",
              "          const dataTable =\n",
              "            await google.colab.kernel.invokeFunction('convertToInteractive',\n",
              "                                                     [key], {});\n",
              "          if (!dataTable) return;\n",
              "\n",
              "          const docLinkHtml = 'Like what you see? Visit the ' +\n",
              "            '<a target=\"_blank\" href=https://colab.research.google.com/notebooks/data_table.ipynb>data table notebook</a>'\n",
              "            + ' to learn more about interactive tables.';\n",
              "          element.innerHTML = '';\n",
              "          dataTable['output_type'] = 'display_data';\n",
              "          await google.colab.output.renderOutput(dataTable, element);\n",
              "          const docLink = document.createElement('div');\n",
              "          docLink.innerHTML = docLinkHtml;\n",
              "          element.appendChild(docLink);\n",
              "        }\n",
              "      </script>\n",
              "    </div>\n",
              "  </div>\n",
              "  "
            ]
          },
          "metadata": {},
          "execution_count": 47
        }
      ]
    },
    {
      "cell_type": "code",
      "source": [
        "df[df.isnull().any(axis=1)]"
      ],
      "metadata": {
        "colab": {
          "base_uri": "https://localhost:8080/",
          "height": 206
        },
        "id": "9z0R7dV3w18X",
        "outputId": "96ca12bf-e850-4d41-cf1d-f1b87b8fa508"
      },
      "execution_count": 48,
      "outputs": [
        {
          "output_type": "execute_result",
          "data": {
            "text/plain": [
              "          image_name text_corrected      humour          sarcasm  \\\n",
              "119    image_120.jpg            NaN   not_funny          general   \n",
              "4799  image_4800.jpg            NaN  very_funny          general   \n",
              "6781  image_6782.jpg            NaN  very_funny  twisted_meaning   \n",
              "6784  image_6785.jpg            NaN   hilarious          general   \n",
              "6786  image_6787.jpg            NaN   not_funny    not_sarcastic   \n",
              "\n",
              "           offensive      motivational overall_sentiment  \n",
              "119    not_offensive  not_motivational          positive  \n",
              "4799          slight      motivational           neutral  \n",
              "6781   not_offensive  not_motivational          positive  \n",
              "6784   not_offensive  not_motivational          positive  \n",
              "6786  very_offensive      motivational          positive  "
            ],
            "text/html": [
              "\n",
              "  <div id=\"df-0ec76948-0a2a-4d2d-806d-5d73ca1617aa\">\n",
              "    <div class=\"colab-df-container\">\n",
              "      <div>\n",
              "<style scoped>\n",
              "    .dataframe tbody tr th:only-of-type {\n",
              "        vertical-align: middle;\n",
              "    }\n",
              "\n",
              "    .dataframe tbody tr th {\n",
              "        vertical-align: top;\n",
              "    }\n",
              "\n",
              "    .dataframe thead th {\n",
              "        text-align: right;\n",
              "    }\n",
              "</style>\n",
              "<table border=\"1\" class=\"dataframe\">\n",
              "  <thead>\n",
              "    <tr style=\"text-align: right;\">\n",
              "      <th></th>\n",
              "      <th>image_name</th>\n",
              "      <th>text_corrected</th>\n",
              "      <th>humour</th>\n",
              "      <th>sarcasm</th>\n",
              "      <th>offensive</th>\n",
              "      <th>motivational</th>\n",
              "      <th>overall_sentiment</th>\n",
              "    </tr>\n",
              "  </thead>\n",
              "  <tbody>\n",
              "    <tr>\n",
              "      <th>119</th>\n",
              "      <td>image_120.jpg</td>\n",
              "      <td>NaN</td>\n",
              "      <td>not_funny</td>\n",
              "      <td>general</td>\n",
              "      <td>not_offensive</td>\n",
              "      <td>not_motivational</td>\n",
              "      <td>positive</td>\n",
              "    </tr>\n",
              "    <tr>\n",
              "      <th>4799</th>\n",
              "      <td>image_4800.jpg</td>\n",
              "      <td>NaN</td>\n",
              "      <td>very_funny</td>\n",
              "      <td>general</td>\n",
              "      <td>slight</td>\n",
              "      <td>motivational</td>\n",
              "      <td>neutral</td>\n",
              "    </tr>\n",
              "    <tr>\n",
              "      <th>6781</th>\n",
              "      <td>image_6782.jpg</td>\n",
              "      <td>NaN</td>\n",
              "      <td>very_funny</td>\n",
              "      <td>twisted_meaning</td>\n",
              "      <td>not_offensive</td>\n",
              "      <td>not_motivational</td>\n",
              "      <td>positive</td>\n",
              "    </tr>\n",
              "    <tr>\n",
              "      <th>6784</th>\n",
              "      <td>image_6785.jpg</td>\n",
              "      <td>NaN</td>\n",
              "      <td>hilarious</td>\n",
              "      <td>general</td>\n",
              "      <td>not_offensive</td>\n",
              "      <td>not_motivational</td>\n",
              "      <td>positive</td>\n",
              "    </tr>\n",
              "    <tr>\n",
              "      <th>6786</th>\n",
              "      <td>image_6787.jpg</td>\n",
              "      <td>NaN</td>\n",
              "      <td>not_funny</td>\n",
              "      <td>not_sarcastic</td>\n",
              "      <td>very_offensive</td>\n",
              "      <td>motivational</td>\n",
              "      <td>positive</td>\n",
              "    </tr>\n",
              "  </tbody>\n",
              "</table>\n",
              "</div>\n",
              "      <button class=\"colab-df-convert\" onclick=\"convertToInteractive('df-0ec76948-0a2a-4d2d-806d-5d73ca1617aa')\"\n",
              "              title=\"Convert this dataframe to an interactive table.\"\n",
              "              style=\"display:none;\">\n",
              "        \n",
              "  <svg xmlns=\"http://www.w3.org/2000/svg\" height=\"24px\"viewBox=\"0 0 24 24\"\n",
              "       width=\"24px\">\n",
              "    <path d=\"M0 0h24v24H0V0z\" fill=\"none\"/>\n",
              "    <path d=\"M18.56 5.44l.94 2.06.94-2.06 2.06-.94-2.06-.94-.94-2.06-.94 2.06-2.06.94zm-11 1L8.5 8.5l.94-2.06 2.06-.94-2.06-.94L8.5 2.5l-.94 2.06-2.06.94zm10 10l.94 2.06.94-2.06 2.06-.94-2.06-.94-.94-2.06-.94 2.06-2.06.94z\"/><path d=\"M17.41 7.96l-1.37-1.37c-.4-.4-.92-.59-1.43-.59-.52 0-1.04.2-1.43.59L10.3 9.45l-7.72 7.72c-.78.78-.78 2.05 0 2.83L4 21.41c.39.39.9.59 1.41.59.51 0 1.02-.2 1.41-.59l7.78-7.78 2.81-2.81c.8-.78.8-2.07 0-2.86zM5.41 20L4 18.59l7.72-7.72 1.47 1.35L5.41 20z\"/>\n",
              "  </svg>\n",
              "      </button>\n",
              "      \n",
              "  <style>\n",
              "    .colab-df-container {\n",
              "      display:flex;\n",
              "      flex-wrap:wrap;\n",
              "      gap: 12px;\n",
              "    }\n",
              "\n",
              "    .colab-df-convert {\n",
              "      background-color: #E8F0FE;\n",
              "      border: none;\n",
              "      border-radius: 50%;\n",
              "      cursor: pointer;\n",
              "      display: none;\n",
              "      fill: #1967D2;\n",
              "      height: 32px;\n",
              "      padding: 0 0 0 0;\n",
              "      width: 32px;\n",
              "    }\n",
              "\n",
              "    .colab-df-convert:hover {\n",
              "      background-color: #E2EBFA;\n",
              "      box-shadow: 0px 1px 2px rgba(60, 64, 67, 0.3), 0px 1px 3px 1px rgba(60, 64, 67, 0.15);\n",
              "      fill: #174EA6;\n",
              "    }\n",
              "\n",
              "    [theme=dark] .colab-df-convert {\n",
              "      background-color: #3B4455;\n",
              "      fill: #D2E3FC;\n",
              "    }\n",
              "\n",
              "    [theme=dark] .colab-df-convert:hover {\n",
              "      background-color: #434B5C;\n",
              "      box-shadow: 0px 1px 3px 1px rgba(0, 0, 0, 0.15);\n",
              "      filter: drop-shadow(0px 1px 2px rgba(0, 0, 0, 0.3));\n",
              "      fill: #FFFFFF;\n",
              "    }\n",
              "  </style>\n",
              "\n",
              "      <script>\n",
              "        const buttonEl =\n",
              "          document.querySelector('#df-0ec76948-0a2a-4d2d-806d-5d73ca1617aa button.colab-df-convert');\n",
              "        buttonEl.style.display =\n",
              "          google.colab.kernel.accessAllowed ? 'block' : 'none';\n",
              "\n",
              "        async function convertToInteractive(key) {\n",
              "          const element = document.querySelector('#df-0ec76948-0a2a-4d2d-806d-5d73ca1617aa');\n",
              "          const dataTable =\n",
              "            await google.colab.kernel.invokeFunction('convertToInteractive',\n",
              "                                                     [key], {});\n",
              "          if (!dataTable) return;\n",
              "\n",
              "          const docLinkHtml = 'Like what you see? Visit the ' +\n",
              "            '<a target=\"_blank\" href=https://colab.research.google.com/notebooks/data_table.ipynb>data table notebook</a>'\n",
              "            + ' to learn more about interactive tables.';\n",
              "          element.innerHTML = '';\n",
              "          dataTable['output_type'] = 'display_data';\n",
              "          await google.colab.output.renderOutput(dataTable, element);\n",
              "          const docLink = document.createElement('div');\n",
              "          docLink.innerHTML = docLinkHtml;\n",
              "          element.appendChild(docLink);\n",
              "        }\n",
              "      </script>\n",
              "    </div>\n",
              "  </div>\n",
              "  "
            ]
          },
          "metadata": {},
          "execution_count": 48
        }
      ]
    },
    {
      "cell_type": "code",
      "source": [
        "full_df = df.copy()\n",
        "full_df.isnull().any()"
      ],
      "metadata": {
        "colab": {
          "base_uri": "https://localhost:8080/"
        },
        "id": "GKbHIH9FxC-c",
        "outputId": "fa2d06dc-1fc6-4d16-c1cd-56d887c49e65"
      },
      "execution_count": 49,
      "outputs": [
        {
          "output_type": "execute_result",
          "data": {
            "text/plain": [
              "image_name           False\n",
              "text_corrected        True\n",
              "humour               False\n",
              "sarcasm              False\n",
              "offensive            False\n",
              "motivational         False\n",
              "overall_sentiment    False\n",
              "dtype: bool"
            ]
          },
          "metadata": {},
          "execution_count": 49
        }
      ]
    },
    {
      "cell_type": "code",
      "source": [
        "clean_df = df.copy()\n",
        "clean_df.dropna(inplace=True)\n",
        "clean_df.isnull().any()"
      ],
      "metadata": {
        "colab": {
          "base_uri": "https://localhost:8080/"
        },
        "id": "5W1XiWr7xJmf",
        "outputId": "32991916-1373-4cd6-f86d-21912fb6f363"
      },
      "execution_count": 50,
      "outputs": [
        {
          "output_type": "execute_result",
          "data": {
            "text/plain": [
              "image_name           False\n",
              "text_corrected       False\n",
              "humour               False\n",
              "sarcasm              False\n",
              "offensive            False\n",
              "motivational         False\n",
              "overall_sentiment    False\n",
              "dtype: bool"
            ]
          },
          "metadata": {},
          "execution_count": 50
        }
      ]
    },
    {
      "cell_type": "code",
      "source": [
        "df = df.replace({'humour': {'not_funny': 0, 'funny': 1, 'very_funny': 2, 'hilarious':3},\n",
        "            'sarcasm': {'not_sarcastic': 0, 'general': 1, 'twisted_meaning': 2, 'very_twisted': 3},\n",
        "            'offensive': {'not_offensive': 0, 'slight': 1, 'very_offensive': 2, 'hateful_offensive': 3},\n",
        "            'motivational': {'not_motivational': 0, 'motivational': 1},\n",
        "            'overall_sentiment': {'very_negative': 0, 'negative': 1, 'neutral': 2, 'positive': 3, 'very_positive': 4}})"
      ],
      "metadata": {
        "id": "1WVYtKdHxNac"
      },
      "execution_count": 51,
      "outputs": []
    },
    {
      "cell_type": "code",
      "source": [
        "from PIL import ImageFile, ImageOps\n",
        "ImageFile.LOAD_TRUNCATED_IMAGES = True"
      ],
      "metadata": {
        "id": "pEYmZQ9dxPuA"
      },
      "execution_count": 52,
      "outputs": []
    },
    {
      "cell_type": "code",
      "source": [
        "width = 100\n",
        "height = 100\n",
        "X_full = []\n",
        "X_full_path = []\n",
        "for i in tqdm(range(full_df.shape[0])):\n",
        "    path = '/content/memotion_dataset_7k/images/'+full_df['image_name'][i]\n",
        "    img = image.load_img(path,target_size=(width,height,3))\n",
        "    img = image.img_to_array(img)\n",
        "    img = img/255.0\n",
        "    X_full.append(img)\n",
        "    X_full_path.append(path)"
      ],
      "metadata": {
        "colab": {
          "base_uri": "https://localhost:8080/"
        },
        "id": "CwtfftOAxWod",
        "outputId": "62707720-6b84-4108-fe3e-a75088db45f7"
      },
      "execution_count": 53,
      "outputs": [
        {
          "output_type": "stream",
          "name": "stderr",
          "text": [
            " 93%|█████████▎| 6507/6992 [00:39<00:02, 185.36it/s]/usr/local/lib/python3.8/dist-packages/PIL/TiffImagePlugin.py:788: UserWarning: Corrupt EXIF data.  Expecting to read 2 bytes but only got 0. \n",
            "  warnings.warn(str(msg))\n",
            " 95%|█████████▌| 6659/6992 [00:39<00:01, 199.20it/s]/usr/local/lib/python3.8/dist-packages/PIL/Image.py:959: UserWarning: Palette images with Transparency expressed in bytes should be converted to RGBA images\n",
            "  warnings.warn(\n",
            "100%|██████████| 6992/6992 [00:42<00:00, 164.93it/s]\n"
          ]
        }
      ]
    },
    {
      "cell_type": "code",
      "source": [
        "width = 100\n",
        "height = 100\n",
        "X_cleaned = []\n",
        "X_cleaned_path = []\n",
        "for i in tqdm(range(clean_df.shape[0])):\n",
        "    if i in [119, 4799, 6781, 6784, 6786]:\n",
        "        pass\n",
        "    else:\n",
        "        path = '/content/memotion_dataset_7k/images/'+clean_df['image_name'][i]\n",
        "        img = image.load_img(path,target_size=(width,height,3))\n",
        "        img = image.img_to_array(img)\n",
        "        img = img/255.0\n",
        "        X_cleaned.append(img)\n",
        "        X_cleaned_path.append(path)"
      ],
      "metadata": {
        "colab": {
          "base_uri": "https://localhost:8080/"
        },
        "id": "mL_GTxTzxdOA",
        "outputId": "866917f4-37fa-4275-8524-48a0b7ff6b8a"
      },
      "execution_count": 54,
      "outputs": [
        {
          "output_type": "stream",
          "name": "stderr",
          "text": [
            "100%|██████████| 6987/6987 [00:44<00:00, 158.36it/s]\n"
          ]
        }
      ]
    },
    {
      "cell_type": "code",
      "source": [
        "deleted_paths = [paths for paths in X_full_path + X_cleaned_path if paths not in X_full_path or paths not in X_cleaned_path]\n",
        "deleted_paths"
      ],
      "metadata": {
        "colab": {
          "base_uri": "https://localhost:8080/"
        },
        "id": "4APwz6fZyEwY",
        "outputId": "b2141e76-a37d-4751-8d8c-7952a83caa0c"
      },
      "execution_count": 55,
      "outputs": [
        {
          "output_type": "execute_result",
          "data": {
            "text/plain": [
              "['/content/memotion_dataset_7k/images/image_120.jpg',\n",
              " '/content/memotion_dataset_7k/images/image_4800.jpg',\n",
              " '/content/memotion_dataset_7k/images/image_6782.jpg',\n",
              " '/content/memotion_dataset_7k/images/image_6785.jpg',\n",
              " '/content/memotion_dataset_7k/images/image_6787.jpg',\n",
              " '/content/memotion_dataset_7k/images/image_6988.jpg',\n",
              " '/content/memotion_dataset_7k/images/image_6989.jpg',\n",
              " '/content/memotion_dataset_7k/images/image_6990.png',\n",
              " '/content/memotion_dataset_7k/images/image_6991.jpg',\n",
              " '/content/memotion_dataset_7k/images/image_6992.jpg']"
            ]
          },
          "metadata": {},
          "execution_count": 55
        }
      ]
    },
    {
      "cell_type": "code",
      "source": [
        "delete_var = [full_df, clean_df, X_cleaned, X_full, X_cleaned_path, X_full_path]\n",
        "for i in delete_var:\n",
        "    del i"
      ],
      "metadata": {
        "id": "xba75I_IyL_e"
      },
      "execution_count": 58,
      "outputs": []
    },
    {
      "cell_type": "code",
      "source": [
        "len(clean_df)"
      ],
      "metadata": {
        "id": "gbiDq23iHJ2t",
        "outputId": "28d9158e-ddaf-481c-8f17-b711aa566d77",
        "colab": {
          "base_uri": "https://localhost:8080/"
        }
      },
      "execution_count": 63,
      "outputs": [
        {
          "output_type": "execute_result",
          "data": {
            "text/plain": [
              "6987"
            ]
          },
          "metadata": {},
          "execution_count": 63
        }
      ]
    },
    {
      "cell_type": "code",
      "source": [
        "width = 100\n",
        "height = 100\n",
        "X = []\n",
        "for i in tqdm(range(clean_df.shape[0])):\n",
        "    if i in [119, 4799, 6781, 6784, 6786]:\n",
        "        pass\n",
        "    else:\n",
        "        path = '/content/memotion_dataset_7k/images/'+clean_df['image_name'][i]\n",
        "        img = image.load_img(path,target_size=(width,height,3))\n",
        "        img = image.img_to_array(img)\n",
        "        img = img/255.0\n",
        "        X.append(img)"
      ],
      "metadata": {
        "colab": {
          "base_uri": "https://localhost:8080/"
        },
        "id": "E0slxn-lyX3L",
        "outputId": "db4366b0-3592-440a-881c-51dd6aa03998"
      },
      "execution_count": 60,
      "outputs": [
        {
          "output_type": "stream",
          "name": "stderr",
          "text": [
            "100%|██████████| 6987/6987 [00:43<00:00, 159.72it/s]\n"
          ]
        }
      ]
    },
    {
      "cell_type": "code",
      "source": [
        "X = np.array(X)"
      ],
      "metadata": {
        "id": "K-l6zWvHybF4"
      },
      "execution_count": 64,
      "outputs": []
    },
    {
      "cell_type": "code",
      "source": [
        "X.shape"
      ],
      "metadata": {
        "colab": {
          "base_uri": "https://localhost:8080/"
        },
        "id": "jwfbi-UMy1WE",
        "outputId": "a43faa78-d162-42ed-9009-9a5cc8a194f0"
      },
      "execution_count": 65,
      "outputs": [
        {
          "output_type": "execute_result",
          "data": {
            "text/plain": [
              "(6982, 100, 100, 3)"
            ]
          },
          "metadata": {},
          "execution_count": 65
        }
      ]
    },
    {
      "cell_type": "code",
      "source": [
        "rows_to_drop = ['image_120.jpg',\n",
        "              'image_4800.jpg',\n",
        "              'image_6782.jpg',\n",
        "              'image_6785.jpg',\n",
        "              'image_6787.jpg',\n",
        "              'image_6988.jpg',\n",
        "              'image_6989.jpg',\n",
        "              'image_6990.png',\n",
        "              'image_6991.jpg',\n",
        "              'image_6992.jpg']"
      ],
      "metadata": {
        "id": "YXijFzloy4eh"
      },
      "execution_count": 66,
      "outputs": []
    },
    {
      "cell_type": "code",
      "source": [
        "cleaner_df = df\n",
        "cleaner_df.head()"
      ],
      "metadata": {
        "colab": {
          "base_uri": "https://localhost:8080/",
          "height": 206
        },
        "id": "hDJJianFy6Vu",
        "outputId": "d92507ea-7789-4e42-bd8c-f0bba8eb2aee"
      },
      "execution_count": 67,
      "outputs": [
        {
          "output_type": "execute_result",
          "data": {
            "text/plain": [
              "     image_name                                     text_corrected  humour  \\\n",
              "0   image_1.jpg  LOOK THERE MY FRIEND LIGHTYEAR NOW ALL SOHALIK...       3   \n",
              "1  image_2.jpeg  The best of #10 YearChallenge! Completed in le...       0   \n",
              "2   image_3.JPG  Sam Thorne @Strippin ( Follow Follow Saw every...       2   \n",
              "3   image_4.png              10 Year Challenge - Sweet Dee Edition       2   \n",
              "4   image_5.png  10 YEAR CHALLENGE WITH NO FILTER 47 Hilarious ...       3   \n",
              "\n",
              "   sarcasm  offensive  motivational  overall_sentiment  \n",
              "0        1          0             0                  4  \n",
              "1        1          0             1                  4  \n",
              "2        0          0             0                  3  \n",
              "3        2          2             1                  3  \n",
              "4        3          2             0                  2  "
            ],
            "text/html": [
              "\n",
              "  <div id=\"df-3334cb5e-2fda-4650-a606-1cc30310ee22\">\n",
              "    <div class=\"colab-df-container\">\n",
              "      <div>\n",
              "<style scoped>\n",
              "    .dataframe tbody tr th:only-of-type {\n",
              "        vertical-align: middle;\n",
              "    }\n",
              "\n",
              "    .dataframe tbody tr th {\n",
              "        vertical-align: top;\n",
              "    }\n",
              "\n",
              "    .dataframe thead th {\n",
              "        text-align: right;\n",
              "    }\n",
              "</style>\n",
              "<table border=\"1\" class=\"dataframe\">\n",
              "  <thead>\n",
              "    <tr style=\"text-align: right;\">\n",
              "      <th></th>\n",
              "      <th>image_name</th>\n",
              "      <th>text_corrected</th>\n",
              "      <th>humour</th>\n",
              "      <th>sarcasm</th>\n",
              "      <th>offensive</th>\n",
              "      <th>motivational</th>\n",
              "      <th>overall_sentiment</th>\n",
              "    </tr>\n",
              "  </thead>\n",
              "  <tbody>\n",
              "    <tr>\n",
              "      <th>0</th>\n",
              "      <td>image_1.jpg</td>\n",
              "      <td>LOOK THERE MY FRIEND LIGHTYEAR NOW ALL SOHALIK...</td>\n",
              "      <td>3</td>\n",
              "      <td>1</td>\n",
              "      <td>0</td>\n",
              "      <td>0</td>\n",
              "      <td>4</td>\n",
              "    </tr>\n",
              "    <tr>\n",
              "      <th>1</th>\n",
              "      <td>image_2.jpeg</td>\n",
              "      <td>The best of #10 YearChallenge! Completed in le...</td>\n",
              "      <td>0</td>\n",
              "      <td>1</td>\n",
              "      <td>0</td>\n",
              "      <td>1</td>\n",
              "      <td>4</td>\n",
              "    </tr>\n",
              "    <tr>\n",
              "      <th>2</th>\n",
              "      <td>image_3.JPG</td>\n",
              "      <td>Sam Thorne @Strippin ( Follow Follow Saw every...</td>\n",
              "      <td>2</td>\n",
              "      <td>0</td>\n",
              "      <td>0</td>\n",
              "      <td>0</td>\n",
              "      <td>3</td>\n",
              "    </tr>\n",
              "    <tr>\n",
              "      <th>3</th>\n",
              "      <td>image_4.png</td>\n",
              "      <td>10 Year Challenge - Sweet Dee Edition</td>\n",
              "      <td>2</td>\n",
              "      <td>2</td>\n",
              "      <td>2</td>\n",
              "      <td>1</td>\n",
              "      <td>3</td>\n",
              "    </tr>\n",
              "    <tr>\n",
              "      <th>4</th>\n",
              "      <td>image_5.png</td>\n",
              "      <td>10 YEAR CHALLENGE WITH NO FILTER 47 Hilarious ...</td>\n",
              "      <td>3</td>\n",
              "      <td>3</td>\n",
              "      <td>2</td>\n",
              "      <td>0</td>\n",
              "      <td>2</td>\n",
              "    </tr>\n",
              "  </tbody>\n",
              "</table>\n",
              "</div>\n",
              "      <button class=\"colab-df-convert\" onclick=\"convertToInteractive('df-3334cb5e-2fda-4650-a606-1cc30310ee22')\"\n",
              "              title=\"Convert this dataframe to an interactive table.\"\n",
              "              style=\"display:none;\">\n",
              "        \n",
              "  <svg xmlns=\"http://www.w3.org/2000/svg\" height=\"24px\"viewBox=\"0 0 24 24\"\n",
              "       width=\"24px\">\n",
              "    <path d=\"M0 0h24v24H0V0z\" fill=\"none\"/>\n",
              "    <path d=\"M18.56 5.44l.94 2.06.94-2.06 2.06-.94-2.06-.94-.94-2.06-.94 2.06-2.06.94zm-11 1L8.5 8.5l.94-2.06 2.06-.94-2.06-.94L8.5 2.5l-.94 2.06-2.06.94zm10 10l.94 2.06.94-2.06 2.06-.94-2.06-.94-.94-2.06-.94 2.06-2.06.94z\"/><path d=\"M17.41 7.96l-1.37-1.37c-.4-.4-.92-.59-1.43-.59-.52 0-1.04.2-1.43.59L10.3 9.45l-7.72 7.72c-.78.78-.78 2.05 0 2.83L4 21.41c.39.39.9.59 1.41.59.51 0 1.02-.2 1.41-.59l7.78-7.78 2.81-2.81c.8-.78.8-2.07 0-2.86zM5.41 20L4 18.59l7.72-7.72 1.47 1.35L5.41 20z\"/>\n",
              "  </svg>\n",
              "      </button>\n",
              "      \n",
              "  <style>\n",
              "    .colab-df-container {\n",
              "      display:flex;\n",
              "      flex-wrap:wrap;\n",
              "      gap: 12px;\n",
              "    }\n",
              "\n",
              "    .colab-df-convert {\n",
              "      background-color: #E8F0FE;\n",
              "      border: none;\n",
              "      border-radius: 50%;\n",
              "      cursor: pointer;\n",
              "      display: none;\n",
              "      fill: #1967D2;\n",
              "      height: 32px;\n",
              "      padding: 0 0 0 0;\n",
              "      width: 32px;\n",
              "    }\n",
              "\n",
              "    .colab-df-convert:hover {\n",
              "      background-color: #E2EBFA;\n",
              "      box-shadow: 0px 1px 2px rgba(60, 64, 67, 0.3), 0px 1px 3px 1px rgba(60, 64, 67, 0.15);\n",
              "      fill: #174EA6;\n",
              "    }\n",
              "\n",
              "    [theme=dark] .colab-df-convert {\n",
              "      background-color: #3B4455;\n",
              "      fill: #D2E3FC;\n",
              "    }\n",
              "\n",
              "    [theme=dark] .colab-df-convert:hover {\n",
              "      background-color: #434B5C;\n",
              "      box-shadow: 0px 1px 3px 1px rgba(0, 0, 0, 0.15);\n",
              "      filter: drop-shadow(0px 1px 2px rgba(0, 0, 0, 0.3));\n",
              "      fill: #FFFFFF;\n",
              "    }\n",
              "  </style>\n",
              "\n",
              "      <script>\n",
              "        const buttonEl =\n",
              "          document.querySelector('#df-3334cb5e-2fda-4650-a606-1cc30310ee22 button.colab-df-convert');\n",
              "        buttonEl.style.display =\n",
              "          google.colab.kernel.accessAllowed ? 'block' : 'none';\n",
              "\n",
              "        async function convertToInteractive(key) {\n",
              "          const element = document.querySelector('#df-3334cb5e-2fda-4650-a606-1cc30310ee22');\n",
              "          const dataTable =\n",
              "            await google.colab.kernel.invokeFunction('convertToInteractive',\n",
              "                                                     [key], {});\n",
              "          if (!dataTable) return;\n",
              "\n",
              "          const docLinkHtml = 'Like what you see? Visit the ' +\n",
              "            '<a target=\"_blank\" href=https://colab.research.google.com/notebooks/data_table.ipynb>data table notebook</a>'\n",
              "            + ' to learn more about interactive tables.';\n",
              "          element.innerHTML = '';\n",
              "          dataTable['output_type'] = 'display_data';\n",
              "          await google.colab.output.renderOutput(dataTable, element);\n",
              "          const docLink = document.createElement('div');\n",
              "          docLink.innerHTML = docLinkHtml;\n",
              "          element.appendChild(docLink);\n",
              "        }\n",
              "      </script>\n",
              "    </div>\n",
              "  </div>\n",
              "  "
            ]
          },
          "metadata": {},
          "execution_count": 67
        }
      ]
    },
    {
      "cell_type": "code",
      "source": [
        "len(cleaner_df)"
      ],
      "metadata": {
        "id": "18D21gq3HDjQ",
        "outputId": "0315dd72-dcce-478b-9575-0aa8cb0f1cbb",
        "colab": {
          "base_uri": "https://localhost:8080/"
        }
      },
      "execution_count": 68,
      "outputs": [
        {
          "output_type": "execute_result",
          "data": {
            "text/plain": [
              "6992"
            ]
          },
          "metadata": {},
          "execution_count": 68
        }
      ]
    },
    {
      "cell_type": "code",
      "source": [
        "for images in rows_to_drop:\n",
        "    cleaner_df.drop(cleaner_df[cleaner_df['image_name'] == images].index, inplace=True)"
      ],
      "metadata": {
        "id": "ry3qAbMCy8Oi"
      },
      "execution_count": 69,
      "outputs": []
    },
    {
      "cell_type": "code",
      "source": [
        "cleaner_df.shape"
      ],
      "metadata": {
        "colab": {
          "base_uri": "https://localhost:8080/"
        },
        "id": "9mpgoTcLy-CU",
        "outputId": "121f1f63-7c01-4694-b395-ce976842f3c7"
      },
      "execution_count": 70,
      "outputs": [
        {
          "output_type": "execute_result",
          "data": {
            "text/plain": [
              "(6982, 7)"
            ]
          },
          "metadata": {},
          "execution_count": 70
        }
      ]
    },
    {
      "cell_type": "code",
      "source": [
        "np.save('image_array', X)"
      ],
      "metadata": {
        "id": "qojP8mnDzAJy"
      },
      "execution_count": 71,
      "outputs": []
    },
    {
      "cell_type": "code",
      "source": [
        "Y = cleaner_df.iloc[:,2:]\n",
        "Y.shape"
      ],
      "metadata": {
        "colab": {
          "base_uri": "https://localhost:8080/"
        },
        "id": "bUAjE6hmzCrx",
        "outputId": "b19ccd76-ac48-4556-9091-24571deb3773"
      },
      "execution_count": 72,
      "outputs": [
        {
          "output_type": "execute_result",
          "data": {
            "text/plain": [
              "(6982, 5)"
            ]
          },
          "metadata": {},
          "execution_count": 72
        }
      ]
    },
    {
      "cell_type": "code",
      "source": [
        "X.shape, Y.shape"
      ],
      "metadata": {
        "id": "5ROLvCU3H_Cl",
        "outputId": "60ebb81b-ce88-4476-8707-c5a682521a94",
        "colab": {
          "base_uri": "https://localhost:8080/"
        }
      },
      "execution_count": 74,
      "outputs": [
        {
          "output_type": "execute_result",
          "data": {
            "text/plain": [
              "((6982, 100, 100, 3), (6982, 5))"
            ]
          },
          "metadata": {},
          "execution_count": 74
        }
      ]
    },
    {
      "cell_type": "code",
      "source": [
        "data_augmentation = tf.keras.Sequential([\n",
        "  tf.keras.layers.experimental.preprocessing.RandomFlip('horizontal'),\n",
        "  tf.keras.layers.experimental.preprocessing.RandomRotation(0.2),\n",
        "])\n",
        "\n",
        "preprocess_input = tf.keras.applications.resnet_v2.preprocess_input\n",
        "\n",
        "rescale = tf.keras.layers.experimental.preprocessing.Rescaling(1./127.5, offset= -1)"
      ],
      "metadata": {
        "id": "b1uaUTOXzGFc"
      },
      "execution_count": 75,
      "outputs": []
    },
    {
      "cell_type": "code",
      "source": [
        "base_model_1 = tf.keras.applications.ResNet50(input_shape=X[0].shape,\n",
        "                                               include_top=False,\n",
        "                                               weights='imagenet')\n",
        "base_model_2 = tf.keras.applications.VGG16(input_shape=X[0].shape,\n",
        "                                               include_top=False,\n",
        "                                               weights='imagenet')"
      ],
      "metadata": {
        "id": "TNRplYElz5Lc"
      },
      "execution_count": 76,
      "outputs": []
    },
    {
      "cell_type": "code",
      "source": [
        "base_model_1.trainable = False\n",
        "base_model_2.trainable = False"
      ],
      "metadata": {
        "id": "mtDuk0vpz7WZ"
      },
      "execution_count": 77,
      "outputs": []
    },
    {
      "cell_type": "code",
      "source": [
        "global_average_layer = GlobalAveragePooling2D()"
      ],
      "metadata": {
        "id": "mtx1fqoLz_YP"
      },
      "execution_count": 78,
      "outputs": []
    },
    {
      "cell_type": "code",
      "source": [
        "X_train, X_test, y_train, y_test = train_test_split(X, Y, test_size = 0.2, random_state=42)"
      ],
      "metadata": {
        "id": "lNKd_YaJ0A7_"
      },
      "execution_count": 79,
      "outputs": []
    },
    {
      "cell_type": "code",
      "source": [
        "del X"
      ],
      "metadata": {
        "id": "nYWHmXtX0CyD"
      },
      "execution_count": 80,
      "outputs": []
    },
    {
      "cell_type": "code",
      "source": [
        "image_input = tf.keras.Input(shape=(100, 100, 3), name = 'image_input')\n",
        "iamge_layers = data_augmentation(image_input)\n",
        "iamge_layers = preprocess_input(iamge_layers)\n",
        "layer_bm_1 = base_model_1(image_input, training=False)\n",
        "layer_bm_1 = Conv2D(2048, kernel_size=2,padding='valid')(layer_bm_1)\n",
        "layer_bm_1 = Dense(512)(layer_bm_1)\n",
        "layer_bm_2 = base_model_2(image_input, training=False)\n",
        "layer_bm_2 = Dense(512)(layer_bm_2)\n",
        "layers = tf.keras.layers.concatenate([layer_bm_1, layer_bm_2])\n",
        "iamge_layers = global_average_layer(layer_bm_1)\n",
        "image_layers = Dropout(0.2, name = 'dropout_layer')(iamge_layers)"
      ],
      "metadata": {
        "id": "DpIzL9FQ0Ej1"
      },
      "execution_count": 81,
      "outputs": []
    },
    {
      "cell_type": "code",
      "source": [
        "cleaner_df.shape"
      ],
      "metadata": {
        "id": "FQQKNEz7IMB4",
        "outputId": "efce8e02-dd9b-47a3-f78d-402d6d627a52",
        "colab": {
          "base_uri": "https://localhost:8080/"
        }
      },
      "execution_count": 82,
      "outputs": [
        {
          "output_type": "execute_result",
          "data": {
            "text/plain": [
              "(6982, 7)"
            ]
          },
          "metadata": {},
          "execution_count": 82
        }
      ]
    },
    {
      "cell_type": "code",
      "source": [
        "def standardization(data):\n",
        "    data = data.apply(lambda x: x.lower())\n",
        "    data = data.apply(lambda x: re.sub(r'\\d+', '', x))\n",
        "    data = data.apply(lambda x: re.sub(r'.com', '', x, flags=re.MULTILINE))\n",
        "    data = data.apply(lambda x: x.translate(str.maketrans('', '', string.punctuation)))\n",
        "    return data\n",
        "\n",
        "df['text_corrected'] = standardization(cleaner_df.text_corrected)"
      ],
      "metadata": {
        "id": "cWCC69BM0GjT"
      },
      "execution_count": 83,
      "outputs": []
    },
    {
      "cell_type": "code",
      "source": [
        "X_text_train, X_text_test, y_text_train, y_text_test = train_test_split(cleaner_df.text_corrected, Y, test_size = 0.2, random_state=42)"
      ],
      "metadata": {
        "id": "camibfNWGvQA"
      },
      "execution_count": 84,
      "outputs": []
    },
    {
      "cell_type": "code",
      "source": [
        "X_text_train"
      ],
      "metadata": {
        "id": "Y3ez_y1sIgcR",
        "outputId": "86db4674-5a74-45ba-9a6f-a3aa4cb121f6",
        "colab": {
          "base_uri": "https://localhost:8080/"
        }
      },
      "execution_count": 86,
      "outputs": [
        {
          "output_type": "execute_result",
          "data": {
            "text/plain": [
              "6568      how much money mark zuckerberg gave out imgflip\n",
              "4004    crypto experts choose crypto investments based...\n",
              "1011    me throwing away all the leonardo dicaprio mem...\n",
              "4618    texan man searching for supplies and dry land ...\n",
              "932     keep calm and use duct tape if you cant fix it...\n",
              "                              ...                        \n",
              "3773           let me tell you why thats bullshit imgflip\n",
              "5193    and thats how mafia works the godfather mobile...\n",
              "5228                              huh so babies cant swim\n",
              "5392    leonard hofstadter a guy who actually made it ...\n",
              "861     if you dont like me because im country just re...\n",
              "Name: text_corrected, Length: 5585, dtype: object"
            ]
          },
          "metadata": {},
          "execution_count": 86
        }
      ]
    },
    {
      "cell_type": "code",
      "source": [
        "from tensorflow.keras.layers.experimental.preprocessing import TextVectorization\n",
        "vocab_size = 10000\n",
        "sequence_length = 100\n",
        "\n",
        "vectorize_layer = TextVectorization(\n",
        "    max_tokens=vocab_size,\n",
        "    output_mode='int',\n",
        "    output_sequence_length=sequence_length)\n",
        "\n",
        "text_ds = np.asarray(X_text_train)\n",
        "vectorize_layer.adapt(tf.convert_to_tensor(text_ds))"
      ],
      "metadata": {
        "id": "i_JY2EFy0ORX"
      },
      "execution_count": 87,
      "outputs": []
    },
    {
      "cell_type": "code",
      "source": [
        "embedding_dim=16\n",
        "\n",
        "text_input = tf.keras.Input(shape=(1,), dtype=tf.string, name='text')\n",
        "text_layers = vectorize_layer(text_input)\n",
        "text_layers = tf.keras.layers.Embedding(vocab_size, embedding_dim, name=\"embedding\")(text_layers)\n",
        "text_layers = tf.keras.layers.Dropout(0.5)(text_layers)\n",
        "\n",
        "text_layers = tf.keras.layers.Bidirectional(tf.keras.layers.LSTM(256, activation='relu', return_sequences=True))(text_layers)\n",
        "\n",
        "text_layers = tf.keras.layers.Conv1D(128, 7, padding=\"valid\", activation=\"relu\", strides=3)(text_layers)\n",
        "text_layers = tf.keras.layers.Conv1D(128, 7, padding=\"valid\", activation=\"relu\", strides=3)(text_layers)\n",
        "text_layers = tf.keras.layers.GlobalMaxPooling1D()(text_layers)\n",
        "\n",
        "# We add a vanilla hidden layer:\n",
        "text_layers = tf.keras.layers.Dense(2048, activation=\"relu\")(text_layers)\n",
        "text_layers = tf.keras.layers.Dropout(0.5)(text_layers)"
      ],
      "metadata": {
        "colab": {
          "base_uri": "https://localhost:8080/"
        },
        "id": "4B1_PP1C0Vwb",
        "outputId": "d5ebb647-6cf6-4f6b-f762-f7eeaaca0c75"
      },
      "execution_count": 88,
      "outputs": [
        {
          "output_type": "stream",
          "name": "stderr",
          "text": [
            "WARNING:tensorflow:Layer lstm will not use cuDNN kernels since it doesn't meet the criteria. It will use a generic GPU kernel as fallback when running on GPU.\n",
            "WARNING:tensorflow:Layer lstm will not use cuDNN kernels since it doesn't meet the criteria. It will use a generic GPU kernel as fallback when running on GPU.\n",
            "WARNING:tensorflow:Layer lstm will not use cuDNN kernels since it doesn't meet the criteria. It will use a generic GPU kernel as fallback when running on GPU.\n"
          ]
        }
      ]
    },
    {
      "cell_type": "code",
      "source": [
        "concatenate = tf.keras.layers.concatenate([image_layers, text_layers], axis=1)"
      ],
      "metadata": {
        "id": "7X19Eojv0Yx8"
      },
      "execution_count": 89,
      "outputs": []
    },
    {
      "cell_type": "code",
      "source": [
        "overall_layer = tf.keras.layers.Dense(2048, activation='softmax')(concatenate)"
      ],
      "metadata": {
        "id": "VNEzQOBr5F2f"
      },
      "execution_count": 90,
      "outputs": []
    },
    {
      "cell_type": "code",
      "source": [
        "prediction_layer_1 = tf.keras.layers.Dense(4, activation='softmax', name = 'sarcasm')\n",
        "prediction_layer_2 = tf.keras.layers.Dense(4, activation='softmax', name = 'humuor')\n",
        "prediction_layer_3 = tf.keras.layers.Dense(4, activation='softmax', name = 'offensive')\n",
        "prediction_layer_4 = tf.keras.layers.Dense(1, activation='sigmoid', name = 'motivational')\n",
        "prediction_layer_5 = tf.keras.layers.Dense(5, activation='softmax', name = 'overall')"
      ],
      "metadata": {
        "id": "fP4QbPvU5I83"
      },
      "execution_count": 91,
      "outputs": []
    },
    {
      "cell_type": "code",
      "source": [
        "output_1 = prediction_layer_1(overall_layer)\n",
        "output_2 = prediction_layer_2(overall_layer)\n",
        "output_3 = prediction_layer_3(overall_layer)\n",
        "output_4 = prediction_layer_4(overall_layer)\n",
        "output_5 = prediction_layer_5(overall_layer)\n",
        "model = tf.keras.Model(inputs = [image_input, text_input] , outputs = [output_1, output_2, output_3, output_4, output_5])"
      ],
      "metadata": {
        "id": "pPHbRiUl5LGX"
      },
      "execution_count": 92,
      "outputs": []
    },
    {
      "cell_type": "code",
      "source": [
        "import tensorflow_addons as tfa"
      ],
      "metadata": {
        "id": "Dph15KHU5PuH"
      },
      "execution_count": 94,
      "outputs": []
    },
    {
      "cell_type": "code",
      "source": [
        "base_learning_rate = 0.01\n",
        "losses = {\n",
        "      \"humuor\": tf.keras.losses.SparseCategoricalCrossentropy(from_logits=True), \n",
        "      \"sarcasm\": tf.keras.losses.SparseCategoricalCrossentropy(from_logits=True), \n",
        "      \"offensive\": tf.keras.losses.SparseCategoricalCrossentropy(from_logits=True), \n",
        "      \"motivational\": tf.keras.losses.BinaryCrossentropy(from_logits=False),\n",
        "      \"overall\": tf.keras.losses.SparseCategoricalCrossentropy(from_logits=True)\n",
        "}\n",
        "lossWeights = {\n",
        "      \"humuor\": 1.0, \n",
        "      \"sarcasm\": 1.0, \n",
        "      \"offensive\": 1.0, \n",
        "      \"motivational\": 1.0,\n",
        "      \"overall\": 1.0\n",
        "}\n",
        "metric = {\n",
        "    \"humuor\": ['acc',tfa.metrics.F1Score(num_classes=4, average=\"micro\", threshold = 0.9)],\n",
        "    \"sarcasm\": ['acc',tfa.metrics.F1Score(num_classes=4, average=\"micro\", threshold = 0.9)],\n",
        "    \"offensive\": ['acc',tfa.metrics.F1Score(num_classes=4, average=\"micro\", threshold = 0.9)],\n",
        "    \"motivational\": ['acc',tfa.metrics.F1Score(num_classes=1, average=\"micro\", threshold = 0.9)],\n",
        "    \"overall\": ['acc',tfa.metrics.F1Score(num_classes=5, average=\"micro\", threshold = 0.9)]\n",
        "}\n",
        "# model.compile(optimizer=tf.keras.optimizers.Adam(lr=base_learning_rate),\n",
        "#               loss = losses,\n",
        "#               loss_weights= lossWeights,\n",
        "#               metrics=metric)"
      ],
      "metadata": {
        "colab": {
          "base_uri": "https://localhost:8080/"
        },
        "id": "ajljaIRp5bJy",
        "outputId": "494f98f8-9916-4318-f5ec-767e1fd42ff1"
      },
      "execution_count": 95,
      "outputs": [
        {
          "output_type": "stream",
          "name": "stderr",
          "text": [
            "/usr/local/lib/python3.8/dist-packages/keras/optimizers/optimizer_v2/adam.py:110: UserWarning: The `lr` argument is deprecated, use `learning_rate` instead.\n",
            "  super(Adam, self).__init__(name, **kwargs)\n"
          ]
        }
      ]
    },
    {
      "cell_type": "code",
      "source": [
        "earlyStopping = EarlyStopping(monitor='val_loss', patience=2, verbose=0, mode='min')\n",
        "mcp_save = ModelCheckpoint('model-{epoch:03d}-{overall_accuracy:03f}-{val_overall_accuracy:03f}', save_format='tf', save_best_only=True, monitor='val_loss', mode='min')\n",
        "reduce_lr_loss = ReduceLROnPlateau(monitor='val_loss', factor=0.1, patience=27, verbose=1, epsilon=1e-4, mode='min')"
      ],
      "metadata": {
        "id": "x-seHyTHMK9I",
        "outputId": "caa65a80-7992-409a-a009-bf5f3438bc6b",
        "colab": {
          "base_uri": "https://localhost:8080/"
        }
      },
      "execution_count": 113,
      "outputs": [
        {
          "output_type": "stream",
          "name": "stderr",
          "text": [
            "WARNING:tensorflow:`epsilon` argument is deprecated and will be removed, use `min_delta` instead.\n"
          ]
        }
      ]
    },
    {
      "cell_type": "code",
      "source": [
        "learning_rates = [0.001] # [0.1, 0.01, 0.001, 0.0001, 0.00001]\n",
        "for i in learning_rates:\n",
        "    model.compile(optimizer=tf.keras.optimizers.RMSprop(i),\n",
        "              loss = losses,\n",
        "              loss_weights= lossWeights,\n",
        "              metrics=['accuracy'])\n",
        "    \n",
        "    history = model.fit(x = {\"image_input\": X_train, \"text\": X_text_train},\n",
        "                    y = {\"sarcasm\": y_train.sarcasm, \n",
        "                         \"humuor\": y_train.humour, \n",
        "                         \"offensive\": y_train.offensive, \n",
        "                         \"motivational\": y_train.motivational, \n",
        "                         \"overall\": y_train.overall_sentiment},\n",
        "                    batch_size=64,\n",
        "                    epochs=50,\n",
        "                    verbose=2,\n",
        "                    validation_split=0.2,\n",
        "                    callbacks=[earlyStopping, mcp_save,reduce_lr_loss]\n",
        "                   )"
      ],
      "metadata": {
        "colab": {
          "base_uri": "https://localhost:8080/"
        },
        "id": "_v1budbt5eQD",
        "outputId": "97b64b8d-28bf-4e5a-c7ee-96afa0973c32"
      },
      "execution_count": 116,
      "outputs": [
        {
          "output_type": "stream",
          "name": "stdout",
          "text": [
            "Epoch 1/50\n"
          ]
        },
        {
          "output_type": "stream",
          "name": "stderr",
          "text": [
            "/usr/local/lib/python3.8/dist-packages/tensorflow/python/util/dispatch.py:1082: UserWarning: \"`sparse_categorical_crossentropy` received `from_logits=True`, but the `output` argument was produced by a sigmoid or softmax activation and thus does not represent logits. Was this intended?\"\n",
            "  return dispatch_target(*args, **kwargs)\n"
          ]
        },
        {
          "output_type": "stream",
          "name": "stdout",
          "text": [
            "70/70 - 38s - loss: 5.5813 - sarcasm_loss: 1.1839 - humuor_loss: 1.2894 - offensive_loss: 1.1727 - motivational_loss: 0.6486 - overall_loss: 1.2869 - sarcasm_accuracy: 0.4944 - humuor_accuracy: 0.3581 - offensive_accuracy: 0.4009 - motivational_accuracy: 0.6486 - overall_accuracy: 0.4465 - val_loss: 5.5441 - val_sarcasm_loss: 1.1542 - val_humuor_loss: 1.2963 - val_offensive_loss: 1.1800 - val_motivational_loss: 0.6591 - val_overall_loss: 1.2545 - val_sarcasm_accuracy: 0.5157 - val_humuor_accuracy: 0.3509 - val_offensive_accuracy: 0.3724 - val_motivational_accuracy: 0.6321 - val_overall_accuracy: 0.4628 - lr: 0.0010 - 38s/epoch - 543ms/step\n",
            "Epoch 2/50\n",
            "70/70 - 29s - loss: 5.5815 - sarcasm_loss: 1.1849 - humuor_loss: 1.2885 - offensive_loss: 1.1748 - motivational_loss: 0.6485 - overall_loss: 1.2849 - sarcasm_accuracy: 0.4944 - humuor_accuracy: 0.3581 - offensive_accuracy: 0.3906 - motivational_accuracy: 0.6486 - overall_accuracy: 0.4465 - val_loss: 5.5427 - val_sarcasm_loss: 1.1543 - val_humuor_loss: 1.2960 - val_offensive_loss: 1.1791 - val_motivational_loss: 0.6589 - val_overall_loss: 1.2544 - val_sarcasm_accuracy: 0.5157 - val_humuor_accuracy: 0.3509 - val_offensive_accuracy: 0.3724 - val_motivational_accuracy: 0.6321 - val_overall_accuracy: 0.4628 - lr: 0.0010 - 29s/epoch - 421ms/step\n",
            "Epoch 3/50\n",
            "70/70 - 29s - loss: 5.5729 - sarcasm_loss: 1.1827 - humuor_loss: 1.2881 - offensive_loss: 1.1716 - motivational_loss: 0.6483 - overall_loss: 1.2822 - sarcasm_accuracy: 0.4944 - humuor_accuracy: 0.3581 - offensive_accuracy: 0.3944 - motivational_accuracy: 0.6486 - overall_accuracy: 0.4465 - val_loss: 5.5426 - val_sarcasm_loss: 1.1551 - val_humuor_loss: 1.2960 - val_offensive_loss: 1.1787 - val_motivational_loss: 0.6588 - val_overall_loss: 1.2540 - val_sarcasm_accuracy: 0.5157 - val_humuor_accuracy: 0.3509 - val_offensive_accuracy: 0.3724 - val_motivational_accuracy: 0.6321 - val_overall_accuracy: 0.4628 - lr: 0.0010 - 29s/epoch - 421ms/step\n",
            "Epoch 4/50\n",
            "70/70 - 29s - loss: 5.5775 - sarcasm_loss: 1.1840 - humuor_loss: 1.2893 - offensive_loss: 1.1715 - motivational_loss: 0.6483 - overall_loss: 1.2844 - sarcasm_accuracy: 0.4944 - humuor_accuracy: 0.3581 - offensive_accuracy: 0.3756 - motivational_accuracy: 0.6486 - overall_accuracy: 0.4465 - val_loss: 5.5412 - val_sarcasm_loss: 1.1548 - val_humuor_loss: 1.2959 - val_offensive_loss: 1.1778 - val_motivational_loss: 0.6588 - val_overall_loss: 1.2539 - val_sarcasm_accuracy: 0.5157 - val_humuor_accuracy: 0.3509 - val_offensive_accuracy: 0.3724 - val_motivational_accuracy: 0.6321 - val_overall_accuracy: 0.4628 - lr: 0.0010 - 29s/epoch - 419ms/step\n",
            "Epoch 5/50\n",
            "70/70 - 30s - loss: 5.5817 - sarcasm_loss: 1.1846 - humuor_loss: 1.2896 - offensive_loss: 1.1731 - motivational_loss: 0.6484 - overall_loss: 1.2860 - sarcasm_accuracy: 0.4944 - humuor_accuracy: 0.3581 - offensive_accuracy: 0.3881 - motivational_accuracy: 0.6486 - overall_accuracy: 0.4465 - val_loss: 5.5403 - val_sarcasm_loss: 1.1545 - val_humuor_loss: 1.2960 - val_offensive_loss: 1.1774 - val_motivational_loss: 0.6588 - val_overall_loss: 1.2536 - val_sarcasm_accuracy: 0.5157 - val_humuor_accuracy: 0.3509 - val_offensive_accuracy: 0.3724 - val_motivational_accuracy: 0.6321 - val_overall_accuracy: 0.4628 - lr: 0.0010 - 30s/epoch - 423ms/step\n",
            "Epoch 6/50\n",
            "70/70 - 30s - loss: 5.5793 - sarcasm_loss: 1.1826 - humuor_loss: 1.2889 - offensive_loss: 1.1734 - motivational_loss: 0.6484 - overall_loss: 1.2859 - sarcasm_accuracy: 0.4944 - humuor_accuracy: 0.3581 - offensive_accuracy: 0.3926 - motivational_accuracy: 0.6486 - overall_accuracy: 0.4465 - val_loss: 5.5409 - val_sarcasm_loss: 1.1549 - val_humuor_loss: 1.2960 - val_offensive_loss: 1.1776 - val_motivational_loss: 0.6586 - val_overall_loss: 1.2538 - val_sarcasm_accuracy: 0.5157 - val_humuor_accuracy: 0.3509 - val_offensive_accuracy: 0.3724 - val_motivational_accuracy: 0.6321 - val_overall_accuracy: 0.4628 - lr: 0.0010 - 30s/epoch - 422ms/step\n",
            "Epoch 7/50\n",
            "70/70 - 31s - loss: 5.5739 - sarcasm_loss: 1.1839 - humuor_loss: 1.2887 - offensive_loss: 1.1709 - motivational_loss: 0.6483 - overall_loss: 1.2820 - sarcasm_accuracy: 0.4944 - humuor_accuracy: 0.3581 - offensive_accuracy: 0.3926 - motivational_accuracy: 0.6486 - overall_accuracy: 0.4465 - val_loss: 5.5391 - val_sarcasm_loss: 1.1537 - val_humuor_loss: 1.2961 - val_offensive_loss: 1.1771 - val_motivational_loss: 0.6586 - val_overall_loss: 1.2536 - val_sarcasm_accuracy: 0.5157 - val_humuor_accuracy: 0.3509 - val_offensive_accuracy: 0.3724 - val_motivational_accuracy: 0.6321 - val_overall_accuracy: 0.4628 - lr: 0.0010 - 31s/epoch - 440ms/step\n",
            "Epoch 8/50\n",
            "70/70 - 29s - loss: 5.5738 - sarcasm_loss: 1.1836 - humuor_loss: 1.2889 - offensive_loss: 1.1708 - motivational_loss: 0.6484 - overall_loss: 1.2821 - sarcasm_accuracy: 0.4944 - humuor_accuracy: 0.3581 - offensive_accuracy: 0.3928 - motivational_accuracy: 0.6486 - overall_accuracy: 0.4465 - val_loss: 5.5386 - val_sarcasm_loss: 1.1533 - val_humuor_loss: 1.2961 - val_offensive_loss: 1.1770 - val_motivational_loss: 0.6586 - val_overall_loss: 1.2537 - val_sarcasm_accuracy: 0.5157 - val_humuor_accuracy: 0.3509 - val_offensive_accuracy: 0.3724 - val_motivational_accuracy: 0.6321 - val_overall_accuracy: 0.4628 - lr: 0.0010 - 29s/epoch - 418ms/step\n",
            "Epoch 9/50\n",
            "70/70 - 29s - loss: 5.5734 - sarcasm_loss: 1.1835 - humuor_loss: 1.2886 - offensive_loss: 1.1708 - motivational_loss: 0.6484 - overall_loss: 1.2822 - sarcasm_accuracy: 0.4944 - humuor_accuracy: 0.3581 - offensive_accuracy: 0.3926 - motivational_accuracy: 0.6486 - overall_accuracy: 0.4465 - val_loss: 5.5386 - val_sarcasm_loss: 1.1534 - val_humuor_loss: 1.2961 - val_offensive_loss: 1.1769 - val_motivational_loss: 0.6584 - val_overall_loss: 1.2537 - val_sarcasm_accuracy: 0.5157 - val_humuor_accuracy: 0.3509 - val_offensive_accuracy: 0.3724 - val_motivational_accuracy: 0.6321 - val_overall_accuracy: 0.4628 - lr: 0.0010 - 29s/epoch - 418ms/step\n",
            "Epoch 10/50\n",
            "70/70 - 29s - loss: 5.5731 - sarcasm_loss: 1.1833 - humuor_loss: 1.2885 - offensive_loss: 1.1708 - motivational_loss: 0.6484 - overall_loss: 1.2822 - sarcasm_accuracy: 0.4944 - humuor_accuracy: 0.3581 - offensive_accuracy: 0.3919 - motivational_accuracy: 0.6486 - overall_accuracy: 0.4465 - val_loss: 5.5391 - val_sarcasm_loss: 1.1537 - val_humuor_loss: 1.2961 - val_offensive_loss: 1.1772 - val_motivational_loss: 0.6585 - val_overall_loss: 1.2537 - val_sarcasm_accuracy: 0.5157 - val_humuor_accuracy: 0.3509 - val_offensive_accuracy: 0.3724 - val_motivational_accuracy: 0.6321 - val_overall_accuracy: 0.4628 - lr: 0.0010 - 29s/epoch - 414ms/step\n"
          ]
        }
      ]
    },
    {
      "cell_type": "code",
      "source": [
        "evaluate = model.evaluate(x = {\"image_input\": X_test, \"text\": X_text_test},\n",
        "                    y = {\"sarcasm\": y_test.sarcasm, \n",
        "                         \"humuor\": y_test.humour, \n",
        "                         \"offensive\": y_test.offensive, \n",
        "                         \"motivational\": y_test.motivational, \n",
        "                         \"overall\": y_test.overall_sentiment},\n",
        "                    batch_size=32,\n",
        "                    verbose=2\n",
        "                   )"
      ],
      "metadata": {
        "colab": {
          "base_uri": "https://localhost:8080/"
        },
        "id": "-HEI9s0z-V-1",
        "outputId": "bc16946a-24ba-433c-a4fe-aa13a87fd08f"
      },
      "execution_count": 117,
      "outputs": [
        {
          "output_type": "stream",
          "name": "stdout",
          "text": [
            "44/44 - 2s - loss: 5.5598 - sarcasm_loss: 1.1697 - humuor_loss: 1.3106 - offensive_loss: 1.1733 - motivational_loss: 0.6440 - overall_loss: 1.2623 - sarcasm_accuracy: 0.5140 - humuor_accuracy: 0.3278 - offensive_accuracy: 0.3844 - motivational_accuracy: 0.6557 - overall_accuracy: 0.4359 - 2s/epoch - 54ms/step\n"
          ]
        }
      ]
    },
    {
      "cell_type": "code",
      "source": [],
      "metadata": {
        "id": "b_yu_ATv_R0t"
      },
      "execution_count": null,
      "outputs": []
    }
  ]
}