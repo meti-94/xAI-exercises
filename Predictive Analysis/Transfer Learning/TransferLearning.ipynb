{
  "nbformat": 4,
  "nbformat_minor": 0,
  "metadata": {
    "colab": {
      "provenance": []
    },
    "kernelspec": {
      "name": "python3",
      "display_name": "Python 3"
    },
    "language_info": {
      "name": "python"
    },
    "accelerator": "GPU",
    "gpuClass": "standard"
  },
  "cells": [
    {
      "cell_type": "code",
      "source": [
        "!pip install kaggle -q\n",
        "!pip install tensorflow-addons -q"
      ],
      "metadata": {
        "colab": {
          "base_uri": "https://localhost:8080/"
        },
        "id": "raYYNOzVb6K8",
        "outputId": "2e5dac55-718e-4df3-f993-024cdafc657e"
      },
      "execution_count": 43,
      "outputs": [
        {
          "output_type": "stream",
          "name": "stdout",
          "text": [
            "\u001b[?25l     \u001b[90m━━━━━━━━━━━━━━━━━━━━━━━━━━━━━━━━━━━━━━━━\u001b[0m \u001b[32m0.0/1.1 MB\u001b[0m \u001b[31m?\u001b[0m eta \u001b[36m-:--:--\u001b[0m\r\u001b[2K     \u001b[90m━━━━━━━━━━━━━━━━━━━━━━━━━━━━━━━━━━━━━━━━\u001b[0m \u001b[32m1.1/1.1 MB\u001b[0m \u001b[31m45.7 MB/s\u001b[0m eta \u001b[36m0:00:00\u001b[0m\n",
            "\u001b[?25h"
          ]
        }
      ]
    },
    {
      "cell_type": "code",
      "source": [
        "from google.colab import drive\n",
        "drive.mount('/content/gdrive/')"
      ],
      "metadata": {
        "colab": {
          "base_uri": "https://localhost:8080/"
        },
        "id": "9cG62nhHpU3W",
        "outputId": "2834ccf1-3d3d-472a-95f6-13d9661c7d17"
      },
      "execution_count": 2,
      "outputs": [
        {
          "output_type": "stream",
          "name": "stdout",
          "text": [
            "Mounted at /content/gdrive/\n"
          ]
        }
      ]
    },
    {
      "cell_type": "code",
      "source": [
        "!mkdir ~/.kaggle\n",
        "!cp /content/gdrive/MyDrive/kaggle.json ~/.kaggle\n",
        "!chmod 600 ~/.kaggle/kaggle.json"
      ],
      "metadata": {
        "id": "Z9tDLgdpqHGk"
      },
      "execution_count": 3,
      "outputs": []
    },
    {
      "cell_type": "code",
      "source": [
        "!kaggle datasets download -d williamscott701/memotion-dataset-7k"
      ],
      "metadata": {
        "colab": {
          "base_uri": "https://localhost:8080/"
        },
        "id": "mnm5b08Sq_OB",
        "outputId": "8943246b-6480-4b19-8069-12a98865428c"
      },
      "execution_count": 5,
      "outputs": [
        {
          "output_type": "stream",
          "name": "stdout",
          "text": [
            "Downloading memotion-dataset-7k.zip to /content\n",
            "100% 694M/695M [00:31<00:00, 25.1MB/s]\n",
            "100% 695M/695M [00:31<00:00, 23.0MB/s]\n"
          ]
        }
      ]
    },
    {
      "cell_type": "code",
      "source": [
        "!unzip -qq /content/memotion-dataset-7k.zip"
      ],
      "metadata": {
        "id": "_Fk9PPiOuhKE"
      },
      "execution_count": 6,
      "outputs": []
    },
    {
      "cell_type": "code",
      "source": [
        "import re\n",
        "import string\n",
        "import numpy as np\n",
        "import pandas as pd\n",
        "from tqdm import tqdm\n",
        "import matplotlib.pyplot as plt\n",
        "from sklearn.model_selection import train_test_split\n",
        "\n",
        "import tensorflow as tf\n",
        "from tensorflow.keras import Sequential, Model\n",
        "from tensorflow.keras.layers import Conv2D, MaxPool2D, GlobalAveragePooling2D\n",
        "from tensorflow.keras.layers import Dense, Flatten, BatchNormalization, Activation, Dropout\n",
        "from tensorflow.keras.layers import Conv1D, Embedding, GlobalAveragePooling1D \n",
        "from tensorflow.keras.optimizers import Adam, RMSprop\n",
        "from tensorflow.keras.preprocessing import image\n"
      ],
      "metadata": {
        "id": "RNnUl19Muo4c"
      },
      "execution_count": 7,
      "outputs": []
    },
    {
      "cell_type": "code",
      "source": [
        "df = pd.read_csv('/content/memotion_dataset_7k/labels.csv')\n",
        "df.drop(df.columns[df.columns.str.contains('unnamed',case = False)],axis = 1, inplace = True)\n",
        "df = df.drop(columns = ['text_ocr'])\n",
        "df.head()"
      ],
      "metadata": {
        "colab": {
          "base_uri": "https://localhost:8080/",
          "height": 206
        },
        "id": "TGiHlTUIwlKn",
        "outputId": "1a949aab-06d2-4c8e-93e1-3dcd089c5462"
      },
      "execution_count": 8,
      "outputs": [
        {
          "output_type": "execute_result",
          "data": {
            "text/plain": [
              "     image_name                                     text_corrected  \\\n",
              "0   image_1.jpg  LOOK THERE MY FRIEND LIGHTYEAR NOW ALL SOHALIK...   \n",
              "1  image_2.jpeg  The best of #10 YearChallenge! Completed in le...   \n",
              "2   image_3.JPG  Sam Thorne @Strippin ( Follow Follow Saw every...   \n",
              "3   image_4.png              10 Year Challenge - Sweet Dee Edition   \n",
              "4   image_5.png  10 YEAR CHALLENGE WITH NO FILTER 47 Hilarious ...   \n",
              "\n",
              "       humour          sarcasm       offensive      motivational  \\\n",
              "0   hilarious          general   not_offensive  not_motivational   \n",
              "1   not_funny          general   not_offensive      motivational   \n",
              "2  very_funny    not_sarcastic   not_offensive  not_motivational   \n",
              "3  very_funny  twisted_meaning  very_offensive      motivational   \n",
              "4   hilarious     very_twisted  very_offensive  not_motivational   \n",
              "\n",
              "  overall_sentiment  \n",
              "0     very_positive  \n",
              "1     very_positive  \n",
              "2          positive  \n",
              "3          positive  \n",
              "4           neutral  "
            ],
            "text/html": [
              "\n",
              "  <div id=\"df-2894e544-13d1-4404-9abb-58c743d70af0\">\n",
              "    <div class=\"colab-df-container\">\n",
              "      <div>\n",
              "<style scoped>\n",
              "    .dataframe tbody tr th:only-of-type {\n",
              "        vertical-align: middle;\n",
              "    }\n",
              "\n",
              "    .dataframe tbody tr th {\n",
              "        vertical-align: top;\n",
              "    }\n",
              "\n",
              "    .dataframe thead th {\n",
              "        text-align: right;\n",
              "    }\n",
              "</style>\n",
              "<table border=\"1\" class=\"dataframe\">\n",
              "  <thead>\n",
              "    <tr style=\"text-align: right;\">\n",
              "      <th></th>\n",
              "      <th>image_name</th>\n",
              "      <th>text_corrected</th>\n",
              "      <th>humour</th>\n",
              "      <th>sarcasm</th>\n",
              "      <th>offensive</th>\n",
              "      <th>motivational</th>\n",
              "      <th>overall_sentiment</th>\n",
              "    </tr>\n",
              "  </thead>\n",
              "  <tbody>\n",
              "    <tr>\n",
              "      <th>0</th>\n",
              "      <td>image_1.jpg</td>\n",
              "      <td>LOOK THERE MY FRIEND LIGHTYEAR NOW ALL SOHALIK...</td>\n",
              "      <td>hilarious</td>\n",
              "      <td>general</td>\n",
              "      <td>not_offensive</td>\n",
              "      <td>not_motivational</td>\n",
              "      <td>very_positive</td>\n",
              "    </tr>\n",
              "    <tr>\n",
              "      <th>1</th>\n",
              "      <td>image_2.jpeg</td>\n",
              "      <td>The best of #10 YearChallenge! Completed in le...</td>\n",
              "      <td>not_funny</td>\n",
              "      <td>general</td>\n",
              "      <td>not_offensive</td>\n",
              "      <td>motivational</td>\n",
              "      <td>very_positive</td>\n",
              "    </tr>\n",
              "    <tr>\n",
              "      <th>2</th>\n",
              "      <td>image_3.JPG</td>\n",
              "      <td>Sam Thorne @Strippin ( Follow Follow Saw every...</td>\n",
              "      <td>very_funny</td>\n",
              "      <td>not_sarcastic</td>\n",
              "      <td>not_offensive</td>\n",
              "      <td>not_motivational</td>\n",
              "      <td>positive</td>\n",
              "    </tr>\n",
              "    <tr>\n",
              "      <th>3</th>\n",
              "      <td>image_4.png</td>\n",
              "      <td>10 Year Challenge - Sweet Dee Edition</td>\n",
              "      <td>very_funny</td>\n",
              "      <td>twisted_meaning</td>\n",
              "      <td>very_offensive</td>\n",
              "      <td>motivational</td>\n",
              "      <td>positive</td>\n",
              "    </tr>\n",
              "    <tr>\n",
              "      <th>4</th>\n",
              "      <td>image_5.png</td>\n",
              "      <td>10 YEAR CHALLENGE WITH NO FILTER 47 Hilarious ...</td>\n",
              "      <td>hilarious</td>\n",
              "      <td>very_twisted</td>\n",
              "      <td>very_offensive</td>\n",
              "      <td>not_motivational</td>\n",
              "      <td>neutral</td>\n",
              "    </tr>\n",
              "  </tbody>\n",
              "</table>\n",
              "</div>\n",
              "      <button class=\"colab-df-convert\" onclick=\"convertToInteractive('df-2894e544-13d1-4404-9abb-58c743d70af0')\"\n",
              "              title=\"Convert this dataframe to an interactive table.\"\n",
              "              style=\"display:none;\">\n",
              "        \n",
              "  <svg xmlns=\"http://www.w3.org/2000/svg\" height=\"24px\"viewBox=\"0 0 24 24\"\n",
              "       width=\"24px\">\n",
              "    <path d=\"M0 0h24v24H0V0z\" fill=\"none\"/>\n",
              "    <path d=\"M18.56 5.44l.94 2.06.94-2.06 2.06-.94-2.06-.94-.94-2.06-.94 2.06-2.06.94zm-11 1L8.5 8.5l.94-2.06 2.06-.94-2.06-.94L8.5 2.5l-.94 2.06-2.06.94zm10 10l.94 2.06.94-2.06 2.06-.94-2.06-.94-.94-2.06-.94 2.06-2.06.94z\"/><path d=\"M17.41 7.96l-1.37-1.37c-.4-.4-.92-.59-1.43-.59-.52 0-1.04.2-1.43.59L10.3 9.45l-7.72 7.72c-.78.78-.78 2.05 0 2.83L4 21.41c.39.39.9.59 1.41.59.51 0 1.02-.2 1.41-.59l7.78-7.78 2.81-2.81c.8-.78.8-2.07 0-2.86zM5.41 20L4 18.59l7.72-7.72 1.47 1.35L5.41 20z\"/>\n",
              "  </svg>\n",
              "      </button>\n",
              "      \n",
              "  <style>\n",
              "    .colab-df-container {\n",
              "      display:flex;\n",
              "      flex-wrap:wrap;\n",
              "      gap: 12px;\n",
              "    }\n",
              "\n",
              "    .colab-df-convert {\n",
              "      background-color: #E8F0FE;\n",
              "      border: none;\n",
              "      border-radius: 50%;\n",
              "      cursor: pointer;\n",
              "      display: none;\n",
              "      fill: #1967D2;\n",
              "      height: 32px;\n",
              "      padding: 0 0 0 0;\n",
              "      width: 32px;\n",
              "    }\n",
              "\n",
              "    .colab-df-convert:hover {\n",
              "      background-color: #E2EBFA;\n",
              "      box-shadow: 0px 1px 2px rgba(60, 64, 67, 0.3), 0px 1px 3px 1px rgba(60, 64, 67, 0.15);\n",
              "      fill: #174EA6;\n",
              "    }\n",
              "\n",
              "    [theme=dark] .colab-df-convert {\n",
              "      background-color: #3B4455;\n",
              "      fill: #D2E3FC;\n",
              "    }\n",
              "\n",
              "    [theme=dark] .colab-df-convert:hover {\n",
              "      background-color: #434B5C;\n",
              "      box-shadow: 0px 1px 3px 1px rgba(0, 0, 0, 0.15);\n",
              "      filter: drop-shadow(0px 1px 2px rgba(0, 0, 0, 0.3));\n",
              "      fill: #FFFFFF;\n",
              "    }\n",
              "  </style>\n",
              "\n",
              "      <script>\n",
              "        const buttonEl =\n",
              "          document.querySelector('#df-2894e544-13d1-4404-9abb-58c743d70af0 button.colab-df-convert');\n",
              "        buttonEl.style.display =\n",
              "          google.colab.kernel.accessAllowed ? 'block' : 'none';\n",
              "\n",
              "        async function convertToInteractive(key) {\n",
              "          const element = document.querySelector('#df-2894e544-13d1-4404-9abb-58c743d70af0');\n",
              "          const dataTable =\n",
              "            await google.colab.kernel.invokeFunction('convertToInteractive',\n",
              "                                                     [key], {});\n",
              "          if (!dataTable) return;\n",
              "\n",
              "          const docLinkHtml = 'Like what you see? Visit the ' +\n",
              "            '<a target=\"_blank\" href=https://colab.research.google.com/notebooks/data_table.ipynb>data table notebook</a>'\n",
              "            + ' to learn more about interactive tables.';\n",
              "          element.innerHTML = '';\n",
              "          dataTable['output_type'] = 'display_data';\n",
              "          await google.colab.output.renderOutput(dataTable, element);\n",
              "          const docLink = document.createElement('div');\n",
              "          docLink.innerHTML = docLinkHtml;\n",
              "          element.appendChild(docLink);\n",
              "        }\n",
              "      </script>\n",
              "    </div>\n",
              "  </div>\n",
              "  "
            ]
          },
          "metadata": {},
          "execution_count": 8
        }
      ]
    },
    {
      "cell_type": "code",
      "source": [
        "full_df = df.copy()\n",
        "full_df.isnull().any()"
      ],
      "metadata": {
        "colab": {
          "base_uri": "https://localhost:8080/"
        },
        "id": "GKbHIH9FxC-c",
        "outputId": "d68cf3f2-0f58-4b84-f9b7-cf1807628216"
      },
      "execution_count": 9,
      "outputs": [
        {
          "output_type": "execute_result",
          "data": {
            "text/plain": [
              "image_name           False\n",
              "text_corrected        True\n",
              "humour               False\n",
              "sarcasm              False\n",
              "offensive            False\n",
              "motivational         False\n",
              "overall_sentiment    False\n",
              "dtype: bool"
            ]
          },
          "metadata": {},
          "execution_count": 9
        }
      ]
    },
    {
      "cell_type": "code",
      "source": [
        "clean_df = df.copy()\n",
        "clean_df.dropna(inplace=True)\n",
        "clean_df.isnull().any()"
      ],
      "metadata": {
        "colab": {
          "base_uri": "https://localhost:8080/"
        },
        "id": "5W1XiWr7xJmf",
        "outputId": "d029e993-8406-4df3-a265-d7fbc066d7d0"
      },
      "execution_count": 10,
      "outputs": [
        {
          "output_type": "execute_result",
          "data": {
            "text/plain": [
              "image_name           False\n",
              "text_corrected       False\n",
              "humour               False\n",
              "sarcasm              False\n",
              "offensive            False\n",
              "motivational         False\n",
              "overall_sentiment    False\n",
              "dtype: bool"
            ]
          },
          "metadata": {},
          "execution_count": 10
        }
      ]
    },
    {
      "cell_type": "code",
      "source": [
        "df = df.replace({'humour': {'not_funny': 0, 'funny': 1, 'very_funny': 2, 'hilarious':3},\n",
        "            'sarcasm': {'not_sarcastic': 0, 'general': 1, 'twisted_meaning': 2, 'very_twisted': 3},\n",
        "            'offensive': {'not_offensive': 0, 'slight': 1, 'very_offensive': 2, 'hateful_offensive': 3},\n",
        "            'motivational': {'not_motivational': 0, 'motivational': 1},\n",
        "            'overall_sentiment': {'very_negative': 0, 'negative': 1, 'neutral': 2, 'positive': 3, 'very_positive': 4}})"
      ],
      "metadata": {
        "id": "1WVYtKdHxNac"
      },
      "execution_count": 11,
      "outputs": []
    },
    {
      "cell_type": "code",
      "source": [
        "from PIL import ImageFile, ImageOps\n",
        "ImageFile.LOAD_TRUNCATED_IMAGES = True"
      ],
      "metadata": {
        "id": "pEYmZQ9dxPuA"
      },
      "execution_count": 12,
      "outputs": []
    },
    {
      "cell_type": "code",
      "source": [
        "width = 100\n",
        "height = 100\n",
        "X_full = []\n",
        "X_full_path = []\n",
        "for i in tqdm(range(full_df.shape[0])):\n",
        "    path = '/content/memotion_dataset_7k/images/'+full_df['image_name'][i]\n",
        "    img = image.load_img(path,target_size=(width,height,3))\n",
        "    img = image.img_to_array(img)\n",
        "    img = img/255.0\n",
        "    X_full.append(img)\n",
        "    X_full_path.append(path)"
      ],
      "metadata": {
        "colab": {
          "base_uri": "https://localhost:8080/"
        },
        "id": "CwtfftOAxWod",
        "outputId": "5412e27f-3f26-4120-db67-480453038a41"
      },
      "execution_count": 13,
      "outputs": [
        {
          "output_type": "stream",
          "name": "stderr",
          "text": [
            " 93%|█████████▎| 6500/6992 [00:41<00:02, 168.97it/s]/usr/local/lib/python3.8/dist-packages/PIL/TiffImagePlugin.py:788: UserWarning: Corrupt EXIF data.  Expecting to read 2 bytes but only got 0. \n",
            "  warnings.warn(str(msg))\n",
            " 95%|█████████▌| 6664/6992 [00:42<00:01, 185.28it/s]/usr/local/lib/python3.8/dist-packages/PIL/Image.py:959: UserWarning: Palette images with Transparency expressed in bytes should be converted to RGBA images\n",
            "  warnings.warn(\n",
            "100%|██████████| 6992/6992 [00:44<00:00, 156.75it/s]\n"
          ]
        }
      ]
    },
    {
      "cell_type": "code",
      "source": [
        "width = 100\n",
        "height = 100\n",
        "X_cleaned = []\n",
        "X_cleaned_path = []\n",
        "for i in tqdm(range(clean_df.shape[0])):\n",
        "    if i in [119, 4799, 6781, 6784, 6786]:\n",
        "        pass\n",
        "    else:\n",
        "        path = '/content/memotion_dataset_7k/images/'+clean_df['image_name'][i]\n",
        "        img = image.load_img(path,target_size=(width,height,3))\n",
        "        img = image.img_to_array(img)\n",
        "        img = img/255.0\n",
        "        X_cleaned.append(img)\n",
        "        X_cleaned_path.append(path)"
      ],
      "metadata": {
        "colab": {
          "base_uri": "https://localhost:8080/"
        },
        "id": "mL_GTxTzxdOA",
        "outputId": "e477fb38-d2c9-459d-9d30-da47640b0f6e"
      },
      "execution_count": 14,
      "outputs": [
        {
          "output_type": "stream",
          "name": "stderr",
          "text": [
            "100%|██████████| 6987/6987 [00:44<00:00, 157.07it/s]\n"
          ]
        }
      ]
    },
    {
      "cell_type": "code",
      "source": [
        "deleted_paths = [paths for paths in X_full_path + X_cleaned_path if paths not in X_full_path or paths not in X_cleaned_path]\n",
        "deleted_paths"
      ],
      "metadata": {
        "colab": {
          "base_uri": "https://localhost:8080/"
        },
        "id": "4APwz6fZyEwY",
        "outputId": "cfbc3a0c-9aa8-427f-8191-8f89c1eafd38"
      },
      "execution_count": 15,
      "outputs": [
        {
          "output_type": "execute_result",
          "data": {
            "text/plain": [
              "['/content/memotion_dataset_7k/images/image_120.jpg',\n",
              " '/content/memotion_dataset_7k/images/image_4800.jpg',\n",
              " '/content/memotion_dataset_7k/images/image_6782.jpg',\n",
              " '/content/memotion_dataset_7k/images/image_6785.jpg',\n",
              " '/content/memotion_dataset_7k/images/image_6787.jpg',\n",
              " '/content/memotion_dataset_7k/images/image_6988.jpg',\n",
              " '/content/memotion_dataset_7k/images/image_6989.jpg',\n",
              " '/content/memotion_dataset_7k/images/image_6990.png',\n",
              " '/content/memotion_dataset_7k/images/image_6991.jpg',\n",
              " '/content/memotion_dataset_7k/images/image_6992.jpg']"
            ]
          },
          "metadata": {},
          "execution_count": 15
        }
      ]
    },
    {
      "cell_type": "code",
      "source": [
        "delete_var = [full_df, clean_df, X_cleaned, X_full, X_cleaned_path, X_full_path]\n",
        "for i in delete_var:\n",
        "    del i"
      ],
      "metadata": {
        "id": "xba75I_IyL_e"
      },
      "execution_count": 16,
      "outputs": []
    },
    {
      "cell_type": "code",
      "source": [
        "width = 100\n",
        "height = 100\n",
        "X = []\n",
        "for i in tqdm(range(clean_df.shape[0])):\n",
        "    if i in [119, 4799, 6781, 6784, 6786]:\n",
        "        pass\n",
        "    else:\n",
        "        path = '/content/memotion_dataset_7k/images/'+clean_df['image_name'][i]\n",
        "        img = image.load_img(path,target_size=(width,height,3))\n",
        "        img = image.img_to_array(img)\n",
        "        img = img/255.0\n",
        "        X.append(img)"
      ],
      "metadata": {
        "colab": {
          "base_uri": "https://localhost:8080/"
        },
        "id": "E0slxn-lyX3L",
        "outputId": "f80f77aa-4f9f-4431-a7a6-72a864514984"
      },
      "execution_count": 17,
      "outputs": [
        {
          "output_type": "stream",
          "name": "stderr",
          "text": [
            "100%|██████████| 6987/6987 [00:44<00:00, 156.70it/s]\n"
          ]
        }
      ]
    },
    {
      "cell_type": "code",
      "source": [
        "X = np.array(X)"
      ],
      "metadata": {
        "id": "K-l6zWvHybF4"
      },
      "execution_count": 18,
      "outputs": []
    },
    {
      "cell_type": "code",
      "source": [
        "X.shape"
      ],
      "metadata": {
        "colab": {
          "base_uri": "https://localhost:8080/"
        },
        "id": "jwfbi-UMy1WE",
        "outputId": "d8ebc626-599f-42b1-a7b2-6930c8b661ad"
      },
      "execution_count": 19,
      "outputs": [
        {
          "output_type": "execute_result",
          "data": {
            "text/plain": [
              "(6982, 100, 100, 3)"
            ]
          },
          "metadata": {},
          "execution_count": 19
        }
      ]
    },
    {
      "cell_type": "code",
      "source": [
        "rows_to_drop = ['image_120.jpg',\n",
        "              'image_4800.jpg',\n",
        "              'image_6782.jpg',\n",
        "              'image_6785.jpg',\n",
        "              'image_6787.jpg',\n",
        "              'image_6988.jpg',\n",
        "              'image_6989.jpg',\n",
        "              'image_6990.png',\n",
        "              'image_6991.jpg',\n",
        "              'image_6992.jpg']"
      ],
      "metadata": {
        "id": "YXijFzloy4eh"
      },
      "execution_count": 20,
      "outputs": []
    },
    {
      "cell_type": "code",
      "source": [
        "cleaner_df = df\n",
        "cleaner_df.head()"
      ],
      "metadata": {
        "colab": {
          "base_uri": "https://localhost:8080/",
          "height": 206
        },
        "id": "hDJJianFy6Vu",
        "outputId": "4eec1c67-300b-467a-f775-d5d4af2c751c"
      },
      "execution_count": 21,
      "outputs": [
        {
          "output_type": "execute_result",
          "data": {
            "text/plain": [
              "     image_name                                     text_corrected  humour  \\\n",
              "0   image_1.jpg  LOOK THERE MY FRIEND LIGHTYEAR NOW ALL SOHALIK...       3   \n",
              "1  image_2.jpeg  The best of #10 YearChallenge! Completed in le...       0   \n",
              "2   image_3.JPG  Sam Thorne @Strippin ( Follow Follow Saw every...       2   \n",
              "3   image_4.png              10 Year Challenge - Sweet Dee Edition       2   \n",
              "4   image_5.png  10 YEAR CHALLENGE WITH NO FILTER 47 Hilarious ...       3   \n",
              "\n",
              "   sarcasm  offensive  motivational  overall_sentiment  \n",
              "0        1          0             0                  4  \n",
              "1        1          0             1                  4  \n",
              "2        0          0             0                  3  \n",
              "3        2          2             1                  3  \n",
              "4        3          2             0                  2  "
            ],
            "text/html": [
              "\n",
              "  <div id=\"df-c535b9d2-f39c-424f-9a82-bbcaae22651a\">\n",
              "    <div class=\"colab-df-container\">\n",
              "      <div>\n",
              "<style scoped>\n",
              "    .dataframe tbody tr th:only-of-type {\n",
              "        vertical-align: middle;\n",
              "    }\n",
              "\n",
              "    .dataframe tbody tr th {\n",
              "        vertical-align: top;\n",
              "    }\n",
              "\n",
              "    .dataframe thead th {\n",
              "        text-align: right;\n",
              "    }\n",
              "</style>\n",
              "<table border=\"1\" class=\"dataframe\">\n",
              "  <thead>\n",
              "    <tr style=\"text-align: right;\">\n",
              "      <th></th>\n",
              "      <th>image_name</th>\n",
              "      <th>text_corrected</th>\n",
              "      <th>humour</th>\n",
              "      <th>sarcasm</th>\n",
              "      <th>offensive</th>\n",
              "      <th>motivational</th>\n",
              "      <th>overall_sentiment</th>\n",
              "    </tr>\n",
              "  </thead>\n",
              "  <tbody>\n",
              "    <tr>\n",
              "      <th>0</th>\n",
              "      <td>image_1.jpg</td>\n",
              "      <td>LOOK THERE MY FRIEND LIGHTYEAR NOW ALL SOHALIK...</td>\n",
              "      <td>3</td>\n",
              "      <td>1</td>\n",
              "      <td>0</td>\n",
              "      <td>0</td>\n",
              "      <td>4</td>\n",
              "    </tr>\n",
              "    <tr>\n",
              "      <th>1</th>\n",
              "      <td>image_2.jpeg</td>\n",
              "      <td>The best of #10 YearChallenge! Completed in le...</td>\n",
              "      <td>0</td>\n",
              "      <td>1</td>\n",
              "      <td>0</td>\n",
              "      <td>1</td>\n",
              "      <td>4</td>\n",
              "    </tr>\n",
              "    <tr>\n",
              "      <th>2</th>\n",
              "      <td>image_3.JPG</td>\n",
              "      <td>Sam Thorne @Strippin ( Follow Follow Saw every...</td>\n",
              "      <td>2</td>\n",
              "      <td>0</td>\n",
              "      <td>0</td>\n",
              "      <td>0</td>\n",
              "      <td>3</td>\n",
              "    </tr>\n",
              "    <tr>\n",
              "      <th>3</th>\n",
              "      <td>image_4.png</td>\n",
              "      <td>10 Year Challenge - Sweet Dee Edition</td>\n",
              "      <td>2</td>\n",
              "      <td>2</td>\n",
              "      <td>2</td>\n",
              "      <td>1</td>\n",
              "      <td>3</td>\n",
              "    </tr>\n",
              "    <tr>\n",
              "      <th>4</th>\n",
              "      <td>image_5.png</td>\n",
              "      <td>10 YEAR CHALLENGE WITH NO FILTER 47 Hilarious ...</td>\n",
              "      <td>3</td>\n",
              "      <td>3</td>\n",
              "      <td>2</td>\n",
              "      <td>0</td>\n",
              "      <td>2</td>\n",
              "    </tr>\n",
              "  </tbody>\n",
              "</table>\n",
              "</div>\n",
              "      <button class=\"colab-df-convert\" onclick=\"convertToInteractive('df-c535b9d2-f39c-424f-9a82-bbcaae22651a')\"\n",
              "              title=\"Convert this dataframe to an interactive table.\"\n",
              "              style=\"display:none;\">\n",
              "        \n",
              "  <svg xmlns=\"http://www.w3.org/2000/svg\" height=\"24px\"viewBox=\"0 0 24 24\"\n",
              "       width=\"24px\">\n",
              "    <path d=\"M0 0h24v24H0V0z\" fill=\"none\"/>\n",
              "    <path d=\"M18.56 5.44l.94 2.06.94-2.06 2.06-.94-2.06-.94-.94-2.06-.94 2.06-2.06.94zm-11 1L8.5 8.5l.94-2.06 2.06-.94-2.06-.94L8.5 2.5l-.94 2.06-2.06.94zm10 10l.94 2.06.94-2.06 2.06-.94-2.06-.94-.94-2.06-.94 2.06-2.06.94z\"/><path d=\"M17.41 7.96l-1.37-1.37c-.4-.4-.92-.59-1.43-.59-.52 0-1.04.2-1.43.59L10.3 9.45l-7.72 7.72c-.78.78-.78 2.05 0 2.83L4 21.41c.39.39.9.59 1.41.59.51 0 1.02-.2 1.41-.59l7.78-7.78 2.81-2.81c.8-.78.8-2.07 0-2.86zM5.41 20L4 18.59l7.72-7.72 1.47 1.35L5.41 20z\"/>\n",
              "  </svg>\n",
              "      </button>\n",
              "      \n",
              "  <style>\n",
              "    .colab-df-container {\n",
              "      display:flex;\n",
              "      flex-wrap:wrap;\n",
              "      gap: 12px;\n",
              "    }\n",
              "\n",
              "    .colab-df-convert {\n",
              "      background-color: #E8F0FE;\n",
              "      border: none;\n",
              "      border-radius: 50%;\n",
              "      cursor: pointer;\n",
              "      display: none;\n",
              "      fill: #1967D2;\n",
              "      height: 32px;\n",
              "      padding: 0 0 0 0;\n",
              "      width: 32px;\n",
              "    }\n",
              "\n",
              "    .colab-df-convert:hover {\n",
              "      background-color: #E2EBFA;\n",
              "      box-shadow: 0px 1px 2px rgba(60, 64, 67, 0.3), 0px 1px 3px 1px rgba(60, 64, 67, 0.15);\n",
              "      fill: #174EA6;\n",
              "    }\n",
              "\n",
              "    [theme=dark] .colab-df-convert {\n",
              "      background-color: #3B4455;\n",
              "      fill: #D2E3FC;\n",
              "    }\n",
              "\n",
              "    [theme=dark] .colab-df-convert:hover {\n",
              "      background-color: #434B5C;\n",
              "      box-shadow: 0px 1px 3px 1px rgba(0, 0, 0, 0.15);\n",
              "      filter: drop-shadow(0px 1px 2px rgba(0, 0, 0, 0.3));\n",
              "      fill: #FFFFFF;\n",
              "    }\n",
              "  </style>\n",
              "\n",
              "      <script>\n",
              "        const buttonEl =\n",
              "          document.querySelector('#df-c535b9d2-f39c-424f-9a82-bbcaae22651a button.colab-df-convert');\n",
              "        buttonEl.style.display =\n",
              "          google.colab.kernel.accessAllowed ? 'block' : 'none';\n",
              "\n",
              "        async function convertToInteractive(key) {\n",
              "          const element = document.querySelector('#df-c535b9d2-f39c-424f-9a82-bbcaae22651a');\n",
              "          const dataTable =\n",
              "            await google.colab.kernel.invokeFunction('convertToInteractive',\n",
              "                                                     [key], {});\n",
              "          if (!dataTable) return;\n",
              "\n",
              "          const docLinkHtml = 'Like what you see? Visit the ' +\n",
              "            '<a target=\"_blank\" href=https://colab.research.google.com/notebooks/data_table.ipynb>data table notebook</a>'\n",
              "            + ' to learn more about interactive tables.';\n",
              "          element.innerHTML = '';\n",
              "          dataTable['output_type'] = 'display_data';\n",
              "          await google.colab.output.renderOutput(dataTable, element);\n",
              "          const docLink = document.createElement('div');\n",
              "          docLink.innerHTML = docLinkHtml;\n",
              "          element.appendChild(docLink);\n",
              "        }\n",
              "      </script>\n",
              "    </div>\n",
              "  </div>\n",
              "  "
            ]
          },
          "metadata": {},
          "execution_count": 21
        }
      ]
    },
    {
      "cell_type": "code",
      "source": [
        "for images in rows_to_drop:\n",
        "    cleaner_df.drop(cleaner_df[cleaner_df['image_name'] == images].index, inplace=True)"
      ],
      "metadata": {
        "id": "ry3qAbMCy8Oi"
      },
      "execution_count": 22,
      "outputs": []
    },
    {
      "cell_type": "code",
      "source": [
        "cleaner_df.shape"
      ],
      "metadata": {
        "colab": {
          "base_uri": "https://localhost:8080/"
        },
        "id": "9mpgoTcLy-CU",
        "outputId": "9d73221e-1025-488a-f6cf-e6c42ec49cec"
      },
      "execution_count": 23,
      "outputs": [
        {
          "output_type": "execute_result",
          "data": {
            "text/plain": [
              "(6982, 7)"
            ]
          },
          "metadata": {},
          "execution_count": 23
        }
      ]
    },
    {
      "cell_type": "code",
      "source": [
        "np.save('image_array', X)"
      ],
      "metadata": {
        "id": "qojP8mnDzAJy"
      },
      "execution_count": 24,
      "outputs": []
    },
    {
      "cell_type": "code",
      "source": [
        "Y = cleaner_df.iloc[:,2:]\n",
        "Y.shape"
      ],
      "metadata": {
        "colab": {
          "base_uri": "https://localhost:8080/"
        },
        "id": "bUAjE6hmzCrx",
        "outputId": "fdf43c4a-0787-4be6-f576-b7b38242ae98"
      },
      "execution_count": 25,
      "outputs": [
        {
          "output_type": "execute_result",
          "data": {
            "text/plain": [
              "(6982, 5)"
            ]
          },
          "metadata": {},
          "execution_count": 25
        }
      ]
    },
    {
      "cell_type": "code",
      "source": [
        "data_augmentation = tf.keras.Sequential([\n",
        "  tf.keras.layers.experimental.preprocessing.RandomFlip('horizontal'),\n",
        "  tf.keras.layers.experimental.preprocessing.RandomRotation(0.2),\n",
        "])\n",
        "\n",
        "preprocess_input = tf.keras.applications.resnet_v2.preprocess_input\n",
        "\n",
        "rescale = tf.keras.layers.experimental.preprocessing.Rescaling(1./127.5, offset= -1)"
      ],
      "metadata": {
        "id": "b1uaUTOXzGFc"
      },
      "execution_count": 27,
      "outputs": []
    },
    {
      "cell_type": "code",
      "source": [
        "base_model_1 = tf.keras.applications.ResNet50(input_shape=X[0].shape,\n",
        "                                               include_top=False,\n",
        "                                               weights='imagenet')\n",
        "base_model_2 = tf.keras.applications.VGG16(input_shape=X[0].shape,\n",
        "                                               include_top=False,\n",
        "                                               weights='imagenet')"
      ],
      "metadata": {
        "colab": {
          "base_uri": "https://localhost:8080/"
        },
        "id": "TNRplYElz5Lc",
        "outputId": "89037e0d-8195-4791-bd42-0e6c8adf6126"
      },
      "execution_count": 28,
      "outputs": [
        {
          "output_type": "stream",
          "name": "stdout",
          "text": [
            "Downloading data from https://storage.googleapis.com/tensorflow/keras-applications/resnet/resnet50_weights_tf_dim_ordering_tf_kernels_notop.h5\n",
            "94765736/94765736 [==============================] - 5s 0us/step\n",
            "Downloading data from https://storage.googleapis.com/tensorflow/keras-applications/vgg16/vgg16_weights_tf_dim_ordering_tf_kernels_notop.h5\n",
            "58889256/58889256 [==============================] - 3s 0us/step\n"
          ]
        }
      ]
    },
    {
      "cell_type": "code",
      "source": [
        "base_model_1.trainable = False\n",
        "base_model_2.trainable = False"
      ],
      "metadata": {
        "id": "mtDuk0vpz7WZ"
      },
      "execution_count": 29,
      "outputs": []
    },
    {
      "cell_type": "code",
      "source": [
        "global_average_layer = GlobalAveragePooling2D()"
      ],
      "metadata": {
        "id": "mtx1fqoLz_YP"
      },
      "execution_count": 30,
      "outputs": []
    },
    {
      "cell_type": "code",
      "source": [
        "X_train, X_test, y_train, y_test = train_test_split(X, Y, test_size = 0.2)"
      ],
      "metadata": {
        "id": "lNKd_YaJ0A7_"
      },
      "execution_count": 31,
      "outputs": []
    },
    {
      "cell_type": "code",
      "source": [
        "del X"
      ],
      "metadata": {
        "id": "nYWHmXtX0CyD"
      },
      "execution_count": 33,
      "outputs": []
    },
    {
      "cell_type": "code",
      "source": [
        "image_input = tf.keras.Input(shape=(100, 100, 3), name = 'image_input')\n",
        "iamge_layers = data_augmentation(image_input)\n",
        "iamge_layers = preprocess_input(iamge_layers)\n",
        "layer_bm_1 = base_model_1(image_input, training=False)\n",
        "layer_bm_1 = Conv2D(2048, kernel_size=2,padding='valid')(layer_bm_1)\n",
        "layer_bm_1 = Dense(512)(layer_bm_1)\n",
        "layer_bm_2 = base_model_2(image_input, training=False)\n",
        "layer_bm_2 = Dense(512)(layer_bm_2)\n",
        "layers = tf.keras.layers.concatenate([layer_bm_1, layer_bm_2])\n",
        "iamge_layers = global_average_layer(layer_bm_1)\n",
        "image_layers = Dropout(0.2, name = 'dropout_layer')(iamge_layers)"
      ],
      "metadata": {
        "id": "DpIzL9FQ0Ej1"
      },
      "execution_count": 34,
      "outputs": []
    },
    {
      "cell_type": "code",
      "source": [
        "def standardization(data):\n",
        "    data = data.apply(lambda x: x.lower())\n",
        "    data = data.apply(lambda x: re.sub(r'\\d+', '', x))\n",
        "    data = data.apply(lambda x: re.sub(r'.com', '', x, flags=re.MULTILINE))\n",
        "    data = data.apply(lambda x: x.translate(str.maketrans('', '', string.punctuation)))\n",
        "    return data\n",
        "\n",
        "df['text_corrected'] = standardization(df.text_corrected)"
      ],
      "metadata": {
        "id": "cWCC69BM0GjT"
      },
      "execution_count": 35,
      "outputs": []
    },
    {
      "cell_type": "code",
      "source": [
        "from tensorflow.keras.layers.experimental.preprocessing import TextVectorization\n",
        "vocab_size = 10000\n",
        "sequence_length = 100\n",
        "\n",
        "vectorize_layer = TextVectorization(\n",
        "    max_tokens=vocab_size,\n",
        "    output_mode='int',\n",
        "    output_sequence_length=sequence_length)\n",
        "\n",
        "text_ds = np.asarray(df['text_corrected'])\n",
        "vectorize_layer.adapt(tf.convert_to_tensor(text_ds))"
      ],
      "metadata": {
        "id": "i_JY2EFy0ORX"
      },
      "execution_count": 36,
      "outputs": []
    },
    {
      "cell_type": "code",
      "source": [
        "X_text_train, X_text_test, y_text_train, y_text_test = train_test_split(cleaner_df.text_corrected, Y, test_size = 0.2)\n"
      ],
      "metadata": {
        "id": "n_um7lZk0RWN"
      },
      "execution_count": 37,
      "outputs": []
    },
    {
      "cell_type": "code",
      "source": [
        "embedding_dim=50\n",
        "\n",
        "text_input = tf.keras.Input(shape=(1,), dtype=tf.string, name='text')\n",
        "text_layers = vectorize_layer(text_input)\n",
        "text_layers = tf.keras.layers.Embedding(vocab_size, embedding_dim, name=\"embedding\")(text_layers)\n",
        "text_layers = tf.keras.layers.Dropout(0.5)(text_layers)\n",
        "\n",
        "text_layers = tf.keras.layers.Bidirectional(tf.keras.layers.LSTM(256, activation='relu', return_sequences=True))(text_layers)\n",
        "\n",
        "text_layers = tf.keras.layers.Conv1D(128, 7, padding=\"valid\", activation=\"relu\", strides=3)(text_layers)\n",
        "text_layers = tf.keras.layers.Conv1D(128, 7, padding=\"valid\", activation=\"relu\", strides=3)(text_layers)\n",
        "text_layers = tf.keras.layers.GlobalMaxPooling1D()(text_layers)\n",
        "\n",
        "# We add a vanilla hidden layer:\n",
        "text_layers = tf.keras.layers.Dense(2048, activation=\"relu\")(text_layers)\n",
        "text_layers = tf.keras.layers.Dropout(0.5)(text_layers)"
      ],
      "metadata": {
        "colab": {
          "base_uri": "https://localhost:8080/"
        },
        "id": "4B1_PP1C0Vwb",
        "outputId": "240854f0-a276-412e-fae3-3031336d53a5"
      },
      "execution_count": 38,
      "outputs": [
        {
          "output_type": "stream",
          "name": "stderr",
          "text": [
            "WARNING:tensorflow:Layer lstm will not use cuDNN kernels since it doesn't meet the criteria. It will use a generic GPU kernel as fallback when running on GPU.\n",
            "WARNING:tensorflow:Layer lstm will not use cuDNN kernels since it doesn't meet the criteria. It will use a generic GPU kernel as fallback when running on GPU.\n",
            "WARNING:tensorflow:Layer lstm will not use cuDNN kernels since it doesn't meet the criteria. It will use a generic GPU kernel as fallback when running on GPU.\n"
          ]
        }
      ]
    },
    {
      "cell_type": "code",
      "source": [
        "concatenate = tf.keras.layers.concatenate([image_layers, text_layers], axis=1)"
      ],
      "metadata": {
        "id": "7X19Eojv0Yx8"
      },
      "execution_count": 39,
      "outputs": []
    },
    {
      "cell_type": "code",
      "source": [
        "overall_layer = tf.keras.layers.Dense(2048, activation='softmax')(concatenate)"
      ],
      "metadata": {
        "id": "VNEzQOBr5F2f"
      },
      "execution_count": 40,
      "outputs": []
    },
    {
      "cell_type": "code",
      "source": [
        "prediction_layer_1 = tf.keras.layers.Dense(4, activation='softmax', name = 'sarcasm')\n",
        "prediction_layer_2 = tf.keras.layers.Dense(4, activation='softmax', name = 'humuor')\n",
        "prediction_layer_3 = tf.keras.layers.Dense(4, activation='softmax', name = 'offensive')\n",
        "prediction_layer_4 = tf.keras.layers.Dense(1, activation='sigmoid', name = 'motivational')\n",
        "prediction_layer_5 = tf.keras.layers.Dense(5, activation='softmax', name = 'overall')"
      ],
      "metadata": {
        "id": "fP4QbPvU5I83"
      },
      "execution_count": 41,
      "outputs": []
    },
    {
      "cell_type": "code",
      "source": [
        "output_1 = prediction_layer_1(overall_layer)\n",
        "output_2 = prediction_layer_2(overall_layer)\n",
        "output_3 = prediction_layer_3(overall_layer)\n",
        "output_4 = prediction_layer_4(overall_layer)\n",
        "output_5 = prediction_layer_5(overall_layer)\n",
        "model = tf.keras.Model(inputs = [image_input, text_input] , outputs = [output_1, output_2, output_3, output_4, output_5])"
      ],
      "metadata": {
        "id": "pPHbRiUl5LGX"
      },
      "execution_count": 42,
      "outputs": []
    },
    {
      "cell_type": "code",
      "source": [
        "import tensorflow_addons as tfa"
      ],
      "metadata": {
        "id": "Dph15KHU5PuH"
      },
      "execution_count": 44,
      "outputs": []
    },
    {
      "cell_type": "code",
      "source": [
        "base_learning_rate = 0.01\n",
        "losses = {\n",
        "      \"humuor\": tf.keras.losses.SparseCategoricalCrossentropy(from_logits=True), \n",
        "      \"sarcasm\": tf.keras.losses.SparseCategoricalCrossentropy(from_logits=True), \n",
        "      \"offensive\": tf.keras.losses.SparseCategoricalCrossentropy(from_logits=True), \n",
        "      \"motivational\": tf.keras.losses.BinaryCrossentropy(from_logits=False),\n",
        "      \"overall\": tf.keras.losses.SparseCategoricalCrossentropy(from_logits=True)\n",
        "}\n",
        "lossWeights = {\n",
        "      \"humuor\": 1.0, \n",
        "      \"sarcasm\": 1.0, \n",
        "      \"offensive\": 1.0, \n",
        "      \"motivational\": 1.0,\n",
        "      \"overall\": 1.0\n",
        "}\n",
        "metric = {\n",
        "    \"humuor\": ['acc',tfa.metrics.F1Score(num_classes=4, average=\"micro\", threshold = 0.9)],\n",
        "    \"sarcasm\": ['acc',tfa.metrics.F1Score(num_classes=4, average=\"micro\", threshold = 0.9)],\n",
        "    \"offensive\": ['acc',tfa.metrics.F1Score(num_classes=4, average=\"micro\", threshold = 0.9)],\n",
        "    \"motivational\": ['acc',tfa.metrics.F1Score(num_classes=1, average=\"micro\", threshold = 0.9)],\n",
        "    \"overall\": ['acc',tfa.metrics.F1Score(num_classes=5, average=\"micro\", threshold = 0.9)]\n",
        "}\n",
        "model.compile(optimizer=tf.keras.optimizers.Adam(lr=base_learning_rate),\n",
        "              loss = losses,\n",
        "              loss_weights= lossWeights,\n",
        "              metrics=metric)"
      ],
      "metadata": {
        "colab": {
          "base_uri": "https://localhost:8080/"
        },
        "id": "ajljaIRp5bJy",
        "outputId": "29e7713b-932b-4a73-f6d6-84319287f62f"
      },
      "execution_count": 45,
      "outputs": [
        {
          "output_type": "stream",
          "name": "stderr",
          "text": [
            "/usr/local/lib/python3.8/dist-packages/keras/optimizers/optimizer_v2/adam.py:110: UserWarning: The `lr` argument is deprecated, use `learning_rate` instead.\n",
            "  super(Adam, self).__init__(name, **kwargs)\n"
          ]
        }
      ]
    },
    {
      "cell_type": "code",
      "source": [
        "learning_rates = [0.1] #, 0.01, 0.001, 0.0001, 0.00001]\n",
        "for i in learning_rates:\n",
        "    # model.compile(optimizer=tf.keras.optimizers.RMSprop(i),\n",
        "    #           loss = losses,\n",
        "    #           loss_weights= lossWeights,\n",
        "    #           metrics=['accuracy'])\n",
        "    \n",
        "    history = model.fit(x = {\"image_input\": X_train, \"text\": X_text_train},\n",
        "                    y = {\"sarcasm\": y_train.sarcasm, \n",
        "                         \"humuor\": y_train.humour, \n",
        "                         \"offensive\": y_train.offensive, \n",
        "                         \"motivational\": y_train.motivational, \n",
        "                         \"overall\": y_train.overall_sentiment},\n",
        "                    batch_size=32,\n",
        "                    epochs=2, #50\n",
        "                    verbose=2\n",
        "                   )"
      ],
      "metadata": {
        "colab": {
          "base_uri": "https://localhost:8080/"
        },
        "id": "_v1budbt5eQD",
        "outputId": "68a4b9e6-7ac1-40d1-af82-5d7021a3beea"
      },
      "execution_count": 46,
      "outputs": [
        {
          "output_type": "stream",
          "name": "stdout",
          "text": [
            "Epoch 1/2\n"
          ]
        },
        {
          "output_type": "stream",
          "name": "stderr",
          "text": [
            "/usr/local/lib/python3.8/dist-packages/tensorflow/python/util/dispatch.py:1082: UserWarning: \"`sparse_categorical_crossentropy` received `from_logits=True`, but the `output` argument was produced by a sigmoid or softmax activation and thus does not represent logits. Was this intended?\"\n",
            "  return dispatch_target(*args, **kwargs)\n"
          ]
        },
        {
          "output_type": "stream",
          "name": "stdout",
          "text": [
            "175/175 - 88s - loss: 5.6610 - sarcasm_loss: 1.1923 - humuor_loss: 1.3002 - offensive_loss: 1.2008 - motivational_loss: 0.6513 - overall_loss: 1.3163 - sarcasm_acc: 0.5046 - sarcasm_f1_score: 0.0000e+00 - humuor_acc: 0.3506 - humuor_f1_score: 0.0000e+00 - offensive_acc: 0.3927 - offensive_f1_score: 0.0000e+00 - motivational_acc: 0.6492 - motivational_f1_score: 0.0000e+00 - overall_acc: 0.4406 - overall_f1_score: 0.0000e+00 - 88s/epoch - 503ms/step\n",
            "Epoch 2/2\n",
            "175/175 - 70s - loss: 5.5537 - sarcasm_loss: 1.1688 - humuor_loss: 1.2930 - offensive_loss: 1.1698 - motivational_loss: 0.6484 - overall_loss: 1.2737 - sarcasm_acc: 0.5099 - sarcasm_f1_score: 0.0000e+00 - humuor_acc: 0.3413 - humuor_f1_score: 0.0000e+00 - offensive_acc: 0.3943 - offensive_f1_score: 0.0000e+00 - motivational_acc: 0.6500 - motivational_f1_score: 0.0000e+00 - overall_acc: 0.4412 - overall_f1_score: 0.0000e+00 - 70s/epoch - 399ms/step\n"
          ]
        }
      ]
    },
    {
      "cell_type": "code",
      "source": [
        "pd.DataFrame(history.history)"
      ],
      "metadata": {
        "colab": {
          "base_uri": "https://localhost:8080/",
          "height": 176
        },
        "id": "IrPz-Iyk5kfm",
        "outputId": "7b14fb88-4b1d-459d-a799-5ae7ecf8547a"
      },
      "execution_count": 47,
      "outputs": [
        {
          "output_type": "execute_result",
          "data": {
            "text/plain": [
              "       loss  sarcasm_loss  humuor_loss  offensive_loss  motivational_loss  \\\n",
              "0  5.660958      1.192320     1.300235        1.200764           0.651291   \n",
              "1  5.553705      1.168827     1.293023        1.169830           0.648353   \n",
              "\n",
              "   overall_loss  sarcasm_acc  sarcasm_f1_score  humuor_acc  humuor_f1_score  \\\n",
              "0      1.316350     0.504566               0.0    0.350582              0.0   \n",
              "1      1.273672     0.509937               0.0    0.341271              0.0   \n",
              "\n",
              "   offensive_acc  offensive_f1_score  motivational_acc  motivational_f1_score  \\\n",
              "0       0.392659                 0.0          0.649239                    0.0   \n",
              "1       0.394270                 0.0          0.649955                    0.0   \n",
              "\n",
              "   overall_acc  overall_f1_score  \n",
              "0     0.440645               0.0  \n",
              "1     0.441182               0.0  "
            ],
            "text/html": [
              "\n",
              "  <div id=\"df-30f03a3f-305c-4a53-ae02-b13030ff3b56\">\n",
              "    <div class=\"colab-df-container\">\n",
              "      <div>\n",
              "<style scoped>\n",
              "    .dataframe tbody tr th:only-of-type {\n",
              "        vertical-align: middle;\n",
              "    }\n",
              "\n",
              "    .dataframe tbody tr th {\n",
              "        vertical-align: top;\n",
              "    }\n",
              "\n",
              "    .dataframe thead th {\n",
              "        text-align: right;\n",
              "    }\n",
              "</style>\n",
              "<table border=\"1\" class=\"dataframe\">\n",
              "  <thead>\n",
              "    <tr style=\"text-align: right;\">\n",
              "      <th></th>\n",
              "      <th>loss</th>\n",
              "      <th>sarcasm_loss</th>\n",
              "      <th>humuor_loss</th>\n",
              "      <th>offensive_loss</th>\n",
              "      <th>motivational_loss</th>\n",
              "      <th>overall_loss</th>\n",
              "      <th>sarcasm_acc</th>\n",
              "      <th>sarcasm_f1_score</th>\n",
              "      <th>humuor_acc</th>\n",
              "      <th>humuor_f1_score</th>\n",
              "      <th>offensive_acc</th>\n",
              "      <th>offensive_f1_score</th>\n",
              "      <th>motivational_acc</th>\n",
              "      <th>motivational_f1_score</th>\n",
              "      <th>overall_acc</th>\n",
              "      <th>overall_f1_score</th>\n",
              "    </tr>\n",
              "  </thead>\n",
              "  <tbody>\n",
              "    <tr>\n",
              "      <th>0</th>\n",
              "      <td>5.660958</td>\n",
              "      <td>1.192320</td>\n",
              "      <td>1.300235</td>\n",
              "      <td>1.200764</td>\n",
              "      <td>0.651291</td>\n",
              "      <td>1.316350</td>\n",
              "      <td>0.504566</td>\n",
              "      <td>0.0</td>\n",
              "      <td>0.350582</td>\n",
              "      <td>0.0</td>\n",
              "      <td>0.392659</td>\n",
              "      <td>0.0</td>\n",
              "      <td>0.649239</td>\n",
              "      <td>0.0</td>\n",
              "      <td>0.440645</td>\n",
              "      <td>0.0</td>\n",
              "    </tr>\n",
              "    <tr>\n",
              "      <th>1</th>\n",
              "      <td>5.553705</td>\n",
              "      <td>1.168827</td>\n",
              "      <td>1.293023</td>\n",
              "      <td>1.169830</td>\n",
              "      <td>0.648353</td>\n",
              "      <td>1.273672</td>\n",
              "      <td>0.509937</td>\n",
              "      <td>0.0</td>\n",
              "      <td>0.341271</td>\n",
              "      <td>0.0</td>\n",
              "      <td>0.394270</td>\n",
              "      <td>0.0</td>\n",
              "      <td>0.649955</td>\n",
              "      <td>0.0</td>\n",
              "      <td>0.441182</td>\n",
              "      <td>0.0</td>\n",
              "    </tr>\n",
              "  </tbody>\n",
              "</table>\n",
              "</div>\n",
              "      <button class=\"colab-df-convert\" onclick=\"convertToInteractive('df-30f03a3f-305c-4a53-ae02-b13030ff3b56')\"\n",
              "              title=\"Convert this dataframe to an interactive table.\"\n",
              "              style=\"display:none;\">\n",
              "        \n",
              "  <svg xmlns=\"http://www.w3.org/2000/svg\" height=\"24px\"viewBox=\"0 0 24 24\"\n",
              "       width=\"24px\">\n",
              "    <path d=\"M0 0h24v24H0V0z\" fill=\"none\"/>\n",
              "    <path d=\"M18.56 5.44l.94 2.06.94-2.06 2.06-.94-2.06-.94-.94-2.06-.94 2.06-2.06.94zm-11 1L8.5 8.5l.94-2.06 2.06-.94-2.06-.94L8.5 2.5l-.94 2.06-2.06.94zm10 10l.94 2.06.94-2.06 2.06-.94-2.06-.94-.94-2.06-.94 2.06-2.06.94z\"/><path d=\"M17.41 7.96l-1.37-1.37c-.4-.4-.92-.59-1.43-.59-.52 0-1.04.2-1.43.59L10.3 9.45l-7.72 7.72c-.78.78-.78 2.05 0 2.83L4 21.41c.39.39.9.59 1.41.59.51 0 1.02-.2 1.41-.59l7.78-7.78 2.81-2.81c.8-.78.8-2.07 0-2.86zM5.41 20L4 18.59l7.72-7.72 1.47 1.35L5.41 20z\"/>\n",
              "  </svg>\n",
              "      </button>\n",
              "      \n",
              "  <style>\n",
              "    .colab-df-container {\n",
              "      display:flex;\n",
              "      flex-wrap:wrap;\n",
              "      gap: 12px;\n",
              "    }\n",
              "\n",
              "    .colab-df-convert {\n",
              "      background-color: #E8F0FE;\n",
              "      border: none;\n",
              "      border-radius: 50%;\n",
              "      cursor: pointer;\n",
              "      display: none;\n",
              "      fill: #1967D2;\n",
              "      height: 32px;\n",
              "      padding: 0 0 0 0;\n",
              "      width: 32px;\n",
              "    }\n",
              "\n",
              "    .colab-df-convert:hover {\n",
              "      background-color: #E2EBFA;\n",
              "      box-shadow: 0px 1px 2px rgba(60, 64, 67, 0.3), 0px 1px 3px 1px rgba(60, 64, 67, 0.15);\n",
              "      fill: #174EA6;\n",
              "    }\n",
              "\n",
              "    [theme=dark] .colab-df-convert {\n",
              "      background-color: #3B4455;\n",
              "      fill: #D2E3FC;\n",
              "    }\n",
              "\n",
              "    [theme=dark] .colab-df-convert:hover {\n",
              "      background-color: #434B5C;\n",
              "      box-shadow: 0px 1px 3px 1px rgba(0, 0, 0, 0.15);\n",
              "      filter: drop-shadow(0px 1px 2px rgba(0, 0, 0, 0.3));\n",
              "      fill: #FFFFFF;\n",
              "    }\n",
              "  </style>\n",
              "\n",
              "      <script>\n",
              "        const buttonEl =\n",
              "          document.querySelector('#df-30f03a3f-305c-4a53-ae02-b13030ff3b56 button.colab-df-convert');\n",
              "        buttonEl.style.display =\n",
              "          google.colab.kernel.accessAllowed ? 'block' : 'none';\n",
              "\n",
              "        async function convertToInteractive(key) {\n",
              "          const element = document.querySelector('#df-30f03a3f-305c-4a53-ae02-b13030ff3b56');\n",
              "          const dataTable =\n",
              "            await google.colab.kernel.invokeFunction('convertToInteractive',\n",
              "                                                     [key], {});\n",
              "          if (!dataTable) return;\n",
              "\n",
              "          const docLinkHtml = 'Like what you see? Visit the ' +\n",
              "            '<a target=\"_blank\" href=https://colab.research.google.com/notebooks/data_table.ipynb>data table notebook</a>'\n",
              "            + ' to learn more about interactive tables.';\n",
              "          element.innerHTML = '';\n",
              "          dataTable['output_type'] = 'display_data';\n",
              "          await google.colab.output.renderOutput(dataTable, element);\n",
              "          const docLink = document.createElement('div');\n",
              "          docLink.innerHTML = docLinkHtml;\n",
              "          element.appendChild(docLink);\n",
              "        }\n",
              "      </script>\n",
              "    </div>\n",
              "  </div>\n",
              "  "
            ]
          },
          "metadata": {},
          "execution_count": 47
        }
      ]
    },
    {
      "cell_type": "code",
      "source": [
        "evaluate = model.evaluate(x = {\"image_input\": X_test, \"text\": X_text_test},\n",
        "                    y = {\"sarcasm\": y_test.sarcasm, \n",
        "                         \"humuor\": y_test.humour, \n",
        "                         \"offensive\": y_test.offensive, \n",
        "                         \"motivational\": y_test.motivational, \n",
        "                         \"overall\": y_test.overall_sentiment},\n",
        "                    batch_size=32,\n",
        "                    verbose=2\n",
        "                   )"
      ],
      "metadata": {
        "colab": {
          "base_uri": "https://localhost:8080/"
        },
        "id": "-HEI9s0z-V-1",
        "outputId": "692536a7-f421-4c9c-dc9a-67f8b8f66355"
      },
      "execution_count": 48,
      "outputs": [
        {
          "output_type": "stream",
          "name": "stderr",
          "text": [
            "/usr/local/lib/python3.8/dist-packages/tensorflow/python/util/dispatch.py:1082: UserWarning: \"`sparse_categorical_crossentropy` received `from_logits=True`, but the `output` argument was produced by a sigmoid or softmax activation and thus does not represent logits. Was this intended?\"\n",
            "  return dispatch_target(*args, **kwargs)\n"
          ]
        },
        {
          "output_type": "stream",
          "name": "stdout",
          "text": [
            "44/44 - 5s - loss: 5.6374 - sarcasm_loss: 1.2073 - humuor_loss: 1.3047 - offensive_loss: 1.1865 - motivational_loss: 0.6553 - overall_loss: 1.2835 - sarcasm_acc: 0.4689 - sarcasm_f1_score: 0.0000e+00 - humuor_acc: 0.3536 - humuor_f1_score: 0.0000e+00 - offensive_acc: 0.3830 - offensive_f1_score: 0.0000e+00 - motivational_acc: 0.6371 - motivational_f1_score: 0.0000e+00 - overall_acc: 0.4703 - overall_f1_score: 0.0000e+00 - 5s/epoch - 106ms/step\n"
          ]
        }
      ]
    },
    {
      "cell_type": "code",
      "source": [
        "tmp_output = model.predict(x = {\"image_input\": X_test, \"text\": X_text_test},\n",
        "                              batch_size=32,\n",
        "                              verbose=2)"
      ],
      "metadata": {
        "colab": {
          "base_uri": "https://localhost:8080/"
        },
        "id": "YbwYDpHtEW0D",
        "outputId": "2f214071-4d04-4a1e-9184-5f03f4831727"
      },
      "execution_count": 51,
      "outputs": [
        {
          "output_type": "stream",
          "name": "stdout",
          "text": [
            "44/44 - 4s - 4s/epoch - 88ms/step\n"
          ]
        }
      ]
    },
    {
      "cell_type": "code",
      "source": [
        "model.summary()"
      ],
      "metadata": {
        "colab": {
          "base_uri": "https://localhost:8080/"
        },
        "id": "i0RNKx6xIZ9E",
        "outputId": "40dd3872-2882-4dee-e716-a8a131f43330"
      },
      "execution_count": 62,
      "outputs": [
        {
          "output_type": "stream",
          "name": "stdout",
          "text": [
            "Model: \"model\"\n",
            "__________________________________________________________________________________________________\n",
            " Layer (type)                   Output Shape         Param #     Connected to                     \n",
            "==================================================================================================\n",
            " text (InputLayer)              [(None, 1)]          0           []                               \n",
            "                                                                                                  \n",
            " text_vectorization (TextVector  (None, 100)         0           ['text[0][0]']                   \n",
            " ization)                                                                                         \n",
            "                                                                                                  \n",
            " embedding (Embedding)          (None, 100, 50)      500000      ['text_vectorization[0][0]']     \n",
            "                                                                                                  \n",
            " dropout (Dropout)              (None, 100, 50)      0           ['embedding[0][0]']              \n",
            "                                                                                                  \n",
            " image_input (InputLayer)       [(None, 100, 100, 3  0           []                               \n",
            "                                )]                                                                \n",
            "                                                                                                  \n",
            " bidirectional (Bidirectional)  (None, 100, 512)     628736      ['dropout[0][0]']                \n",
            "                                                                                                  \n",
            " resnet50 (Functional)          (None, 4, 4, 2048)   23587712    ['image_input[0][0]']            \n",
            "                                                                                                  \n",
            " conv1d (Conv1D)                (None, 32, 128)      458880      ['bidirectional[0][0]']          \n",
            "                                                                                                  \n",
            " conv2d (Conv2D)                (None, 3, 3, 2048)   16779264    ['resnet50[0][0]']               \n",
            "                                                                                                  \n",
            " conv1d_1 (Conv1D)              (None, 9, 128)       114816      ['conv1d[0][0]']                 \n",
            "                                                                                                  \n",
            " dense (Dense)                  (None, 3, 3, 512)    1049088     ['conv2d[0][0]']                 \n",
            "                                                                                                  \n",
            " global_max_pooling1d (GlobalMa  (None, 128)         0           ['conv1d_1[0][0]']               \n",
            " xPooling1D)                                                                                      \n",
            "                                                                                                  \n",
            " global_average_pooling2d (Glob  (None, 512)         0           ['dense[0][0]']                  \n",
            " alAveragePooling2D)                                                                              \n",
            "                                                                                                  \n",
            " dense_2 (Dense)                (None, 2048)         264192      ['global_max_pooling1d[0][0]']   \n",
            "                                                                                                  \n",
            " dropout_layer (Dropout)        (None, 512)          0           ['global_average_pooling2d[0][0]'\n",
            "                                                                 ]                                \n",
            "                                                                                                  \n",
            " dropout_1 (Dropout)            (None, 2048)         0           ['dense_2[0][0]']                \n",
            "                                                                                                  \n",
            " concatenate_1 (Concatenate)    (None, 2560)         0           ['dropout_layer[0][0]',          \n",
            "                                                                  'dropout_1[0][0]']              \n",
            "                                                                                                  \n",
            " dense_3 (Dense)                (None, 2048)         5244928     ['concatenate_1[0][0]']          \n",
            "                                                                                                  \n",
            " sarcasm (Dense)                (None, 4)            8196        ['dense_3[0][0]']                \n",
            "                                                                                                  \n",
            " humuor (Dense)                 (None, 4)            8196        ['dense_3[0][0]']                \n",
            "                                                                                                  \n",
            " offensive (Dense)              (None, 4)            8196        ['dense_3[0][0]']                \n",
            "                                                                                                  \n",
            " motivational (Dense)           (None, 1)            2049        ['dense_3[0][0]']                \n",
            "                                                                                                  \n",
            " overall (Dense)                (None, 5)            10245       ['dense_3[0][0]']                \n",
            "                                                                                                  \n",
            "==================================================================================================\n",
            "Total params: 48,664,498\n",
            "Trainable params: 25,076,786\n",
            "Non-trainable params: 23,587,712\n",
            "__________________________________________________________________________________________________\n"
          ]
        }
      ]
    },
    {
      "cell_type": "code",
      "source": [
        "from keras.models import Model\n",
        "\n",
        "embedder= Model(inputs=model.input, outputs=model.layers[-7].output)\n",
        "embedder.summary()"
      ],
      "metadata": {
        "id": "b_yu_ATv_R0t",
        "colab": {
          "base_uri": "https://localhost:8080/"
        },
        "outputId": "64fcef0b-7170-476c-cd9e-ca8920b39309"
      },
      "execution_count": 64,
      "outputs": [
        {
          "output_type": "stream",
          "name": "stdout",
          "text": [
            "Model: \"model_2\"\n",
            "__________________________________________________________________________________________________\n",
            " Layer (type)                   Output Shape         Param #     Connected to                     \n",
            "==================================================================================================\n",
            " text (InputLayer)              [(None, 1)]          0           []                               \n",
            "                                                                                                  \n",
            " text_vectorization (TextVector  (None, 100)         0           ['text[0][0]']                   \n",
            " ization)                                                                                         \n",
            "                                                                                                  \n",
            " embedding (Embedding)          (None, 100, 50)      500000      ['text_vectorization[0][0]']     \n",
            "                                                                                                  \n",
            " dropout (Dropout)              (None, 100, 50)      0           ['embedding[0][0]']              \n",
            "                                                                                                  \n",
            " image_input (InputLayer)       [(None, 100, 100, 3  0           []                               \n",
            "                                )]                                                                \n",
            "                                                                                                  \n",
            " bidirectional (Bidirectional)  (None, 100, 512)     628736      ['dropout[0][0]']                \n",
            "                                                                                                  \n",
            " resnet50 (Functional)          (None, 4, 4, 2048)   23587712    ['image_input[0][0]']            \n",
            "                                                                                                  \n",
            " conv1d (Conv1D)                (None, 32, 128)      458880      ['bidirectional[0][0]']          \n",
            "                                                                                                  \n",
            " conv2d (Conv2D)                (None, 3, 3, 2048)   16779264    ['resnet50[0][0]']               \n",
            "                                                                                                  \n",
            " conv1d_1 (Conv1D)              (None, 9, 128)       114816      ['conv1d[0][0]']                 \n",
            "                                                                                                  \n",
            " dense (Dense)                  (None, 3, 3, 512)    1049088     ['conv2d[0][0]']                 \n",
            "                                                                                                  \n",
            " global_max_pooling1d (GlobalMa  (None, 128)         0           ['conv1d_1[0][0]']               \n",
            " xPooling1D)                                                                                      \n",
            "                                                                                                  \n",
            " global_average_pooling2d (Glob  (None, 512)         0           ['dense[0][0]']                  \n",
            " alAveragePooling2D)                                                                              \n",
            "                                                                                                  \n",
            " dense_2 (Dense)                (None, 2048)         264192      ['global_max_pooling1d[0][0]']   \n",
            "                                                                                                  \n",
            " dropout_layer (Dropout)        (None, 512)          0           ['global_average_pooling2d[0][0]'\n",
            "                                                                 ]                                \n",
            "                                                                                                  \n",
            " dropout_1 (Dropout)            (None, 2048)         0           ['dense_2[0][0]']                \n",
            "                                                                                                  \n",
            " concatenate_1 (Concatenate)    (None, 2560)         0           ['dropout_layer[0][0]',          \n",
            "                                                                  'dropout_1[0][0]']              \n",
            "                                                                                                  \n",
            "==================================================================================================\n",
            "Total params: 43,382,688\n",
            "Trainable params: 19,794,976\n",
            "Non-trainable params: 23,587,712\n",
            "__________________________________________________________________________________________________\n"
          ]
        }
      ]
    },
    {
      "cell_type": "code",
      "source": [
        "embedded_X_train = embedder.predict(x = {\"image_input\": X_train, \"text\": X_text_train},\n",
        "                              batch_size=32,\n",
        "                              verbose=2)\n",
        "embedded_X_test = embedder.predict(x = {\"image_input\": X_test, \"text\": X_text_test},\n",
        "                              batch_size=32,\n",
        "                              verbose=2)\n",
        "print(embedded_X_train.shape, embedded_X_test.shape)"
      ],
      "metadata": {
        "colab": {
          "base_uri": "https://localhost:8080/"
        },
        "id": "YYFkB22xEv_Y",
        "outputId": "ebc54433-88db-4649-abff-c26aa457b032"
      },
      "execution_count": 67,
      "outputs": [
        {
          "output_type": "stream",
          "name": "stdout",
          "text": [
            "175/175 - 10s - 10s/epoch - 59ms/step\n",
            "44/44 - 2s - 2s/epoch - 53ms/step\n",
            "(5585, 2560) (1397, 2560)\n"
          ]
        }
      ]
    },
    {
      "cell_type": "code",
      "source": [
        "y_train"
      ],
      "metadata": {
        "colab": {
          "base_uri": "https://localhost:8080/",
          "height": 424
        },
        "id": "Jw7TBtSfLTj3",
        "outputId": "041704c8-088b-4318-e4e3-c7d60a08f300"
      },
      "execution_count": 70,
      "outputs": [
        {
          "output_type": "execute_result",
          "data": {
            "text/plain": [
              "      humour  sarcasm  offensive  motivational  overall_sentiment\n",
              "5751       1        2          1             0                  2\n",
              "608        1        1          1             0                  4\n",
              "3178       2        1          0             0                  3\n",
              "1409       0        0          0             0                  3\n",
              "1571       1        1          0             0                  3\n",
              "...      ...      ...        ...           ...                ...\n",
              "6490       2        2          1             0                  3\n",
              "3540       0        1          1             0                  3\n",
              "1133       1        1          0             0                  2\n",
              "5946       0        1          2             1                  3\n",
              "6545       2        1          1             0                  3\n",
              "\n",
              "[5585 rows x 5 columns]"
            ],
            "text/html": [
              "\n",
              "  <div id=\"df-5be8428b-590d-4211-8b41-7a1295a4ff5f\">\n",
              "    <div class=\"colab-df-container\">\n",
              "      <div>\n",
              "<style scoped>\n",
              "    .dataframe tbody tr th:only-of-type {\n",
              "        vertical-align: middle;\n",
              "    }\n",
              "\n",
              "    .dataframe tbody tr th {\n",
              "        vertical-align: top;\n",
              "    }\n",
              "\n",
              "    .dataframe thead th {\n",
              "        text-align: right;\n",
              "    }\n",
              "</style>\n",
              "<table border=\"1\" class=\"dataframe\">\n",
              "  <thead>\n",
              "    <tr style=\"text-align: right;\">\n",
              "      <th></th>\n",
              "      <th>humour</th>\n",
              "      <th>sarcasm</th>\n",
              "      <th>offensive</th>\n",
              "      <th>motivational</th>\n",
              "      <th>overall_sentiment</th>\n",
              "    </tr>\n",
              "  </thead>\n",
              "  <tbody>\n",
              "    <tr>\n",
              "      <th>5751</th>\n",
              "      <td>1</td>\n",
              "      <td>2</td>\n",
              "      <td>1</td>\n",
              "      <td>0</td>\n",
              "      <td>2</td>\n",
              "    </tr>\n",
              "    <tr>\n",
              "      <th>608</th>\n",
              "      <td>1</td>\n",
              "      <td>1</td>\n",
              "      <td>1</td>\n",
              "      <td>0</td>\n",
              "      <td>4</td>\n",
              "    </tr>\n",
              "    <tr>\n",
              "      <th>3178</th>\n",
              "      <td>2</td>\n",
              "      <td>1</td>\n",
              "      <td>0</td>\n",
              "      <td>0</td>\n",
              "      <td>3</td>\n",
              "    </tr>\n",
              "    <tr>\n",
              "      <th>1409</th>\n",
              "      <td>0</td>\n",
              "      <td>0</td>\n",
              "      <td>0</td>\n",
              "      <td>0</td>\n",
              "      <td>3</td>\n",
              "    </tr>\n",
              "    <tr>\n",
              "      <th>1571</th>\n",
              "      <td>1</td>\n",
              "      <td>1</td>\n",
              "      <td>0</td>\n",
              "      <td>0</td>\n",
              "      <td>3</td>\n",
              "    </tr>\n",
              "    <tr>\n",
              "      <th>...</th>\n",
              "      <td>...</td>\n",
              "      <td>...</td>\n",
              "      <td>...</td>\n",
              "      <td>...</td>\n",
              "      <td>...</td>\n",
              "    </tr>\n",
              "    <tr>\n",
              "      <th>6490</th>\n",
              "      <td>2</td>\n",
              "      <td>2</td>\n",
              "      <td>1</td>\n",
              "      <td>0</td>\n",
              "      <td>3</td>\n",
              "    </tr>\n",
              "    <tr>\n",
              "      <th>3540</th>\n",
              "      <td>0</td>\n",
              "      <td>1</td>\n",
              "      <td>1</td>\n",
              "      <td>0</td>\n",
              "      <td>3</td>\n",
              "    </tr>\n",
              "    <tr>\n",
              "      <th>1133</th>\n",
              "      <td>1</td>\n",
              "      <td>1</td>\n",
              "      <td>0</td>\n",
              "      <td>0</td>\n",
              "      <td>2</td>\n",
              "    </tr>\n",
              "    <tr>\n",
              "      <th>5946</th>\n",
              "      <td>0</td>\n",
              "      <td>1</td>\n",
              "      <td>2</td>\n",
              "      <td>1</td>\n",
              "      <td>3</td>\n",
              "    </tr>\n",
              "    <tr>\n",
              "      <th>6545</th>\n",
              "      <td>2</td>\n",
              "      <td>1</td>\n",
              "      <td>1</td>\n",
              "      <td>0</td>\n",
              "      <td>3</td>\n",
              "    </tr>\n",
              "  </tbody>\n",
              "</table>\n",
              "<p>5585 rows × 5 columns</p>\n",
              "</div>\n",
              "      <button class=\"colab-df-convert\" onclick=\"convertToInteractive('df-5be8428b-590d-4211-8b41-7a1295a4ff5f')\"\n",
              "              title=\"Convert this dataframe to an interactive table.\"\n",
              "              style=\"display:none;\">\n",
              "        \n",
              "  <svg xmlns=\"http://www.w3.org/2000/svg\" height=\"24px\"viewBox=\"0 0 24 24\"\n",
              "       width=\"24px\">\n",
              "    <path d=\"M0 0h24v24H0V0z\" fill=\"none\"/>\n",
              "    <path d=\"M18.56 5.44l.94 2.06.94-2.06 2.06-.94-2.06-.94-.94-2.06-.94 2.06-2.06.94zm-11 1L8.5 8.5l.94-2.06 2.06-.94-2.06-.94L8.5 2.5l-.94 2.06-2.06.94zm10 10l.94 2.06.94-2.06 2.06-.94-2.06-.94-.94-2.06-.94 2.06-2.06.94z\"/><path d=\"M17.41 7.96l-1.37-1.37c-.4-.4-.92-.59-1.43-.59-.52 0-1.04.2-1.43.59L10.3 9.45l-7.72 7.72c-.78.78-.78 2.05 0 2.83L4 21.41c.39.39.9.59 1.41.59.51 0 1.02-.2 1.41-.59l7.78-7.78 2.81-2.81c.8-.78.8-2.07 0-2.86zM5.41 20L4 18.59l7.72-7.72 1.47 1.35L5.41 20z\"/>\n",
              "  </svg>\n",
              "      </button>\n",
              "      \n",
              "  <style>\n",
              "    .colab-df-container {\n",
              "      display:flex;\n",
              "      flex-wrap:wrap;\n",
              "      gap: 12px;\n",
              "    }\n",
              "\n",
              "    .colab-df-convert {\n",
              "      background-color: #E8F0FE;\n",
              "      border: none;\n",
              "      border-radius: 50%;\n",
              "      cursor: pointer;\n",
              "      display: none;\n",
              "      fill: #1967D2;\n",
              "      height: 32px;\n",
              "      padding: 0 0 0 0;\n",
              "      width: 32px;\n",
              "    }\n",
              "\n",
              "    .colab-df-convert:hover {\n",
              "      background-color: #E2EBFA;\n",
              "      box-shadow: 0px 1px 2px rgba(60, 64, 67, 0.3), 0px 1px 3px 1px rgba(60, 64, 67, 0.15);\n",
              "      fill: #174EA6;\n",
              "    }\n",
              "\n",
              "    [theme=dark] .colab-df-convert {\n",
              "      background-color: #3B4455;\n",
              "      fill: #D2E3FC;\n",
              "    }\n",
              "\n",
              "    [theme=dark] .colab-df-convert:hover {\n",
              "      background-color: #434B5C;\n",
              "      box-shadow: 0px 1px 3px 1px rgba(0, 0, 0, 0.15);\n",
              "      filter: drop-shadow(0px 1px 2px rgba(0, 0, 0, 0.3));\n",
              "      fill: #FFFFFF;\n",
              "    }\n",
              "  </style>\n",
              "\n",
              "      <script>\n",
              "        const buttonEl =\n",
              "          document.querySelector('#df-5be8428b-590d-4211-8b41-7a1295a4ff5f button.colab-df-convert');\n",
              "        buttonEl.style.display =\n",
              "          google.colab.kernel.accessAllowed ? 'block' : 'none';\n",
              "\n",
              "        async function convertToInteractive(key) {\n",
              "          const element = document.querySelector('#df-5be8428b-590d-4211-8b41-7a1295a4ff5f');\n",
              "          const dataTable =\n",
              "            await google.colab.kernel.invokeFunction('convertToInteractive',\n",
              "                                                     [key], {});\n",
              "          if (!dataTable) return;\n",
              "\n",
              "          const docLinkHtml = 'Like what you see? Visit the ' +\n",
              "            '<a target=\"_blank\" href=https://colab.research.google.com/notebooks/data_table.ipynb>data table notebook</a>'\n",
              "            + ' to learn more about interactive tables.';\n",
              "          element.innerHTML = '';\n",
              "          dataTable['output_type'] = 'display_data';\n",
              "          await google.colab.output.renderOutput(dataTable, element);\n",
              "          const docLink = document.createElement('div');\n",
              "          docLink.innerHTML = docLinkHtml;\n",
              "          element.appendChild(docLink);\n",
              "        }\n",
              "      </script>\n",
              "    </div>\n",
              "  </div>\n",
              "  "
            ]
          },
          "metadata": {},
          "execution_count": 70
        }
      ]
    },
    {
      "cell_type": "code",
      "source": [
        "y_train.iloc[:, 0].values"
      ],
      "metadata": {
        "colab": {
          "base_uri": "https://localhost:8080/"
        },
        "id": "iYvoD22mLb7K",
        "outputId": "d4ff2c4b-ef1f-4598-80ee-b9c354785740"
      },
      "execution_count": 73,
      "outputs": [
        {
          "output_type": "execute_result",
          "data": {
            "text/plain": [
              "array([1, 1, 2, ..., 1, 0, 2])"
            ]
          },
          "metadata": {},
          "execution_count": 73
        }
      ]
    },
    {
      "cell_type": "code",
      "source": [
        "import numpy as np\n",
        "from sklearn.pipeline import make_pipeline\n",
        "from sklearn.preprocessing import StandardScaler\n",
        "from sklearn.metrics import classification_report\n",
        "from sklearn.svm import SVC\n",
        "clf = make_pipeline(StandardScaler(), SVC(gamma='auto'))\n",
        "clf.fit(embedded_X_train, y_train.iloc[:, 0].values)\n",
        "y_pred = clf.predict(embedded_X_test)\n",
        "print(classification_report(y_test.iloc[:, 0].values, y_pred))"
      ],
      "metadata": {
        "colab": {
          "base_uri": "https://localhost:8080/"
        },
        "id": "AhS1i5BKI6_d",
        "outputId": "6f1c0ed4-3fe4-41db-d98c-acc11e67ba32"
      },
      "execution_count": 75,
      "outputs": [
        {
          "output_type": "stream",
          "name": "stdout",
          "text": [
            "              precision    recall  f1-score   support\n",
            "\n",
            "           0       0.00      0.00      0.00       334\n",
            "           1       0.35      1.00      0.52       494\n",
            "           2       0.50      0.00      0.00       429\n",
            "           3       0.00      0.00      0.00       140\n",
            "\n",
            "    accuracy                           0.35      1397\n",
            "   macro avg       0.21      0.25      0.13      1397\n",
            "weighted avg       0.28      0.35      0.19      1397\n",
            "\n"
          ]
        },
        {
          "output_type": "stream",
          "name": "stderr",
          "text": [
            "/usr/local/lib/python3.8/dist-packages/sklearn/metrics/_classification.py:1318: UndefinedMetricWarning: Precision and F-score are ill-defined and being set to 0.0 in labels with no predicted samples. Use `zero_division` parameter to control this behavior.\n",
            "  _warn_prf(average, modifier, msg_start, len(result))\n",
            "/usr/local/lib/python3.8/dist-packages/sklearn/metrics/_classification.py:1318: UndefinedMetricWarning: Precision and F-score are ill-defined and being set to 0.0 in labels with no predicted samples. Use `zero_division` parameter to control this behavior.\n",
            "  _warn_prf(average, modifier, msg_start, len(result))\n",
            "/usr/local/lib/python3.8/dist-packages/sklearn/metrics/_classification.py:1318: UndefinedMetricWarning: Precision and F-score are ill-defined and being set to 0.0 in labels with no predicted samples. Use `zero_division` parameter to control this behavior.\n",
            "  _warn_prf(average, modifier, msg_start, len(result))\n"
          ]
        }
      ]
    },
    {
      "cell_type": "code",
      "source": [
        "import numpy as np\n",
        "from sklearn.pipeline import make_pipeline\n",
        "from sklearn.preprocessing import StandardScaler\n",
        "from sklearn.metrics import classification_report\n",
        "from sklearn.ensemble import GradientBoostingClassifier\n",
        "clf = make_pipeline(StandardScaler(), GradientBoostingClassifier(n_estimators=100, learning_rate=1.0, max_depth=1, random_state=0))\n",
        "clf.fit(embedded_X_train, y_train.iloc[:, 0].values)\n",
        "y_pred = clf.predict(embedded_X_test)\n",
        "print(classification_report(y_test.iloc[:, 0].values, y_pred))"
      ],
      "metadata": {
        "colab": {
          "base_uri": "https://localhost:8080/"
        },
        "id": "fhiuoxoXI9Tb",
        "outputId": "33ea9525-f57c-4fbc-a86f-f803a023165c"
      },
      "execution_count": 76,
      "outputs": [
        {
          "output_type": "stream",
          "name": "stdout",
          "text": [
            "              precision    recall  f1-score   support\n",
            "\n",
            "           0       0.29      0.08      0.13       334\n",
            "           1       0.33      0.50      0.40       494\n",
            "           2       0.30      0.40      0.34       429\n",
            "           3       0.00      0.00      0.00       140\n",
            "\n",
            "    accuracy                           0.32      1397\n",
            "   macro avg       0.23      0.24      0.22      1397\n",
            "weighted avg       0.28      0.32      0.28      1397\n",
            "\n"
          ]
        }
      ]
    },
    {
      "cell_type": "code",
      "source": [],
      "metadata": {
        "id": "_mz35_kqMoer"
      },
      "execution_count": null,
      "outputs": []
    }
  ]
}