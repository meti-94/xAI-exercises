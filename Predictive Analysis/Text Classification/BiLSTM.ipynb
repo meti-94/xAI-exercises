{
  "nbformat": 4,
  "nbformat_minor": 0,
  "metadata": {
    "colab": {
      "provenance": [],
      "include_colab_link": true
    },
    "kernelspec": {
      "name": "python3",
      "display_name": "Python 3"
    },
    "language_info": {
      "name": "python"
    },
    "gpuClass": "standard",
    "accelerator": "GPU"
  },
  "cells": [
    {
      "cell_type": "markdown",
      "metadata": {
        "id": "view-in-github",
        "colab_type": "text"
      },
      "source": [
        "<a href=\"https://colab.research.google.com/github/meti-94/CodingQuestions/blob/main/Predictive%20Analysis/Text%20Classification/BiLSTM.ipynb\" target=\"_parent\"><img src=\"https://colab.research.google.com/assets/colab-badge.svg\" alt=\"Open In Colab\"/></a>"
      ]
    },
    {
      "cell_type": "code",
      "source": [
        "!pip install kaggle -q \n",
        "!pip install tensorflow-addons -q "
      ],
      "metadata": {
        "id": "raYYNOzVb6K8"
      },
      "execution_count": 1,
      "outputs": []
    },
    {
      "cell_type": "code",
      "source": [
        "from google.colab import drive\n",
        "drive.mount('/content/gdrive/')"
      ],
      "metadata": {
        "colab": {
          "base_uri": "https://localhost:8080/"
        },
        "id": "9cG62nhHpU3W",
        "outputId": "0def080a-4798-4ac0-c730-34549d7c66c9"
      },
      "execution_count": 2,
      "outputs": [
        {
          "output_type": "stream",
          "name": "stdout",
          "text": [
            "Mounted at /content/gdrive/\n"
          ]
        }
      ]
    },
    {
      "cell_type": "code",
      "source": [
        "!mkdir ~/.kaggle\n",
        "!cp /content/gdrive/MyDrive/kaggle.json ~/.kaggle\n",
        "!chmod 600 ~/.kaggle/kaggle.json"
      ],
      "metadata": {
        "id": "Z9tDLgdpqHGk"
      },
      "execution_count": 3,
      "outputs": []
    },
    {
      "cell_type": "code",
      "source": [
        "!kaggle datasets download -d williamscott701/memotion-dataset-7k"
      ],
      "metadata": {
        "colab": {
          "base_uri": "https://localhost:8080/"
        },
        "id": "mnm5b08Sq_OB",
        "outputId": "d1018260-4648-49cc-85f7-d7d9bf67060b"
      },
      "execution_count": 4,
      "outputs": [
        {
          "output_type": "stream",
          "name": "stdout",
          "text": [
            "Downloading memotion-dataset-7k.zip to /content\n",
            "100% 695M/695M [00:33<00:00, 23.4MB/s]\n",
            "100% 695M/695M [00:33<00:00, 21.9MB/s]\n"
          ]
        }
      ]
    },
    {
      "cell_type": "code",
      "source": [
        "!unzip -qq /content/memotion-dataset-7k.zip"
      ],
      "metadata": {
        "id": "_Fk9PPiOuhKE"
      },
      "execution_count": 5,
      "outputs": []
    },
    {
      "cell_type": "code",
      "source": [
        "import re\n",
        "import string\n",
        "import numpy as np\n",
        "import pandas as pd\n",
        "from tqdm import tqdm\n",
        "from sklearn.model_selection import train_test_split\n",
        "\n",
        "import tensorflow as tf\n",
        "from tensorflow.keras import Sequential, Model\n",
        "from tensorflow.keras.layers import Dense, Flatten, BatchNormalization, Activation, Dropout\n",
        "from tensorflow.keras.layers import Conv1D, Embedding\n",
        "from tensorflow.keras.optimizers import Adam, RMSprop\n",
        "\n",
        "import tensorflow_addons as tfa\n",
        "\n",
        "from matplotlib import pyplot as plt"
      ],
      "metadata": {
        "id": "-HEI9s0z-V-1"
      },
      "execution_count": 1,
      "outputs": []
    },
    {
      "cell_type": "code",
      "source": [
        "df = pd.read_csv('/content/memotion_dataset_7k/labels.csv')\n",
        "df.drop(df.columns[df.columns.str.contains('unnamed',case = False)],axis = 1, inplace = True)\n",
        "df = df.drop(columns = ['text_ocr'])\n",
        "df.head()"
      ],
      "metadata": {
        "colab": {
          "base_uri": "https://localhost:8080/",
          "height": 206
        },
        "id": "b_yu_ATv_R0t",
        "outputId": "7b68cde9-2b99-4b8c-f79e-49f1bfe9e158"
      },
      "execution_count": 2,
      "outputs": [
        {
          "output_type": "execute_result",
          "data": {
            "text/plain": [
              "     image_name                                     text_corrected  \\\n",
              "0   image_1.jpg  LOOK THERE MY FRIEND LIGHTYEAR NOW ALL SOHALIK...   \n",
              "1  image_2.jpeg  The best of #10 YearChallenge! Completed in le...   \n",
              "2   image_3.JPG  Sam Thorne @Strippin ( Follow Follow Saw every...   \n",
              "3   image_4.png              10 Year Challenge - Sweet Dee Edition   \n",
              "4   image_5.png  10 YEAR CHALLENGE WITH NO FILTER 47 Hilarious ...   \n",
              "\n",
              "       humour          sarcasm       offensive      motivational  \\\n",
              "0   hilarious          general   not_offensive  not_motivational   \n",
              "1   not_funny          general   not_offensive      motivational   \n",
              "2  very_funny    not_sarcastic   not_offensive  not_motivational   \n",
              "3  very_funny  twisted_meaning  very_offensive      motivational   \n",
              "4   hilarious     very_twisted  very_offensive  not_motivational   \n",
              "\n",
              "  overall_sentiment  \n",
              "0     very_positive  \n",
              "1     very_positive  \n",
              "2          positive  \n",
              "3          positive  \n",
              "4           neutral  "
            ],
            "text/html": [
              "\n",
              "  <div id=\"df-98bc2281-ce9c-4ba4-99d4-99a26832738b\">\n",
              "    <div class=\"colab-df-container\">\n",
              "      <div>\n",
              "<style scoped>\n",
              "    .dataframe tbody tr th:only-of-type {\n",
              "        vertical-align: middle;\n",
              "    }\n",
              "\n",
              "    .dataframe tbody tr th {\n",
              "        vertical-align: top;\n",
              "    }\n",
              "\n",
              "    .dataframe thead th {\n",
              "        text-align: right;\n",
              "    }\n",
              "</style>\n",
              "<table border=\"1\" class=\"dataframe\">\n",
              "  <thead>\n",
              "    <tr style=\"text-align: right;\">\n",
              "      <th></th>\n",
              "      <th>image_name</th>\n",
              "      <th>text_corrected</th>\n",
              "      <th>humour</th>\n",
              "      <th>sarcasm</th>\n",
              "      <th>offensive</th>\n",
              "      <th>motivational</th>\n",
              "      <th>overall_sentiment</th>\n",
              "    </tr>\n",
              "  </thead>\n",
              "  <tbody>\n",
              "    <tr>\n",
              "      <th>0</th>\n",
              "      <td>image_1.jpg</td>\n",
              "      <td>LOOK THERE MY FRIEND LIGHTYEAR NOW ALL SOHALIK...</td>\n",
              "      <td>hilarious</td>\n",
              "      <td>general</td>\n",
              "      <td>not_offensive</td>\n",
              "      <td>not_motivational</td>\n",
              "      <td>very_positive</td>\n",
              "    </tr>\n",
              "    <tr>\n",
              "      <th>1</th>\n",
              "      <td>image_2.jpeg</td>\n",
              "      <td>The best of #10 YearChallenge! Completed in le...</td>\n",
              "      <td>not_funny</td>\n",
              "      <td>general</td>\n",
              "      <td>not_offensive</td>\n",
              "      <td>motivational</td>\n",
              "      <td>very_positive</td>\n",
              "    </tr>\n",
              "    <tr>\n",
              "      <th>2</th>\n",
              "      <td>image_3.JPG</td>\n",
              "      <td>Sam Thorne @Strippin ( Follow Follow Saw every...</td>\n",
              "      <td>very_funny</td>\n",
              "      <td>not_sarcastic</td>\n",
              "      <td>not_offensive</td>\n",
              "      <td>not_motivational</td>\n",
              "      <td>positive</td>\n",
              "    </tr>\n",
              "    <tr>\n",
              "      <th>3</th>\n",
              "      <td>image_4.png</td>\n",
              "      <td>10 Year Challenge - Sweet Dee Edition</td>\n",
              "      <td>very_funny</td>\n",
              "      <td>twisted_meaning</td>\n",
              "      <td>very_offensive</td>\n",
              "      <td>motivational</td>\n",
              "      <td>positive</td>\n",
              "    </tr>\n",
              "    <tr>\n",
              "      <th>4</th>\n",
              "      <td>image_5.png</td>\n",
              "      <td>10 YEAR CHALLENGE WITH NO FILTER 47 Hilarious ...</td>\n",
              "      <td>hilarious</td>\n",
              "      <td>very_twisted</td>\n",
              "      <td>very_offensive</td>\n",
              "      <td>not_motivational</td>\n",
              "      <td>neutral</td>\n",
              "    </tr>\n",
              "  </tbody>\n",
              "</table>\n",
              "</div>\n",
              "      <button class=\"colab-df-convert\" onclick=\"convertToInteractive('df-98bc2281-ce9c-4ba4-99d4-99a26832738b')\"\n",
              "              title=\"Convert this dataframe to an interactive table.\"\n",
              "              style=\"display:none;\">\n",
              "        \n",
              "  <svg xmlns=\"http://www.w3.org/2000/svg\" height=\"24px\"viewBox=\"0 0 24 24\"\n",
              "       width=\"24px\">\n",
              "    <path d=\"M0 0h24v24H0V0z\" fill=\"none\"/>\n",
              "    <path d=\"M18.56 5.44l.94 2.06.94-2.06 2.06-.94-2.06-.94-.94-2.06-.94 2.06-2.06.94zm-11 1L8.5 8.5l.94-2.06 2.06-.94-2.06-.94L8.5 2.5l-.94 2.06-2.06.94zm10 10l.94 2.06.94-2.06 2.06-.94-2.06-.94-.94-2.06-.94 2.06-2.06.94z\"/><path d=\"M17.41 7.96l-1.37-1.37c-.4-.4-.92-.59-1.43-.59-.52 0-1.04.2-1.43.59L10.3 9.45l-7.72 7.72c-.78.78-.78 2.05 0 2.83L4 21.41c.39.39.9.59 1.41.59.51 0 1.02-.2 1.41-.59l7.78-7.78 2.81-2.81c.8-.78.8-2.07 0-2.86zM5.41 20L4 18.59l7.72-7.72 1.47 1.35L5.41 20z\"/>\n",
              "  </svg>\n",
              "      </button>\n",
              "      \n",
              "  <style>\n",
              "    .colab-df-container {\n",
              "      display:flex;\n",
              "      flex-wrap:wrap;\n",
              "      gap: 12px;\n",
              "    }\n",
              "\n",
              "    .colab-df-convert {\n",
              "      background-color: #E8F0FE;\n",
              "      border: none;\n",
              "      border-radius: 50%;\n",
              "      cursor: pointer;\n",
              "      display: none;\n",
              "      fill: #1967D2;\n",
              "      height: 32px;\n",
              "      padding: 0 0 0 0;\n",
              "      width: 32px;\n",
              "    }\n",
              "\n",
              "    .colab-df-convert:hover {\n",
              "      background-color: #E2EBFA;\n",
              "      box-shadow: 0px 1px 2px rgba(60, 64, 67, 0.3), 0px 1px 3px 1px rgba(60, 64, 67, 0.15);\n",
              "      fill: #174EA6;\n",
              "    }\n",
              "\n",
              "    [theme=dark] .colab-df-convert {\n",
              "      background-color: #3B4455;\n",
              "      fill: #D2E3FC;\n",
              "    }\n",
              "\n",
              "    [theme=dark] .colab-df-convert:hover {\n",
              "      background-color: #434B5C;\n",
              "      box-shadow: 0px 1px 3px 1px rgba(0, 0, 0, 0.15);\n",
              "      filter: drop-shadow(0px 1px 2px rgba(0, 0, 0, 0.3));\n",
              "      fill: #FFFFFF;\n",
              "    }\n",
              "  </style>\n",
              "\n",
              "      <script>\n",
              "        const buttonEl =\n",
              "          document.querySelector('#df-98bc2281-ce9c-4ba4-99d4-99a26832738b button.colab-df-convert');\n",
              "        buttonEl.style.display =\n",
              "          google.colab.kernel.accessAllowed ? 'block' : 'none';\n",
              "\n",
              "        async function convertToInteractive(key) {\n",
              "          const element = document.querySelector('#df-98bc2281-ce9c-4ba4-99d4-99a26832738b');\n",
              "          const dataTable =\n",
              "            await google.colab.kernel.invokeFunction('convertToInteractive',\n",
              "                                                     [key], {});\n",
              "          if (!dataTable) return;\n",
              "\n",
              "          const docLinkHtml = 'Like what you see? Visit the ' +\n",
              "            '<a target=\"_blank\" href=https://colab.research.google.com/notebooks/data_table.ipynb>data table notebook</a>'\n",
              "            + ' to learn more about interactive tables.';\n",
              "          element.innerHTML = '';\n",
              "          dataTable['output_type'] = 'display_data';\n",
              "          await google.colab.output.renderOutput(dataTable, element);\n",
              "          const docLink = document.createElement('div');\n",
              "          docLink.innerHTML = docLinkHtml;\n",
              "          element.appendChild(docLink);\n",
              "        }\n",
              "      </script>\n",
              "    </div>\n",
              "  </div>\n",
              "  "
            ]
          },
          "metadata": {},
          "execution_count": 2
        }
      ]
    },
    {
      "cell_type": "code",
      "source": [
        "df = df.replace({'humour': {'not_funny': 0, 'funny': 1, 'very_funny': 2, 'hilarious':3},\n",
        "            'sarcasm': {'not_sarcastic': 0, 'general': 1, 'twisted_meaning': 2, 'very_twisted': 3},\n",
        "            'offensive': {'not_offensive': 0, 'slight': 1, 'very_offensive': 2, 'hateful_offensive': 3},\n",
        "            'motivational': {'not_motivational': 0, 'motivational': 1},\n",
        "            'overall_sentiment': {'very_negative': 0, 'negative': 1, 'neutral': 2, 'positive': 3, 'very_positive': 4}})"
      ],
      "metadata": {
        "id": "E2AcXf1EBtrh"
      },
      "execution_count": 3,
      "outputs": []
    },
    {
      "cell_type": "code",
      "source": [
        "cleaned = df.copy()\n",
        "cleaned.dropna(inplace=True, how='any')\n",
        "cleaned.isnull().any()"
      ],
      "metadata": {
        "colab": {
          "base_uri": "https://localhost:8080/"
        },
        "id": "kSonmiA5Bv_n",
        "outputId": "0f38cdab-ca9c-4dbb-f1b1-361c9d3019c5"
      },
      "execution_count": 4,
      "outputs": [
        {
          "output_type": "execute_result",
          "data": {
            "text/plain": [
              "image_name           False\n",
              "text_corrected       False\n",
              "humour               False\n",
              "sarcasm              False\n",
              "offensive            False\n",
              "motivational         False\n",
              "overall_sentiment    False\n",
              "dtype: bool"
            ]
          },
          "metadata": {},
          "execution_count": 4
        }
      ]
    },
    {
      "cell_type": "code",
      "source": [
        "def standardization(data):\n",
        "    data = data.apply(lambda x: x.lower())\n",
        "    data = data.apply(lambda x: re.sub(r'\\d+', '', x))\n",
        "    data = data.apply(lambda x: re.sub(r'.com', '', x, flags=re.MULTILINE))\n",
        "    data = data.apply(lambda x: x.translate(str.maketrans('', '', string.punctuation)))\n",
        "    return data\n",
        "\n",
        "cleaned['text_corrected'] = standardization(cleaned.text_corrected)"
      ],
      "metadata": {
        "id": "uqlvbMeCaURw"
      },
      "execution_count": 5,
      "outputs": []
    },
    {
      "cell_type": "code",
      "source": [
        "Y = cleaned.iloc[:,2:]\n",
        "X = cleaned.iloc[:, 1]\n",
        "X_train, X_test, y_train, y_test = train_test_split(X, Y, test_size = 0.2, random_state=42)"
      ],
      "metadata": {
        "id": "ctGsu8O3IX5L"
      },
      "execution_count": 6,
      "outputs": []
    },
    {
      "cell_type": "code",
      "source": [
        "from tensorflow.keras.layers.experimental.preprocessing import TextVectorization\n",
        "#####################################\n",
        "vocab_size = 50000\n",
        "sequence_length = 100\n",
        "#####################################\n",
        "vectorize_layer = TextVectorization(\n",
        "    max_tokens=vocab_size,\n",
        "    output_mode='int',\n",
        "    output_sequence_length=sequence_length)\n",
        "\n",
        "text_ds = np.asarray(X_train)\n",
        "vectorize_layer.adapt(tf.convert_to_tensor(text_ds))"
      ],
      "metadata": {
        "id": "0YMALQxACay7"
      },
      "execution_count": 7,
      "outputs": []
    },
    {
      "cell_type": "code",
      "source": [
        "#####################################\n",
        "embedding_dim=16\n",
        "#####################################\n",
        "\n",
        "text_input = tf.keras.Input(shape=(1,), dtype=tf.string, name='text')\n",
        "text_layers = vectorize_layer(text_input)\n",
        "text_layers = tf.keras.layers.Embedding(vocab_size, embedding_dim, name=\"embedding\", mask_zero=True)(text_layers)\n",
        "text_layers = tf.keras.layers.Bidirectional(tf.keras.layers.LSTM(64))(text_layers)\n",
        "text_layers = tf.keras.layers.Dense(64, activation='relu')(text_layers)\n",
        "\n",
        "prediction_layer_1 = tf.keras.layers.Dense(4, activation='softmax', name = 'sarcasm')\n",
        "prediction_layer_2 = tf.keras.layers.Dense(4, activation='softmax', name = 'humuor')\n",
        "prediction_layer_3 = tf.keras.layers.Dense(4, activation='softmax', name = 'offensive')\n",
        "prediction_layer_4 = tf.keras.layers.Dense(1, activation='sigmoid', name = 'motivational')\n",
        "prediction_layer_5 = tf.keras.layers.Dense(5, activation='softmax', name = 'overall')\n",
        "\n",
        "output_1 = prediction_layer_1(text_layers)\n",
        "output_2 = prediction_layer_2(text_layers)\n",
        "output_3 = prediction_layer_3(text_layers)\n",
        "output_4 = prediction_layer_4(text_layers)\n",
        "output_5 = prediction_layer_5(text_layers)\n",
        "\n",
        "model = tf.keras.Model(inputs = [text_input] , outputs = [output_1, output_2, output_3, output_4, output_5])"
      ],
      "metadata": {
        "id": "5XP_xW4LCfss"
      },
      "execution_count": 8,
      "outputs": []
    },
    {
      "cell_type": "code",
      "source": [
        "losses = {\n",
        "      \"humuor\": tf.keras.losses.SparseCategoricalCrossentropy(from_logits=True), \n",
        "      \"sarcasm\": tf.keras.losses.SparseCategoricalCrossentropy(from_logits=True), \n",
        "      \"offensive\": tf.keras.losses.SparseCategoricalCrossentropy(from_logits=True), \n",
        "      \"motivational\": tf.keras.losses.BinaryCrossentropy(from_logits=True),\n",
        "      \"overall\": tf.keras.losses.SparseCategoricalCrossentropy(from_logits=True)\n",
        "}\n",
        "\n",
        "lossWeights = {\n",
        "      \"humuor\": 1.0, \n",
        "      \"sarcasm\": 1.0, \n",
        "      \"offensive\": 1.0, \n",
        "      \"motivational\": 1.0,\n",
        "      \"overall\": 1.0\n",
        "}\n",
        "\n",
        "metric = {\n",
        "    \"humuor\": ['acc',tfa.metrics.F1Score(num_classes=4, average=\"micro\", threshold = 0.9)],\n",
        "    \"sarcasm\": ['acc',tfa.metrics.F1Score(num_classes=4, average=\"micro\", threshold = 0.9)],\n",
        "    \"offensive\": ['acc',tfa.metrics.F1Score(num_classes=4, average=\"micro\", threshold = 0.9)],\n",
        "    \"motivational\": ['acc',tfa.metrics.F1Score(num_classes=1, average=\"micro\", threshold = 0.9)],\n",
        "    \"overall\": ['acc',tfa.metrics.F1Score(num_classes=5, average=\"micro\", threshold = 0.9)]\n",
        "}\n"
      ],
      "metadata": {
        "id": "wqe6Hq9oJbGv"
      },
      "execution_count": 9,
      "outputs": []
    },
    {
      "cell_type": "code",
      "source": [
        "learning_rates = [0.1, 0.01, 0.001, 0.0001, 0.00001, 0.000001]\n",
        "\n",
        "for i in learning_rates:\n",
        "    print('\\n', '*'*10, f' Learning Rate is set to {i}')\n",
        "    model.compile(optimizer=tf.keras.optimizers.Adam(i),\n",
        "              loss = losses,\n",
        "              loss_weights= lossWeights,\n",
        "              metrics=['accuracy'])\n",
        "    \n",
        "    history = model.fit(x = {\"text\": X_train},\n",
        "                    y = {\"sarcasm\": y_train.sarcasm, \n",
        "                         \"humuor\": y_train.humour, \n",
        "                         \"offensive\": y_train.offensive, \n",
        "                         \"motivational\": y_train.motivational, \n",
        "                         \"overall\": y_train.overall_sentiment},\n",
        "                    batch_size=256,\n",
        "                    epochs=10,\n",
        "                    verbose=2\n",
        "                   )"
      ],
      "metadata": {
        "colab": {
          "base_uri": "https://localhost:8080/"
        },
        "id": "5GgEXOaPJdzr",
        "outputId": "d23208d0-ddcf-4569-e889-2017c2c98850"
      },
      "execution_count": 10,
      "outputs": [
        {
          "output_type": "stream",
          "name": "stdout",
          "text": [
            "\n",
            " **********  Learning Rate is set to 0.1\n",
            "Epoch 1/10\n"
          ]
        },
        {
          "output_type": "stream",
          "name": "stderr",
          "text": [
            "/usr/local/lib/python3.8/dist-packages/tensorflow/python/util/dispatch.py:1082: UserWarning: \"`sparse_categorical_crossentropy` received `from_logits=True`, but the `output` argument was produced by a sigmoid or softmax activation and thus does not represent logits. Was this intended?\"\n",
            "  return dispatch_target(*args, **kwargs)\n",
            "/usr/local/lib/python3.8/dist-packages/tensorflow/python/util/dispatch.py:1082: UserWarning: \"`binary_crossentropy` received `from_logits=True`, but the `output` argument was produced by a sigmoid or softmax activation and thus does not represent logits. Was this intended?\"\n",
            "  return dispatch_target(*args, **kwargs)\n"
          ]
        },
        {
          "output_type": "stream",
          "name": "stdout",
          "text": [
            "22/22 - 11s - loss: 6.0825 - sarcasm_loss: 1.2628 - humuor_loss: 1.4035 - offensive_loss: 1.2977 - motivational_loss: 0.6812 - overall_loss: 1.4373 - sarcasm_accuracy: 0.4761 - humuor_accuracy: 0.3197 - offensive_accuracy: 0.3659 - motivational_accuracy: 0.6191 - overall_accuracy: 0.4070 - 11s/epoch - 495ms/step\n",
            "Epoch 2/10\n",
            "22/22 - 0s - loss: 5.5621 - sarcasm_loss: 1.1713 - humuor_loss: 1.2992 - offensive_loss: 1.1687 - motivational_loss: 0.6451 - overall_loss: 1.2777 - sarcasm_accuracy: 0.5001 - humuor_accuracy: 0.3403 - offensive_accuracy: 0.3927 - motivational_accuracy: 0.6416 - overall_accuracy: 0.4471 - 433ms/epoch - 20ms/step\n",
            "Epoch 3/10\n",
            "22/22 - 0s - loss: 5.3970 - sarcasm_loss: 1.1365 - humuor_loss: 1.2790 - offensive_loss: 1.1184 - motivational_loss: 0.6254 - overall_loss: 1.2376 - sarcasm_accuracy: 0.5003 - humuor_accuracy: 0.3435 - offensive_accuracy: 0.4228 - motivational_accuracy: 0.6418 - overall_accuracy: 0.4477 - 422ms/epoch - 19ms/step\n",
            "Epoch 4/10\n",
            "22/22 - 0s - loss: 5.2657 - sarcasm_loss: 1.1001 - humuor_loss: 1.2695 - offensive_loss: 1.0754 - motivational_loss: 0.5913 - overall_loss: 1.2295 - sarcasm_accuracy: 0.4931 - humuor_accuracy: 0.3444 - offensive_accuracy: 0.4419 - motivational_accuracy: 0.6488 - overall_accuracy: 0.4389 - 423ms/epoch - 19ms/step\n",
            "Epoch 5/10\n",
            "22/22 - 0s - loss: 5.1729 - sarcasm_loss: 1.0823 - humuor_loss: 1.2638 - offensive_loss: 1.0381 - motivational_loss: 0.5756 - overall_loss: 1.2132 - sarcasm_accuracy: 0.4920 - humuor_accuracy: 0.3580 - offensive_accuracy: 0.4758 - motivational_accuracy: 0.6651 - overall_accuracy: 0.4441 - 442ms/epoch - 20ms/step\n",
            "Epoch 6/10\n",
            "22/22 - 0s - loss: 5.1026 - sarcasm_loss: 1.0507 - humuor_loss: 1.2659 - offensive_loss: 1.0067 - motivational_loss: 0.5616 - overall_loss: 1.2179 - sarcasm_accuracy: 0.5065 - humuor_accuracy: 0.3502 - offensive_accuracy: 0.5024 - motivational_accuracy: 0.6677 - overall_accuracy: 0.4375 - 448ms/epoch - 20ms/step\n",
            "Epoch 7/10\n",
            "22/22 - 0s - loss: 5.0603 - sarcasm_loss: 1.0404 - humuor_loss: 1.2668 - offensive_loss: 0.9768 - motivational_loss: 0.5585 - overall_loss: 1.2177 - sarcasm_accuracy: 0.5090 - humuor_accuracy: 0.3614 - offensive_accuracy: 0.5146 - motivational_accuracy: 0.6688 - overall_accuracy: 0.4428 - 443ms/epoch - 20ms/step\n",
            "Epoch 8/10\n",
            "22/22 - 0s - loss: 5.0115 - sarcasm_loss: 1.0226 - humuor_loss: 1.2662 - offensive_loss: 0.9499 - motivational_loss: 0.5483 - overall_loss: 1.2247 - sarcasm_accuracy: 0.5221 - humuor_accuracy: 0.3809 - offensive_accuracy: 0.5321 - motivational_accuracy: 0.6751 - overall_accuracy: 0.4362 - 432ms/epoch - 20ms/step\n",
            "Epoch 9/10\n",
            "22/22 - 0s - loss: 4.9627 - sarcasm_loss: 1.0027 - humuor_loss: 1.2681 - offensive_loss: 0.9246 - motivational_loss: 0.5455 - overall_loss: 1.2217 - sarcasm_accuracy: 0.5262 - humuor_accuracy: 0.3781 - offensive_accuracy: 0.5514 - motivational_accuracy: 0.6770 - overall_accuracy: 0.4502 - 434ms/epoch - 20ms/step\n",
            "Epoch 10/10\n",
            "22/22 - 0s - loss: 4.9341 - sarcasm_loss: 0.9888 - humuor_loss: 1.2716 - offensive_loss: 0.9047 - motivational_loss: 0.5442 - overall_loss: 1.2248 - sarcasm_accuracy: 0.5436 - humuor_accuracy: 0.3775 - offensive_accuracy: 0.5692 - motivational_accuracy: 0.6779 - overall_accuracy: 0.4423 - 439ms/epoch - 20ms/step\n",
            "\n",
            " **********  Learning Rate is set to 0.01\n",
            "Epoch 1/10\n",
            "22/22 - 9s - loss: 4.8352 - sarcasm_loss: 0.9672 - humuor_loss: 1.2613 - offensive_loss: 0.8645 - motivational_loss: 0.5319 - overall_loss: 1.2103 - sarcasm_accuracy: 0.5545 - humuor_accuracy: 0.3867 - offensive_accuracy: 0.5879 - motivational_accuracy: 0.6874 - overall_accuracy: 0.4564 - 9s/epoch - 415ms/step\n",
            "Epoch 2/10\n",
            "22/22 - 0s - loss: 4.7632 - sarcasm_loss: 0.9434 - humuor_loss: 1.2598 - offensive_loss: 0.8274 - motivational_loss: 0.5244 - overall_loss: 1.2082 - sarcasm_accuracy: 0.5641 - humuor_accuracy: 0.3877 - offensive_accuracy: 0.6069 - motivational_accuracy: 0.6901 - overall_accuracy: 0.4521 - 442ms/epoch - 20ms/step\n",
            "Epoch 3/10\n",
            "22/22 - 0s - loss: 4.7170 - sarcasm_loss: 0.9289 - humuor_loss: 1.2570 - offensive_loss: 0.8074 - motivational_loss: 0.5190 - overall_loss: 1.2046 - sarcasm_accuracy: 0.5731 - humuor_accuracy: 0.3897 - offensive_accuracy: 0.6200 - motivational_accuracy: 0.6892 - overall_accuracy: 0.4605 - 424ms/epoch - 19ms/step\n",
            "Epoch 4/10\n",
            "22/22 - 0s - loss: 4.6865 - sarcasm_loss: 0.9201 - humuor_loss: 1.2562 - offensive_loss: 0.7893 - motivational_loss: 0.5170 - overall_loss: 1.2039 - sarcasm_accuracy: 0.5785 - humuor_accuracy: 0.3890 - offensive_accuracy: 0.6359 - motivational_accuracy: 0.6889 - overall_accuracy: 0.4586 - 440ms/epoch - 20ms/step\n",
            "Epoch 5/10\n",
            "22/22 - 0s - loss: 4.6577 - sarcasm_loss: 0.9085 - humuor_loss: 1.2560 - offensive_loss: 0.7759 - motivational_loss: 0.5139 - overall_loss: 1.2033 - sarcasm_accuracy: 0.5768 - humuor_accuracy: 0.3911 - offensive_accuracy: 0.6443 - motivational_accuracy: 0.6869 - overall_accuracy: 0.4620 - 434ms/epoch - 20ms/step\n",
            "Epoch 6/10\n",
            "22/22 - 0s - loss: 4.6334 - sarcasm_loss: 0.9008 - humuor_loss: 1.2545 - offensive_loss: 0.7619 - motivational_loss: 0.5154 - overall_loss: 1.2009 - sarcasm_accuracy: 0.5815 - humuor_accuracy: 0.3892 - offensive_accuracy: 0.6565 - motivational_accuracy: 0.6837 - overall_accuracy: 0.4639 - 452ms/epoch - 21ms/step\n",
            "Epoch 7/10\n",
            "22/22 - 0s - loss: 4.6172 - sarcasm_loss: 0.8930 - humuor_loss: 1.2545 - offensive_loss: 0.7531 - motivational_loss: 0.5152 - overall_loss: 1.2013 - sarcasm_accuracy: 0.5833 - humuor_accuracy: 0.3933 - offensive_accuracy: 0.6685 - motivational_accuracy: 0.6821 - overall_accuracy: 0.4720 - 423ms/epoch - 19ms/step\n",
            "Epoch 8/10\n",
            "22/22 - 0s - loss: 4.6037 - sarcasm_loss: 0.8882 - humuor_loss: 1.2537 - offensive_loss: 0.7436 - motivational_loss: 0.5152 - overall_loss: 1.2030 - sarcasm_accuracy: 0.5858 - humuor_accuracy: 0.3897 - offensive_accuracy: 0.6774 - motivational_accuracy: 0.6822 - overall_accuracy: 0.4656 - 422ms/epoch - 19ms/step\n",
            "Epoch 9/10\n",
            "22/22 - 0s - loss: 4.5905 - sarcasm_loss: 0.8792 - humuor_loss: 1.2543 - offensive_loss: 0.7373 - motivational_loss: 0.5179 - overall_loss: 1.2018 - sarcasm_accuracy: 0.5922 - humuor_accuracy: 0.3952 - offensive_accuracy: 0.6831 - motivational_accuracy: 0.6790 - overall_accuracy: 0.4681 - 434ms/epoch - 20ms/step\n",
            "Epoch 10/10\n",
            "22/22 - 0s - loss: 4.5843 - sarcasm_loss: 0.8803 - humuor_loss: 1.2556 - offensive_loss: 0.7289 - motivational_loss: 0.5186 - overall_loss: 1.2009 - sarcasm_accuracy: 0.5919 - humuor_accuracy: 0.3935 - offensive_accuracy: 0.6921 - motivational_accuracy: 0.6804 - overall_accuracy: 0.4700 - 425ms/epoch - 19ms/step\n",
            "\n",
            " **********  Learning Rate is set to 0.001\n",
            "Epoch 1/10\n",
            "22/22 - 8s - loss: 4.5663 - sarcasm_loss: 0.8727 - humuor_loss: 1.2525 - offensive_loss: 0.7218 - motivational_loss: 0.5184 - overall_loss: 1.2008 - sarcasm_accuracy: 0.5958 - humuor_accuracy: 0.3972 - offensive_accuracy: 0.7025 - motivational_accuracy: 0.6776 - overall_accuracy: 0.4707 - 8s/epoch - 382ms/step\n",
            "Epoch 2/10\n",
            "22/22 - 0s - loss: 4.5567 - sarcasm_loss: 0.8692 - humuor_loss: 1.2516 - offensive_loss: 0.7175 - motivational_loss: 0.5179 - overall_loss: 1.2005 - sarcasm_accuracy: 0.5944 - humuor_accuracy: 0.3976 - offensive_accuracy: 0.7076 - motivational_accuracy: 0.6790 - overall_accuracy: 0.4668 - 460ms/epoch - 21ms/step\n",
            "Epoch 3/10\n",
            "22/22 - 0s - loss: 4.5519 - sarcasm_loss: 0.8672 - humuor_loss: 1.2517 - offensive_loss: 0.7152 - motivational_loss: 0.5176 - overall_loss: 1.2002 - sarcasm_accuracy: 0.5940 - humuor_accuracy: 0.4019 - offensive_accuracy: 0.7094 - motivational_accuracy: 0.6781 - overall_accuracy: 0.4670 - 422ms/epoch - 19ms/step\n",
            "Epoch 4/10\n",
            "22/22 - 0s - loss: 4.5486 - sarcasm_loss: 0.8658 - humuor_loss: 1.2519 - offensive_loss: 0.7129 - motivational_loss: 0.5179 - overall_loss: 1.2001 - sarcasm_accuracy: 0.5955 - humuor_accuracy: 0.3983 - offensive_accuracy: 0.7119 - motivational_accuracy: 0.6790 - overall_accuracy: 0.4675 - 450ms/epoch - 20ms/step\n",
            "Epoch 5/10\n",
            "22/22 - 0s - loss: 4.5450 - sarcasm_loss: 0.8644 - humuor_loss: 1.2515 - offensive_loss: 0.7111 - motivational_loss: 0.5180 - overall_loss: 1.1999 - sarcasm_accuracy: 0.5963 - humuor_accuracy: 0.3994 - offensive_accuracy: 0.7143 - motivational_accuracy: 0.6799 - overall_accuracy: 0.4668 - 411ms/epoch - 19ms/step\n",
            "Epoch 6/10\n",
            "22/22 - 0s - loss: 4.5425 - sarcasm_loss: 0.8630 - humuor_loss: 1.2516 - offensive_loss: 0.7098 - motivational_loss: 0.5180 - overall_loss: 1.2000 - sarcasm_accuracy: 0.5983 - humuor_accuracy: 0.3990 - offensive_accuracy: 0.7155 - motivational_accuracy: 0.6794 - overall_accuracy: 0.4675 - 433ms/epoch - 20ms/step\n",
            "Epoch 7/10\n",
            "22/22 - 0s - loss: 4.5397 - sarcasm_loss: 0.8620 - humuor_loss: 1.2514 - offensive_loss: 0.7083 - motivational_loss: 0.5183 - overall_loss: 1.1997 - sarcasm_accuracy: 0.5967 - humuor_accuracy: 0.4011 - offensive_accuracy: 0.7143 - motivational_accuracy: 0.6797 - overall_accuracy: 0.4675 - 414ms/epoch - 19ms/step\n",
            "Epoch 8/10\n",
            "22/22 - 0s - loss: 4.5371 - sarcasm_loss: 0.8608 - humuor_loss: 1.2514 - offensive_loss: 0.7070 - motivational_loss: 0.5183 - overall_loss: 1.1997 - sarcasm_accuracy: 0.5981 - humuor_accuracy: 0.3994 - offensive_accuracy: 0.7180 - motivational_accuracy: 0.6801 - overall_accuracy: 0.4677 - 421ms/epoch - 19ms/step\n",
            "Epoch 9/10\n",
            "22/22 - 0s - loss: 4.5345 - sarcasm_loss: 0.8595 - humuor_loss: 1.2511 - offensive_loss: 0.7059 - motivational_loss: 0.5186 - overall_loss: 1.1995 - sarcasm_accuracy: 0.6021 - humuor_accuracy: 0.3985 - offensive_accuracy: 0.7189 - motivational_accuracy: 0.6817 - overall_accuracy: 0.4672 - 438ms/epoch - 20ms/step\n",
            "Epoch 10/10\n",
            "22/22 - 0s - loss: 4.5324 - sarcasm_loss: 0.8585 - humuor_loss: 1.2512 - offensive_loss: 0.7044 - motivational_loss: 0.5185 - overall_loss: 1.1998 - sarcasm_accuracy: 0.6006 - humuor_accuracy: 0.4015 - offensive_accuracy: 0.7218 - motivational_accuracy: 0.6812 - overall_accuracy: 0.4677 - 407ms/epoch - 19ms/step\n",
            "\n",
            " **********  Learning Rate is set to 0.0001\n",
            "Epoch 1/10\n",
            "22/22 - 8s - loss: 4.5301 - sarcasm_loss: 0.8580 - humuor_loss: 1.2510 - offensive_loss: 0.7027 - motivational_loss: 0.5187 - overall_loss: 1.1997 - sarcasm_accuracy: 0.6017 - humuor_accuracy: 0.4008 - offensive_accuracy: 0.7216 - motivational_accuracy: 0.6824 - overall_accuracy: 0.4670 - 8s/epoch - 376ms/step\n",
            "Epoch 2/10\n",
            "22/22 - 0s - loss: 4.5297 - sarcasm_loss: 0.8576 - humuor_loss: 1.2510 - offensive_loss: 0.7029 - motivational_loss: 0.5186 - overall_loss: 1.1997 - sarcasm_accuracy: 0.6014 - humuor_accuracy: 0.4008 - offensive_accuracy: 0.7236 - motivational_accuracy: 0.6812 - overall_accuracy: 0.4670 - 409ms/epoch - 19ms/step\n",
            "Epoch 3/10\n",
            "22/22 - 0s - loss: 4.5294 - sarcasm_loss: 0.8574 - humuor_loss: 1.2510 - offensive_loss: 0.7026 - motivational_loss: 0.5186 - overall_loss: 1.1997 - sarcasm_accuracy: 0.6015 - humuor_accuracy: 0.4015 - offensive_accuracy: 0.7230 - motivational_accuracy: 0.6817 - overall_accuracy: 0.4675 - 429ms/epoch - 19ms/step\n",
            "Epoch 4/10\n",
            "22/22 - 0s - loss: 4.5291 - sarcasm_loss: 0.8574 - humuor_loss: 1.2510 - offensive_loss: 0.7025 - motivational_loss: 0.5186 - overall_loss: 1.1997 - sarcasm_accuracy: 0.6014 - humuor_accuracy: 0.4013 - offensive_accuracy: 0.7232 - motivational_accuracy: 0.6819 - overall_accuracy: 0.4677 - 417ms/epoch - 19ms/step\n",
            "Epoch 5/10\n",
            "22/22 - 0s - loss: 4.5288 - sarcasm_loss: 0.8572 - humuor_loss: 1.2510 - offensive_loss: 0.7024 - motivational_loss: 0.5186 - overall_loss: 1.1997 - sarcasm_accuracy: 0.6015 - humuor_accuracy: 0.4003 - offensive_accuracy: 0.7236 - motivational_accuracy: 0.6817 - overall_accuracy: 0.4675 - 414ms/epoch - 19ms/step\n",
            "Epoch 6/10\n",
            "22/22 - 0s - loss: 4.5285 - sarcasm_loss: 0.8571 - humuor_loss: 1.2510 - offensive_loss: 0.7021 - motivational_loss: 0.5186 - overall_loss: 1.1997 - sarcasm_accuracy: 0.6015 - humuor_accuracy: 0.4006 - offensive_accuracy: 0.7232 - motivational_accuracy: 0.6822 - overall_accuracy: 0.4675 - 430ms/epoch - 20ms/step\n",
            "Epoch 7/10\n",
            "22/22 - 0s - loss: 4.5282 - sarcasm_loss: 0.8570 - humuor_loss: 1.2510 - offensive_loss: 0.7020 - motivational_loss: 0.5186 - overall_loss: 1.1996 - sarcasm_accuracy: 0.6014 - humuor_accuracy: 0.4011 - offensive_accuracy: 0.7232 - motivational_accuracy: 0.6817 - overall_accuracy: 0.4675 - 407ms/epoch - 19ms/step\n",
            "Epoch 8/10\n",
            "22/22 - 0s - loss: 4.5279 - sarcasm_loss: 0.8569 - humuor_loss: 1.2510 - offensive_loss: 0.7018 - motivational_loss: 0.5187 - overall_loss: 1.1996 - sarcasm_accuracy: 0.6012 - humuor_accuracy: 0.4003 - offensive_accuracy: 0.7234 - motivational_accuracy: 0.6822 - overall_accuracy: 0.4681 - 443ms/epoch - 20ms/step\n",
            "Epoch 9/10\n",
            "22/22 - 0s - loss: 4.5276 - sarcasm_loss: 0.8567 - humuor_loss: 1.2510 - offensive_loss: 0.7017 - motivational_loss: 0.5187 - overall_loss: 1.1996 - sarcasm_accuracy: 0.6014 - humuor_accuracy: 0.4003 - offensive_accuracy: 0.7232 - motivational_accuracy: 0.6819 - overall_accuracy: 0.4675 - 415ms/epoch - 19ms/step\n",
            "Epoch 10/10\n",
            "22/22 - 0s - loss: 4.5274 - sarcasm_loss: 0.8565 - humuor_loss: 1.2510 - offensive_loss: 0.7016 - motivational_loss: 0.5186 - overall_loss: 1.1996 - sarcasm_accuracy: 0.6021 - humuor_accuracy: 0.4006 - offensive_accuracy: 0.7234 - motivational_accuracy: 0.6815 - overall_accuracy: 0.4673 - 403ms/epoch - 18ms/step\n",
            "\n",
            " **********  Learning Rate is set to 1e-05\n",
            "Epoch 1/10\n",
            "22/22 - 8s - loss: 4.5271 - sarcasm_loss: 0.8564 - humuor_loss: 1.2509 - offensive_loss: 0.7015 - motivational_loss: 0.5186 - overall_loss: 1.1996 - sarcasm_accuracy: 0.6021 - humuor_accuracy: 0.4006 - offensive_accuracy: 0.7234 - motivational_accuracy: 0.6817 - overall_accuracy: 0.4675 - 8s/epoch - 385ms/step\n",
            "Epoch 2/10\n",
            "22/22 - 0s - loss: 4.5271 - sarcasm_loss: 0.8564 - humuor_loss: 1.2509 - offensive_loss: 0.7015 - motivational_loss: 0.5186 - overall_loss: 1.1996 - sarcasm_accuracy: 0.6021 - humuor_accuracy: 0.4006 - offensive_accuracy: 0.7234 - motivational_accuracy: 0.6819 - overall_accuracy: 0.4675 - 419ms/epoch - 19ms/step\n",
            "Epoch 3/10\n",
            "22/22 - 0s - loss: 4.5270 - sarcasm_loss: 0.8564 - humuor_loss: 1.2509 - offensive_loss: 0.7014 - motivational_loss: 0.5186 - overall_loss: 1.1996 - sarcasm_accuracy: 0.6021 - humuor_accuracy: 0.4004 - offensive_accuracy: 0.7234 - motivational_accuracy: 0.6817 - overall_accuracy: 0.4675 - 431ms/epoch - 20ms/step\n",
            "Epoch 4/10\n",
            "22/22 - 0s - loss: 4.5270 - sarcasm_loss: 0.8564 - humuor_loss: 1.2509 - offensive_loss: 0.7014 - motivational_loss: 0.5186 - overall_loss: 1.1996 - sarcasm_accuracy: 0.6021 - humuor_accuracy: 0.4006 - offensive_accuracy: 0.7234 - motivational_accuracy: 0.6821 - overall_accuracy: 0.4675 - 404ms/epoch - 18ms/step\n",
            "Epoch 5/10\n",
            "22/22 - 0s - loss: 4.5270 - sarcasm_loss: 0.8564 - humuor_loss: 1.2509 - offensive_loss: 0.7014 - motivational_loss: 0.5187 - overall_loss: 1.1996 - sarcasm_accuracy: 0.6021 - humuor_accuracy: 0.4006 - offensive_accuracy: 0.7234 - motivational_accuracy: 0.6821 - overall_accuracy: 0.4675 - 448ms/epoch - 20ms/step\n",
            "Epoch 6/10\n",
            "22/22 - 0s - loss: 4.5269 - sarcasm_loss: 0.8564 - humuor_loss: 1.2509 - offensive_loss: 0.7014 - motivational_loss: 0.5187 - overall_loss: 1.1996 - sarcasm_accuracy: 0.6021 - humuor_accuracy: 0.4006 - offensive_accuracy: 0.7234 - motivational_accuracy: 0.6821 - overall_accuracy: 0.4675 - 408ms/epoch - 19ms/step\n",
            "Epoch 7/10\n",
            "22/22 - 0s - loss: 4.5269 - sarcasm_loss: 0.8564 - humuor_loss: 1.2509 - offensive_loss: 0.7013 - motivational_loss: 0.5187 - overall_loss: 1.1996 - sarcasm_accuracy: 0.6021 - humuor_accuracy: 0.4004 - offensive_accuracy: 0.7234 - motivational_accuracy: 0.6821 - overall_accuracy: 0.4675 - 420ms/epoch - 19ms/step\n",
            "Epoch 8/10\n",
            "22/22 - 0s - loss: 4.5269 - sarcasm_loss: 0.8564 - humuor_loss: 1.2509 - offensive_loss: 0.7013 - motivational_loss: 0.5187 - overall_loss: 1.1996 - sarcasm_accuracy: 0.6021 - humuor_accuracy: 0.4004 - offensive_accuracy: 0.7234 - motivational_accuracy: 0.6822 - overall_accuracy: 0.4675 - 427ms/epoch - 19ms/step\n",
            "Epoch 9/10\n",
            "22/22 - 0s - loss: 4.5269 - sarcasm_loss: 0.8564 - humuor_loss: 1.2509 - offensive_loss: 0.7013 - motivational_loss: 0.5187 - overall_loss: 1.1996 - sarcasm_accuracy: 0.6021 - humuor_accuracy: 0.4004 - offensive_accuracy: 0.7234 - motivational_accuracy: 0.6822 - overall_accuracy: 0.4675 - 413ms/epoch - 19ms/step\n",
            "Epoch 10/10\n",
            "22/22 - 0s - loss: 4.5268 - sarcasm_loss: 0.8564 - humuor_loss: 1.2509 - offensive_loss: 0.7013 - motivational_loss: 0.5187 - overall_loss: 1.1996 - sarcasm_accuracy: 0.6021 - humuor_accuracy: 0.4004 - offensive_accuracy: 0.7234 - motivational_accuracy: 0.6822 - overall_accuracy: 0.4675 - 438ms/epoch - 20ms/step\n",
            "\n",
            " **********  Learning Rate is set to 1e-06\n",
            "Epoch 1/10\n",
            "22/22 - 8s - loss: 4.5268 - sarcasm_loss: 0.8563 - humuor_loss: 1.2509 - offensive_loss: 0.7013 - motivational_loss: 0.5187 - overall_loss: 1.1996 - sarcasm_accuracy: 0.6021 - humuor_accuracy: 0.4004 - offensive_accuracy: 0.7234 - motivational_accuracy: 0.6822 - overall_accuracy: 0.4675 - 8s/epoch - 381ms/step\n",
            "Epoch 2/10\n",
            "22/22 - 0s - loss: 4.5268 - sarcasm_loss: 0.8563 - humuor_loss: 1.2509 - offensive_loss: 0.7013 - motivational_loss: 0.5187 - overall_loss: 1.1996 - sarcasm_accuracy: 0.6021 - humuor_accuracy: 0.4004 - offensive_accuracy: 0.7234 - motivational_accuracy: 0.6822 - overall_accuracy: 0.4675 - 450ms/epoch - 20ms/step\n",
            "Epoch 3/10\n",
            "22/22 - 0s - loss: 4.5268 - sarcasm_loss: 0.8563 - humuor_loss: 1.2509 - offensive_loss: 0.7013 - motivational_loss: 0.5187 - overall_loss: 1.1996 - sarcasm_accuracy: 0.6021 - humuor_accuracy: 0.4004 - offensive_accuracy: 0.7234 - motivational_accuracy: 0.6822 - overall_accuracy: 0.4675 - 430ms/epoch - 20ms/step\n",
            "Epoch 4/10\n",
            "22/22 - 0s - loss: 4.5268 - sarcasm_loss: 0.8563 - humuor_loss: 1.2509 - offensive_loss: 0.7013 - motivational_loss: 0.5187 - overall_loss: 1.1996 - sarcasm_accuracy: 0.6021 - humuor_accuracy: 0.4004 - offensive_accuracy: 0.7234 - motivational_accuracy: 0.6822 - overall_accuracy: 0.4675 - 443ms/epoch - 20ms/step\n",
            "Epoch 5/10\n",
            "22/22 - 0s - loss: 4.5268 - sarcasm_loss: 0.8563 - humuor_loss: 1.2509 - offensive_loss: 0.7013 - motivational_loss: 0.5187 - overall_loss: 1.1996 - sarcasm_accuracy: 0.6021 - humuor_accuracy: 0.4004 - offensive_accuracy: 0.7234 - motivational_accuracy: 0.6822 - overall_accuracy: 0.4675 - 427ms/epoch - 19ms/step\n",
            "Epoch 6/10\n",
            "22/22 - 0s - loss: 4.5268 - sarcasm_loss: 0.8563 - humuor_loss: 1.2509 - offensive_loss: 0.7013 - motivational_loss: 0.5187 - overall_loss: 1.1996 - sarcasm_accuracy: 0.6021 - humuor_accuracy: 0.4004 - offensive_accuracy: 0.7234 - motivational_accuracy: 0.6822 - overall_accuracy: 0.4675 - 414ms/epoch - 19ms/step\n",
            "Epoch 7/10\n",
            "22/22 - 0s - loss: 4.5268 - sarcasm_loss: 0.8563 - humuor_loss: 1.2509 - offensive_loss: 0.7013 - motivational_loss: 0.5187 - overall_loss: 1.1996 - sarcasm_accuracy: 0.6021 - humuor_accuracy: 0.4004 - offensive_accuracy: 0.7234 - motivational_accuracy: 0.6822 - overall_accuracy: 0.4675 - 422ms/epoch - 19ms/step\n",
            "Epoch 8/10\n",
            "22/22 - 0s - loss: 4.5268 - sarcasm_loss: 0.8563 - humuor_loss: 1.2509 - offensive_loss: 0.7013 - motivational_loss: 0.5187 - overall_loss: 1.1996 - sarcasm_accuracy: 0.6021 - humuor_accuracy: 0.4004 - offensive_accuracy: 0.7234 - motivational_accuracy: 0.6822 - overall_accuracy: 0.4675 - 432ms/epoch - 20ms/step\n",
            "Epoch 9/10\n",
            "22/22 - 0s - loss: 4.5268 - sarcasm_loss: 0.8563 - humuor_loss: 1.2509 - offensive_loss: 0.7013 - motivational_loss: 0.5187 - overall_loss: 1.1996 - sarcasm_accuracy: 0.6021 - humuor_accuracy: 0.4004 - offensive_accuracy: 0.7234 - motivational_accuracy: 0.6822 - overall_accuracy: 0.4675 - 428ms/epoch - 19ms/step\n",
            "Epoch 10/10\n",
            "22/22 - 0s - loss: 4.5268 - sarcasm_loss: 0.8563 - humuor_loss: 1.2509 - offensive_loss: 0.7013 - motivational_loss: 0.5187 - overall_loss: 1.1996 - sarcasm_accuracy: 0.6021 - humuor_accuracy: 0.4004 - offensive_accuracy: 0.7234 - motivational_accuracy: 0.6822 - overall_accuracy: 0.4675 - 444ms/epoch - 20ms/step\n"
          ]
        }
      ]
    },
    {
      "cell_type": "code",
      "source": [
        "evaluate = model.evaluate(x = {\"text\": X_test},\n",
        "                    y = {\"sarcasm\": y_test.sarcasm, \n",
        "                         \"humuor\": y_test.humour, \n",
        "                         \"offensive\": y_test.offensive, \n",
        "                         \"motivational\": y_test.motivational, \n",
        "                         \"overall\": y_test.overall_sentiment},\n",
        "                    batch_size=256,\n",
        "                    verbose=2\n",
        "                   )"
      ],
      "metadata": {
        "colab": {
          "base_uri": "https://localhost:8080/"
        },
        "id": "s4Q7LiVFJ38g",
        "outputId": "cba4e0c8-b57e-4738-fd93-1bbd7ec97903"
      },
      "execution_count": 11,
      "outputs": [
        {
          "output_type": "stream",
          "name": "stdout",
          "text": [
            "6/6 - 3s - loss: 8.2470 - sarcasm_loss: 1.9325 - humuor_loss: 1.3384 - offensive_loss: 2.7735 - motivational_loss: 0.8078 - overall_loss: 1.3949 - sarcasm_accuracy: 0.3798 - humuor_accuracy: 0.3441 - offensive_accuracy: 0.2761 - motivational_accuracy: 0.5100 - overall_accuracy: 0.4385 - 3s/epoch - 451ms/step\n"
          ]
        }
      ]
    },
    {
      "cell_type": "code",
      "source": [],
      "metadata": {
        "id": "KJXcWCVWPXqa"
      },
      "execution_count": null,
      "outputs": []
    }
  ]
}