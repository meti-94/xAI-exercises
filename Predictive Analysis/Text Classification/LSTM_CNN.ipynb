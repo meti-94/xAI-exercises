{
  "nbformat": 4,
  "nbformat_minor": 0,
  "metadata": {
    "colab": {
      "provenance": []
    },
    "kernelspec": {
      "name": "python3",
      "display_name": "Python 3"
    },
    "language_info": {
      "name": "python"
    },
    "gpuClass": "standard",
    "accelerator": "GPU"
  },
  "cells": [
    {
      "cell_type": "code",
      "source": [
        "!pip install kaggle -q \n",
        "!pip install tensorflow-addons -q "
      ],
      "metadata": {
        "colab": {
          "base_uri": "https://localhost:8080/"
        },
        "id": "raYYNOzVb6K8",
        "outputId": "13617ef8-8361-49fd-9f7d-f03ae4145a5b"
      },
      "execution_count": 1,
      "outputs": [
        {
          "output_type": "stream",
          "name": "stdout",
          "text": [
            "\u001b[?25l     \u001b[90m━━━━━━━━━━━━━━━━━━━━━━━━━━━━━━━━━━━━━━━━\u001b[0m \u001b[32m0.0/1.1 MB\u001b[0m \u001b[31m?\u001b[0m eta \u001b[36m-:--:--\u001b[0m\r\u001b[2K     \u001b[91m━━━━━━━━━━\u001b[0m\u001b[91m╸\u001b[0m\u001b[90m━━━━━━━━━━━━━━━━━━━━━━━━━━━━━\u001b[0m \u001b[32m0.3/1.1 MB\u001b[0m \u001b[31m8.8 MB/s\u001b[0m eta \u001b[36m0:00:01\u001b[0m\r\u001b[2K     \u001b[90m━━━━━━━━━━━━━━━━━━━━━━━━━━━━━━━━━━━━━━━━\u001b[0m \u001b[32m1.1/1.1 MB\u001b[0m \u001b[31m16.7 MB/s\u001b[0m eta \u001b[36m0:00:00\u001b[0m\n",
            "\u001b[?25h"
          ]
        }
      ]
    },
    {
      "cell_type": "code",
      "source": [
        "from google.colab import drive\n",
        "drive.mount('/content/gdrive/')"
      ],
      "metadata": {
        "colab": {
          "base_uri": "https://localhost:8080/"
        },
        "id": "9cG62nhHpU3W",
        "outputId": "ecc15aea-2de3-4a4e-c24c-a92bf3635f64"
      },
      "execution_count": 2,
      "outputs": [
        {
          "output_type": "stream",
          "name": "stdout",
          "text": [
            "Mounted at /content/gdrive/\n"
          ]
        }
      ]
    },
    {
      "cell_type": "code",
      "source": [
        "!mkdir ~/.kaggle\n",
        "!cp /content/gdrive/MyDrive/kaggle.json ~/.kaggle\n",
        "!chmod 600 ~/.kaggle/kaggle.json"
      ],
      "metadata": {
        "id": "Z9tDLgdpqHGk"
      },
      "execution_count": 3,
      "outputs": []
    },
    {
      "cell_type": "code",
      "source": [
        "!kaggle datasets download -d williamscott701/memotion-dataset-7k"
      ],
      "metadata": {
        "colab": {
          "base_uri": "https://localhost:8080/"
        },
        "id": "mnm5b08Sq_OB",
        "outputId": "96734202-1b76-4c79-d05e-1618da4de1b2"
      },
      "execution_count": 4,
      "outputs": [
        {
          "output_type": "stream",
          "name": "stdout",
          "text": [
            "Downloading memotion-dataset-7k.zip to /content\n",
            " 98% 682M/695M [00:03<00:00, 251MB/s]\n",
            "100% 695M/695M [00:03<00:00, 199MB/s]\n"
          ]
        }
      ]
    },
    {
      "cell_type": "code",
      "source": [
        "!unzip -qq /content/memotion-dataset-7k.zip"
      ],
      "metadata": {
        "id": "_Fk9PPiOuhKE"
      },
      "execution_count": 5,
      "outputs": []
    },
    {
      "cell_type": "code",
      "source": [
        "import re\n",
        "import string\n",
        "import numpy as np\n",
        "import pandas as pd\n",
        "from tqdm import tqdm\n",
        "from sklearn.model_selection import train_test_split\n",
        "\n",
        "import tensorflow as tf\n",
        "from tensorflow.keras import Sequential, Model\n",
        "from tensorflow.keras.layers import Dense, Flatten, BatchNormalization, Activation, Dropout\n",
        "from tensorflow.keras.layers import Conv1D, Embedding\n",
        "from tensorflow.keras.optimizers import Adam, RMSprop\n",
        "\n",
        "import tensorflow_addons as tfa"
      ],
      "metadata": {
        "id": "-HEI9s0z-V-1"
      },
      "execution_count": 15,
      "outputs": []
    },
    {
      "cell_type": "code",
      "source": [
        "df = pd.read_csv('/content/memotion_dataset_7k/labels.csv')\n",
        "df.drop(df.columns[df.columns.str.contains('unnamed',case = False)],axis = 1, inplace = True)\n",
        "df = df.drop(columns = ['text_ocr'])\n",
        "df.head()"
      ],
      "metadata": {
        "colab": {
          "base_uri": "https://localhost:8080/",
          "height": 206
        },
        "id": "b_yu_ATv_R0t",
        "outputId": "2360b81e-a3e2-489c-ad06-826bd0c4b672"
      },
      "execution_count": 7,
      "outputs": [
        {
          "output_type": "execute_result",
          "data": {
            "text/plain": [
              "     image_name  ... overall_sentiment\n",
              "0   image_1.jpg  ...     very_positive\n",
              "1  image_2.jpeg  ...     very_positive\n",
              "2   image_3.JPG  ...          positive\n",
              "3   image_4.png  ...          positive\n",
              "4   image_5.png  ...           neutral\n",
              "\n",
              "[5 rows x 7 columns]"
            ],
            "text/html": [
              "\n",
              "  <div id=\"df-238537bc-b0e7-40ef-9fae-6cc28074e3ea\">\n",
              "    <div class=\"colab-df-container\">\n",
              "      <div>\n",
              "<style scoped>\n",
              "    .dataframe tbody tr th:only-of-type {\n",
              "        vertical-align: middle;\n",
              "    }\n",
              "\n",
              "    .dataframe tbody tr th {\n",
              "        vertical-align: top;\n",
              "    }\n",
              "\n",
              "    .dataframe thead th {\n",
              "        text-align: right;\n",
              "    }\n",
              "</style>\n",
              "<table border=\"1\" class=\"dataframe\">\n",
              "  <thead>\n",
              "    <tr style=\"text-align: right;\">\n",
              "      <th></th>\n",
              "      <th>image_name</th>\n",
              "      <th>text_corrected</th>\n",
              "      <th>humour</th>\n",
              "      <th>sarcasm</th>\n",
              "      <th>offensive</th>\n",
              "      <th>motivational</th>\n",
              "      <th>overall_sentiment</th>\n",
              "    </tr>\n",
              "  </thead>\n",
              "  <tbody>\n",
              "    <tr>\n",
              "      <th>0</th>\n",
              "      <td>image_1.jpg</td>\n",
              "      <td>LOOK THERE MY FRIEND LIGHTYEAR NOW ALL SOHALIK...</td>\n",
              "      <td>hilarious</td>\n",
              "      <td>general</td>\n",
              "      <td>not_offensive</td>\n",
              "      <td>not_motivational</td>\n",
              "      <td>very_positive</td>\n",
              "    </tr>\n",
              "    <tr>\n",
              "      <th>1</th>\n",
              "      <td>image_2.jpeg</td>\n",
              "      <td>The best of #10 YearChallenge! Completed in le...</td>\n",
              "      <td>not_funny</td>\n",
              "      <td>general</td>\n",
              "      <td>not_offensive</td>\n",
              "      <td>motivational</td>\n",
              "      <td>very_positive</td>\n",
              "    </tr>\n",
              "    <tr>\n",
              "      <th>2</th>\n",
              "      <td>image_3.JPG</td>\n",
              "      <td>Sam Thorne @Strippin ( Follow Follow Saw every...</td>\n",
              "      <td>very_funny</td>\n",
              "      <td>not_sarcastic</td>\n",
              "      <td>not_offensive</td>\n",
              "      <td>not_motivational</td>\n",
              "      <td>positive</td>\n",
              "    </tr>\n",
              "    <tr>\n",
              "      <th>3</th>\n",
              "      <td>image_4.png</td>\n",
              "      <td>10 Year Challenge - Sweet Dee Edition</td>\n",
              "      <td>very_funny</td>\n",
              "      <td>twisted_meaning</td>\n",
              "      <td>very_offensive</td>\n",
              "      <td>motivational</td>\n",
              "      <td>positive</td>\n",
              "    </tr>\n",
              "    <tr>\n",
              "      <th>4</th>\n",
              "      <td>image_5.png</td>\n",
              "      <td>10 YEAR CHALLENGE WITH NO FILTER 47 Hilarious ...</td>\n",
              "      <td>hilarious</td>\n",
              "      <td>very_twisted</td>\n",
              "      <td>very_offensive</td>\n",
              "      <td>not_motivational</td>\n",
              "      <td>neutral</td>\n",
              "    </tr>\n",
              "  </tbody>\n",
              "</table>\n",
              "</div>\n",
              "      <button class=\"colab-df-convert\" onclick=\"convertToInteractive('df-238537bc-b0e7-40ef-9fae-6cc28074e3ea')\"\n",
              "              title=\"Convert this dataframe to an interactive table.\"\n",
              "              style=\"display:none;\">\n",
              "        \n",
              "  <svg xmlns=\"http://www.w3.org/2000/svg\" height=\"24px\"viewBox=\"0 0 24 24\"\n",
              "       width=\"24px\">\n",
              "    <path d=\"M0 0h24v24H0V0z\" fill=\"none\"/>\n",
              "    <path d=\"M18.56 5.44l.94 2.06.94-2.06 2.06-.94-2.06-.94-.94-2.06-.94 2.06-2.06.94zm-11 1L8.5 8.5l.94-2.06 2.06-.94-2.06-.94L8.5 2.5l-.94 2.06-2.06.94zm10 10l.94 2.06.94-2.06 2.06-.94-2.06-.94-.94-2.06-.94 2.06-2.06.94z\"/><path d=\"M17.41 7.96l-1.37-1.37c-.4-.4-.92-.59-1.43-.59-.52 0-1.04.2-1.43.59L10.3 9.45l-7.72 7.72c-.78.78-.78 2.05 0 2.83L4 21.41c.39.39.9.59 1.41.59.51 0 1.02-.2 1.41-.59l7.78-7.78 2.81-2.81c.8-.78.8-2.07 0-2.86zM5.41 20L4 18.59l7.72-7.72 1.47 1.35L5.41 20z\"/>\n",
              "  </svg>\n",
              "      </button>\n",
              "      \n",
              "  <style>\n",
              "    .colab-df-container {\n",
              "      display:flex;\n",
              "      flex-wrap:wrap;\n",
              "      gap: 12px;\n",
              "    }\n",
              "\n",
              "    .colab-df-convert {\n",
              "      background-color: #E8F0FE;\n",
              "      border: none;\n",
              "      border-radius: 50%;\n",
              "      cursor: pointer;\n",
              "      display: none;\n",
              "      fill: #1967D2;\n",
              "      height: 32px;\n",
              "      padding: 0 0 0 0;\n",
              "      width: 32px;\n",
              "    }\n",
              "\n",
              "    .colab-df-convert:hover {\n",
              "      background-color: #E2EBFA;\n",
              "      box-shadow: 0px 1px 2px rgba(60, 64, 67, 0.3), 0px 1px 3px 1px rgba(60, 64, 67, 0.15);\n",
              "      fill: #174EA6;\n",
              "    }\n",
              "\n",
              "    [theme=dark] .colab-df-convert {\n",
              "      background-color: #3B4455;\n",
              "      fill: #D2E3FC;\n",
              "    }\n",
              "\n",
              "    [theme=dark] .colab-df-convert:hover {\n",
              "      background-color: #434B5C;\n",
              "      box-shadow: 0px 1px 3px 1px rgba(0, 0, 0, 0.15);\n",
              "      filter: drop-shadow(0px 1px 2px rgba(0, 0, 0, 0.3));\n",
              "      fill: #FFFFFF;\n",
              "    }\n",
              "  </style>\n",
              "\n",
              "      <script>\n",
              "        const buttonEl =\n",
              "          document.querySelector('#df-238537bc-b0e7-40ef-9fae-6cc28074e3ea button.colab-df-convert');\n",
              "        buttonEl.style.display =\n",
              "          google.colab.kernel.accessAllowed ? 'block' : 'none';\n",
              "\n",
              "        async function convertToInteractive(key) {\n",
              "          const element = document.querySelector('#df-238537bc-b0e7-40ef-9fae-6cc28074e3ea');\n",
              "          const dataTable =\n",
              "            await google.colab.kernel.invokeFunction('convertToInteractive',\n",
              "                                                     [key], {});\n",
              "          if (!dataTable) return;\n",
              "\n",
              "          const docLinkHtml = 'Like what you see? Visit the ' +\n",
              "            '<a target=\"_blank\" href=https://colab.research.google.com/notebooks/data_table.ipynb>data table notebook</a>'\n",
              "            + ' to learn more about interactive tables.';\n",
              "          element.innerHTML = '';\n",
              "          dataTable['output_type'] = 'display_data';\n",
              "          await google.colab.output.renderOutput(dataTable, element);\n",
              "          const docLink = document.createElement('div');\n",
              "          docLink.innerHTML = docLinkHtml;\n",
              "          element.appendChild(docLink);\n",
              "        }\n",
              "      </script>\n",
              "    </div>\n",
              "  </div>\n",
              "  "
            ]
          },
          "metadata": {},
          "execution_count": 7
        }
      ]
    },
    {
      "cell_type": "code",
      "source": [
        "df = df.replace({'humour': {'not_funny': 0, 'funny': 1, 'very_funny': 2, 'hilarious':3},\n",
        "            'sarcasm': {'not_sarcastic': 0, 'general': 1, 'twisted_meaning': 2, 'very_twisted': 3},\n",
        "            'offensive': {'not_offensive': 0, 'slight': 1, 'very_offensive': 2, 'hateful_offensive': 3},\n",
        "            'motivational': {'not_motivational': 0, 'motivational': 1},\n",
        "            'overall_sentiment': {'very_negative': 0, 'negative': 1, 'neutral': 2, 'positive': 3, 'very_positive': 4}})"
      ],
      "metadata": {
        "id": "E2AcXf1EBtrh"
      },
      "execution_count": 8,
      "outputs": []
    },
    {
      "cell_type": "code",
      "source": [
        "cleaned = df.copy()\n",
        "cleaned.dropna(inplace=True)\n",
        "cleaned.isnull().any()"
      ],
      "metadata": {
        "colab": {
          "base_uri": "https://localhost:8080/"
        },
        "id": "kSonmiA5Bv_n",
        "outputId": "3b557f7d-a59b-4b92-82dd-7ec29ae7b44b"
      },
      "execution_count": 9,
      "outputs": [
        {
          "output_type": "execute_result",
          "data": {
            "text/plain": [
              "image_name           False\n",
              "text_corrected       False\n",
              "humour               False\n",
              "sarcasm              False\n",
              "offensive            False\n",
              "motivational         False\n",
              "overall_sentiment    False\n",
              "dtype: bool"
            ]
          },
          "metadata": {},
          "execution_count": 9
        }
      ]
    },
    {
      "cell_type": "code",
      "source": [
        "Y = cleaned.iloc[:,2:]\n",
        "X = cleaned.iloc[:, 1]\n",
        "X_train, X_test, y_train, y_test = train_test_split(X, Y, test_size = 0.2, random_state=42)"
      ],
      "metadata": {
        "id": "ctGsu8O3IX5L"
      },
      "execution_count": 10,
      "outputs": []
    },
    {
      "cell_type": "code",
      "source": [
        "def standardization(data):\n",
        "    data = data.apply(lambda x: x.lower())\n",
        "    data = data.apply(lambda x: re.sub(r'\\d+', '', x))\n",
        "    data = data.apply(lambda x: re.sub(r'.com', '', x, flags=re.MULTILINE))\n",
        "    data = data.apply(lambda x: x.translate(str.maketrans('', '', string.punctuation)))\n",
        "    return data\n",
        "\n",
        "cleaned['text_corrected'] = standardization(cleaned.text_corrected)"
      ],
      "metadata": {
        "id": "LKfq2h5dCX9H"
      },
      "execution_count": 12,
      "outputs": []
    },
    {
      "cell_type": "code",
      "source": [
        "from tensorflow.keras.layers.experimental.preprocessing import TextVectorization\n",
        "#####################################\n",
        "vocab_size = 100000\n",
        "sequence_length = 100\n",
        "#####################################\n",
        "vectorize_layer = TextVectorization(\n",
        "    max_tokens=vocab_size,\n",
        "    output_mode='int',\n",
        "    output_sequence_length=sequence_length)\n",
        "\n",
        "text_ds = np.asarray(cleaned['text_corrected'])\n",
        "vectorize_layer.adapt(tf.convert_to_tensor(text_ds))"
      ],
      "metadata": {
        "id": "0YMALQxACay7"
      },
      "execution_count": 13,
      "outputs": []
    },
    {
      "cell_type": "code",
      "source": [
        "#####################################\n",
        "embedding_dim=50\n",
        "#####################################\n",
        "\n",
        "text_input = tf.keras.Input(shape=(1,), dtype=tf.string, name='text')\n",
        "text_layers = vectorize_layer(text_input)\n",
        "text_layers = tf.keras.layers.Embedding(vocab_size, embedding_dim, name=\"embedding\")(text_layers)\n",
        "text_layers = tf.keras.layers.Dropout(0.5)(text_layers)\n",
        "\n",
        "text_layers = tf.keras.layers.Bidirectional(tf.keras.layers.LSTM(256, activation='relu', return_sequences=True))(text_layers)\n",
        "text_layers = tf.keras.layers.Bidirectional(tf.keras.layers.LSTM(256, activation='relu', return_sequences=True))(text_layers)\n",
        "\n",
        "text_layers = tf.keras.layers.Conv1D(128, 7, padding=\"valid\", activation=\"relu\", strides=3)(text_layers)\n",
        "text_layers = tf.keras.layers.Conv1D(128, 7, padding=\"valid\", activation=\"relu\", strides=3)(text_layers)\n",
        "text_layers = tf.keras.layers.GlobalMaxPooling1D()(text_layers)\n",
        "\n",
        "text_layers = tf.keras.layers.Dense(2048, activation=\"relu\")(text_layers)\n",
        "text_layers = tf.keras.layers.Dropout(0.5)(text_layers)\n",
        "overall_layer = tf.keras.layers.Dense(2048, activation='softmax')(text_layers)\n",
        "prediction_layer_1 = tf.keras.layers.Dense(4, activation='softmax', name = 'sarcasm')\n",
        "prediction_layer_2 = tf.keras.layers.Dense(4, activation='softmax', name = 'humuor')\n",
        "prediction_layer_3 = tf.keras.layers.Dense(4, activation='softmax', name = 'offensive')\n",
        "prediction_layer_4 = tf.keras.layers.Dense(1, activation='sigmoid', name = 'motivational')\n",
        "prediction_layer_5 = tf.keras.layers.Dense(5, activation='softmax', name = 'overall')\n",
        "output_1 = prediction_layer_1(overall_layer)\n",
        "output_2 = prediction_layer_2(overall_layer)\n",
        "output_3 = prediction_layer_3(overall_layer)\n",
        "output_4 = prediction_layer_4(overall_layer)\n",
        "output_5 = prediction_layer_5(overall_layer)\n",
        "model = tf.keras.Model(inputs = [text_input] , outputs = [output_1, output_2, output_3, output_4, output_5])"
      ],
      "metadata": {
        "colab": {
          "base_uri": "https://localhost:8080/"
        },
        "id": "5XP_xW4LCfss",
        "outputId": "b5b3f4b2-ad9e-4ae9-e03f-1cc877bfae3f"
      },
      "execution_count": 16,
      "outputs": [
        {
          "output_type": "stream",
          "name": "stderr",
          "text": [
            "WARNING:tensorflow:Layer lstm_2 will not use cuDNN kernels since it doesn't meet the criteria. It will use a generic GPU kernel as fallback when running on GPU.\n",
            "WARNING:tensorflow:Layer lstm_2 will not use cuDNN kernels since it doesn't meet the criteria. It will use a generic GPU kernel as fallback when running on GPU.\n",
            "WARNING:tensorflow:Layer lstm_2 will not use cuDNN kernels since it doesn't meet the criteria. It will use a generic GPU kernel as fallback when running on GPU.\n",
            "WARNING:tensorflow:Layer lstm_3 will not use cuDNN kernels since it doesn't meet the criteria. It will use a generic GPU kernel as fallback when running on GPU.\n",
            "WARNING:tensorflow:Layer lstm_3 will not use cuDNN kernels since it doesn't meet the criteria. It will use a generic GPU kernel as fallback when running on GPU.\n",
            "WARNING:tensorflow:Layer lstm_3 will not use cuDNN kernels since it doesn't meet the criteria. It will use a generic GPU kernel as fallback when running on GPU.\n"
          ]
        }
      ]
    },
    {
      "cell_type": "code",
      "source": [
        "base_learning_rate = 0.01\n",
        "losses = {\n",
        "      \"humuor\": tf.keras.losses.SparseCategoricalCrossentropy(from_logits=True), \n",
        "      \"sarcasm\": tf.keras.losses.SparseCategoricalCrossentropy(from_logits=True), \n",
        "      \"offensive\": tf.keras.losses.SparseCategoricalCrossentropy(from_logits=True), \n",
        "      \"motivational\": tf.keras.losses.BinaryCrossentropy(from_logits=False),\n",
        "      \"overall\": tf.keras.losses.SparseCategoricalCrossentropy(from_logits=True)\n",
        "}\n",
        "lossWeights = {\n",
        "      \"humuor\": 1.0, \n",
        "      \"sarcasm\": 1.0, \n",
        "      \"offensive\": 1.0, \n",
        "      \"motivational\": 1.0,\n",
        "      \"overall\": 1.0\n",
        "}\n",
        "metric = {\n",
        "    \"humuor\": ['acc',tfa.metrics.F1Score(num_classes=4, average=\"micro\", threshold = 0.9)],\n",
        "    \"sarcasm\": ['acc',tfa.metrics.F1Score(num_classes=4, average=\"micro\", threshold = 0.9)],\n",
        "    \"offensive\": ['acc',tfa.metrics.F1Score(num_classes=4, average=\"micro\", threshold = 0.9)],\n",
        "    \"motivational\": ['acc',tfa.metrics.F1Score(num_classes=1, average=\"micro\", threshold = 0.9)],\n",
        "    \"overall\": ['acc',tfa.metrics.F1Score(num_classes=5, average=\"micro\", threshold = 0.9)]\n",
        "}\n",
        "model.compile(optimizer=tf.keras.optimizers.Adam(lr=base_learning_rate),\n",
        "              loss = losses,\n",
        "              loss_weights= lossWeights,\n",
        "              metrics=metric)"
      ],
      "metadata": {
        "colab": {
          "base_uri": "https://localhost:8080/"
        },
        "id": "wqe6Hq9oJbGv",
        "outputId": "4a9efce9-9511-48ec-bdc6-7cac936aa6ca"
      },
      "execution_count": 17,
      "outputs": [
        {
          "output_type": "stream",
          "name": "stderr",
          "text": [
            "/usr/local/lib/python3.8/dist-packages/keras/optimizers/optimizer_v2/adam.py:110: UserWarning: The `lr` argument is deprecated, use `learning_rate` instead.\n",
            "  super(Adam, self).__init__(name, **kwargs)\n"
          ]
        }
      ]
    },
    {
      "cell_type": "code",
      "source": [
        "learning_rates = [0.1]#, 0.01, 0.001, 0.0001, 0.00001]\n",
        "for i in learning_rates:\n",
        "    model.compile(optimizer=tf.keras.optimizers.RMSprop(i),\n",
        "              loss = losses,\n",
        "              loss_weights= lossWeights,\n",
        "              metrics=['accuracy'])\n",
        "    \n",
        "    history = model.fit(x = {\"text\": X_train},\n",
        "                    y = {\"sarcasm\": y_train.sarcasm, \n",
        "                         \"humuor\": y_train.humour, \n",
        "                         \"offensive\": y_train.offensive, \n",
        "                         \"motivational\": y_train.motivational, \n",
        "                         \"overall\": y_train.overall_sentiment},\n",
        "                    batch_size=32,\n",
        "                    epochs=2,\n",
        "                    verbose=2\n",
        "                   )"
      ],
      "metadata": {
        "colab": {
          "base_uri": "https://localhost:8080/"
        },
        "id": "5GgEXOaPJdzr",
        "outputId": "5d6452de-c510-4eb0-e81b-b40d71182a14"
      },
      "execution_count": 19,
      "outputs": [
        {
          "output_type": "stream",
          "name": "stdout",
          "text": [
            "Epoch 1/2\n",
            "175/175 - 132s - loss: 5.6840 - sarcasm_loss: 1.2051 - humuor_loss: 1.3125 - offensive_loss: 1.2024 - motivational_loss: 0.6603 - overall_loss: 1.3038 - sarcasm_accuracy: 0.4947 - humuor_accuracy: 0.3403 - offensive_accuracy: 0.3659 - motivational_accuracy: 0.6409 - overall_accuracy: 0.4262 - 132s/epoch - 756ms/step\n",
            "Epoch 2/2\n",
            "175/175 - 126s - loss: 5.6953 - sarcasm_loss: 1.2095 - humuor_loss: 1.3178 - offensive_loss: 1.2042 - motivational_loss: 0.6590 - overall_loss: 1.3047 - sarcasm_accuracy: 0.4931 - humuor_accuracy: 0.3382 - offensive_accuracy: 0.3657 - motivational_accuracy: 0.6396 - overall_accuracy: 0.4228 - 126s/epoch - 718ms/step\n"
          ]
        }
      ]
    },
    {
      "cell_type": "code",
      "source": [
        "pd.DataFrame(history.history)"
      ],
      "metadata": {
        "colab": {
          "base_uri": "https://localhost:8080/",
          "height": 156
        },
        "id": "Mo7jRMlBJs6-",
        "outputId": "05667845-440b-4afd-c702-e23051d9ebae"
      },
      "execution_count": 20,
      "outputs": [
        {
          "output_type": "execute_result",
          "data": {
            "text/plain": [
              "       loss  sarcasm_loss  ...  motivational_accuracy  overall_accuracy\n",
              "0  5.683996      1.205053  ...               0.640902          0.426194\n",
              "1  5.695340      1.209549  ...               0.639649          0.422795\n",
              "\n",
              "[2 rows x 11 columns]"
            ],
            "text/html": [
              "\n",
              "  <div id=\"df-1d4cdc30-a094-4753-90e1-259ad679af81\">\n",
              "    <div class=\"colab-df-container\">\n",
              "      <div>\n",
              "<style scoped>\n",
              "    .dataframe tbody tr th:only-of-type {\n",
              "        vertical-align: middle;\n",
              "    }\n",
              "\n",
              "    .dataframe tbody tr th {\n",
              "        vertical-align: top;\n",
              "    }\n",
              "\n",
              "    .dataframe thead th {\n",
              "        text-align: right;\n",
              "    }\n",
              "</style>\n",
              "<table border=\"1\" class=\"dataframe\">\n",
              "  <thead>\n",
              "    <tr style=\"text-align: right;\">\n",
              "      <th></th>\n",
              "      <th>loss</th>\n",
              "      <th>sarcasm_loss</th>\n",
              "      <th>humuor_loss</th>\n",
              "      <th>offensive_loss</th>\n",
              "      <th>motivational_loss</th>\n",
              "      <th>overall_loss</th>\n",
              "      <th>sarcasm_accuracy</th>\n",
              "      <th>humuor_accuracy</th>\n",
              "      <th>offensive_accuracy</th>\n",
              "      <th>motivational_accuracy</th>\n",
              "      <th>overall_accuracy</th>\n",
              "    </tr>\n",
              "  </thead>\n",
              "  <tbody>\n",
              "    <tr>\n",
              "      <th>0</th>\n",
              "      <td>5.683996</td>\n",
              "      <td>1.205053</td>\n",
              "      <td>1.312513</td>\n",
              "      <td>1.202374</td>\n",
              "      <td>0.660297</td>\n",
              "      <td>1.303758</td>\n",
              "      <td>0.494722</td>\n",
              "      <td>0.340311</td>\n",
              "      <td>0.365897</td>\n",
              "      <td>0.640902</td>\n",
              "      <td>0.426194</td>\n",
              "    </tr>\n",
              "    <tr>\n",
              "      <th>1</th>\n",
              "      <td>5.695340</td>\n",
              "      <td>1.209549</td>\n",
              "      <td>1.317844</td>\n",
              "      <td>1.204242</td>\n",
              "      <td>0.658999</td>\n",
              "      <td>1.304709</td>\n",
              "      <td>0.493111</td>\n",
              "      <td>0.338164</td>\n",
              "      <td>0.365718</td>\n",
              "      <td>0.639649</td>\n",
              "      <td>0.422795</td>\n",
              "    </tr>\n",
              "  </tbody>\n",
              "</table>\n",
              "</div>\n",
              "      <button class=\"colab-df-convert\" onclick=\"convertToInteractive('df-1d4cdc30-a094-4753-90e1-259ad679af81')\"\n",
              "              title=\"Convert this dataframe to an interactive table.\"\n",
              "              style=\"display:none;\">\n",
              "        \n",
              "  <svg xmlns=\"http://www.w3.org/2000/svg\" height=\"24px\"viewBox=\"0 0 24 24\"\n",
              "       width=\"24px\">\n",
              "    <path d=\"M0 0h24v24H0V0z\" fill=\"none\"/>\n",
              "    <path d=\"M18.56 5.44l.94 2.06.94-2.06 2.06-.94-2.06-.94-.94-2.06-.94 2.06-2.06.94zm-11 1L8.5 8.5l.94-2.06 2.06-.94-2.06-.94L8.5 2.5l-.94 2.06-2.06.94zm10 10l.94 2.06.94-2.06 2.06-.94-2.06-.94-.94-2.06-.94 2.06-2.06.94z\"/><path d=\"M17.41 7.96l-1.37-1.37c-.4-.4-.92-.59-1.43-.59-.52 0-1.04.2-1.43.59L10.3 9.45l-7.72 7.72c-.78.78-.78 2.05 0 2.83L4 21.41c.39.39.9.59 1.41.59.51 0 1.02-.2 1.41-.59l7.78-7.78 2.81-2.81c.8-.78.8-2.07 0-2.86zM5.41 20L4 18.59l7.72-7.72 1.47 1.35L5.41 20z\"/>\n",
              "  </svg>\n",
              "      </button>\n",
              "      \n",
              "  <style>\n",
              "    .colab-df-container {\n",
              "      display:flex;\n",
              "      flex-wrap:wrap;\n",
              "      gap: 12px;\n",
              "    }\n",
              "\n",
              "    .colab-df-convert {\n",
              "      background-color: #E8F0FE;\n",
              "      border: none;\n",
              "      border-radius: 50%;\n",
              "      cursor: pointer;\n",
              "      display: none;\n",
              "      fill: #1967D2;\n",
              "      height: 32px;\n",
              "      padding: 0 0 0 0;\n",
              "      width: 32px;\n",
              "    }\n",
              "\n",
              "    .colab-df-convert:hover {\n",
              "      background-color: #E2EBFA;\n",
              "      box-shadow: 0px 1px 2px rgba(60, 64, 67, 0.3), 0px 1px 3px 1px rgba(60, 64, 67, 0.15);\n",
              "      fill: #174EA6;\n",
              "    }\n",
              "\n",
              "    [theme=dark] .colab-df-convert {\n",
              "      background-color: #3B4455;\n",
              "      fill: #D2E3FC;\n",
              "    }\n",
              "\n",
              "    [theme=dark] .colab-df-convert:hover {\n",
              "      background-color: #434B5C;\n",
              "      box-shadow: 0px 1px 3px 1px rgba(0, 0, 0, 0.15);\n",
              "      filter: drop-shadow(0px 1px 2px rgba(0, 0, 0, 0.3));\n",
              "      fill: #FFFFFF;\n",
              "    }\n",
              "  </style>\n",
              "\n",
              "      <script>\n",
              "        const buttonEl =\n",
              "          document.querySelector('#df-1d4cdc30-a094-4753-90e1-259ad679af81 button.colab-df-convert');\n",
              "        buttonEl.style.display =\n",
              "          google.colab.kernel.accessAllowed ? 'block' : 'none';\n",
              "\n",
              "        async function convertToInteractive(key) {\n",
              "          const element = document.querySelector('#df-1d4cdc30-a094-4753-90e1-259ad679af81');\n",
              "          const dataTable =\n",
              "            await google.colab.kernel.invokeFunction('convertToInteractive',\n",
              "                                                     [key], {});\n",
              "          if (!dataTable) return;\n",
              "\n",
              "          const docLinkHtml = 'Like what you see? Visit the ' +\n",
              "            '<a target=\"_blank\" href=https://colab.research.google.com/notebooks/data_table.ipynb>data table notebook</a>'\n",
              "            + ' to learn more about interactive tables.';\n",
              "          element.innerHTML = '';\n",
              "          dataTable['output_type'] = 'display_data';\n",
              "          await google.colab.output.renderOutput(dataTable, element);\n",
              "          const docLink = document.createElement('div');\n",
              "          docLink.innerHTML = docLinkHtml;\n",
              "          element.appendChild(docLink);\n",
              "        }\n",
              "      </script>\n",
              "    </div>\n",
              "  </div>\n",
              "  "
            ]
          },
          "metadata": {},
          "execution_count": 20
        }
      ]
    },
    {
      "cell_type": "code",
      "source": [
        "evaluate = model.evaluate(x = {\"text\": X_test},\n",
        "                    y = {\"sarcasm\": y_test.sarcasm, \n",
        "                         \"humuor\": y_test.humour, \n",
        "                         \"offensive\": y_test.offensive, \n",
        "                         \"motivational\": y_test.motivational, \n",
        "                         \"overall\": y_test.overall_sentiment},\n",
        "                    batch_size=32,\n",
        "                    verbose=2\n",
        "                   )"
      ],
      "metadata": {
        "colab": {
          "base_uri": "https://localhost:8080/"
        },
        "id": "s4Q7LiVFJ38g",
        "outputId": "062b9dad-7548-47de-e419-af7d92e7e353"
      },
      "execution_count": 21,
      "outputs": [
        {
          "output_type": "stream",
          "name": "stderr",
          "text": [
            "/usr/local/lib/python3.8/dist-packages/tensorflow/python/util/dispatch.py:1082: UserWarning: \"`sparse_categorical_crossentropy` received `from_logits=True`, but the `output` argument was produced by a sigmoid or softmax activation and thus does not represent logits. Was this intended?\"\n",
            "  return dispatch_target(*args, **kwargs)\n"
          ]
        },
        {
          "output_type": "stream",
          "name": "stdout",
          "text": [
            "44/44 - 4s - loss: 5.6939 - sarcasm_loss: 1.2083 - humuor_loss: 1.3442 - offensive_loss: 1.2152 - motivational_loss: 0.6418 - overall_loss: 1.2843 - sarcasm_accuracy: 0.5064 - humuor_accuracy: 0.3383 - offensive_accuracy: 0.3605 - motivational_accuracy: 0.6688 - overall_accuracy: 0.4449 - 4s/epoch - 96ms/step\n"
          ]
        }
      ]
    },
    {
      "cell_type": "code",
      "source": [],
      "metadata": {
        "colab": {
          "base_uri": "https://localhost:8080/"
        },
        "id": "QgabPj-qPQzn",
        "outputId": "35f01f53-0dbd-42fa-a21f-ebac35ab8825"
      },
      "execution_count": 24,
      "outputs": [
        {
          "output_type": "stream",
          "name": "stdout",
          "text": [
            "[5.693905830383301, 1.2083460092544556, 1.3442360162734985, 1.2152080535888672, 0.6417999863624573, 1.284316062927246, 0.5064377784729004, 0.33834049105644226, 0.3605150282382965, 0.6688125729560852, 0.4449213147163391]\n"
          ]
        }
      ]
    },
    {
      "cell_type": "code",
      "source": [],
      "metadata": {
        "id": "KJXcWCVWPXqa"
      },
      "execution_count": null,
      "outputs": []
    }
  ]
}